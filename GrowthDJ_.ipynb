{
  "nbformat": 4,
  "nbformat_minor": 0,
  "metadata": {
    "colab": {
      "name": "GrowthDJ -",
      "provenance": [],
      "authorship_tag": "ABX9TyPZMUHK9AhQ8xjuhJHg564j",
      "include_colab_link": true
    },
    "kernelspec": {
      "name": "python3",
      "display_name": "Python 3"
    }
  },
  "cells": [
    {
      "cell_type": "markdown",
      "metadata": {
        "id": "view-in-github",
        "colab_type": "text"
      },
      "source": [
        "<a href=\"https://colab.research.google.com/github/victoriamaccari/proyecto/blob/master/GrowthDJ_.ipynb\" target=\"_parent\"><img src=\"https://colab.research.google.com/assets/colab-badge.svg\" alt=\"Open In Colab\"/></a>"
      ]
    },
    {
      "cell_type": "code",
      "metadata": {
        "id": "IqOX5oVDEhzw"
      },
      "source": [
        "import pandas as pd"
      ],
      "execution_count": 1,
      "outputs": []
    },
    {
      "cell_type": "code",
      "metadata": {
        "id": "SfyYy3SzEnlH"
      },
      "source": [
        "url= \"https://raw.githubusercontent.com/victoriamaccari/proyecto/master/GrowthDJ.csv\""
      ],
      "execution_count": 2,
      "outputs": []
    },
    {
      "cell_type": "code",
      "metadata": {
        "id": "csKyPQeUEuAW"
      },
      "source": [
        "df= pd.read_csv(url)"
      ],
      "execution_count": 3,
      "outputs": []
    },
    {
      "cell_type": "code",
      "metadata": {
        "id": "U2DoWFVuFUmI",
        "outputId": "c2979361-353a-49a8-da93-a6432591f507",
        "colab": {
          "base_uri": "https://localhost:8080/",
          "height": 343
        }
      },
      "source": [
        "df.head(10)"
      ],
      "execution_count": 4,
      "outputs": [
        {
          "output_type": "execute_result",
          "data": {
            "text/html": [
              "<div>\n",
              "<style scoped>\n",
              "    .dataframe tbody tr th:only-of-type {\n",
              "        vertical-align: middle;\n",
              "    }\n",
              "\n",
              "    .dataframe tbody tr th {\n",
              "        vertical-align: top;\n",
              "    }\n",
              "\n",
              "    .dataframe thead th {\n",
              "        text-align: right;\n",
              "    }\n",
              "</style>\n",
              "<table border=\"1\" class=\"dataframe\">\n",
              "  <thead>\n",
              "    <tr style=\"text-align: right;\">\n",
              "      <th></th>\n",
              "      <th>Unnamed: 0</th>\n",
              "      <th>oil</th>\n",
              "      <th>inter</th>\n",
              "      <th>oecd</th>\n",
              "      <th>gdp60</th>\n",
              "      <th>gdp85</th>\n",
              "      <th>gdpgrowth</th>\n",
              "      <th>popgrowth</th>\n",
              "      <th>invest</th>\n",
              "      <th>school</th>\n",
              "      <th>literacy60</th>\n",
              "    </tr>\n",
              "  </thead>\n",
              "  <tbody>\n",
              "    <tr>\n",
              "      <th>0</th>\n",
              "      <td>1</td>\n",
              "      <td>no</td>\n",
              "      <td>yes</td>\n",
              "      <td>no</td>\n",
              "      <td>2485.0</td>\n",
              "      <td>4371.0</td>\n",
              "      <td>4.8</td>\n",
              "      <td>2.6</td>\n",
              "      <td>24.1</td>\n",
              "      <td>4.5</td>\n",
              "      <td>10.0</td>\n",
              "    </tr>\n",
              "    <tr>\n",
              "      <th>1</th>\n",
              "      <td>2</td>\n",
              "      <td>no</td>\n",
              "      <td>no</td>\n",
              "      <td>no</td>\n",
              "      <td>1588.0</td>\n",
              "      <td>1171.0</td>\n",
              "      <td>0.8</td>\n",
              "      <td>2.1</td>\n",
              "      <td>5.8</td>\n",
              "      <td>1.8</td>\n",
              "      <td>5.0</td>\n",
              "    </tr>\n",
              "    <tr>\n",
              "      <th>2</th>\n",
              "      <td>3</td>\n",
              "      <td>no</td>\n",
              "      <td>no</td>\n",
              "      <td>no</td>\n",
              "      <td>1116.0</td>\n",
              "      <td>1071.0</td>\n",
              "      <td>2.2</td>\n",
              "      <td>2.4</td>\n",
              "      <td>10.8</td>\n",
              "      <td>1.8</td>\n",
              "      <td>5.0</td>\n",
              "    </tr>\n",
              "    <tr>\n",
              "      <th>3</th>\n",
              "      <td>4</td>\n",
              "      <td>no</td>\n",
              "      <td>yes</td>\n",
              "      <td>no</td>\n",
              "      <td>959.0</td>\n",
              "      <td>3671.0</td>\n",
              "      <td>8.6</td>\n",
              "      <td>3.2</td>\n",
              "      <td>28.3</td>\n",
              "      <td>2.9</td>\n",
              "      <td>NaN</td>\n",
              "    </tr>\n",
              "    <tr>\n",
              "      <th>4</th>\n",
              "      <td>5</td>\n",
              "      <td>no</td>\n",
              "      <td>no</td>\n",
              "      <td>no</td>\n",
              "      <td>529.0</td>\n",
              "      <td>857.0</td>\n",
              "      <td>2.9</td>\n",
              "      <td>0.9</td>\n",
              "      <td>12.7</td>\n",
              "      <td>0.4</td>\n",
              "      <td>2.0</td>\n",
              "    </tr>\n",
              "    <tr>\n",
              "      <th>5</th>\n",
              "      <td>6</td>\n",
              "      <td>no</td>\n",
              "      <td>no</td>\n",
              "      <td>no</td>\n",
              "      <td>755.0</td>\n",
              "      <td>663.0</td>\n",
              "      <td>1.2</td>\n",
              "      <td>1.7</td>\n",
              "      <td>5.1</td>\n",
              "      <td>0.4</td>\n",
              "      <td>14.0</td>\n",
              "    </tr>\n",
              "    <tr>\n",
              "      <th>6</th>\n",
              "      <td>7</td>\n",
              "      <td>no</td>\n",
              "      <td>yes</td>\n",
              "      <td>no</td>\n",
              "      <td>889.0</td>\n",
              "      <td>2190.0</td>\n",
              "      <td>5.7</td>\n",
              "      <td>2.1</td>\n",
              "      <td>12.8</td>\n",
              "      <td>3.4</td>\n",
              "      <td>19.0</td>\n",
              "    </tr>\n",
              "    <tr>\n",
              "      <th>7</th>\n",
              "      <td>8</td>\n",
              "      <td>no</td>\n",
              "      <td>no</td>\n",
              "      <td>no</td>\n",
              "      <td>838.0</td>\n",
              "      <td>789.0</td>\n",
              "      <td>1.5</td>\n",
              "      <td>1.7</td>\n",
              "      <td>10.5</td>\n",
              "      <td>1.4</td>\n",
              "      <td>7.0</td>\n",
              "    </tr>\n",
              "    <tr>\n",
              "      <th>8</th>\n",
              "      <td>9</td>\n",
              "      <td>no</td>\n",
              "      <td>no</td>\n",
              "      <td>no</td>\n",
              "      <td>908.0</td>\n",
              "      <td>462.0</td>\n",
              "      <td>-0.9</td>\n",
              "      <td>1.9</td>\n",
              "      <td>6.9</td>\n",
              "      <td>0.4</td>\n",
              "      <td>6.0</td>\n",
              "    </tr>\n",
              "    <tr>\n",
              "      <th>9</th>\n",
              "      <td>10</td>\n",
              "      <td>no</td>\n",
              "      <td>no</td>\n",
              "      <td>no</td>\n",
              "      <td>1009.0</td>\n",
              "      <td>2624.0</td>\n",
              "      <td>6.2</td>\n",
              "      <td>2.4</td>\n",
              "      <td>28.8</td>\n",
              "      <td>3.8</td>\n",
              "      <td>16.0</td>\n",
              "    </tr>\n",
              "  </tbody>\n",
              "</table>\n",
              "</div>"
            ],
            "text/plain": [
              "   Unnamed: 0 oil inter oecd  ...  popgrowth  invest  school  literacy60\n",
              "0           1  no   yes   no  ...        2.6    24.1     4.5        10.0\n",
              "1           2  no    no   no  ...        2.1     5.8     1.8         5.0\n",
              "2           3  no    no   no  ...        2.4    10.8     1.8         5.0\n",
              "3           4  no   yes   no  ...        3.2    28.3     2.9         NaN\n",
              "4           5  no    no   no  ...        0.9    12.7     0.4         2.0\n",
              "5           6  no    no   no  ...        1.7     5.1     0.4        14.0\n",
              "6           7  no   yes   no  ...        2.1    12.8     3.4        19.0\n",
              "7           8  no    no   no  ...        1.7    10.5     1.4         7.0\n",
              "8           9  no    no   no  ...        1.9     6.9     0.4         6.0\n",
              "9          10  no    no   no  ...        2.4    28.8     3.8        16.0\n",
              "\n",
              "[10 rows x 11 columns]"
            ]
          },
          "metadata": {
            "tags": []
          },
          "execution_count": 4
        }
      ]
    },
    {
      "cell_type": "code",
      "metadata": {
        "id": "F3e_xz8GRTI6",
        "outputId": "3b5f3742-6c62-487b-b64d-752f51f2ee78",
        "colab": {
          "base_uri": "https://localhost:8080/",
          "height": 319
        }
      },
      "source": [
        "df.info()"
      ],
      "execution_count": 5,
      "outputs": [
        {
          "output_type": "stream",
          "text": [
            "<class 'pandas.core.frame.DataFrame'>\n",
            "RangeIndex: 121 entries, 0 to 120\n",
            "Data columns (total 11 columns):\n",
            " #   Column      Non-Null Count  Dtype  \n",
            "---  ------      --------------  -----  \n",
            " 0   Unnamed: 0  121 non-null    int64  \n",
            " 1   oil         121 non-null    object \n",
            " 2   inter       121 non-null    object \n",
            " 3   oecd        121 non-null    object \n",
            " 4   gdp60       116 non-null    float64\n",
            " 5   gdp85       108 non-null    float64\n",
            " 6   gdpgrowth   117 non-null    float64\n",
            " 7   popgrowth   107 non-null    float64\n",
            " 8   invest      121 non-null    float64\n",
            " 9   school      118 non-null    float64\n",
            " 10  literacy60  103 non-null    float64\n",
            "dtypes: float64(7), int64(1), object(3)\n",
            "memory usage: 10.5+ KB\n"
          ],
          "name": "stdout"
        }
      ]
    },
    {
      "cell_type": "code",
      "metadata": {
        "id": "MLw87ERjI6s7"
      },
      "source": [
        "#elimino columna Unnamed:0\n",
        "df.drop(df.columns[[0]], axis='columns', inplace=True)"
      ],
      "execution_count": 6,
      "outputs": []
    },
    {
      "cell_type": "code",
      "metadata": {
        "id": "r0OIa_kV-wvX",
        "outputId": "f7b76aea-45fd-4523-ddd6-1a7038c85f75",
        "colab": {
          "base_uri": "https://localhost:8080/",
          "height": 343
        }
      },
      "source": [
        "df.head(10)"
      ],
      "execution_count": 7,
      "outputs": [
        {
          "output_type": "execute_result",
          "data": {
            "text/html": [
              "<div>\n",
              "<style scoped>\n",
              "    .dataframe tbody tr th:only-of-type {\n",
              "        vertical-align: middle;\n",
              "    }\n",
              "\n",
              "    .dataframe tbody tr th {\n",
              "        vertical-align: top;\n",
              "    }\n",
              "\n",
              "    .dataframe thead th {\n",
              "        text-align: right;\n",
              "    }\n",
              "</style>\n",
              "<table border=\"1\" class=\"dataframe\">\n",
              "  <thead>\n",
              "    <tr style=\"text-align: right;\">\n",
              "      <th></th>\n",
              "      <th>oil</th>\n",
              "      <th>inter</th>\n",
              "      <th>oecd</th>\n",
              "      <th>gdp60</th>\n",
              "      <th>gdp85</th>\n",
              "      <th>gdpgrowth</th>\n",
              "      <th>popgrowth</th>\n",
              "      <th>invest</th>\n",
              "      <th>school</th>\n",
              "      <th>literacy60</th>\n",
              "    </tr>\n",
              "  </thead>\n",
              "  <tbody>\n",
              "    <tr>\n",
              "      <th>0</th>\n",
              "      <td>no</td>\n",
              "      <td>yes</td>\n",
              "      <td>no</td>\n",
              "      <td>2485.0</td>\n",
              "      <td>4371.0</td>\n",
              "      <td>4.8</td>\n",
              "      <td>2.6</td>\n",
              "      <td>24.1</td>\n",
              "      <td>4.5</td>\n",
              "      <td>10.0</td>\n",
              "    </tr>\n",
              "    <tr>\n",
              "      <th>1</th>\n",
              "      <td>no</td>\n",
              "      <td>no</td>\n",
              "      <td>no</td>\n",
              "      <td>1588.0</td>\n",
              "      <td>1171.0</td>\n",
              "      <td>0.8</td>\n",
              "      <td>2.1</td>\n",
              "      <td>5.8</td>\n",
              "      <td>1.8</td>\n",
              "      <td>5.0</td>\n",
              "    </tr>\n",
              "    <tr>\n",
              "      <th>2</th>\n",
              "      <td>no</td>\n",
              "      <td>no</td>\n",
              "      <td>no</td>\n",
              "      <td>1116.0</td>\n",
              "      <td>1071.0</td>\n",
              "      <td>2.2</td>\n",
              "      <td>2.4</td>\n",
              "      <td>10.8</td>\n",
              "      <td>1.8</td>\n",
              "      <td>5.0</td>\n",
              "    </tr>\n",
              "    <tr>\n",
              "      <th>3</th>\n",
              "      <td>no</td>\n",
              "      <td>yes</td>\n",
              "      <td>no</td>\n",
              "      <td>959.0</td>\n",
              "      <td>3671.0</td>\n",
              "      <td>8.6</td>\n",
              "      <td>3.2</td>\n",
              "      <td>28.3</td>\n",
              "      <td>2.9</td>\n",
              "      <td>NaN</td>\n",
              "    </tr>\n",
              "    <tr>\n",
              "      <th>4</th>\n",
              "      <td>no</td>\n",
              "      <td>no</td>\n",
              "      <td>no</td>\n",
              "      <td>529.0</td>\n",
              "      <td>857.0</td>\n",
              "      <td>2.9</td>\n",
              "      <td>0.9</td>\n",
              "      <td>12.7</td>\n",
              "      <td>0.4</td>\n",
              "      <td>2.0</td>\n",
              "    </tr>\n",
              "    <tr>\n",
              "      <th>5</th>\n",
              "      <td>no</td>\n",
              "      <td>no</td>\n",
              "      <td>no</td>\n",
              "      <td>755.0</td>\n",
              "      <td>663.0</td>\n",
              "      <td>1.2</td>\n",
              "      <td>1.7</td>\n",
              "      <td>5.1</td>\n",
              "      <td>0.4</td>\n",
              "      <td>14.0</td>\n",
              "    </tr>\n",
              "    <tr>\n",
              "      <th>6</th>\n",
              "      <td>no</td>\n",
              "      <td>yes</td>\n",
              "      <td>no</td>\n",
              "      <td>889.0</td>\n",
              "      <td>2190.0</td>\n",
              "      <td>5.7</td>\n",
              "      <td>2.1</td>\n",
              "      <td>12.8</td>\n",
              "      <td>3.4</td>\n",
              "      <td>19.0</td>\n",
              "    </tr>\n",
              "    <tr>\n",
              "      <th>7</th>\n",
              "      <td>no</td>\n",
              "      <td>no</td>\n",
              "      <td>no</td>\n",
              "      <td>838.0</td>\n",
              "      <td>789.0</td>\n",
              "      <td>1.5</td>\n",
              "      <td>1.7</td>\n",
              "      <td>10.5</td>\n",
              "      <td>1.4</td>\n",
              "      <td>7.0</td>\n",
              "    </tr>\n",
              "    <tr>\n",
              "      <th>8</th>\n",
              "      <td>no</td>\n",
              "      <td>no</td>\n",
              "      <td>no</td>\n",
              "      <td>908.0</td>\n",
              "      <td>462.0</td>\n",
              "      <td>-0.9</td>\n",
              "      <td>1.9</td>\n",
              "      <td>6.9</td>\n",
              "      <td>0.4</td>\n",
              "      <td>6.0</td>\n",
              "    </tr>\n",
              "    <tr>\n",
              "      <th>9</th>\n",
              "      <td>no</td>\n",
              "      <td>no</td>\n",
              "      <td>no</td>\n",
              "      <td>1009.0</td>\n",
              "      <td>2624.0</td>\n",
              "      <td>6.2</td>\n",
              "      <td>2.4</td>\n",
              "      <td>28.8</td>\n",
              "      <td>3.8</td>\n",
              "      <td>16.0</td>\n",
              "    </tr>\n",
              "  </tbody>\n",
              "</table>\n",
              "</div>"
            ],
            "text/plain": [
              "  oil inter oecd   gdp60  ...  popgrowth  invest  school  literacy60\n",
              "0  no   yes   no  2485.0  ...        2.6    24.1     4.5        10.0\n",
              "1  no    no   no  1588.0  ...        2.1     5.8     1.8         5.0\n",
              "2  no    no   no  1116.0  ...        2.4    10.8     1.8         5.0\n",
              "3  no   yes   no   959.0  ...        3.2    28.3     2.9         NaN\n",
              "4  no    no   no   529.0  ...        0.9    12.7     0.4         2.0\n",
              "5  no    no   no   755.0  ...        1.7     5.1     0.4        14.0\n",
              "6  no   yes   no   889.0  ...        2.1    12.8     3.4        19.0\n",
              "7  no    no   no   838.0  ...        1.7    10.5     1.4         7.0\n",
              "8  no    no   no   908.0  ...        1.9     6.9     0.4         6.0\n",
              "9  no    no   no  1009.0  ...        2.4    28.8     3.8        16.0\n",
              "\n",
              "[10 rows x 10 columns]"
            ]
          },
          "metadata": {
            "tags": []
          },
          "execution_count": 7
        }
      ]
    },
    {
      "cell_type": "code",
      "metadata": {
        "id": "wc65gN1UCEya",
        "outputId": "3f3a5f87-5384-49d9-e47b-a5abaa1b6380",
        "colab": {
          "base_uri": "https://localhost:8080/",
          "height": 168
        }
      },
      "source": [
        "print(df['gdp60'].describe())\n"
      ],
      "execution_count": 103,
      "outputs": [
        {
          "output_type": "stream",
          "text": [
            "count      121.000000\n",
            "mean      3587.983471\n",
            "std       7349.898268\n",
            "min        383.000000\n",
            "25%        978.000000\n",
            "50%       1939.000000\n",
            "75%       3766.000000\n",
            "max      77881.000000\n",
            "Name: gdp60, dtype: float64\n"
          ],
          "name": "stdout"
        }
      ]
    },
    {
      "cell_type": "code",
      "metadata": {
        "id": "f8gbSTFSFUi3",
        "outputId": "c9e9a88a-1a0e-4a6c-a59c-595f1a68bd71",
        "colab": {
          "base_uri": "https://localhost:8080/",
          "height": 202
        }
      },
      "source": [
        "#Comprobar si hay valores perdidos\n",
        "pd.isnull(df).any()\n",
        "\n"
      ],
      "execution_count": 8,
      "outputs": [
        {
          "output_type": "execute_result",
          "data": {
            "text/plain": [
              "oil           False\n",
              "inter         False\n",
              "oecd          False\n",
              "gdp60          True\n",
              "gdp85          True\n",
              "gdpgrowth      True\n",
              "popgrowth      True\n",
              "invest        False\n",
              "school         True\n",
              "literacy60     True\n",
              "dtype: bool"
            ]
          },
          "metadata": {
            "tags": []
          },
          "execution_count": 8
        }
      ]
    },
    {
      "cell_type": "code",
      "metadata": {
        "id": "0MaSbzZDHBTl",
        "outputId": "58c04bc5-21e5-40a0-b7e1-d2338627350f",
        "colab": {
          "base_uri": "https://localhost:8080/",
          "height": 202
        }
      },
      "source": [
        "#Total de valores perdidos por columna\n",
        "df.isnull().sum()"
      ],
      "execution_count": 9,
      "outputs": [
        {
          "output_type": "execute_result",
          "data": {
            "text/plain": [
              "oil            0\n",
              "inter          0\n",
              "oecd           0\n",
              "gdp60          5\n",
              "gdp85         13\n",
              "gdpgrowth      4\n",
              "popgrowth     14\n",
              "invest         0\n",
              "school         3\n",
              "literacy60    18\n",
              "dtype: int64"
            ]
          },
          "metadata": {
            "tags": []
          },
          "execution_count": 9
        }
      ]
    },
    {
      "cell_type": "code",
      "metadata": {
        "id": "1IwDlR2fKv4i"
      },
      "source": [
        "#Metodo fillna, asigna el valor previo o el ultimo valor valido\n",
        "df.fillna(method='ffill', inplace=True)"
      ],
      "execution_count": 10,
      "outputs": []
    },
    {
      "cell_type": "code",
      "metadata": {
        "id": "OAPBmO35LHIg",
        "outputId": "8fc64e81-b9e8-40fb-d302-f69aa67eefb7",
        "colab": {
          "base_uri": "https://localhost:8080/",
          "height": 202
        }
      },
      "source": [
        "#Compruebo que no queden valores perdidos\n",
        "pd.isnull(df).any()"
      ],
      "execution_count": 11,
      "outputs": [
        {
          "output_type": "execute_result",
          "data": {
            "text/plain": [
              "oil           False\n",
              "inter         False\n",
              "oecd          False\n",
              "gdp60         False\n",
              "gdp85         False\n",
              "gdpgrowth     False\n",
              "popgrowth     False\n",
              "invest        False\n",
              "school        False\n",
              "literacy60    False\n",
              "dtype: bool"
            ]
          },
          "metadata": {
            "tags": []
          },
          "execution_count": 11
        }
      ]
    },
    {
      "cell_type": "code",
      "metadata": {
        "id": "bRu90NyKLnZR",
        "outputId": "13949abc-a3eb-42d4-a7ce-25228b9108a9",
        "colab": {
          "base_uri": "https://localhost:8080/",
          "height": 1000
        }
      },
      "source": [
        "#Comprobar si hay valores duplicados, filtro para que me muestre True si hay duplicados\n",
        "df.duplicated(keep=False)"
      ],
      "execution_count": 43,
      "outputs": [
        {
          "output_type": "execute_result",
          "data": {
            "text/plain": [
              "0      False\n",
              "1      False\n",
              "2      False\n",
              "3      False\n",
              "4      False\n",
              "5      False\n",
              "6      False\n",
              "7      False\n",
              "8      False\n",
              "9      False\n",
              "10     False\n",
              "11     False\n",
              "12     False\n",
              "13     False\n",
              "14     False\n",
              "15     False\n",
              "16     False\n",
              "17     False\n",
              "18     False\n",
              "19     False\n",
              "20     False\n",
              "21     False\n",
              "22     False\n",
              "23     False\n",
              "24     False\n",
              "25     False\n",
              "26     False\n",
              "27     False\n",
              "28     False\n",
              "29     False\n",
              "30     False\n",
              "31     False\n",
              "32     False\n",
              "33     False\n",
              "34     False\n",
              "35     False\n",
              "36     False\n",
              "37     False\n",
              "38     False\n",
              "39     False\n",
              "40     False\n",
              "41     False\n",
              "42     False\n",
              "43     False\n",
              "44     False\n",
              "45     False\n",
              "46     False\n",
              "47     False\n",
              "48     False\n",
              "49     False\n",
              "50     False\n",
              "51     False\n",
              "52     False\n",
              "53     False\n",
              "54     False\n",
              "55     False\n",
              "56     False\n",
              "57     False\n",
              "58     False\n",
              "59     False\n",
              "60     False\n",
              "61     False\n",
              "62     False\n",
              "63     False\n",
              "64     False\n",
              "65     False\n",
              "66     False\n",
              "67     False\n",
              "68     False\n",
              "69     False\n",
              "70     False\n",
              "71     False\n",
              "72     False\n",
              "73     False\n",
              "74     False\n",
              "75     False\n",
              "76     False\n",
              "77     False\n",
              "78     False\n",
              "79     False\n",
              "80     False\n",
              "81     False\n",
              "82     False\n",
              "83     False\n",
              "84     False\n",
              "85     False\n",
              "86     False\n",
              "87     False\n",
              "88     False\n",
              "89     False\n",
              "90     False\n",
              "91     False\n",
              "92     False\n",
              "93     False\n",
              "94     False\n",
              "95     False\n",
              "96     False\n",
              "97     False\n",
              "98     False\n",
              "99     False\n",
              "100    False\n",
              "101    False\n",
              "102    False\n",
              "103    False\n",
              "104    False\n",
              "105    False\n",
              "106    False\n",
              "107    False\n",
              "108    False\n",
              "109    False\n",
              "110    False\n",
              "111    False\n",
              "112    False\n",
              "113    False\n",
              "114    False\n",
              "115    False\n",
              "116    False\n",
              "117    False\n",
              "118    False\n",
              "119    False\n",
              "120    False\n",
              "dtype: bool"
            ]
          },
          "metadata": {
            "tags": []
          },
          "execution_count": 43
        }
      ]
    },
    {
      "cell_type": "code",
      "metadata": {
        "id": "FRSlGbakMnOC"
      },
      "source": [
        "#Observo los datos\n",
        "import matplotlib.pyplot as plt\n"
      ],
      "execution_count": 13,
      "outputs": []
    },
    {
      "cell_type": "code",
      "metadata": {
        "id": "z4R8i6NAAn5P",
        "outputId": "5c93858b-113e-4330-eebc-27cf0733d6ac",
        "colab": {
          "base_uri": "https://localhost:8080/",
          "height": 417
        }
      },
      "source": [
        "fig, ax = plt.subplots(1, figsize=(10, 6))\n",
        "fig.suptitle('Grafico de dispersion')\n",
        "\n",
        "ax.scatter(df['gdp60'], df['gdp85'],\n",
        "            color=\"blue\",    # Color of the dots\n",
        "            s=100,           # Size of the dots\n",
        "            alpha=0.5,       # Alpha/transparency of the dots (1 is opaque, 0 is transparent)\n",
        "            linewidths=1)    # Size of edge around the dots\n",
        "\n",
        "# Show the plot\n",
        "plt.show()"
      ],
      "execution_count": 14,
      "outputs": [
        {
          "output_type": "display_data",
          "data": {
            "image/png": "[encoded data removed]",
            "text/plain": [
              "<Figure size 720x432 with 1 Axes>"
            ]
          },
          "metadata": {
            "tags": [],
            "needs_background": "light"
          }
        }
      ]
    },
    {
      "cell_type": "code",
      "metadata": {
        "id": "_q6AkbvKUrkL",
        "outputId": "dbda9a47-2354-48de-bcc7-dfc65c79674e",
        "colab": {
          "base_uri": "https://localhost:8080/",
          "height": 202
        }
      },
      "source": [
        "summary = df.describe()\n",
        "print(summary)"
      ],
      "execution_count": 15,
      "outputs": [
        {
          "output_type": "stream",
          "text": [
            "              gdp60         gdp85  ...      school  literacy60\n",
            "count    121.000000    121.000000  ...  121.000000  121.000000\n",
            "mean    3587.983471   5857.661157  ...    5.537190   48.256198\n",
            "std     7349.898268   5600.090048  ...    3.502693   35.646302\n",
            "min      383.000000    412.000000  ...    0.400000    1.000000\n",
            "25%      978.000000   1237.000000  ...    2.400000   15.000000\n",
            "50%     1939.000000   3775.000000  ...    4.900000   39.000000\n",
            "75%     3766.000000   9903.000000  ...    8.200000   84.000000\n",
            "max    77881.000000  25635.000000  ...   12.100000  100.000000\n",
            "\n",
            "[8 rows x 7 columns]\n"
          ],
          "name": "stdout"
        }
      ]
    },
    {
      "cell_type": "code",
      "metadata": {
        "id": "edgvpJbrTJKz",
        "outputId": "5bdabf8e-5bcb-414b-d484-110094917959",
        "colab": {
          "base_uri": "https://localhost:8080/",
          "height": 332
        }
      },
      "source": [
        "plt.hist(df[\"gdpgrowth\"])"
      ],
      "execution_count": 16,
      "outputs": [
        {
          "output_type": "execute_result",
          "data": {
            "text/plain": [
              "(array([ 1.,  5., 14., 16., 30., 21., 17., 10.,  4.,  3.]),\n",
              " array([-0.9 ,  0.11,  1.12,  2.13,  3.14,  4.15,  5.16,  6.17,  7.18,\n",
              "         8.19,  9.2 ]),\n",
              " <a list of 10 Patch objects>)"
            ]
          },
          "metadata": {
            "tags": []
          },
          "execution_count": 16
        },
        {
          "output_type": "display_data",
          "data": {
            "image/png": "[encoded data removed]",
            "text/plain": [
              "<Figure size 432x288 with 1 Axes>"
            ]
          },
          "metadata": {
            "tags": [],
            "needs_background": "light"
          }
        }
      ]
    },
    {
      "cell_type": "markdown",
      "metadata": {
        "id": "q3YktVCoFoZj"
      },
      "source": [
        ""
      ]
    },
    {
      "cell_type": "code",
      "metadata": {
        "id": "DSvO5C0vTmkh",
        "outputId": "89d07d1b-0e2d-43c0-f1b5-c1c676690f0e",
        "colab": {
          "base_uri": "https://localhost:8080/",
          "height": 399
        }
      },
      "source": [
        "plt.boxplot(df['gdpgrowth'])"
      ],
      "execution_count": 17,
      "outputs": [
        {
          "output_type": "execute_result",
          "data": {
            "text/plain": [
              "{'boxes': [<matplotlib.lines.Line2D at 0x7f6b15b0e3c8>],\n",
              " 'caps': [<matplotlib.lines.Line2D at 0x7f6b15b0edd8>,\n",
              "  <matplotlib.lines.Line2D at 0x7f6b15a9d198>],\n",
              " 'fliers': [<matplotlib.lines.Line2D at 0x7f6b15a9d898>],\n",
              " 'means': [],\n",
              " 'medians': [<matplotlib.lines.Line2D at 0x7f6b15a9d518>],\n",
              " 'whiskers': [<matplotlib.lines.Line2D at 0x7f6b15b0e6d8>,\n",
              "  <matplotlib.lines.Line2D at 0x7f6b15b0ea58>]}"
            ]
          },
          "metadata": {
            "tags": []
          },
          "execution_count": 17
        },
        {
          "output_type": "display_data",
          "data": {
            "image/png": "[encoded data removed]",
            "text/plain": [
              "<Figure size 432x288 with 1 Axes>"
            ]
          },
          "metadata": {
            "tags": [],
            "needs_background": "light"
          }
        }
      ]
    },
    {
      "cell_type": "code",
      "metadata": {
        "id": "zls_0K6gTzdu",
        "outputId": "058d79a3-0378-43a5-c0ff-14a00a7a636f",
        "colab": {
          "base_uri": "https://localhost:8080/",
          "height": 401
        }
      },
      "source": [
        "plt.boxplot(df['popgrowth'])"
      ],
      "execution_count": 18,
      "outputs": [
        {
          "output_type": "execute_result",
          "data": {
            "text/plain": [
              "{'boxes': [<matplotlib.lines.Line2D at 0x7f6b15a6d908>],\n",
              " 'caps': [<matplotlib.lines.Line2D at 0x7f6b15a7b358>,\n",
              "  <matplotlib.lines.Line2D at 0x7f6b15a7b6d8>],\n",
              " 'fliers': [<matplotlib.lines.Line2D at 0x7f6b15a7bdd8>],\n",
              " 'means': [],\n",
              " 'medians': [<matplotlib.lines.Line2D at 0x7f6b15a7ba58>],\n",
              " 'whiskers': [<matplotlib.lines.Line2D at 0x7f6b15a6dc18>,\n",
              "  <matplotlib.lines.Line2D at 0x7f6b15a6df98>]}"
            ]
          },
          "metadata": {
            "tags": []
          },
          "execution_count": 18
        },
        {
          "output_type": "display_data",
          "data": {
            "image/png": "[encoded data removed]",
            "text/plain": [
              "<Figure size 432x288 with 1 Axes>"
            ]
          },
          "metadata": {
            "tags": [],
            "needs_background": "light"
          }
        }
      ]
    },
    {
      "cell_type": "code",
      "metadata": {
        "id": "PN9LkXiSUWej",
        "outputId": "f72838ea-0aa0-4a0a-9d3d-1f1501f0a9b3",
        "colab": {
          "base_uri": "https://localhost:8080/",
          "height": 151
        }
      },
      "source": [
        "#Deteccion de outliers\n",
        "#IQR para cada columna\n",
        "Q1 = df.quantile(0.25)\n",
        "Q3 = df.quantile(0.75)\n",
        "IQR = Q3 - Q1\n",
        "print(IQR)"
      ],
      "execution_count": 19,
      "outputs": [
        {
          "output_type": "stream",
          "text": [
            "gdp60         2788.0\n",
            "gdp85         8666.0\n",
            "gdpgrowth        2.7\n",
            "popgrowth        1.3\n",
            "invest          12.1\n",
            "school           5.8\n",
            "literacy60      69.0\n",
            "dtype: float64\n"
          ],
          "name": "stdout"
        }
      ]
    },
    {
      "cell_type": "code",
      "metadata": {
        "id": "qOBc8lfDdb24",
        "outputId": "4db2a5b3-c8d6-451d-9bb2-c46c0459152d",
        "colab": {
          "base_uri": "https://localhost:8080/",
          "height": 252
        }
      },
      "source": [
        "BI=(df < (Q1 - 1.5 * IQR)) \n",
        "print(BI)"
      ],
      "execution_count": 20,
      "outputs": [
        {
          "output_type": "stream",
          "text": [
            "     gdp60  gdp85  gdpgrowth  inter  ...   oecd    oil  popgrowth  school\n",
            "0    False  False      False  False  ...  False  False      False   False\n",
            "1    False  False      False  False  ...  False  False      False   False\n",
            "2    False  False      False  False  ...  False  False      False   False\n",
            "3    False  False      False  False  ...  False  False      False   False\n",
            "4    False  False      False  False  ...  False  False      False   False\n",
            "..     ...    ...        ...    ...  ...    ...    ...        ...     ...\n",
            "116  False  False      False  False  ...  False  False      False   False\n",
            "117  False  False      False  False  ...  False  False      False   False\n",
            "118  False  False      False  False  ...  False  False      False   False\n",
            "119  False  False      False  False  ...  False  False      False   False\n",
            "120  False  False      False  False  ...  False  False      False   False\n",
            "\n",
            "[121 rows x 10 columns]\n"
          ],
          "name": "stdout"
        }
      ]
    },
    {
      "cell_type": "code",
      "metadata": {
        "id": "AWFjFoYHesyU",
        "outputId": "3acc1139-0f2d-4f57-ace1-c276f5d23c5c",
        "colab": {
          "base_uri": "https://localhost:8080/",
          "height": 1000
        }
      },
      "source": [
        "pd.set_option('display.max_rows', None)\n",
        "pd.set_option('display.max_columns', None)\n",
        "BS=(df > (Q3 + 1.5 * IQR))\n",
        "print(BS)"
      ],
      "execution_count": 21,
      "outputs": [
        {
          "output_type": "stream",
          "text": [
            "     gdp60  gdp85  gdpgrowth  inter  invest  literacy60   oecd    oil  \\\n",
            "0    False  False      False  False   False       False  False  False   \n",
            "1    False  False      False  False   False       False  False  False   \n",
            "2    False  False      False  False   False       False  False  False   \n",
            "3    False  False      False  False   False       False  False  False   \n",
            "4    False  False      False  False   False       False  False  False   \n",
            "5    False  False      False  False   False       False  False  False   \n",
            "6    False  False      False  False   False       False  False  False   \n",
            "7    False  False      False  False   False       False  False  False   \n",
            "8    False  False      False  False   False       False  False  False   \n",
            "9    False  False      False  False   False       False  False  False   \n",
            "10   False  False      False  False   False       False  False  False   \n",
            "11   False  False      False  False   False       False  False  False   \n",
            "12   False  False      False  False   False       False  False  False   \n",
            "13   False  False      False  False   False       False  False  False   \n",
            "14   False  False      False  False   False       False  False  False   \n",
            "15   False  False      False  False   False       False  False  False   \n",
            "16   False  False      False  False   False       False  False  False   \n",
            "17   False  False      False  False   False       False  False  False   \n",
            "18   False  False      False  False   False       False  False  False   \n",
            "19   False  False      False  False   False       False  False  False   \n",
            "20   False  False      False  False   False       False  False  False   \n",
            "21   False  False      False  False   False       False  False  False   \n",
            "22   False  False      False  False   False       False  False  False   \n",
            "23   False  False      False  False   False       False  False  False   \n",
            "24   False  False      False  False   False       False  False  False   \n",
            "25   False  False      False  False   False       False  False  False   \n",
            "26   False  False      False  False   False       False  False  False   \n",
            "27   False  False      False  False   False       False  False  False   \n",
            "28   False  False      False  False   False       False  False  False   \n",
            "29   False  False      False  False   False       False  False  False   \n",
            "30   False  False      False  False   False       False  False  False   \n",
            "31   False  False      False  False   False       False  False  False   \n",
            "32   False  False      False  False   False       False  False  False   \n",
            "33   False  False      False  False   False       False  False  False   \n",
            "34   False  False      False  False   False       False  False  False   \n",
            "35   False  False      False  False   False       False  False  False   \n",
            "36   False  False      False  False   False       False  False  False   \n",
            "37   False  False      False  False   False       False  False  False   \n",
            "38   False  False      False  False   False       False  False  False   \n",
            "39   False  False      False  False   False       False  False  False   \n",
            "40   False  False      False  False   False       False  False  False   \n",
            "41   False  False      False  False   False       False  False  False   \n",
            "42   False  False      False  False   False       False  False  False   \n",
            "43   False  False      False  False   False       False  False  False   \n",
            "44   False  False      False  False   False       False  False  False   \n",
            "45   False  False      False  False   False       False  False  False   \n",
            "46   False  False      False  False   False       False  False  False   \n",
            "47   False  False      False  False   False       False  False  False   \n",
            "48   False  False      False  False   False       False  False  False   \n",
            "49   False  False      False  False   False       False  False  False   \n",
            "50   False  False      False  False   False       False  False  False   \n",
            "51   False  False      False  False   False       False  False  False   \n",
            "52   False  False      False  False   False       False  False  False   \n",
            "53   False  False      False  False   False       False  False  False   \n",
            "54   False  False      False  False   False       False  False  False   \n",
            "55    True   True      False  False   False       False  False  False   \n",
            "56   False  False      False  False   False       False  False  False   \n",
            "57   False  False      False  False   False       False  False  False   \n",
            "58   False  False      False  False   False       False  False  False   \n",
            "59   False  False      False  False   False       False  False  False   \n",
            "60   False  False      False  False   False       False  False  False   \n",
            "61   False  False      False  False   False       False  False  False   \n",
            "62   False  False      False  False   False       False  False  False   \n",
            "63   False  False      False  False   False       False  False  False   \n",
            "64   False  False      False  False   False       False  False  False   \n",
            "65   False  False      False  False   False       False  False  False   \n",
            "66   False  False      False  False   False       False  False  False   \n",
            "67   False  False      False  False   False       False  False  False   \n",
            "68   False  False      False  False   False       False  False  False   \n",
            "69   False  False      False  False   False       False  False  False   \n",
            "70   False  False      False  False   False       False  False  False   \n",
            "71   False  False      False  False   False       False  False  False   \n",
            "72    True  False      False  False   False       False  False  False   \n",
            "73   False  False      False  False   False       False  False  False   \n",
            "74   False  False      False  False   False       False  False  False   \n",
            "75   False  False      False  False   False       False  False  False   \n",
            "76   False  False      False  False   False       False  False  False   \n",
            "77    True  False      False  False   False       False  False  False   \n",
            "78   False  False      False  False   False       False  False  False   \n",
            "79   False  False      False  False   False       False  False  False   \n",
            "80    True  False      False  False   False       False  False  False   \n",
            "81   False  False      False  False   False       False  False  False   \n",
            "82   False  False      False  False   False       False  False  False   \n",
            "83   False  False      False  False   False       False  False  False   \n",
            "84   False  False      False  False   False       False  False  False   \n",
            "85   False  False      False  False   False       False  False  False   \n",
            "86   False  False      False  False   False       False  False  False   \n",
            "87    True  False      False  False   False       False  False  False   \n",
            "88   False  False      False  False   False       False  False  False   \n",
            "89   False  False      False  False   False       False  False  False   \n",
            "90   False  False      False  False   False       False  False  False   \n",
            "91    True  False      False  False   False       False  False  False   \n",
            "92   False  False      False  False   False       False  False  False   \n",
            "93   False  False      False  False   False       False  False  False   \n",
            "94   False  False      False  False   False       False  False  False   \n",
            "95   False  False      False  False   False       False  False  False   \n",
            "96   False  False      False  False   False       False  False  False   \n",
            "97   False  False      False  False   False       False  False  False   \n",
            "98   False  False      False  False   False       False  False  False   \n",
            "99   False  False      False  False   False       False  False  False   \n",
            "100  False  False      False  False   False       False  False  False   \n",
            "101  False  False      False  False   False       False  False  False   \n",
            "102   True  False      False  False   False       False  False  False   \n",
            "103   True  False      False  False   False       False  False  False   \n",
            "104  False  False      False  False   False       False  False  False   \n",
            "105  False  False      False  False   False       False  False  False   \n",
            "106  False  False      False  False   False       False  False  False   \n",
            "107  False  False      False  False   False       False  False  False   \n",
            "108  False  False      False  False   False       False  False  False   \n",
            "109  False  False      False  False   False       False  False  False   \n",
            "110  False  False      False  False   False       False  False  False   \n",
            "111  False  False      False  False   False       False  False  False   \n",
            "112  False  False      False  False   False       False  False  False   \n",
            "113  False  False      False  False   False       False  False  False   \n",
            "114  False  False      False  False   False       False  False  False   \n",
            "115   True  False      False  False   False       False  False  False   \n",
            "116   True  False      False  False   False       False  False  False   \n",
            "117  False  False      False  False   False       False  False  False   \n",
            "118  False  False      False  False   False       False  False  False   \n",
            "119   True  False      False  False   False       False  False  False   \n",
            "120  False  False      False  False   False       False  False  False   \n",
            "\n",
            "     popgrowth  school  \n",
            "0        False   False  \n",
            "1        False   False  \n",
            "2        False   False  \n",
            "3        False   False  \n",
            "4        False   False  \n",
            "5        False   False  \n",
            "6        False   False  \n",
            "7        False   False  \n",
            "8        False   False  \n",
            "9        False   False  \n",
            "10       False   False  \n",
            "11       False   False  \n",
            "12       False   False  \n",
            "13       False   False  \n",
            "14       False   False  \n",
            "15       False   False  \n",
            "16       False   False  \n",
            "17       False   False  \n",
            "18       False   False  \n",
            "19       False   False  \n",
            "20       False   False  \n",
            "21       False   False  \n",
            "22       False   False  \n",
            "23       False   False  \n",
            "24       False   False  \n",
            "25       False   False  \n",
            "26       False   False  \n",
            "27       False   False  \n",
            "28       False   False  \n",
            "29       False   False  \n",
            "30       False   False  \n",
            "31       False   False  \n",
            "32       False   False  \n",
            "33       False   False  \n",
            "34       False   False  \n",
            "35       False   False  \n",
            "36       False   False  \n",
            "37       False   False  \n",
            "38       False   False  \n",
            "39       False   False  \n",
            "40       False   False  \n",
            "41       False   False  \n",
            "42       False   False  \n",
            "43       False   False  \n",
            "44       False   False  \n",
            "45       False   False  \n",
            "46       False   False  \n",
            "47       False   False  \n",
            "48       False   False  \n",
            "49       False   False  \n",
            "50       False   False  \n",
            "51       False   False  \n",
            "52       False   False  \n",
            "53       False   False  \n",
            "54       False   False  \n",
            "55        True   False  \n",
            "56       False   False  \n",
            "57       False   False  \n",
            "58       False   False  \n",
            "59       False   False  \n",
            "60       False   False  \n",
            "61       False   False  \n",
            "62       False   False  \n",
            "63       False   False  \n",
            "64       False   False  \n",
            "65       False   False  \n",
            "66       False   False  \n",
            "67       False   False  \n",
            "68       False   False  \n",
            "69       False   False  \n",
            "70       False   False  \n",
            "71       False   False  \n",
            "72       False   False  \n",
            "73       False   False  \n",
            "74       False   False  \n",
            "75       False   False  \n",
            "76       False   False  \n",
            "77       False   False  \n",
            "78       False   False  \n",
            "79       False   False  \n",
            "80       False   False  \n",
            "81       False   False  \n",
            "82       False   False  \n",
            "83       False   False  \n",
            "84       False   False  \n",
            "85       False   False  \n",
            "86       False   False  \n",
            "87       False   False  \n",
            "88       False   False  \n",
            "89       False   False  \n",
            "90       False   False  \n",
            "91       False   False  \n",
            "92       False   False  \n",
            "93       False   False  \n",
            "94       False   False  \n",
            "95       False   False  \n",
            "96       False   False  \n",
            "97       False   False  \n",
            "98       False   False  \n",
            "99       False   False  \n",
            "100      False   False  \n",
            "101      False   False  \n",
            "102      False   False  \n",
            "103      False   False  \n",
            "104      False   False  \n",
            "105      False   False  \n",
            "106      False   False  \n",
            "107      False   False  \n",
            "108      False   False  \n",
            "109      False   False  \n",
            "110      False   False  \n",
            "111      False   False  \n",
            "112      False   False  \n",
            "113      False   False  \n",
            "114      False   False  \n",
            "115      False   False  \n",
            "116      False   False  \n",
            "117      False   False  \n",
            "118      False   False  \n",
            "119      False   False  \n",
            "120      False   False  \n"
          ],
          "name": "stdout"
        }
      ]
    },
    {
      "cell_type": "markdown",
      "metadata": {
        "id": "D1KB6IPmgFjt"
      },
      "source": [
        ""
      ]
    },
    {
      "cell_type": "code",
      "metadata": {
        "id": "6Be9j8u2gZfK",
        "outputId": "7b860e6d-2874-40c4-a7c4-97403e7186eb",
        "colab": {
          "base_uri": "https://localhost:8080/",
          "height": 34
        }
      },
      "source": [
        "#Quito los outliers\n",
        "df_out = df[~((df < (Q1 - 1.5 * IQR))).any(axis=1)]\n",
        "df_out.shape"
      ],
      "execution_count": 22,
      "outputs": [
        {
          "output_type": "execute_result",
          "data": {
            "text/plain": [
              "(121, 10)"
            ]
          },
          "metadata": {
            "tags": []
          },
          "execution_count": 22
        }
      ]
    },
    {
      "cell_type": "code",
      "metadata": {
        "id": "5VfI3RSUgtIl",
        "outputId": "664d43d3-c608-4523-b35c-a9fd6fd00344",
        "colab": {
          "base_uri": "https://localhost:8080/",
          "height": 34
        }
      },
      "source": [
        "#Quito los outliers\n",
        "df_out2 = df[~((df > (Q3 + 1.5 * IQR))).any(axis=1)]\n",
        "df_out2.shape"
      ],
      "execution_count": 23,
      "outputs": [
        {
          "output_type": "execute_result",
          "data": {
            "text/plain": [
              "(110, 10)"
            ]
          },
          "metadata": {
            "tags": []
          },
          "execution_count": 23
        }
      ]
    },
    {
      "cell_type": "code",
      "metadata": {
        "id": "nL_6YGMyvRGl",
        "outputId": "8f82716c-729c-4f62-df7a-6e59fbaac44d",
        "colab": {
          "base_uri": "https://localhost:8080/",
          "height": 403
        }
      },
      "source": [
        "#Compruebo que en esta columna ya no hay valores outliers\n",
        "plt.boxplot(df_out2['popgrowth'])"
      ],
      "execution_count": 24,
      "outputs": [
        {
          "output_type": "execute_result",
          "data": {
            "text/plain": [
              "{'boxes': [<matplotlib.lines.Line2D at 0x7f6b14757550>],\n",
              " 'caps': [<matplotlib.lines.Line2D at 0x7f6b14757f60>,\n",
              "  <matplotlib.lines.Line2D at 0x7f6b147642e8>],\n",
              " 'fliers': [<matplotlib.lines.Line2D at 0x7f6b147649e8>],\n",
              " 'means': [],\n",
              " 'medians': [<matplotlib.lines.Line2D at 0x7f6b14764668>],\n",
              " 'whiskers': [<matplotlib.lines.Line2D at 0x7f6b14757860>,\n",
              "  <matplotlib.lines.Line2D at 0x7f6b14757be0>]}"
            ]
          },
          "metadata": {
            "tags": []
          },
          "execution_count": 24
        },
        {
          "output_type": "display_data",
          "data": {
            "image/png": "[encoded data removed]",
            "text/plain": [
              "<Figure size 432x288 with 1 Axes>"
            ]
          },
          "metadata": {
            "tags": [],
            "needs_background": "light"
          }
        }
      ]
    },
    {
      "cell_type": "code",
      "metadata": {
        "id": "AWwQUgMYv-8h",
        "outputId": "14ae971f-e7a5-474d-f84e-216dfe953a8b",
        "colab": {
          "base_uri": "https://localhost:8080/",
          "height": 336
        }
      },
      "source": [
        "#Se eliminaron 11 filas con valores outliers\n",
        "summary = df_out2.describe()\n",
        "print(summary)"
      ],
      "execution_count": 25,
      "outputs": [
        {
          "output_type": "stream",
          "text": [
            "             gdp60         gdp85   gdpgrowth   popgrowth      invest  \\\n",
            "count   110.000000    110.000000  110.000000  110.000000  110.000000   \n",
            "mean   2364.263636   5023.263636    4.211818    2.250909   17.682727   \n",
            "std    1963.342356   4890.696790    1.958268    0.908143    7.793209   \n",
            "min     383.000000    412.000000   -0.900000    0.300000    4.100000   \n",
            "25%     917.000000   1193.750000    2.825000    1.700000   12.000000   \n",
            "50%    1620.500000   3150.000000    4.050000    2.450000   17.150000   \n",
            "75%    3145.000000   6042.000000    5.500000    2.900000   23.350000   \n",
            "max    7938.000000  19723.000000    9.200000    4.300000   36.900000   \n",
            "\n",
            "           school  literacy60  \n",
            "count  110.000000  110.000000  \n",
            "mean     5.179091   44.272727  \n",
            "std      3.393007   34.556405  \n",
            "min      0.400000    1.000000  \n",
            "25%      2.325000   13.250000  \n",
            "50%      4.450000   32.000000  \n",
            "75%      7.975000   74.500000  \n",
            "max     12.100000  100.000000  \n"
          ],
          "name": "stdout"
        }
      ]
    },
    {
      "cell_type": "code",
      "metadata": {
        "id": "Rz__CC6eaDLR"
      },
      "source": [
        "#Bucle para eliminar valores outliers, no funciono falta modificar el exclude\n",
        "def boxplot_outlier_removal(df):\n",
        "  for col in df.columns:\n",
        "        if col not in exclude:\n",
        "            # get Q1, Q3 & Interquantile Range\n",
        "            Q1 = df[col].quantile(0.25)\n",
        "            Q3 = df[col].quantile(0.75)\n",
        "            IQR = Q3 - Q1\n",
        "            # define outliers and remove them\n",
        "            filter_ = (df[col] > Q1 - 1.5 * IQR) & (df[col] < Q3 + 1.5 *IQR)\n",
        "            df = df[filter_]\n",
        "  after = len(df)\n",
        "  diff = before-after\n",
        "  percent = diff/before*100\n",
        "  print('{} ({:.2f}%) outliers removed'.format(diff, percent))\n",
        "  return df\n"
      ],
      "execution_count": 26,
      "outputs": []
    },
    {
      "cell_type": "code",
      "metadata": {
        "id": "uxgbc6KGIsyK",
        "outputId": "05de12d2-c9a4-4e21-e292-7121865bc4e5",
        "colab": {
          "base_uri": "https://localhost:8080/",
          "height": 1000
        }
      },
      "source": [
        "from sklearn.preprocessing import StandardScaler\n",
        "scaler=StandardScaler()\n",
        "scaled_datos=scaler.fit_transform(df_out2.iloc[:,[3,4,5,6,7,8,9]].values)\n",
        "print(scaled_datos)"
      ],
      "execution_count": 132,
      "outputs": [
        {
          "output_type": "stream",
          "text": [
            "[[ 6.17767632e-02 -1.33978627e-01  3.01732842e-01  3.86160042e-01\n",
            "   8.27212867e-01 -2.01060284e-01 -9.96329993e-01]\n",
            " [-3.97188166e-01 -7.91276661e-01 -1.75023703e+00 -1.66933768e-01\n",
            "  -1.53173245e+00 -1.00045659e+00 -1.14168318e+00]\n",
            " [-6.38694795e-01 -8.11817224e-01 -1.03204757e+00  1.64922518e-01\n",
            "  -8.87211873e-01 -1.00045659e+00 -1.14168318e+00]\n",
            " [-7.19026449e-01 -2.77762572e-01  2.25110422e+00  1.04987261e+00\n",
            "   1.36861015e+00 -6.74776615e-01 -1.14168318e+00]\n",
            " [-9.39043082e-01 -8.55774030e-01 -6.72952846e-01 -1.49435891e+00\n",
            "  -6.42294053e-01 -1.41495838e+00 -1.22889508e+00]\n",
            " [-8.23406433e-01 -8.95622724e-01 -1.54504004e+00 -6.09408816e-01\n",
            "  -1.62196533e+00 -1.41495838e+00 -8.80047448e-01]\n",
            " [-7.54843110e-01 -5.81968318e-01  7.63426063e-01 -1.66933768e-01\n",
            "  -6.29403642e-01 -5.26740261e-01 -7.34694266e-01]\n",
            " [-7.80938106e-01 -8.69741614e-01 -1.39114230e+00 -6.09408816e-01\n",
            "  -9.25883108e-01 -1.11888567e+00 -1.08354190e+00]\n",
            " [-7.45121445e-01 -9.36909257e-01 -2.62232422e+00 -3.88171292e-01\n",
            "  -1.38993793e+00 -1.41495838e+00 -1.11261254e+00]\n",
            " [-6.93443120e-01 -4.92822272e-01  1.01992230e+00  1.64922518e-01\n",
            "   1.43306221e+00 -4.08311178e-01 -8.21906175e-01]\n",
            " [-7.45633112e-01 -5.88130487e-01  9.17323803e-01  2.75541280e-01\n",
            "  -1.78239236e-01  5.39121483e-01 -5.31199811e-01]\n",
            " [-9.36996415e-01 -9.06920034e-01 -7.24252093e-01  5.43037559e-02\n",
            "  -1.58329410e+00 -1.20770749e+00 -8.50976811e-01]\n",
            " [-5.40966477e-01  6.71134905e-02  1.43031627e+00 -9.41265102e-01\n",
            "   5.69404635e-01 -7.63598427e-01 -8.50976811e-01]\n",
            " [-8.00893103e-01  6.71134905e-02 -3.13858119e-01 -9.41265102e-01\n",
            "   5.37881720e-02 -1.08927840e+00 -8.50976811e-01]\n",
            " [-6.93443120e-01 -8.82476763e-01 -1.64763853e+00  5.43037559e-02\n",
            "  -1.10634887e+00 -1.41845742e-01 -5.02129174e-01]\n",
            " [-8.28011432e-01 -8.53309163e-01 -1.03204757e+00 -7.20027578e-01\n",
            "  -8.74321462e-01 -1.41845742e-01 -1.08354190e+00]\n",
            " [-5.00544816e-01 -6.81795457e-01  4.55630582e-01  2.26667900e+00\n",
            "  -6.80965288e-01 -8.52420239e-01 -1.14168318e+00]\n",
            " [-7.26701448e-01 -7.58822570e-01  3.01732842e-01  1.27111014e+00\n",
            "  -3.64447091e-02 -8.22812968e-01 -7.05623629e-01]\n",
            " [-9.89186407e-01 -7.27190103e-01  1.32771778e+00 -3.88171292e-01\n",
            "  -6.55184465e-01 -9.41242051e-01 -7.05623629e-01]\n",
            " [-7.68146442e-01 -8.37903740e-01 -4.67755859e-01  8.28635090e-01\n",
            "   4.92062166e-01 -7.93205697e-01 -1.02540063e+00]\n",
            " [-5.98784801e-01 -8.31536165e-01 -1.44244155e+00 -5.63150061e-02\n",
            "  -1.36415710e+00 -7.63598427e-01  1.66495463e-01]\n",
            " [-9.76906409e-01 -8.62757822e-01  3.01732842e-01  1.64922518e-01\n",
            "  -5.77841996e-01 -1.35574384e+00 -5.60270447e-01]\n",
            " [-8.32616432e-01 -8.85968659e-01 -1.08334682e+00 -5.63150061e-02\n",
            "  -1.33837628e+00 -1.23731476e+00 -1.19982445e+00]\n",
            " [-8.12149768e-01 -8.18595610e-01 -4.67755859e-01 -5.63150061e-02\n",
            "   1.02056904e+00 -1.23731476e+00 -1.14168318e+00]\n",
            " [-2.00196530e-01 -4.22368139e-01 -6.06263825e-03  3.86160042e-01\n",
            "  -7.51159438e-02  6.27943296e-01 -1.14168318e+00]\n",
            " [-6.82698122e-01 -5.49514228e-01  8.14725309e-01  2.75541280e-01\n",
            "  -1.20947216e+00 -4.67525720e-01 -8.80047448e-01]\n",
            " [-4.83148152e-01 -8.19211827e-01 -1.44244155e+00  4.96778804e-01\n",
            "  -1.49306122e+00 -1.32613657e+00 -9.67259357e-01]\n",
            " [-9.33926416e-01 -8.59060521e-01  9.65358552e-02  3.86160042e-01\n",
            "  -9.51663931e-01 -1.38535111e+00 -1.25796572e+00]\n",
            " [-6.69906457e-01 -7.88195576e-01 -7.24252093e-01  1.64922518e-01\n",
            "  -7.32526934e-01 -8.52420239e-01 -8.50976811e-01]\n",
            " [-9.74348076e-01 -8.88844338e-01  1.47835102e-01  6.07397566e-01\n",
            "  -1.26103381e+00 -1.41495838e+00 -8.21906175e-01]\n",
            " [-4.97474817e-01 -7.33968489e-01 -8.78149833e-01  5.43037559e-02\n",
            "  -1.04189681e+00 -1.03006386e+00 -1.11261254e+00]\n",
            " [-9.48253080e-01 -8.66455124e-01 -4.16456612e-01 -7.20027578e-01\n",
            "  -8.74321462e-01 -1.03006386e+00 -1.08354190e+00]\n",
            " [-7.48703111e-01 -8.96855158e-01 -1.23724456e+00  9.39253852e-01\n",
            "  -5.00499526e-01 -1.20770749e+00 -1.22889508e+00]\n",
            " [ 1.22991158e+00  4.19178750e-01 -1.59960378e-01  5.43037559e-02\n",
            "   5.04952577e-01 -6.45169344e-01  3.69989918e-01]\n",
            " [-5.68084806e-01 -8.18595610e-01 -1.23724456e+00  3.86160042e-01\n",
            "  -5.77841996e-01 -9.41242051e-01 -9.09118084e-01]\n",
            " [-7.91683105e-01 -8.18595610e-01  1.53291476e+00  3.86160042e-01\n",
            "   2.22652564e-03 -4.37918449e-01 -9.09118084e-01]\n",
            " [-1.01374640e+00 -8.85968659e-01  5.58229076e-01  7.18016328e-01\n",
            "   4.08977604e-02 -1.38535111e+00 -9.96329993e-01]\n",
            " [-8.12149768e-01 -8.30919949e-01 -4.16456612e-01  2.75541280e-01\n",
            "  -2.81362529e-01 -6.74776615e-01 -9.96329993e-01]\n",
            " [-3.79279835e-01 -2.79816628e-01  7.12126816e-01  1.64922518e-01\n",
            "  -5.00499526e-01 -2.60274825e-01 -8.21906175e-01]\n",
            " [-9.02203087e-01 -8.94801101e-01 -3.65157365e-01  9.39253852e-01\n",
            "  -1.75086945e+00 -1.20770749e+00 -2.69564083e-01]\n",
            " [-9.05784754e-01 -9.47179538e-01 -1.69893778e+00  1.64922518e-01\n",
            "  -1.44149957e+00 -4.67525720e-01 -3.85846629e-01]\n",
            " [-4.88264818e-01 -7.81828002e-01 -1.08334682e+00  4.96778804e-01\n",
            "   1.80688415e+00 -8.22812968e-01 -4.43987901e-01]\n",
            " [-6.02366467e-01 -5.99016986e-01  4.55630582e-01  6.07397566e-01\n",
            "   4.40500519e-01 -2.30667554e-01 -1.53281537e-01]\n",
            " [-5.83434804e-01 -5.99016986e-01 -1.33984305e+00  6.07397566e-01\n",
            "  -1.38993793e+00 -1.26692203e+00 -1.05447127e+00]\n",
            " [-5.83434804e-01 -5.99016986e-01 -1.33984305e+00  6.07397566e-01\n",
            "   1.58774715e+00  2.04909229e+00 -1.05447127e+00]\n",
            " [-7.76844774e-01 -7.81006379e-01 -1.08661132e-01  3.86160042e-01\n",
            "  -1.40282834e+00 -5.85954803e-01 -6.47482356e-01]\n",
            " [-9.45183081e-01 -8.20033450e-01  1.47835102e-01 -6.09408816e-01\n",
            "  -8.09869404e-01 -4.97132991e-01  4.57201827e-01]\n",
            " [ 3.68776716e-01  1.71487750e+00  2.40500196e+00  8.28635090e-01\n",
            "   2.85815580e-01  5.98336025e-01  7.47908191e-01]\n",
            " [-7.09304784e-01 -7.56768514e-01 -3.13858119e-01  1.64922518e-01\n",
            "  -1.13787179e-01 -2.34166595e-02 -4.73058538e-01]\n",
            " [ 6.35355008e-01  4.88195044e-01  1.07122154e+00  1.27111014e+00\n",
            "   9.24594067e-02  3.91085130e-01 -8.21906175e-01]\n",
            " [ 1.30563824e+00  1.23805446e-01 -2.11259625e-01  1.04987261e+00\n",
            "  -1.91129648e-01  6.57550566e-01 -7.63764902e-01]\n",
            " [ 1.24730825e+00  1.11468223e+00  8.66024556e-01  6.07397566e-01\n",
            "   1.39439098e+00  1.27930325e+00  1.15489710e+00]\n",
            " [ 5.77536683e-01  1.82189384e+00  1.32771778e+00 -1.16250263e+00\n",
            "   2.36117184e+00  1.69380504e+00  1.56188601e+00]\n",
            " [-9.27465462e-02 -1.46097559e-01  6.09528323e-01  4.96778804e-01\n",
            "  -1.06638859e-02  1.66419777e+00 -3.56775992e-01]\n",
            " [-5.52223142e-01 -5.09947500e-02  1.89200949e+00  4.96778804e-01\n",
            "   5.95185458e-01  1.48655415e+00  7.76978828e-01]\n",
            " [-1.07584877e-01  1.57081159e-01  1.48161552e+00  1.04987261e+00\n",
            "   7.11199163e-01  6.27943296e-01  2.53707372e-01]\n",
            " [-7.83496439e-01 -8.31741571e-01 -8.26850586e-01 -2.77552530e-01\n",
            "  -1.51884204e+00 -8.52420239e-01 -1.02540063e+00]\n",
            " [-7.83496439e-01  2.16923477e+00 -8.26850586e-01  1.16049138e+00\n",
            "  -2.68472118e-01 -7.33991156e-01 -1.02540063e+00]\n",
            " [-6.58649792e-01 -5.85049403e-01  8.14725309e-01  8.28635090e-01\n",
            "  -7.06746111e-01 -6.45169344e-01 -8.50976811e-01]\n",
            " [-3.56254839e-01 -5.32670966e-01  1.47835102e-01  8.28635090e-01\n",
            "  -3.58704999e-01  1.60498323e+00  8.06049464e-01]\n",
            " [ 2.23431309e+00  1.23936345e+00  9.68623050e-01  2.04544147e+00\n",
            "  -6.29403642e-01 -6.15562073e-01 -1.19982445e+00]\n",
            " [ 2.19370072e-01  1.98313726e+00  2.55889970e+00  3.86160042e-01\n",
            "   1.87133620e+00  1.13126690e+00  1.12582646e+00]\n",
            " [-2.91784849e-01 -5.21989873e-01 -2.62558872e-01  1.64922518e-01\n",
            "  -3.71595410e-01  9.24016002e-01  8.93261373e-01]\n",
            " [ 9.07510465e-03  2.09254190e-01  1.27641853e+00  8.28635090e-01\n",
            "  -2.29800883e-01  1.07205236e+00 -4.14917265e-01]\n",
            " [ 9.07510465e-03  2.09254190e-01  1.94330874e+00  8.28635090e-01\n",
            "   3.88938873e-01  1.07205236e+00 -4.14917265e-01]\n",
            " [-5.40454810e-01 -3.70400513e-01  1.27641853e+00  9.39253852e-01\n",
            "   4.08977604e-02 -2.30667554e-01  6.89766918e-01]\n",
            " [-5.40454810e-01  2.77086787e+00  1.27641853e+00  9.39253852e-01\n",
            "   1.13658274e+00 -2.30667554e-01  6.89766918e-01]\n",
            " [-5.40454810e-01 -6.37838651e-01  1.27641853e+00  2.75541280e-01\n",
            "  -6.22255323e-02 -1.35574384e+00 -1.19982445e+00]\n",
            " [ 1.82907316e+00  1.70563425e+00 -3.13858119e-01 -2.04745272e+00\n",
            "   7.36979986e-01  8.35194190e-01  1.59095665e+00]\n",
            " [ 2.26398976e+00  1.90343987e+00 -3.65157365e-01 -1.93683396e+00\n",
            "   7.36979986e-01  1.22008871e+00  1.59095665e+00]\n",
            " [ 2.98678393e-01  1.90343987e+00  5.06929829e-01 -1.93683396e+00\n",
            "   1.74243209e+00  8.94408732e-01  1.59095665e+00]\n",
            " [ 2.12993311e+00  1.79847759e+00 -2.62558872e-01 -1.71559644e+00\n",
            "   2.47718555e+00  1.87144866e+00  1.59095665e+00]\n",
            " [ 2.48195972e+00  2.05482383e+00 -1.59960378e-01 -1.38374015e+00\n",
            "   1.09791151e+00  1.10165963e+00  1.59095665e+00]\n",
            " [ 2.72755968e+00  2.11028335e+00 -4.67755859e-01 -1.93683396e+00\n",
            "   1.39439098e+00  9.53623273e-01  1.59095665e+00]\n",
            " [-5.48832188e-02  3.78919245e-01  4.55630582e-01 -1.71559644e+00\n",
            "   1.49751427e+00  8.05586920e-01  1.06768519e+00]\n",
            " [ 1.04724661e+00  7.50087229e-01 -2.11259625e-01 -1.27312139e+00\n",
            "   1.05924028e+00  1.84184139e+00  1.56188601e+00]\n",
            " [ 1.30410324e+00  1.24449859e+00 -2.11259625e-01 -1.82621520e+00\n",
            "   9.30336159e-01  5.68728754e-01  1.35839156e+00]\n",
            " [-3.64632216e-02  1.24449859e+00  9.17323803e-01 -1.82621520e+00\n",
            "   1.70376085e+00  5.68728754e-01  1.35839156e+00]\n",
            " [ 2.72448968e+00  1.67482340e+00 -3.13858119e-01 -9.41265102e-01\n",
            "   1.04634986e+00  1.63459050e+00  1.59095665e+00]\n",
            " [ 2.85189466e+00  3.01940869e+00  4.52366085e-02 -1.71559644e+00\n",
            "   1.47173345e+00  1.42733960e+00  1.59095665e+00]\n",
            " [-4.72082200e-02  1.65091979e-01  9.65358552e-02 -1.82621520e+00\n",
            "   6.20966282e-01  1.83834235e-01  5.15343100e-01]\n",
            " [ 7.17221662e-01  1.00232535e+00  3.53032089e-01 -1.38374015e+00\n",
            "   2.22652564e-03  8.35194190e-01  1.24210901e+00]\n",
            " [ 2.78230801e+00  2.09795901e+00 -5.70354352e-01 -2.04745272e+00\n",
            "   8.78774513e-01  8.05586920e-01  1.59095665e+00]\n",
            " [-4.61848868e-02 -1.18984015e-01  5.06929829e-01  2.75541280e-01\n",
            "   3.24486815e-01  9.50124232e-02 -1.82352174e-01]\n",
            " [ 2.69634802e+00  1.70645587e+00 -8.78149833e-01 -2.15807148e+00\n",
            "   9.24594067e-02  1.10165963e+00  1.59095665e+00]\n",
            " [ 4.09710043e-01  1.70645587e+00  3.01732842e-01 -2.15807148e+00\n",
            "   2.34253934e-01  2.04909229e+00  1.59095665e+00]\n",
            " [ 5.09485027e-01 -1.09124545e-01  2.50433595e-01  1.38172890e+00\n",
            "  -3.84485822e-01  5.39121483e-01  1.32932092e+00]\n",
            " [-2.17593194e-01 -3.52324818e-01  4.55630582e-01  7.18016328e-01\n",
            "  -7.51159438e-02  1.83834235e-01  6.02555009e-01]\n",
            " [-1.64891535e-01 -6.21611606e-01 -4.67755859e-01  1.16049138e+00\n",
            "  -1.24814340e+00 -3.78703908e-01  1.37424827e-01]\n",
            " [ 5.97300968e-02 -4.08605962e-01 -1.59960378e-01  9.39253852e-01\n",
            "  -1.14502011e+00 -8.22812968e-01 -3.56775992e-01]\n",
            " [-6.48928127e-01 -7.77719889e-01 -1.23724456e+00 -1.05188386e+00\n",
            "  -1.36415710e+00 -9.70849321e-01 -8.50976811e-01]\n",
            " [-4.78031487e-01 -6.57557592e-01 -1.08661132e-01  9.39253852e-01\n",
            "  -5.00499526e-01 -4.37918449e-01  2.11422810e-02]\n",
            " [ 1.85088411e-01 -3.99157302e-01 -1.08334682e+00 -7.20027578e-01\n",
            "   3.76048461e-01  1.78262685e+00  1.09675583e+00]\n",
            " [ 9.54123292e-01  4.84086931e-01  6.60827569e-01  1.16049138e+00\n",
            "   2.34253934e-01  4.20692401e-01  6.02555009e-01]\n",
            " [ 4.25060040e-01 -2.14703042e-01 -5.73618850e-02  1.16049138e+00\n",
            "  -4.10266645e-01  1.83834235e-01  1.32932092e+00]\n",
            " [ 3.00534347e-02 -4.64963666e-04  8.66024556e-01  8.28635090e-01\n",
            "   1.08502110e+00  1.90105594e+00  8.35120100e-01]\n",
            " [ 1.27289158e+00  1.04702722e-01 -1.08334682e+00 -8.30646340e-01\n",
            "   9.81897806e-01 -5.30239302e-02  1.35839156e+00]\n",
            " [-3.81838168e-01 -6.09698079e-01 -4.67755859e-01  1.64922518e-01\n",
            "  -5.64951584e-01 -8.26312009e-02 -1.53281537e-01]\n",
            " [-2.67224853e-01  1.10864891e-01  1.58421401e+00  7.18016328e-01\n",
            "   7.11199163e-01 -1.41845742e-01  4.86272464e-01]\n",
            " [ 1.44532322e+00  1.04702722e-01 -8.26850586e-01  5.43037559e-02\n",
            "   1.54907592e+00  7.46372378e-01  1.15489710e+00]\n",
            " [ 1.57458415e-01 -1.26994835e-01  4.04331336e-01  8.28635090e-01\n",
            "   4.08977604e-02  2.72656047e-01  5.44413736e-01]\n",
            " [-8.50715474e-02 -1.06659677e-01  7.63426063e-01  6.07397566e-01\n",
            "   8.65884102e-01  5.98336025e-01  6.89766918e-01]\n",
            " [ 2.02996741e-01 -1.06659677e-01 -1.59633929e+00  6.07397566e-01\n",
            "   1.89711703e+00  1.93066321e+00  6.89766918e-01]\n",
            " [-2.11453195e-01 -2.27849002e-01  6.60827569e-01  4.96778804e-01\n",
            "  -7.71198169e-01 -2.30667554e-01  8.93261373e-01]\n",
            " [ 4.83901698e-01 -2.56400386e-01 -3.65157365e-01  7.18016328e-01\n",
            "  -7.32526934e-01  8.35194190e-01  4.86272464e-01]\n",
            " [ 4.40921704e-01 -2.56400386e-01  1.47835102e-01  7.18016328e-01\n",
            "   2.21363523e-01  8.64801461e-01  4.86272464e-01]\n",
            " [ 1.40950655e+00  9.68973076e-02 -1.69893778e+00 -1.82621520e+00\n",
            "  -7.58307758e-01  5.39121483e-01  1.44560346e+00]\n",
            " [ 6.49681672e-01  1.72247751e+00 -6.06263825e-03 -2.77552530e-01\n",
            "   3.76048461e-01  8.64801461e-01  1.62002728e+00]\n",
            " [-7.59959776e-01 -5.88335893e-01  6.60827569e-01 -3.88171292e-01\n",
            "  -4.87609114e-01 -3.19489366e-01 -1.53281537e-01]\n",
            " [-2.98436514e-01 -5.09254723e-01 -3.65157365e-01 -1.66933768e-01\n",
            "  -1.91129648e-01 -1.08927840e+00 -4.43987901e-01]]\n"
          ],
          "name": "stdout"
        }
      ]
    },
    {
      "cell_type": "code",
      "metadata": {
        "id": "rJ9cbhglwPbq",
        "outputId": "a2532394-c6f9-4a1f-88b3-baad0e1d4a58",
        "colab": {
          "base_uri": "https://localhost:8080/",
          "height": 1000
        }
      },
      "source": [
        "#normalizacion\n",
        "from sklearn import preprocessing\n",
        "data = df_out2.iloc[:,[3,4,5,6,7,8,9]].values #normalizar antes de seguir\n",
        "datanorm = (data-data.min())/(data.max()-data.min())\n",
        "print(datanorm)\n",
        "\n"
      ],
      "execution_count": 134,
      "outputs": [
        {
          "output_type": "stream",
          "text": [
            "[[0.47575825 0.44106051 0.51829059 0.53325535 0.61143219 0.42917025\n",
            "  0.2882083 ]\n",
            " [0.39440649 0.3245541  0.15457789 0.43521919 0.19330794 0.28747685\n",
            "  0.26244437]\n",
            " [0.35159931 0.32091328 0.28187734 0.49404089 0.30754954 0.28747685\n",
            "  0.26244437]\n",
            " [0.33736049 0.41557473 0.86381765 0.65089874 0.70739513 0.34520379\n",
            "  0.26244437]\n",
            " [0.29836243 0.31312191 0.34552706 0.19993242 0.35096134 0.2140062\n",
            "  0.24698602]\n",
            " [0.31885908 0.30605871 0.19094916 0.35679027 0.17731412 0.2140062\n",
            "  0.30881944]\n",
            " [0.33101197 0.36165411 0.60012594 0.43521919 0.35324618 0.37144331\n",
            "  0.33458336]\n",
            " [0.32638662 0.31064615 0.21822762 0.35679027 0.30069504 0.26648524\n",
            "  0.27274994]\n",
            " [0.33273514 0.29874065 0.         0.39600473 0.21844109 0.2140062\n",
            "  0.26759716]\n",
            " [0.34189515 0.37745529 0.64559003 0.49404089 0.71881929 0.39243493\n",
            "  0.31912501]\n",
            " [0.33264444 0.36056186 0.62740439 0.51364812 0.43321529 0.56036784\n",
            "  0.37065285]\n",
            " [0.2987252  0.30405626 0.33643424 0.47443366 0.18416861 0.25074153\n",
            "  0.31397222]\n",
            " [0.36892171 0.47670419 0.71833257 0.29796858 0.56573555 0.32946008\n",
            "  0.31397222]\n",
            " [0.32284958 0.47670419 0.40917678 0.29796858 0.47434227 0.27173314\n",
            "  0.31397222]\n",
            " [0.34189515 0.30838884 0.17276353 0.47443366 0.26870739 0.43966606\n",
            "  0.37580564]\n",
            " [0.31804285 0.31355881 0.28187734 0.33718304 0.30983437 0.43966606\n",
            "  0.27274994]\n",
            " [0.37608647 0.3439597  0.54556904 0.86657828 0.34410685 0.31371637\n",
            "  0.26244437]\n",
            " [0.33600009 0.33030661 0.51829059 0.6901132  0.45834845 0.31896428\n",
            "  0.33973615]\n",
            " [0.2894745  0.33591348 0.70014693 0.39600473 0.34867651 0.29797266\n",
            "  0.33973615]\n",
            " [0.32865395 0.31628943 0.38189833 0.61168428 0.55202656 0.32421218\n",
            "  0.28305551]\n",
            " [0.35867338 0.31741808 0.2091348  0.45482643 0.22301076 0.32946008\n",
            "  0.49431969]\n",
            " [0.29165114 0.31188403 0.51829059 0.49404089 0.3623855  0.22450201\n",
            "  0.36550007]\n",
            " [0.31722661 0.3077699  0.27278452 0.45482643 0.22758042 0.24549362\n",
            "  0.2521388 ]\n",
            " [0.32085433 0.3197118  0.38189833 0.45482643 0.64570467 0.24549362\n",
            "  0.26244437]\n",
            " [0.42932335 0.38994332 0.46373368 0.53325535 0.45149395 0.57611155\n",
            "  0.26244437]\n",
            " [0.3437997  0.36740662 0.60921876 0.51364812 0.25042874 0.38193912\n",
            "  0.30881944]\n",
            " [0.37917004 0.31960258 0.2091348  0.55286258 0.20016244 0.22974991\n",
            "  0.29336108]\n",
            " [0.29926936 0.31253938 0.48191932 0.53325535 0.29612538 0.21925411\n",
            "  0.24183323]\n",
            " [0.34606703 0.32510023 0.33643424 0.49404089 0.33496752 0.31371637\n",
            "  0.31397222]\n",
            " [0.2921046  0.30726018 0.49101214 0.57246981 0.24128941 0.2140062\n",
            "  0.31912501]\n",
            " [0.37663063 0.334712   0.30915579 0.47443366 0.28013155 0.28222895\n",
            "  0.26759716]\n",
            " [0.29672995 0.31122868 0.39099114 0.33718304 0.30983437 0.28222895\n",
            "  0.27274994]\n",
            " [0.33210029 0.30584026 0.24550607 0.63129151 0.3760945  0.25074153\n",
            "  0.24698602]\n",
            " [0.68281074 0.53910793 0.43645523 0.47443366 0.55431139 0.3504517\n",
            "  0.53038919]\n",
            " [0.36411497 0.3197118  0.24550607 0.53325535 0.3623855  0.29797266\n",
            "  0.30366665]\n",
            " [0.32448206 0.3197118  0.7365182  0.53325535 0.46520294 0.38718702\n",
            "  0.30366665]\n",
            " [0.28512123 0.3077699  0.56375467 0.59207704 0.47205744 0.21925411\n",
            "  0.2882083 ]\n",
            " [0.32085433 0.31752731 0.39099114 0.51364812 0.41493664 0.34520379\n",
            "  0.2882083 ]\n",
            " [0.39758075 0.41521065 0.59103313 0.49404089 0.3760945  0.41867445\n",
            "  0.31912501]\n",
            " [0.30489234 0.30620434 0.40008396 0.63129151 0.1544658  0.25074153\n",
            "  0.41702792]\n",
            " [0.30425749 0.29692024 0.16367071 0.49404089 0.20930176 0.38193912\n",
            "  0.39641678]\n",
            " [0.3782631  0.32622888 0.27278452 0.55286258 0.78507941 0.31896428\n",
            "  0.38611121]\n",
            " [0.35803853 0.35863223 0.54556904 0.57246981 0.54288723 0.42392235\n",
            "  0.43763906]\n",
            " [0.36139418 0.35863223 0.22732043 0.57246981 0.21844109 0.24024572\n",
            "  0.27790273]\n",
            " [0.36139418 0.35863223 0.22732043 0.57246981 0.74623727 0.82801093\n",
            "  0.27790273]\n",
            " [0.32711216 0.32637451 0.44554805 0.53325535 0.21615626 0.36094751\n",
            "  0.35004172]\n",
            " [0.29727411 0.31945695 0.49101214 0.35679027 0.32125853 0.37669122\n",
            "  0.54584754]\n",
            " [0.53017415 0.76877119 0.8910961  0.61168428 0.51546924 0.57086365\n",
            "  0.59737539]\n",
            " [0.33908366 0.33067069 0.40917678 0.49404089 0.44463945 0.46065767\n",
            "  0.38095842]\n",
            " [0.57742528 0.55134111 0.65468285 0.6901132  0.48119677 0.53412833\n",
            "  0.31912501]\n",
            " [0.69623332 0.48675287 0.42736241 0.65089874 0.43093046 0.58135946\n",
            "  0.32943058]\n",
            " [0.6858943  0.66238628 0.61831158 0.57246981 0.71196479 0.69156543\n",
            "  0.66951438]\n",
            " [0.56717696 0.78773989 0.70014693 0.25875411 0.88332719 0.76503609\n",
            "  0.74165337]\n",
            " [0.44836892 0.43891242 0.57284749 0.55286258 0.46291811 0.75978818\n",
            "  0.40156956]\n",
            " [0.36692646 0.45576944 0.80016792 0.55286258 0.57030521 0.72830076\n",
            "  0.60252818]\n",
            " [0.44573882 0.492651   0.72742539 0.65089874 0.5908687  0.57611155\n",
            "  0.50977805]\n",
            " [0.32593315 0.31738168 0.31824861 0.41561196 0.19559277 0.31371637\n",
            "  0.28305551]\n",
            " [0.32593315 0.84930624 0.31824861 0.67050597 0.41722147 0.33470799\n",
            "  0.28305551]\n",
            " [0.34806228 0.36110799 0.60921876 0.61168428 0.33953718 0.3504517\n",
            "  0.31397222]\n",
            " [0.40166194 0.37039209 0.49101214 0.61168428 0.40122765 0.74929237\n",
            "  0.60768096]\n",
            " [0.86084141 0.68448609 0.63649721 0.82736382 0.35324618 0.3556996\n",
            "  0.2521388 ]\n",
            " [0.50369174 0.81632037 0.91837455 0.53325535 0.79650357 0.66532592\n",
            "  0.6643616 ]\n",
            " [0.41308928 0.37228532 0.4182696  0.49404089 0.39894282 0.62859059\n",
            "  0.62313932]\n",
            " [0.46641686 0.5018987  0.69105412 0.61168428 0.42407597 0.65483011\n",
            "  0.39126399]\n",
            " [0.46641686 0.5018987  0.80926074 0.61168428 0.5337479  0.65483011\n",
            "  0.39126399]\n",
            " [0.3690124  0.39915461 0.69105412 0.63129151 0.47205744 0.42392235\n",
            "  0.58706982]\n",
            " [0.3690124  0.95594601 0.69105412 0.63129151 0.66626815 0.42392235\n",
            "  0.58706982]\n",
            " [0.3690124  0.35175107 0.69105412 0.51364812 0.45377878 0.22450201\n",
            "  0.2521388 ]\n",
            " [0.78901243 0.76713282 0.40917678 0.10189626 0.59543836 0.61284688\n",
            "  0.74680616]\n",
            " [0.86610161 0.80219396 0.40008396 0.12150349 0.59543836 0.68106963\n",
            "  0.74680616]\n",
            " [0.51774918 0.80219396 0.55466186 0.12150349 0.77365525 0.62334269\n",
            "  0.74680616]\n",
            " [0.84234001 0.78358935 0.4182696  0.16071796 0.90389067 0.79652351\n",
            "  0.74680616]\n",
            " [0.9047369  0.82902685 0.43645523 0.21953965 0.65941366 0.66007801\n",
            "  0.74680616]\n",
            " [0.94826962 0.83885708 0.38189833 0.12150349 0.71196479 0.63383849\n",
            "  0.74680616]\n",
            " [0.45508021 0.53197192 0.54556904 0.16071796 0.73024345 0.60759898\n",
            "  0.65405603]\n",
            " [0.65043328 0.59776163 0.42736241 0.23914688 0.65255916 0.7912756\n",
            "  0.74165337]\n",
            " [0.69596124 0.68539629 0.42736241 0.14111073 0.62971084 0.56561575\n",
            "  0.70558388]\n",
            " [0.45834516 0.68539629 0.62740439 0.14111073 0.76680076 0.56561575\n",
            "  0.70558388]\n",
            " [0.94772546 0.76167158 0.40917678 0.29796858 0.65027433 0.75454028\n",
            "  0.74680616]\n",
            " [0.97030805 1.         0.4728265  0.16071796 0.72567378 0.71780495\n",
            "  0.74680616]\n",
            " [0.45644061 0.49407093 0.48191932 0.14111073 0.57487487 0.497393\n",
            "  0.55615311]\n",
            " [0.59193619 0.64247096 0.5273834  0.21953965 0.46520294 0.61284688\n",
            "  0.68497274]\n",
            " [0.95797378 0.83667258 0.36371269 0.10189626 0.62057151 0.60759898\n",
            "  0.74680616]\n",
            " [0.45662199 0.44371831 0.55466186 0.51364812 0.52232374 0.48164929\n",
            "  0.43248627]\n",
            " [0.94273733 0.76727845 0.30915579 0.08228903 0.48119677 0.66007801\n",
            "  0.74680616]\n",
            " [0.5374296  0.76727845 0.51829059 0.08228903 0.50632992 0.82801093\n",
            "  0.74680616]\n",
            " [0.55511477 0.44546591 0.50919777 0.70972043 0.39665798 0.56036784\n",
            "  0.70043109]\n",
            " [0.42623979 0.40235854 0.54556904 0.59207704 0.45149395 0.497393\n",
            "  0.57161147]\n",
            " [0.43558118 0.35462732 0.38189833 0.67050597 0.24357424 0.39768283\n",
            "  0.48916691]\n",
            " [0.47539548 0.39238268 0.43645523 0.63129151 0.2618529  0.31896428\n",
            "  0.40156956]\n",
            " [0.34978545 0.32695705 0.24550607 0.27836134 0.22301076 0.29272476\n",
            "  0.31397222]\n",
            " [0.38007697 0.34825587 0.44554805 0.63129151 0.3760945  0.38718702\n",
            "  0.46855577]\n",
            " [0.4976153  0.39405746 0.27278452 0.33718304 0.53146307 0.7807798\n",
            "  0.65920881]\n",
            " [0.63392712 0.55061294 0.58194031 0.67050597 0.50632992 0.53937623\n",
            "  0.57161147]\n",
            " [0.5401504  0.42675207 0.45464087 0.67050597 0.39208832 0.497393\n",
            "  0.70043109]\n",
            " [0.47013528 0.46472587 0.61831158 0.61168428 0.65712882 0.80177141\n",
            "  0.61283375]\n",
            " [0.69042896 0.4833669  0.27278452 0.31757581 0.63885017 0.45540977\n",
            "  0.70558388]\n",
            " [0.39712728 0.356739   0.38189833 0.49404089 0.36467034 0.45016187\n",
            "  0.43763906]\n",
            " [0.41744255 0.48445915 0.74561102 0.59207704 0.5908687  0.43966606\n",
            "  0.55100033]\n",
            " [0.72099256 0.4833669  0.31824861 0.47443366 0.73938277 0.59710317\n",
            "  0.66951438]\n",
            " [0.49271787 0.44229839 0.53647622 0.61168428 0.47205744 0.51313671\n",
            "  0.5613059 ]\n",
            " [0.44972931 0.44590281 0.60012594 0.57246981 0.61828668 0.57086365\n",
            "  0.58706982]\n",
            " [0.50078956 0.44590281 0.18185635 0.57246981 0.80107324 0.80701931\n",
            "  0.58706982]\n",
            " [0.4273281  0.42442194 0.58194031 0.55286258 0.32811303 0.42392235\n",
            "  0.62313932]\n",
            " [0.55058011 0.41936119 0.40008396 0.59207704 0.33496752 0.61284688\n",
            "  0.55100033]\n",
            " [0.54296188 0.41936119 0.49101214 0.59207704 0.50404508 0.61809478\n",
            "  0.55100033]\n",
            " [0.71464404 0.48198339 0.16367071 0.14111073 0.33039786 0.56036784\n",
            "  0.72104223]\n",
            " [0.57996469 0.77011829 0.46373368 0.41561196 0.53146307 0.61809478\n",
            "  0.75195894]\n",
            " [0.33010504 0.36052546 0.58194031 0.39600473 0.37837933 0.40817864\n",
            "  0.43763906]\n",
            " [0.41191027 0.37454263 0.40008396 0.43521919 0.43093046 0.27173314\n",
            "  0.38611121]]\n"
          ],
          "name": "stdout"
        }
      ]
    },
    {
      "cell_type": "code",
      "metadata": {
        "id": "SDt2_PSzOHc_"
      },
      "source": [
        "#algortimo aglomerativo jerarquico - dendrogramas\n",
        "import scipy.cluster.hierarchy as sch\n",
        "from matplotlib import pyplot as plt\n",
        "\n",
        "#datos=df_out2.iloc[:,[3,4,5,6,7,8]].values\n",
        "#datos\n"
      ],
      "execution_count": 135,
      "outputs": []
    },
    {
      "cell_type": "code",
      "metadata": {
        "id": "vcXRjrozVbj9"
      },
      "source": [
        "clustering_jerarquico= sch.linkage(datanorm, 'ward')"
      ],
      "execution_count": 136,
      "outputs": []
    },
    {
      "cell_type": "code",
      "metadata": {
        "id": "NyWOYmSUVzGl",
        "outputId": "1264c015-6004-41d2-9d1f-a0e3fa570a60",
        "colab": {
          "base_uri": "https://localhost:8080/",
          "height": 265
        }
      },
      "source": [
        "dendrogram=sch.dendrogram(clustering_jerarquico)"
      ],
      "execution_count": 137,
      "outputs": [
        {
          "output_type": "display_data",
          "data": {
            "image/png": "[encoded data removed]",
            "text/plain": [
              "<Figure size 432x288 with 1 Axes>"
            ]
          },
          "metadata": {
            "tags": [],
            "needs_background": "light"
          }
        }
      ]
    },
    {
      "cell_type": "code",
      "metadata": {
        "id": "UY_c3gf74yhz"
      },
      "source": [
        "#realizo el corte en 1\n",
        "from scipy.cluster.hierarchy import fcluster\n",
        "clusters = fcluster(clustering_jerarquico, t=1, criterion='distance')"
      ],
      "execution_count": 138,
      "outputs": []
    },
    {
      "cell_type": "code",
      "metadata": {
        "id": "1GedOQfF8qWL",
        "outputId": "71eae730-04c9-4fc5-baf5-a27a3c664c69",
        "colab": {
          "base_uri": "https://localhost:8080/",
          "height": 67
        }
      },
      "source": [
        "print(clusters)"
      ],
      "execution_count": 139,
      "outputs": [
        {
          "output_type": "stream",
          "text": [
            "[5 1 1 2 1 1 2 1 1 2 5 1 2 2 1 1 2 2 2 2 1 2 1 2 5 2 1 2 1 2 1 1 1 8 1 2 2\n",
            " 2 2 2 1 2 5 1 8 2 2 3 2 5 5 3 7 5 3 3 1 5 2 4 5 3 4 5 5 4 3 2 6 6 7 6 6 6\n",
            " 7 7 7 7 6 6 7 7 6 5 6 7 4 4 2 2 1 2 4 4 4 3 8 2 3 8 4 3 8 4 4 4 8 7 2 2]\n"
          ],
          "name": "stdout"
        }
      ]
    },
    {
      "cell_type": "code",
      "metadata": {
        "id": "TIZKQGWz9a-4",
        "outputId": "b56ed55f-4e2c-4480-beca-9dda747efcc8",
        "colab": {
          "base_uri": "https://localhost:8080/",
          "height": 118
        }
      },
      "source": [
        "df_out2['clustering jerarquico']=clusters"
      ],
      "execution_count": 140,
      "outputs": [
        {
          "output_type": "stream",
          "text": [
            "/usr/local/lib/python3.6/dist-packages/ipykernel_launcher.py:1: SettingWithCopyWarning: \n",
            "A value is trying to be set on a copy of a slice from a DataFrame.\n",
            "Try using .loc[row_indexer,col_indexer] = value instead\n",
            "\n",
            "See the caveats in the documentation: https://pandas.pydata.org/pandas-docs/stable/user_guide/indexing.html#returning-a-view-versus-a-copy\n",
            "  \"\"\"Entry point for launching an IPython kernel.\n"
          ],
          "name": "stderr"
        }
      ]
    },
    {
      "cell_type": "code",
      "metadata": {
        "id": "ZPXoSEx9-9sb",
        "outputId": "21e58373-70b2-4f65-8aa8-bea0621a235c",
        "colab": {
          "base_uri": "https://localhost:8080/",
          "height": 343
        }
      },
      "source": [
        "df_out2.head(10)"
      ],
      "execution_count": 34,
      "outputs": [
        {
          "output_type": "execute_result",
          "data": {
            "text/html": [
              "<div>\n",
              "<style scoped>\n",
              "    .dataframe tbody tr th:only-of-type {\n",
              "        vertical-align: middle;\n",
              "    }\n",
              "\n",
              "    .dataframe tbody tr th {\n",
              "        vertical-align: top;\n",
              "    }\n",
              "\n",
              "    .dataframe thead th {\n",
              "        text-align: right;\n",
              "    }\n",
              "</style>\n",
              "<table border=\"1\" class=\"dataframe\">\n",
              "  <thead>\n",
              "    <tr style=\"text-align: right;\">\n",
              "      <th></th>\n",
              "      <th>oil</th>\n",
              "      <th>inter</th>\n",
              "      <th>oecd</th>\n",
              "      <th>gdp60</th>\n",
              "      <th>gdp85</th>\n",
              "      <th>gdpgrowth</th>\n",
              "      <th>popgrowth</th>\n",
              "      <th>invest</th>\n",
              "      <th>school</th>\n",
              "      <th>literacy60</th>\n",
              "      <th>clustering jerarquico</th>\n",
              "    </tr>\n",
              "  </thead>\n",
              "  <tbody>\n",
              "    <tr>\n",
              "      <th>0</th>\n",
              "      <td>no</td>\n",
              "      <td>yes</td>\n",
              "      <td>no</td>\n",
              "      <td>2485.0</td>\n",
              "      <td>4371.0</td>\n",
              "      <td>4.8</td>\n",
              "      <td>2.6</td>\n",
              "      <td>24.1</td>\n",
              "      <td>4.5</td>\n",
              "      <td>10.0</td>\n",
              "      <td>2</td>\n",
              "    </tr>\n",
              "    <tr>\n",
              "      <th>1</th>\n",
              "      <td>no</td>\n",
              "      <td>no</td>\n",
              "      <td>no</td>\n",
              "      <td>1588.0</td>\n",
              "      <td>1171.0</td>\n",
              "      <td>0.8</td>\n",
              "      <td>2.1</td>\n",
              "      <td>5.8</td>\n",
              "      <td>1.8</td>\n",
              "      <td>5.0</td>\n",
              "      <td>3</td>\n",
              "    </tr>\n",
              "    <tr>\n",
              "      <th>2</th>\n",
              "      <td>no</td>\n",
              "      <td>no</td>\n",
              "      <td>no</td>\n",
              "      <td>1116.0</td>\n",
              "      <td>1071.0</td>\n",
              "      <td>2.2</td>\n",
              "      <td>2.4</td>\n",
              "      <td>10.8</td>\n",
              "      <td>1.8</td>\n",
              "      <td>5.0</td>\n",
              "      <td>3</td>\n",
              "    </tr>\n",
              "    <tr>\n",
              "      <th>3</th>\n",
              "      <td>no</td>\n",
              "      <td>yes</td>\n",
              "      <td>no</td>\n",
              "      <td>959.0</td>\n",
              "      <td>3671.0</td>\n",
              "      <td>8.6</td>\n",
              "      <td>3.2</td>\n",
              "      <td>28.3</td>\n",
              "      <td>2.9</td>\n",
              "      <td>5.0</td>\n",
              "      <td>3</td>\n",
              "    </tr>\n",
              "    <tr>\n",
              "      <th>4</th>\n",
              "      <td>no</td>\n",
              "      <td>no</td>\n",
              "      <td>no</td>\n",
              "      <td>529.0</td>\n",
              "      <td>857.0</td>\n",
              "      <td>2.9</td>\n",
              "      <td>0.9</td>\n",
              "      <td>12.7</td>\n",
              "      <td>0.4</td>\n",
              "      <td>2.0</td>\n",
              "      <td>3</td>\n",
              "    </tr>\n",
              "    <tr>\n",
              "      <th>5</th>\n",
              "      <td>no</td>\n",
              "      <td>no</td>\n",
              "      <td>no</td>\n",
              "      <td>755.0</td>\n",
              "      <td>663.0</td>\n",
              "      <td>1.2</td>\n",
              "      <td>1.7</td>\n",
              "      <td>5.1</td>\n",
              "      <td>0.4</td>\n",
              "      <td>14.0</td>\n",
              "      <td>3</td>\n",
              "    </tr>\n",
              "    <tr>\n",
              "      <th>6</th>\n",
              "      <td>no</td>\n",
              "      <td>yes</td>\n",
              "      <td>no</td>\n",
              "      <td>889.0</td>\n",
              "      <td>2190.0</td>\n",
              "      <td>5.7</td>\n",
              "      <td>2.1</td>\n",
              "      <td>12.8</td>\n",
              "      <td>3.4</td>\n",
              "      <td>19.0</td>\n",
              "      <td>3</td>\n",
              "    </tr>\n",
              "    <tr>\n",
              "      <th>7</th>\n",
              "      <td>no</td>\n",
              "      <td>no</td>\n",
              "      <td>no</td>\n",
              "      <td>838.0</td>\n",
              "      <td>789.0</td>\n",
              "      <td>1.5</td>\n",
              "      <td>1.7</td>\n",
              "      <td>10.5</td>\n",
              "      <td>1.4</td>\n",
              "      <td>7.0</td>\n",
              "      <td>3</td>\n",
              "    </tr>\n",
              "    <tr>\n",
              "      <th>8</th>\n",
              "      <td>no</td>\n",
              "      <td>no</td>\n",
              "      <td>no</td>\n",
              "      <td>908.0</td>\n",
              "      <td>462.0</td>\n",
              "      <td>-0.9</td>\n",
              "      <td>1.9</td>\n",
              "      <td>6.9</td>\n",
              "      <td>0.4</td>\n",
              "      <td>6.0</td>\n",
              "      <td>3</td>\n",
              "    </tr>\n",
              "    <tr>\n",
              "      <th>9</th>\n",
              "      <td>no</td>\n",
              "      <td>no</td>\n",
              "      <td>no</td>\n",
              "      <td>1009.0</td>\n",
              "      <td>2624.0</td>\n",
              "      <td>6.2</td>\n",
              "      <td>2.4</td>\n",
              "      <td>28.8</td>\n",
              "      <td>3.8</td>\n",
              "      <td>16.0</td>\n",
              "      <td>3</td>\n",
              "    </tr>\n",
              "  </tbody>\n",
              "</table>\n",
              "</div>"
            ],
            "text/plain": [
              "  oil inter oecd   gdp60   gdp85  gdpgrowth  popgrowth  invest  school  \\\n",
              "0  no   yes   no  2485.0  4371.0        4.8        2.6    24.1     4.5   \n",
              "1  no    no   no  1588.0  1171.0        0.8        2.1     5.8     1.8   \n",
              "2  no    no   no  1116.0  1071.0        2.2        2.4    10.8     1.8   \n",
              "3  no   yes   no   959.0  3671.0        8.6        3.2    28.3     2.9   \n",
              "4  no    no   no   529.0   857.0        2.9        0.9    12.7     0.4   \n",
              "5  no    no   no   755.0   663.0        1.2        1.7     5.1     0.4   \n",
              "6  no   yes   no   889.0  2190.0        5.7        2.1    12.8     3.4   \n",
              "7  no    no   no   838.0   789.0        1.5        1.7    10.5     1.4   \n",
              "8  no    no   no   908.0   462.0       -0.9        1.9     6.9     0.4   \n",
              "9  no    no   no  1009.0  2624.0        6.2        2.4    28.8     3.8   \n",
              "\n",
              "   literacy60  clustering jerarquico  \n",
              "0        10.0                      2  \n",
              "1         5.0                      3  \n",
              "2         5.0                      3  \n",
              "3         5.0                      3  \n",
              "4         2.0                      3  \n",
              "5        14.0                      3  \n",
              "6        19.0                      3  \n",
              "7         7.0                      3  \n",
              "8         6.0                      3  \n",
              "9        16.0                      3  "
            ]
          },
          "metadata": {
            "tags": []
          },
          "execution_count": 34
        }
      ]
    },
    {
      "cell_type": "code",
      "metadata": {
        "id": "oaUq8x-N0N4h",
        "outputId": "fcf20044-d045-440e-cfa6-bf9a2efb89be",
        "colab": {
          "base_uri": "https://localhost:8080/",
          "height": 67
        }
      },
      "source": [
        "from sklearn.cluster import AgglomerativeClustering\n",
        " \n",
        "cluster = AgglomerativeClustering(n_clusters=3, affinity='euclidean', linkage='ward')  \n",
        "categorias = cluster.fit_predict(data)\n",
        "print(categorias)"
      ],
      "execution_count": 35,
      "outputs": [
        {
          "output_type": "stream",
          "text": [
            "[2 1 1 1 1 1 1 1 1 1 1 1 2 2 1 1 1 1 1 1 1 1 1 1 1 1 1 1 1 1 1 1 1 2 1 1 1\n",
            " 1 1 1 1 1 1 1 1 1 1 0 1 2 2 0 0 2 2 2 1 0 1 1 0 0 1 2 2 1 0 1 0 0 0 0 0 0\n",
            " 2 0 0 0 0 0 2 0 0 2 0 0 2 1 1 1 1 1 1 2 2 2 2 1 2 2 2 2 2 1 2 2 2 0 1 1]\n"
          ],
          "name": "stdout"
        }
      ]
    },
    {
      "cell_type": "code",
      "metadata": {
        "id": "gYxMmn7JeVuq",
        "outputId": "42f9ae11-3412-4833-a761-89b326f7b225",
        "colab": {
          "base_uri": "https://localhost:8080/",
          "height": 195
        }
      },
      "source": [
        "x=datanorm[:,1]\n",
        "y=datanorm[:,7]\n",
        "print(y)"
      ],
      "execution_count": 157,
      "outputs": [
        {
          "output_type": "error",
          "ename": "IndexError",
          "evalue": "ignored",
          "traceback": [
            "\u001b[0;31m---------------------------------------------------------------------------\u001b[0m",
            "\u001b[0;31mIndexError\u001b[0m                                Traceback (most recent call last)",
            "\u001b[0;32m<ipython-input-157-4dc4fb9935ba>\u001b[0m in \u001b[0;36m<module>\u001b[0;34m()\u001b[0m\n\u001b[1;32m      1\u001b[0m \u001b[0mx\u001b[0m\u001b[0;34m=\u001b[0m\u001b[0mdatanorm\u001b[0m\u001b[0;34m[\u001b[0m\u001b[0;34m:\u001b[0m\u001b[0;34m,\u001b[0m\u001b[0;36m1\u001b[0m\u001b[0;34m]\u001b[0m\u001b[0;34m\u001b[0m\u001b[0;34m\u001b[0m\u001b[0m\n\u001b[0;32m----> 2\u001b[0;31m \u001b[0my\u001b[0m\u001b[0;34m=\u001b[0m\u001b[0mdatanorm\u001b[0m\u001b[0;34m[\u001b[0m\u001b[0;34m:\u001b[0m\u001b[0;34m,\u001b[0m\u001b[0;36m7\u001b[0m\u001b[0;34m]\u001b[0m\u001b[0;34m\u001b[0m\u001b[0;34m\u001b[0m\u001b[0m\n\u001b[0m\u001b[1;32m      3\u001b[0m \u001b[0mprint\u001b[0m\u001b[0;34m(\u001b[0m\u001b[0my\u001b[0m\u001b[0;34m)\u001b[0m\u001b[0;34m\u001b[0m\u001b[0;34m\u001b[0m\u001b[0m\n",
            "\u001b[0;31mIndexError\u001b[0m: index 7 is out of bounds for axis 1 with size 7"
          ]
        }
      ]
    },
    {
      "cell_type": "code",
      "metadata": {
        "id": "TeaZkqJEjw2l",
        "outputId": "a3510474-22d3-4e18-cfae-0213ea85b87a",
        "colab": {
          "base_uri": "https://localhost:8080/",
          "height": 229
        }
      },
      "source": [
        "#Regresion lineal\n",
        "import sklearn.linear_model\n",
        "from sklearn.linear_model import LinearRegression\n",
        "\n",
        "\n",
        "fig=plt.figure(figsize=(14,14))\n",
        "df_out3=df_out2#.sort_values(x)\n",
        "\n",
        "from sklearn import preprocessing\n",
        "data = df_out3.iloc[:,[3,4,5,6,7,8,9]].values #normalizar antes de seguir\n",
        "datanorm = (data-data.min())/(data.max()-data.min())\n",
        "\n",
        "plt.scatter(x,y)\n",
        "plt.plot(df_out3[x],y_pred, color='red')\n",
        "plt.xlabel('PBI 1960')\n",
        "plt.ylabel('Fraction of the population over 15 years old that is able to read and write in 1960 (in percent).')\n",
        "plt.show()\n",
        "\n",
        "\n",
        "#plt.grid()\n"
      ],
      "execution_count": 144,
      "outputs": [
        {
          "output_type": "error",
          "ename": "IndexError",
          "evalue": "ignored",
          "traceback": [
            "\u001b[0;31m---------------------------------------------------------------------------\u001b[0m",
            "\u001b[0;31mIndexError\u001b[0m                                Traceback (most recent call last)",
            "\u001b[0;32m<ipython-input-144-d1f7271075b6>\u001b[0m in \u001b[0;36m<module>\u001b[0;34m()\u001b[0m\n\u001b[1;32m      3\u001b[0m \u001b[0;32mfrom\u001b[0m \u001b[0msklearn\u001b[0m\u001b[0;34m.\u001b[0m\u001b[0mlinear_model\u001b[0m \u001b[0;32mimport\u001b[0m \u001b[0mLinearRegression\u001b[0m\u001b[0;34m\u001b[0m\u001b[0;34m\u001b[0m\u001b[0m\n\u001b[1;32m      4\u001b[0m \u001b[0mmodelo\u001b[0m \u001b[0;34m=\u001b[0m \u001b[0msklearn\u001b[0m\u001b[0;34m.\u001b[0m\u001b[0mlinear_model\u001b[0m\u001b[0;34m.\u001b[0m\u001b[0mLinearRegression\u001b[0m\u001b[0;34m(\u001b[0m\u001b[0;34m)\u001b[0m\u001b[0;34m\u001b[0m\u001b[0;34m\u001b[0m\u001b[0m\n\u001b[0;32m----> 5\u001b[0;31m \u001b[0mx\u001b[0m\u001b[0;34m=\u001b[0m\u001b[0mdatanorm\u001b[0m\u001b[0;34m[\u001b[0m\u001b[0;34m'gdp60'\u001b[0m\u001b[0;34m]\u001b[0m\u001b[0;34m\u001b[0m\u001b[0;34m\u001b[0m\u001b[0m\n\u001b[0m\u001b[1;32m      6\u001b[0m \u001b[0my\u001b[0m\u001b[0;34m=\u001b[0m\u001b[0mdatanorm\u001b[0m\u001b[0;34m[\u001b[0m\u001b[0;34m'literacy60'\u001b[0m\u001b[0;34m]\u001b[0m\u001b[0;34m\u001b[0m\u001b[0;34m\u001b[0m\u001b[0m\n\u001b[1;32m      7\u001b[0m \u001b[0meje_x\u001b[0m\u001b[0;34m=\u001b[0m\u001b[0mlist\u001b[0m\u001b[0;34m(\u001b[0m\u001b[0mrange\u001b[0m\u001b[0;34m(\u001b[0m\u001b[0mx\u001b[0m\u001b[0;34m.\u001b[0m\u001b[0mshape\u001b[0m\u001b[0;34m[\u001b[0m\u001b[0;36m0\u001b[0m\u001b[0;34m]\u001b[0m\u001b[0;34m)\u001b[0m\u001b[0;34m)\u001b[0m\u001b[0;34m\u001b[0m\u001b[0;34m\u001b[0m\u001b[0m\n",
            "\u001b[0;31mIndexError\u001b[0m: only integers, slices (`:`), ellipsis (`...`), numpy.newaxis (`None`) and integer or boolean arrays are valid indices"
          ]
        }
      ]
    },
    {
      "cell_type": "code",
      "metadata": {
        "id": "_EUSos2nppN3",
        "outputId": "3c00574a-094c-4f71-9f6b-9af7ff696259",
        "colab": {
          "base_uri": "https://localhost:8080/",
          "height": 823
        }
      },
      "source": [
        "fig = plt.figure(figsize=(14,14))\n",
        "plt.scatter(df_out2['gdp60'],df_out2['literacy60'])\n",
        "#plt.plot(df_out2['gdp60'],df_out2['literacy60'])\n",
        "plt.plot(x, y_pred, color='red', label=label)\n",
        "plt.xlabel('PBI en 1960')\n",
        "plt.ylabel('personas que saben leer y escribir en 1960')\n",
        "plt.grid()"
      ],
      "execution_count": 169,
      "outputs": [
        {
          "output_type": "display_data",
          "data": {
            "image/png": "[encoded data removed]",
            "text/plain": [
              "<Figure size 1008x1008 with 1 Axes>"
            ]
          },
          "metadata": {
            "tags": [],
            "needs_background": "light"
          }
        }
      ]
    },
    {
      "cell_type": "code",
      "metadata": {
        "id": "Dy-_gov0p_vc",
        "outputId": "7e2b16ab-94d6-4ab9-b60e-93a2966e4958",
        "colab": {
          "base_uri": "https://localhost:8080/",
          "height": 1000
        }
      },
      "source": [
        "x=df_out2['gdp60'].values.reshape(-1,1)\n",
        "y=df_out2['literacy60'].values.reshape(-1,1)\n",
        "linear_regressor=LinearRegression()\n",
        "linear_regressor.fit(x,y)\n",
        "x_pred=linear_regressor.predict(x)\n",
        "print(x_pred)"
      ],
      "execution_count": 161,
      "outputs": [
        {
          "output_type": "stream",
          "text": [
            "[[ 0.04391192]\n",
            " [-0.28232773]\n",
            " [-0.45399452]\n",
            " [-0.51109555]\n",
            " [-0.66748691]\n",
            " [-0.58529052]\n",
            " [-0.53655461]\n",
            " [-0.55510336]\n",
            " [-0.5296443 ]\n",
            " [-0.49291051]\n",
            " [-0.530008  ]\n",
            " [-0.66603211]\n",
            " [-0.38452766]\n",
            " [-0.56928769]\n",
            " [-0.49291051]\n",
            " [-0.58856383]\n",
            " [-0.3557953 ]\n",
            " [-0.51655107]\n",
            " [-0.70312959]\n",
            " [-0.54601083]\n",
            " [-0.42562586]\n",
            " [-0.69440077]\n",
            " [-0.59183714]\n",
            " [-0.57728911]\n",
            " [-0.14230291]\n",
            " [-0.4852728 ]\n",
            " [-0.34342947]\n",
            " [-0.6638499 ]\n",
            " [-0.47618027]\n",
            " [-0.69258227]\n",
            " [-0.35361309]\n",
            " [-0.67403353]\n",
            " [-0.5321902 ]\n",
            " [ 0.87424092]\n",
            " [-0.40380381]\n",
            " [-0.56274107]\n",
            " [-0.72058723]\n",
            " [-0.57728911]\n",
            " [-0.2695982 ]\n",
            " [-0.64130045]\n",
            " [-0.64384636]\n",
            " [-0.34706648]\n",
            " [-0.42817176]\n",
            " [-0.41471483]\n",
            " [-0.41471483]\n",
            " [-0.55219375]\n",
            " [-0.67185132]\n",
            " [ 0.26213242]\n",
            " [-0.50418524]\n",
            " [ 0.45162055]\n",
            " [ 0.92806864]\n",
            " [ 0.88660675]\n",
            " [ 0.41052236]\n",
            " [-0.06592574]\n",
            " [-0.39252908]\n",
            " [-0.07647306]\n",
            " [-0.55692186]\n",
            " [-0.55692186]\n",
            " [-0.46817886]\n",
            " [-0.25323166]\n",
            " [ 1.58818565]\n",
            " [ 0.15593177]\n",
            " [-0.20740536]\n",
            " [ 0.00645073]\n",
            " [ 0.00645073]\n",
            " [-0.38416396]\n",
            " [-0.38416396]\n",
            " [-0.38416396]\n",
            " [ 1.30013459]\n",
            " [ 1.6092803 ]\n",
            " [ 0.2123054 ]\n",
            " [ 1.51399068]\n",
            " [ 1.76421685]\n",
            " [ 1.93879325]\n",
            " [-0.03901187]\n",
            " [ 0.74439972]\n",
            " [ 0.92697754]\n",
            " [-0.02591864]\n",
            " [ 1.93661105]\n",
            " [ 2.02717256]\n",
            " [-0.03355636]\n",
            " [ 0.50981268]\n",
            " [ 1.97770924]\n",
            " [-0.03282896]\n",
            " [ 1.9166075 ]\n",
            " [ 0.29122848]\n",
            " [ 0.36215014]\n",
            " [-0.15466874]\n",
            " [-0.11720755]\n",
            " [ 0.04245711]\n",
            " [-0.46126854]\n",
            " [-0.33979246]\n",
            " [ 0.13156382]\n",
            " [ 0.67820617]\n",
            " [ 0.30213951]\n",
            " [ 0.02136246]\n",
            " [ 0.90479179]\n",
            " [-0.27141671]\n",
            " [-0.18994772]\n",
            " [ 1.02735897]\n",
            " [ 0.11192397]\n",
            " [-0.06047022]\n",
            " [ 0.14429335]\n",
            " [-0.15030433]\n",
            " [ 0.3439651 ]\n",
            " [ 0.31341423]\n",
            " [ 1.00189991]\n",
            " [ 0.46180417]\n",
            " [-0.54019162]\n",
            " [-0.21213347]]\n"
          ],
          "name": "stdout"
        }
      ]
    },
    {
      "cell_type": "code",
      "metadata": {
        "id": "vdZjpVv4sGc3",
        "outputId": "d8fd17bf-6db3-4d73-bb9d-2e5e211071f1",
        "colab": {
          "base_uri": "https://localhost:8080/",
          "height": 34
        }
      },
      "source": [
        "#ecuacion\n",
        "import matplotlib.pyplot as plt\n",
        "\n",
        "m = linear_regressor.coef_[0][0]\n",
        "c = linear_regressor.intercept_[0]\n",
        "label = r'$y = %0.4f*x  %+0.4f$'%(m,c)\n",
        "print(label)"
      ],
      "execution_count": 167,
      "outputs": [
        {
          "output_type": "stream",
          "text": [
            "$y = 0.7108*x  -0.0000$\n"
          ],
          "name": "stdout"
        }
      ]
    }
  ]
}