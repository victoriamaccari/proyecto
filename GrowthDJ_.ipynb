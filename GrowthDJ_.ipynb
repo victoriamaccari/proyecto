{
  "nbformat": 4,
  "nbformat_minor": 0,
  "metadata": {
    "colab": {
      "name": "GrowthDJ -",
      "provenance": [],
      "authorship_tag": "ABX9TyOO6rq11ujyS/TvCkAd3kSl",
      "include_colab_link": true
    },
    "kernelspec": {
      "name": "python3",
      "display_name": "Python 3"
    }
  },
  "cells": [
    {
      "cell_type": "markdown",
      "metadata": {
        "id": "view-in-github",
        "colab_type": "text"
      },
      "source": [
        "<a href=\"https://colab.research.google.com/github/victoriamaccari/proyecto/blob/master/GrowthDJ_.ipynb\" target=\"_parent\"><img src=\"https://colab.research.google.com/assets/colab-badge.svg\" alt=\"Open In Colab\"/></a>"
      ]
    },
    {
      "cell_type": "code",
      "metadata": {
        "id": "IqOX5oVDEhzw",
        "colab_type": "code",
        "colab": {}
      },
      "source": [
        "import pandas as pd"
      ],
      "execution_count": 1,
      "outputs": []
    },
    {
      "cell_type": "code",
      "metadata": {
        "id": "SfyYy3SzEnlH",
        "colab_type": "code",
        "colab": {}
      },
      "source": [
        "url= \"https://raw.githubusercontent.com/victoriamaccari/proyecto/master/GrowthDJ.csv\""
      ],
      "execution_count": 2,
      "outputs": []
    },
    {
      "cell_type": "code",
      "metadata": {
        "id": "csKyPQeUEuAW",
        "colab_type": "code",
        "colab": {}
      },
      "source": [
        "df= pd.read_csv(url)"
      ],
      "execution_count": 3,
      "outputs": []
    },
    {
      "cell_type": "code",
      "metadata": {
        "id": "U2DoWFVuFUmI",
        "colab_type": "code",
        "colab": {
          "base_uri": "https://localhost:8080/",
          "height": 343
        },
        "outputId": "9a9dd54c-2bec-452f-dbeb-0ed9f38e663d"
      },
      "source": [
        "df.head(10)"
      ],
      "execution_count": 4,
      "outputs": [
        {
          "output_type": "execute_result",
          "data": {
            "text/html": [
              "<div>\n",
              "<style scoped>\n",
              "    .dataframe tbody tr th:only-of-type {\n",
              "        vertical-align: middle;\n",
              "    }\n",
              "\n",
              "    .dataframe tbody tr th {\n",
              "        vertical-align: top;\n",
              "    }\n",
              "\n",
              "    .dataframe thead th {\n",
              "        text-align: right;\n",
              "    }\n",
              "</style>\n",
              "<table border=\"1\" class=\"dataframe\">\n",
              "  <thead>\n",
              "    <tr style=\"text-align: right;\">\n",
              "      <th></th>\n",
              "      <th>Unnamed: 0</th>\n",
              "      <th>oil</th>\n",
              "      <th>inter</th>\n",
              "      <th>oecd</th>\n",
              "      <th>gdp60</th>\n",
              "      <th>gdp85</th>\n",
              "      <th>gdpgrowth</th>\n",
              "      <th>popgrowth</th>\n",
              "      <th>invest</th>\n",
              "      <th>school</th>\n",
              "      <th>literacy60</th>\n",
              "    </tr>\n",
              "  </thead>\n",
              "  <tbody>\n",
              "    <tr>\n",
              "      <th>0</th>\n",
              "      <td>1</td>\n",
              "      <td>no</td>\n",
              "      <td>yes</td>\n",
              "      <td>no</td>\n",
              "      <td>2485.0</td>\n",
              "      <td>4371.0</td>\n",
              "      <td>4.8</td>\n",
              "      <td>2.6</td>\n",
              "      <td>24.1</td>\n",
              "      <td>4.5</td>\n",
              "      <td>10.0</td>\n",
              "    </tr>\n",
              "    <tr>\n",
              "      <th>1</th>\n",
              "      <td>2</td>\n",
              "      <td>no</td>\n",
              "      <td>no</td>\n",
              "      <td>no</td>\n",
              "      <td>1588.0</td>\n",
              "      <td>1171.0</td>\n",
              "      <td>0.8</td>\n",
              "      <td>2.1</td>\n",
              "      <td>5.8</td>\n",
              "      <td>1.8</td>\n",
              "      <td>5.0</td>\n",
              "    </tr>\n",
              "    <tr>\n",
              "      <th>2</th>\n",
              "      <td>3</td>\n",
              "      <td>no</td>\n",
              "      <td>no</td>\n",
              "      <td>no</td>\n",
              "      <td>1116.0</td>\n",
              "      <td>1071.0</td>\n",
              "      <td>2.2</td>\n",
              "      <td>2.4</td>\n",
              "      <td>10.8</td>\n",
              "      <td>1.8</td>\n",
              "      <td>5.0</td>\n",
              "    </tr>\n",
              "    <tr>\n",
              "      <th>3</th>\n",
              "      <td>4</td>\n",
              "      <td>no</td>\n",
              "      <td>yes</td>\n",
              "      <td>no</td>\n",
              "      <td>959.0</td>\n",
              "      <td>3671.0</td>\n",
              "      <td>8.6</td>\n",
              "      <td>3.2</td>\n",
              "      <td>28.3</td>\n",
              "      <td>2.9</td>\n",
              "      <td>NaN</td>\n",
              "    </tr>\n",
              "    <tr>\n",
              "      <th>4</th>\n",
              "      <td>5</td>\n",
              "      <td>no</td>\n",
              "      <td>no</td>\n",
              "      <td>no</td>\n",
              "      <td>529.0</td>\n",
              "      <td>857.0</td>\n",
              "      <td>2.9</td>\n",
              "      <td>0.9</td>\n",
              "      <td>12.7</td>\n",
              "      <td>0.4</td>\n",
              "      <td>2.0</td>\n",
              "    </tr>\n",
              "    <tr>\n",
              "      <th>5</th>\n",
              "      <td>6</td>\n",
              "      <td>no</td>\n",
              "      <td>no</td>\n",
              "      <td>no</td>\n",
              "      <td>755.0</td>\n",
              "      <td>663.0</td>\n",
              "      <td>1.2</td>\n",
              "      <td>1.7</td>\n",
              "      <td>5.1</td>\n",
              "      <td>0.4</td>\n",
              "      <td>14.0</td>\n",
              "    </tr>\n",
              "    <tr>\n",
              "      <th>6</th>\n",
              "      <td>7</td>\n",
              "      <td>no</td>\n",
              "      <td>yes</td>\n",
              "      <td>no</td>\n",
              "      <td>889.0</td>\n",
              "      <td>2190.0</td>\n",
              "      <td>5.7</td>\n",
              "      <td>2.1</td>\n",
              "      <td>12.8</td>\n",
              "      <td>3.4</td>\n",
              "      <td>19.0</td>\n",
              "    </tr>\n",
              "    <tr>\n",
              "      <th>7</th>\n",
              "      <td>8</td>\n",
              "      <td>no</td>\n",
              "      <td>no</td>\n",
              "      <td>no</td>\n",
              "      <td>838.0</td>\n",
              "      <td>789.0</td>\n",
              "      <td>1.5</td>\n",
              "      <td>1.7</td>\n",
              "      <td>10.5</td>\n",
              "      <td>1.4</td>\n",
              "      <td>7.0</td>\n",
              "    </tr>\n",
              "    <tr>\n",
              "      <th>8</th>\n",
              "      <td>9</td>\n",
              "      <td>no</td>\n",
              "      <td>no</td>\n",
              "      <td>no</td>\n",
              "      <td>908.0</td>\n",
              "      <td>462.0</td>\n",
              "      <td>-0.9</td>\n",
              "      <td>1.9</td>\n",
              "      <td>6.9</td>\n",
              "      <td>0.4</td>\n",
              "      <td>6.0</td>\n",
              "    </tr>\n",
              "    <tr>\n",
              "      <th>9</th>\n",
              "      <td>10</td>\n",
              "      <td>no</td>\n",
              "      <td>no</td>\n",
              "      <td>no</td>\n",
              "      <td>1009.0</td>\n",
              "      <td>2624.0</td>\n",
              "      <td>6.2</td>\n",
              "      <td>2.4</td>\n",
              "      <td>28.8</td>\n",
              "      <td>3.8</td>\n",
              "      <td>16.0</td>\n",
              "    </tr>\n",
              "  </tbody>\n",
              "</table>\n",
              "</div>"
            ],
            "text/plain": [
              "   Unnamed: 0 oil inter oecd  ...  popgrowth  invest  school  literacy60\n",
              "0           1  no   yes   no  ...        2.6    24.1     4.5        10.0\n",
              "1           2  no    no   no  ...        2.1     5.8     1.8         5.0\n",
              "2           3  no    no   no  ...        2.4    10.8     1.8         5.0\n",
              "3           4  no   yes   no  ...        3.2    28.3     2.9         NaN\n",
              "4           5  no    no   no  ...        0.9    12.7     0.4         2.0\n",
              "5           6  no    no   no  ...        1.7     5.1     0.4        14.0\n",
              "6           7  no   yes   no  ...        2.1    12.8     3.4        19.0\n",
              "7           8  no    no   no  ...        1.7    10.5     1.4         7.0\n",
              "8           9  no    no   no  ...        1.9     6.9     0.4         6.0\n",
              "9          10  no    no   no  ...        2.4    28.8     3.8        16.0\n",
              "\n",
              "[10 rows x 11 columns]"
            ]
          },
          "metadata": {
            "tags": []
          },
          "execution_count": 4
        }
      ]
    },
    {
      "cell_type": "code",
      "metadata": {
        "id": "F3e_xz8GRTI6",
        "colab_type": "code",
        "colab": {
          "base_uri": "https://localhost:8080/",
          "height": 319
        },
        "outputId": "bbc52aea-c6be-477a-9bc6-e393d92e2317"
      },
      "source": [
        "df.info()"
      ],
      "execution_count": 5,
      "outputs": [
        {
          "output_type": "stream",
          "text": [
            "<class 'pandas.core.frame.DataFrame'>\n",
            "RangeIndex: 121 entries, 0 to 120\n",
            "Data columns (total 11 columns):\n",
            " #   Column      Non-Null Count  Dtype  \n",
            "---  ------      --------------  -----  \n",
            " 0   Unnamed: 0  121 non-null    int64  \n",
            " 1   oil         121 non-null    object \n",
            " 2   inter       121 non-null    object \n",
            " 3   oecd        121 non-null    object \n",
            " 4   gdp60       116 non-null    float64\n",
            " 5   gdp85       108 non-null    float64\n",
            " 6   gdpgrowth   117 non-null    float64\n",
            " 7   popgrowth   107 non-null    float64\n",
            " 8   invest      121 non-null    float64\n",
            " 9   school      118 non-null    float64\n",
            " 10  literacy60  103 non-null    float64\n",
            "dtypes: float64(7), int64(1), object(3)\n",
            "memory usage: 10.5+ KB\n"
          ],
          "name": "stdout"
        }
      ]
    },
    {
      "cell_type": "code",
      "metadata": {
        "id": "MLw87ERjI6s7",
        "colab_type": "code",
        "colab": {}
      },
      "source": [
        "#elimino columna Unnamed:0\n",
        "df.drop(df.columns[[0]], axis='columns', inplace=True)"
      ],
      "execution_count": 6,
      "outputs": []
    },
    {
      "cell_type": "code",
      "metadata": {
        "id": "r0OIa_kV-wvX",
        "colab_type": "code",
        "colab": {
          "base_uri": "https://localhost:8080/",
          "height": 343
        },
        "outputId": "6d09e99d-bec0-40b3-bc2a-7fa29db99301"
      },
      "source": [
        "df.head(10)"
      ],
      "execution_count": 7,
      "outputs": [
        {
          "output_type": "execute_result",
          "data": {
            "text/html": [
              "<div>\n",
              "<style scoped>\n",
              "    .dataframe tbody tr th:only-of-type {\n",
              "        vertical-align: middle;\n",
              "    }\n",
              "\n",
              "    .dataframe tbody tr th {\n",
              "        vertical-align: top;\n",
              "    }\n",
              "\n",
              "    .dataframe thead th {\n",
              "        text-align: right;\n",
              "    }\n",
              "</style>\n",
              "<table border=\"1\" class=\"dataframe\">\n",
              "  <thead>\n",
              "    <tr style=\"text-align: right;\">\n",
              "      <th></th>\n",
              "      <th>oil</th>\n",
              "      <th>inter</th>\n",
              "      <th>oecd</th>\n",
              "      <th>gdp60</th>\n",
              "      <th>gdp85</th>\n",
              "      <th>gdpgrowth</th>\n",
              "      <th>popgrowth</th>\n",
              "      <th>invest</th>\n",
              "      <th>school</th>\n",
              "      <th>literacy60</th>\n",
              "    </tr>\n",
              "  </thead>\n",
              "  <tbody>\n",
              "    <tr>\n",
              "      <th>0</th>\n",
              "      <td>no</td>\n",
              "      <td>yes</td>\n",
              "      <td>no</td>\n",
              "      <td>2485.0</td>\n",
              "      <td>4371.0</td>\n",
              "      <td>4.8</td>\n",
              "      <td>2.6</td>\n",
              "      <td>24.1</td>\n",
              "      <td>4.5</td>\n",
              "      <td>10.0</td>\n",
              "    </tr>\n",
              "    <tr>\n",
              "      <th>1</th>\n",
              "      <td>no</td>\n",
              "      <td>no</td>\n",
              "      <td>no</td>\n",
              "      <td>1588.0</td>\n",
              "      <td>1171.0</td>\n",
              "      <td>0.8</td>\n",
              "      <td>2.1</td>\n",
              "      <td>5.8</td>\n",
              "      <td>1.8</td>\n",
              "      <td>5.0</td>\n",
              "    </tr>\n",
              "    <tr>\n",
              "      <th>2</th>\n",
              "      <td>no</td>\n",
              "      <td>no</td>\n",
              "      <td>no</td>\n",
              "      <td>1116.0</td>\n",
              "      <td>1071.0</td>\n",
              "      <td>2.2</td>\n",
              "      <td>2.4</td>\n",
              "      <td>10.8</td>\n",
              "      <td>1.8</td>\n",
              "      <td>5.0</td>\n",
              "    </tr>\n",
              "    <tr>\n",
              "      <th>3</th>\n",
              "      <td>no</td>\n",
              "      <td>yes</td>\n",
              "      <td>no</td>\n",
              "      <td>959.0</td>\n",
              "      <td>3671.0</td>\n",
              "      <td>8.6</td>\n",
              "      <td>3.2</td>\n",
              "      <td>28.3</td>\n",
              "      <td>2.9</td>\n",
              "      <td>NaN</td>\n",
              "    </tr>\n",
              "    <tr>\n",
              "      <th>4</th>\n",
              "      <td>no</td>\n",
              "      <td>no</td>\n",
              "      <td>no</td>\n",
              "      <td>529.0</td>\n",
              "      <td>857.0</td>\n",
              "      <td>2.9</td>\n",
              "      <td>0.9</td>\n",
              "      <td>12.7</td>\n",
              "      <td>0.4</td>\n",
              "      <td>2.0</td>\n",
              "    </tr>\n",
              "    <tr>\n",
              "      <th>5</th>\n",
              "      <td>no</td>\n",
              "      <td>no</td>\n",
              "      <td>no</td>\n",
              "      <td>755.0</td>\n",
              "      <td>663.0</td>\n",
              "      <td>1.2</td>\n",
              "      <td>1.7</td>\n",
              "      <td>5.1</td>\n",
              "      <td>0.4</td>\n",
              "      <td>14.0</td>\n",
              "    </tr>\n",
              "    <tr>\n",
              "      <th>6</th>\n",
              "      <td>no</td>\n",
              "      <td>yes</td>\n",
              "      <td>no</td>\n",
              "      <td>889.0</td>\n",
              "      <td>2190.0</td>\n",
              "      <td>5.7</td>\n",
              "      <td>2.1</td>\n",
              "      <td>12.8</td>\n",
              "      <td>3.4</td>\n",
              "      <td>19.0</td>\n",
              "    </tr>\n",
              "    <tr>\n",
              "      <th>7</th>\n",
              "      <td>no</td>\n",
              "      <td>no</td>\n",
              "      <td>no</td>\n",
              "      <td>838.0</td>\n",
              "      <td>789.0</td>\n",
              "      <td>1.5</td>\n",
              "      <td>1.7</td>\n",
              "      <td>10.5</td>\n",
              "      <td>1.4</td>\n",
              "      <td>7.0</td>\n",
              "    </tr>\n",
              "    <tr>\n",
              "      <th>8</th>\n",
              "      <td>no</td>\n",
              "      <td>no</td>\n",
              "      <td>no</td>\n",
              "      <td>908.0</td>\n",
              "      <td>462.0</td>\n",
              "      <td>-0.9</td>\n",
              "      <td>1.9</td>\n",
              "      <td>6.9</td>\n",
              "      <td>0.4</td>\n",
              "      <td>6.0</td>\n",
              "    </tr>\n",
              "    <tr>\n",
              "      <th>9</th>\n",
              "      <td>no</td>\n",
              "      <td>no</td>\n",
              "      <td>no</td>\n",
              "      <td>1009.0</td>\n",
              "      <td>2624.0</td>\n",
              "      <td>6.2</td>\n",
              "      <td>2.4</td>\n",
              "      <td>28.8</td>\n",
              "      <td>3.8</td>\n",
              "      <td>16.0</td>\n",
              "    </tr>\n",
              "  </tbody>\n",
              "</table>\n",
              "</div>"
            ],
            "text/plain": [
              "  oil inter oecd   gdp60  ...  popgrowth  invest  school  literacy60\n",
              "0  no   yes   no  2485.0  ...        2.6    24.1     4.5        10.0\n",
              "1  no    no   no  1588.0  ...        2.1     5.8     1.8         5.0\n",
              "2  no    no   no  1116.0  ...        2.4    10.8     1.8         5.0\n",
              "3  no   yes   no   959.0  ...        3.2    28.3     2.9         NaN\n",
              "4  no    no   no   529.0  ...        0.9    12.7     0.4         2.0\n",
              "5  no    no   no   755.0  ...        1.7     5.1     0.4        14.0\n",
              "6  no   yes   no   889.0  ...        2.1    12.8     3.4        19.0\n",
              "7  no    no   no   838.0  ...        1.7    10.5     1.4         7.0\n",
              "8  no    no   no   908.0  ...        1.9     6.9     0.4         6.0\n",
              "9  no    no   no  1009.0  ...        2.4    28.8     3.8        16.0\n",
              "\n",
              "[10 rows x 10 columns]"
            ]
          },
          "metadata": {
            "tags": []
          },
          "execution_count": 7
        }
      ]
    },
    {
      "cell_type": "code",
      "metadata": {
        "id": "f8gbSTFSFUi3",
        "colab_type": "code",
        "colab": {
          "base_uri": "https://localhost:8080/",
          "height": 202
        },
        "outputId": "f0b2bbe1-7dea-4fce-ea68-7485bd4e282b"
      },
      "source": [
        "#Comprobar si hay valores perdidos\n",
        "pd.isnull(df).any()\n",
        "\n"
      ],
      "execution_count": 8,
      "outputs": [
        {
          "output_type": "execute_result",
          "data": {
            "text/plain": [
              "oil           False\n",
              "inter         False\n",
              "oecd          False\n",
              "gdp60          True\n",
              "gdp85          True\n",
              "gdpgrowth      True\n",
              "popgrowth      True\n",
              "invest        False\n",
              "school         True\n",
              "literacy60     True\n",
              "dtype: bool"
            ]
          },
          "metadata": {
            "tags": []
          },
          "execution_count": 8
        }
      ]
    },
    {
      "cell_type": "code",
      "metadata": {
        "id": "0MaSbzZDHBTl",
        "colab_type": "code",
        "colab": {
          "base_uri": "https://localhost:8080/",
          "height": 202
        },
        "outputId": "d1b2cd46-6b23-4931-d176-074eb72729e9"
      },
      "source": [
        "#Total de valores perdidos por columna\n",
        "df.isnull().sum()"
      ],
      "execution_count": 9,
      "outputs": [
        {
          "output_type": "execute_result",
          "data": {
            "text/plain": [
              "oil            0\n",
              "inter          0\n",
              "oecd           0\n",
              "gdp60          5\n",
              "gdp85         13\n",
              "gdpgrowth      4\n",
              "popgrowth     14\n",
              "invest         0\n",
              "school         3\n",
              "literacy60    18\n",
              "dtype: int64"
            ]
          },
          "metadata": {
            "tags": []
          },
          "execution_count": 9
        }
      ]
    },
    {
      "cell_type": "code",
      "metadata": {
        "id": "1IwDlR2fKv4i",
        "colab_type": "code",
        "colab": {}
      },
      "source": [
        "#Metodo fillna, asigna el valor previo o el ultimo valor valido\n",
        "df.fillna(method='ffill', inplace=True)"
      ],
      "execution_count": 10,
      "outputs": []
    },
    {
      "cell_type": "code",
      "metadata": {
        "id": "OAPBmO35LHIg",
        "colab_type": "code",
        "colab": {
          "base_uri": "https://localhost:8080/",
          "height": 202
        },
        "outputId": "0bf37160-5fcd-4987-8881-614262ad2c2f"
      },
      "source": [
        "#Compruebo que no queden valores perdidos\n",
        "pd.isnull(df).any()"
      ],
      "execution_count": 11,
      "outputs": [
        {
          "output_type": "execute_result",
          "data": {
            "text/plain": [
              "oil           False\n",
              "inter         False\n",
              "oecd          False\n",
              "gdp60         False\n",
              "gdp85         False\n",
              "gdpgrowth     False\n",
              "popgrowth     False\n",
              "invest        False\n",
              "school        False\n",
              "literacy60    False\n",
              "dtype: bool"
            ]
          },
          "metadata": {
            "tags": []
          },
          "execution_count": 11
        }
      ]
    },
    {
      "cell_type": "code",
      "metadata": {
        "id": "bRu90NyKLnZR",
        "colab_type": "code",
        "colab": {
          "base_uri": "https://localhost:8080/",
          "height": 218
        },
        "outputId": "8a483257-2e26-4441-9da8-299c5d1dcbca"
      },
      "source": [
        "#Comprobar si hay valores duplicados, condicion para que muestre los true\n",
        "df.duplicated()"
      ],
      "execution_count": 12,
      "outputs": [
        {
          "output_type": "execute_result",
          "data": {
            "text/plain": [
              "0      False\n",
              "1      False\n",
              "2      False\n",
              "3      False\n",
              "4      False\n",
              "       ...  \n",
              "116    False\n",
              "117    False\n",
              "118    False\n",
              "119    False\n",
              "120    False\n",
              "Length: 121, dtype: bool"
            ]
          },
          "metadata": {
            "tags": []
          },
          "execution_count": 12
        }
      ]
    },
    {
      "cell_type": "code",
      "metadata": {
        "id": "FRSlGbakMnOC",
        "colab_type": "code",
        "colab": {}
      },
      "source": [
        "#Observo los datos\n",
        "import matplotlib.pyplot as plt\n"
      ],
      "execution_count": 13,
      "outputs": []
    },
    {
      "cell_type": "code",
      "metadata": {
        "id": "z4R8i6NAAn5P",
        "colab_type": "code",
        "colab": {
          "base_uri": "https://localhost:8080/",
          "height": 417
        },
        "outputId": "083d425a-14f7-487f-d199-a5f291e4b218"
      },
      "source": [
        "fig, ax = plt.subplots(1, figsize=(10, 6))\n",
        "fig.suptitle('Grafico de dispersion')\n",
        "\n",
        "ax.scatter(df['gdp60'], df['gdp85'],\n",
        "            color=\"blue\",    # Color of the dots\n",
        "            s=100,           # Size of the dots\n",
        "            alpha=0.5,       # Alpha/transparency of the dots (1 is opaque, 0 is transparent)\n",
        "            linewidths=1)    # Size of edge around the dots\n",
        "\n",
        "# Show the plot\n",
        "plt.show()"
      ],
      "execution_count": 14,
      "outputs": [
        {
          "output_type": "display_data",
          "data": {
            "image/png": "[encoded data removed]",
            "text/plain": [
              "<Figure size 720x432 with 1 Axes>"
            ]
          },
          "metadata": {
            "tags": [],
            "needs_background": "light"
          }
        }
      ]
    },
    {
      "cell_type": "code",
      "metadata": {
        "id": "_q6AkbvKUrkL",
        "colab_type": "code",
        "colab": {
          "base_uri": "https://localhost:8080/",
          "height": 202
        },
        "outputId": "680499c9-9ee4-486c-a63a-c76c0681455e"
      },
      "source": [
        "summary = df.describe()\n",
        "print(summary)"
      ],
      "execution_count": 15,
      "outputs": [
        {
          "output_type": "stream",
          "text": [
            "              gdp60         gdp85  ...      school  literacy60\n",
            "count    121.000000    121.000000  ...  121.000000  121.000000\n",
            "mean    3587.983471   5857.661157  ...    5.537190   48.256198\n",
            "std     7349.898268   5600.090048  ...    3.502693   35.646302\n",
            "min      383.000000    412.000000  ...    0.400000    1.000000\n",
            "25%      978.000000   1237.000000  ...    2.400000   15.000000\n",
            "50%     1939.000000   3775.000000  ...    4.900000   39.000000\n",
            "75%     3766.000000   9903.000000  ...    8.200000   84.000000\n",
            "max    77881.000000  25635.000000  ...   12.100000  100.000000\n",
            "\n",
            "[8 rows x 7 columns]\n"
          ],
          "name": "stdout"
        }
      ]
    },
    {
      "cell_type": "code",
      "metadata": {
        "id": "edgvpJbrTJKz",
        "colab_type": "code",
        "colab": {
          "base_uri": "https://localhost:8080/",
          "height": 332
        },
        "outputId": "c7650bb1-3b21-4e2f-edc7-837759035c92"
      },
      "source": [
        "plt.hist(df[\"gdpgrowth\"])"
      ],
      "execution_count": 16,
      "outputs": [
        {
          "output_type": "execute_result",
          "data": {
            "text/plain": [
              "(array([ 1.,  5., 14., 16., 30., 21., 17., 10.,  4.,  3.]),\n",
              " array([-0.9 ,  0.11,  1.12,  2.13,  3.14,  4.15,  5.16,  6.17,  7.18,\n",
              "         8.19,  9.2 ]),\n",
              " <a list of 10 Patch objects>)"
            ]
          },
          "metadata": {
            "tags": []
          },
          "execution_count": 16
        },
        {
          "output_type": "display_data",
          "data": {
            "image/png": "[encoded data removed]",
            "text/plain": [
              "<Figure size 432x288 with 1 Axes>"
            ]
          },
          "metadata": {
            "tags": [],
            "needs_background": "light"
          }
        }
      ]
    },
    {
      "cell_type": "markdown",
      "metadata": {
        "id": "q3YktVCoFoZj",
        "colab_type": "text"
      },
      "source": [
        ""
      ]
    },
    {
      "cell_type": "code",
      "metadata": {
        "id": "DSvO5C0vTmkh",
        "colab_type": "code",
        "colab": {
          "base_uri": "https://localhost:8080/",
          "height": 399
        },
        "outputId": "a68c6adc-0161-417e-a0dc-128e6161e3dd"
      },
      "source": [
        "plt.boxplot(df['gdpgrowth'])"
      ],
      "execution_count": 17,
      "outputs": [
        {
          "output_type": "execute_result",
          "data": {
            "text/plain": [
              "{'boxes': [<matplotlib.lines.Line2D at 0x7fcc5c2bdb00>],\n",
              " 'caps': [<matplotlib.lines.Line2D at 0x7fcc5c2ce550>,\n",
              "  <matplotlib.lines.Line2D at 0x7fcc5c2ce8d0>],\n",
              " 'fliers': [<matplotlib.lines.Line2D at 0x7fcc5c2cefd0>],\n",
              " 'means': [],\n",
              " 'medians': [<matplotlib.lines.Line2D at 0x7fcc5c2cec50>],\n",
              " 'whiskers': [<matplotlib.lines.Line2D at 0x7fcc5c2bde10>,\n",
              "  <matplotlib.lines.Line2D at 0x7fcc5c2ce1d0>]}"
            ]
          },
          "metadata": {
            "tags": []
          },
          "execution_count": 17
        },
        {
          "output_type": "display_data",
          "data": {
            "image/png": "[encoded data removed]",
            "text/plain": [
              "<Figure size 432x288 with 1 Axes>"
            ]
          },
          "metadata": {
            "tags": [],
            "needs_background": "light"
          }
        }
      ]
    },
    {
      "cell_type": "code",
      "metadata": {
        "id": "zls_0K6gTzdu",
        "colab_type": "code",
        "colab": {
          "base_uri": "https://localhost:8080/",
          "height": 401
        },
        "outputId": "7e885b23-dc02-406b-cfc8-01aad73345c9"
      },
      "source": [
        "plt.boxplot(df['popgrowth'])"
      ],
      "execution_count": 18,
      "outputs": [
        {
          "output_type": "execute_result",
          "data": {
            "text/plain": [
              "{'boxes': [<matplotlib.lines.Line2D at 0x7fcc5c22a080>],\n",
              " 'caps': [<matplotlib.lines.Line2D at 0x7fcc5c22aa90>,\n",
              "  <matplotlib.lines.Line2D at 0x7fcc5c22ae10>],\n",
              " 'fliers': [<matplotlib.lines.Line2D at 0x7fcc5c237550>],\n",
              " 'means': [],\n",
              " 'medians': [<matplotlib.lines.Line2D at 0x7fcc5c2371d0>],\n",
              " 'whiskers': [<matplotlib.lines.Line2D at 0x7fcc5c22a390>,\n",
              "  <matplotlib.lines.Line2D at 0x7fcc5c22a710>]}"
            ]
          },
          "metadata": {
            "tags": []
          },
          "execution_count": 18
        },
        {
          "output_type": "display_data",
          "data": {
            "image/png": "[encoded data removed]",
            "text/plain": [
              "<Figure size 432x288 with 1 Axes>"
            ]
          },
          "metadata": {
            "tags": [],
            "needs_background": "light"
          }
        }
      ]
    },
    {
      "cell_type": "code",
      "metadata": {
        "id": "PN9LkXiSUWej",
        "colab_type": "code",
        "colab": {
          "base_uri": "https://localhost:8080/",
          "height": 151
        },
        "outputId": "c26607b8-3fc2-4920-a0b1-d4cef66e56de"
      },
      "source": [
        "#Deteccion de outliers\n",
        "#IQR para cada columna\n",
        "Q1 = df.quantile(0.25)\n",
        "Q3 = df.quantile(0.75)\n",
        "IQR = Q3 - Q1\n",
        "print(IQR)"
      ],
      "execution_count": 19,
      "outputs": [
        {
          "output_type": "stream",
          "text": [
            "gdp60         2788.0\n",
            "gdp85         8666.0\n",
            "gdpgrowth        2.7\n",
            "popgrowth        1.3\n",
            "invest          12.1\n",
            "school           5.8\n",
            "literacy60      69.0\n",
            "dtype: float64\n"
          ],
          "name": "stdout"
        }
      ]
    },
    {
      "cell_type": "code",
      "metadata": {
        "id": "qOBc8lfDdb24",
        "colab_type": "code",
        "colab": {
          "base_uri": "https://localhost:8080/",
          "height": 252
        },
        "outputId": "47fbbdea-de88-4d18-fb49-be96aebfde96"
      },
      "source": [
        "BI=(df < (Q1 - 1.5 * IQR)) \n",
        "print(BI)"
      ],
      "execution_count": 20,
      "outputs": [
        {
          "output_type": "stream",
          "text": [
            "     gdp60  gdp85  gdpgrowth  inter  ...   oecd    oil  popgrowth  school\n",
            "0    False  False      False  False  ...  False  False      False   False\n",
            "1    False  False      False  False  ...  False  False      False   False\n",
            "2    False  False      False  False  ...  False  False      False   False\n",
            "3    False  False      False  False  ...  False  False      False   False\n",
            "4    False  False      False  False  ...  False  False      False   False\n",
            "..     ...    ...        ...    ...  ...    ...    ...        ...     ...\n",
            "116  False  False      False  False  ...  False  False      False   False\n",
            "117  False  False      False  False  ...  False  False      False   False\n",
            "118  False  False      False  False  ...  False  False      False   False\n",
            "119  False  False      False  False  ...  False  False      False   False\n",
            "120  False  False      False  False  ...  False  False      False   False\n",
            "\n",
            "[121 rows x 10 columns]\n"
          ],
          "name": "stdout"
        }
      ]
    },
    {
      "cell_type": "code",
      "metadata": {
        "id": "AWFjFoYHesyU",
        "colab_type": "code",
        "colab": {
          "base_uri": "https://localhost:8080/",
          "height": 1000
        },
        "outputId": "e137081e-1e31-41e5-e206-a636e97f3dc3"
      },
      "source": [
        "pd.set_option('display.max_rows', None)\n",
        "pd.set_option('display.max_columns', None)\n",
        "BS=(df > (Q3 + 1.5 * IQR))\n",
        "print(BS)"
      ],
      "execution_count": 21,
      "outputs": [
        {
          "output_type": "stream",
          "text": [
            "     gdp60  gdp85  gdpgrowth  inter  invest  literacy60   oecd    oil  \\\n",
            "0    False  False      False  False   False       False  False  False   \n",
            "1    False  False      False  False   False       False  False  False   \n",
            "2    False  False      False  False   False       False  False  False   \n",
            "3    False  False      False  False   False       False  False  False   \n",
            "4    False  False      False  False   False       False  False  False   \n",
            "5    False  False      False  False   False       False  False  False   \n",
            "6    False  False      False  False   False       False  False  False   \n",
            "7    False  False      False  False   False       False  False  False   \n",
            "8    False  False      False  False   False       False  False  False   \n",
            "9    False  False      False  False   False       False  False  False   \n",
            "10   False  False      False  False   False       False  False  False   \n",
            "11   False  False      False  False   False       False  False  False   \n",
            "12   False  False      False  False   False       False  False  False   \n",
            "13   False  False      False  False   False       False  False  False   \n",
            "14   False  False      False  False   False       False  False  False   \n",
            "15   False  False      False  False   False       False  False  False   \n",
            "16   False  False      False  False   False       False  False  False   \n",
            "17   False  False      False  False   False       False  False  False   \n",
            "18   False  False      False  False   False       False  False  False   \n",
            "19   False  False      False  False   False       False  False  False   \n",
            "20   False  False      False  False   False       False  False  False   \n",
            "21   False  False      False  False   False       False  False  False   \n",
            "22   False  False      False  False   False       False  False  False   \n",
            "23   False  False      False  False   False       False  False  False   \n",
            "24   False  False      False  False   False       False  False  False   \n",
            "25   False  False      False  False   False       False  False  False   \n",
            "26   False  False      False  False   False       False  False  False   \n",
            "27   False  False      False  False   False       False  False  False   \n",
            "28   False  False      False  False   False       False  False  False   \n",
            "29   False  False      False  False   False       False  False  False   \n",
            "30   False  False      False  False   False       False  False  False   \n",
            "31   False  False      False  False   False       False  False  False   \n",
            "32   False  False      False  False   False       False  False  False   \n",
            "33   False  False      False  False   False       False  False  False   \n",
            "34   False  False      False  False   False       False  False  False   \n",
            "35   False  False      False  False   False       False  False  False   \n",
            "36   False  False      False  False   False       False  False  False   \n",
            "37   False  False      False  False   False       False  False  False   \n",
            "38   False  False      False  False   False       False  False  False   \n",
            "39   False  False      False  False   False       False  False  False   \n",
            "40   False  False      False  False   False       False  False  False   \n",
            "41   False  False      False  False   False       False  False  False   \n",
            "42   False  False      False  False   False       False  False  False   \n",
            "43   False  False      False  False   False       False  False  False   \n",
            "44   False  False      False  False   False       False  False  False   \n",
            "45   False  False      False  False   False       False  False  False   \n",
            "46   False  False      False  False   False       False  False  False   \n",
            "47   False  False      False  False   False       False  False  False   \n",
            "48   False  False      False  False   False       False  False  False   \n",
            "49   False  False      False  False   False       False  False  False   \n",
            "50   False  False      False  False   False       False  False  False   \n",
            "51   False  False      False  False   False       False  False  False   \n",
            "52   False  False      False  False   False       False  False  False   \n",
            "53   False  False      False  False   False       False  False  False   \n",
            "54   False  False      False  False   False       False  False  False   \n",
            "55    True   True      False  False   False       False  False  False   \n",
            "56   False  False      False  False   False       False  False  False   \n",
            "57   False  False      False  False   False       False  False  False   \n",
            "58   False  False      False  False   False       False  False  False   \n",
            "59   False  False      False  False   False       False  False  False   \n",
            "60   False  False      False  False   False       False  False  False   \n",
            "61   False  False      False  False   False       False  False  False   \n",
            "62   False  False      False  False   False       False  False  False   \n",
            "63   False  False      False  False   False       False  False  False   \n",
            "64   False  False      False  False   False       False  False  False   \n",
            "65   False  False      False  False   False       False  False  False   \n",
            "66   False  False      False  False   False       False  False  False   \n",
            "67   False  False      False  False   False       False  False  False   \n",
            "68   False  False      False  False   False       False  False  False   \n",
            "69   False  False      False  False   False       False  False  False   \n",
            "70   False  False      False  False   False       False  False  False   \n",
            "71   False  False      False  False   False       False  False  False   \n",
            "72    True  False      False  False   False       False  False  False   \n",
            "73   False  False      False  False   False       False  False  False   \n",
            "74   False  False      False  False   False       False  False  False   \n",
            "75   False  False      False  False   False       False  False  False   \n",
            "76   False  False      False  False   False       False  False  False   \n",
            "77    True  False      False  False   False       False  False  False   \n",
            "78   False  False      False  False   False       False  False  False   \n",
            "79   False  False      False  False   False       False  False  False   \n",
            "80    True  False      False  False   False       False  False  False   \n",
            "81   False  False      False  False   False       False  False  False   \n",
            "82   False  False      False  False   False       False  False  False   \n",
            "83   False  False      False  False   False       False  False  False   \n",
            "84   False  False      False  False   False       False  False  False   \n",
            "85   False  False      False  False   False       False  False  False   \n",
            "86   False  False      False  False   False       False  False  False   \n",
            "87    True  False      False  False   False       False  False  False   \n",
            "88   False  False      False  False   False       False  False  False   \n",
            "89   False  False      False  False   False       False  False  False   \n",
            "90   False  False      False  False   False       False  False  False   \n",
            "91    True  False      False  False   False       False  False  False   \n",
            "92   False  False      False  False   False       False  False  False   \n",
            "93   False  False      False  False   False       False  False  False   \n",
            "94   False  False      False  False   False       False  False  False   \n",
            "95   False  False      False  False   False       False  False  False   \n",
            "96   False  False      False  False   False       False  False  False   \n",
            "97   False  False      False  False   False       False  False  False   \n",
            "98   False  False      False  False   False       False  False  False   \n",
            "99   False  False      False  False   False       False  False  False   \n",
            "100  False  False      False  False   False       False  False  False   \n",
            "101  False  False      False  False   False       False  False  False   \n",
            "102   True  False      False  False   False       False  False  False   \n",
            "103   True  False      False  False   False       False  False  False   \n",
            "104  False  False      False  False   False       False  False  False   \n",
            "105  False  False      False  False   False       False  False  False   \n",
            "106  False  False      False  False   False       False  False  False   \n",
            "107  False  False      False  False   False       False  False  False   \n",
            "108  False  False      False  False   False       False  False  False   \n",
            "109  False  False      False  False   False       False  False  False   \n",
            "110  False  False      False  False   False       False  False  False   \n",
            "111  False  False      False  False   False       False  False  False   \n",
            "112  False  False      False  False   False       False  False  False   \n",
            "113  False  False      False  False   False       False  False  False   \n",
            "114  False  False      False  False   False       False  False  False   \n",
            "115   True  False      False  False   False       False  False  False   \n",
            "116   True  False      False  False   False       False  False  False   \n",
            "117  False  False      False  False   False       False  False  False   \n",
            "118  False  False      False  False   False       False  False  False   \n",
            "119   True  False      False  False   False       False  False  False   \n",
            "120  False  False      False  False   False       False  False  False   \n",
            "\n",
            "     popgrowth  school  \n",
            "0        False   False  \n",
            "1        False   False  \n",
            "2        False   False  \n",
            "3        False   False  \n",
            "4        False   False  \n",
            "5        False   False  \n",
            "6        False   False  \n",
            "7        False   False  \n",
            "8        False   False  \n",
            "9        False   False  \n",
            "10       False   False  \n",
            "11       False   False  \n",
            "12       False   False  \n",
            "13       False   False  \n",
            "14       False   False  \n",
            "15       False   False  \n",
            "16       False   False  \n",
            "17       False   False  \n",
            "18       False   False  \n",
            "19       False   False  \n",
            "20       False   False  \n",
            "21       False   False  \n",
            "22       False   False  \n",
            "23       False   False  \n",
            "24       False   False  \n",
            "25       False   False  \n",
            "26       False   False  \n",
            "27       False   False  \n",
            "28       False   False  \n",
            "29       False   False  \n",
            "30       False   False  \n",
            "31       False   False  \n",
            "32       False   False  \n",
            "33       False   False  \n",
            "34       False   False  \n",
            "35       False   False  \n",
            "36       False   False  \n",
            "37       False   False  \n",
            "38       False   False  \n",
            "39       False   False  \n",
            "40       False   False  \n",
            "41       False   False  \n",
            "42       False   False  \n",
            "43       False   False  \n",
            "44       False   False  \n",
            "45       False   False  \n",
            "46       False   False  \n",
            "47       False   False  \n",
            "48       False   False  \n",
            "49       False   False  \n",
            "50       False   False  \n",
            "51       False   False  \n",
            "52       False   False  \n",
            "53       False   False  \n",
            "54       False   False  \n",
            "55        True   False  \n",
            "56       False   False  \n",
            "57       False   False  \n",
            "58       False   False  \n",
            "59       False   False  \n",
            "60       False   False  \n",
            "61       False   False  \n",
            "62       False   False  \n",
            "63       False   False  \n",
            "64       False   False  \n",
            "65       False   False  \n",
            "66       False   False  \n",
            "67       False   False  \n",
            "68       False   False  \n",
            "69       False   False  \n",
            "70       False   False  \n",
            "71       False   False  \n",
            "72       False   False  \n",
            "73       False   False  \n",
            "74       False   False  \n",
            "75       False   False  \n",
            "76       False   False  \n",
            "77       False   False  \n",
            "78       False   False  \n",
            "79       False   False  \n",
            "80       False   False  \n",
            "81       False   False  \n",
            "82       False   False  \n",
            "83       False   False  \n",
            "84       False   False  \n",
            "85       False   False  \n",
            "86       False   False  \n",
            "87       False   False  \n",
            "88       False   False  \n",
            "89       False   False  \n",
            "90       False   False  \n",
            "91       False   False  \n",
            "92       False   False  \n",
            "93       False   False  \n",
            "94       False   False  \n",
            "95       False   False  \n",
            "96       False   False  \n",
            "97       False   False  \n",
            "98       False   False  \n",
            "99       False   False  \n",
            "100      False   False  \n",
            "101      False   False  \n",
            "102      False   False  \n",
            "103      False   False  \n",
            "104      False   False  \n",
            "105      False   False  \n",
            "106      False   False  \n",
            "107      False   False  \n",
            "108      False   False  \n",
            "109      False   False  \n",
            "110      False   False  \n",
            "111      False   False  \n",
            "112      False   False  \n",
            "113      False   False  \n",
            "114      False   False  \n",
            "115      False   False  \n",
            "116      False   False  \n",
            "117      False   False  \n",
            "118      False   False  \n",
            "119      False   False  \n",
            "120      False   False  \n"
          ],
          "name": "stdout"
        }
      ]
    },
    {
      "cell_type": "markdown",
      "metadata": {
        "id": "D1KB6IPmgFjt",
        "colab_type": "text"
      },
      "source": [
        ""
      ]
    },
    {
      "cell_type": "code",
      "metadata": {
        "id": "6Be9j8u2gZfK",
        "colab_type": "code",
        "colab": {
          "base_uri": "https://localhost:8080/",
          "height": 34
        },
        "outputId": "0f495850-1857-49df-a13b-df08398f1a95"
      },
      "source": [
        "#Quito los outliers\n",
        "df_out = df[~((df < (Q1 - 1.5 * IQR))).any(axis=1)]\n",
        "df_out.shape"
      ],
      "execution_count": 22,
      "outputs": [
        {
          "output_type": "execute_result",
          "data": {
            "text/plain": [
              "(121, 10)"
            ]
          },
          "metadata": {
            "tags": []
          },
          "execution_count": 22
        }
      ]
    },
    {
      "cell_type": "code",
      "metadata": {
        "id": "5VfI3RSUgtIl",
        "colab_type": "code",
        "colab": {
          "base_uri": "https://localhost:8080/",
          "height": 34
        },
        "outputId": "56a4c4d6-406d-46db-beaf-bec30768f338"
      },
      "source": [
        "#Quito los outliers\n",
        "df_out2 = df[~((df > (Q3 + 1.5 * IQR))).any(axis=1)]\n",
        "df_out2.shape"
      ],
      "execution_count": 23,
      "outputs": [
        {
          "output_type": "execute_result",
          "data": {
            "text/plain": [
              "(110, 10)"
            ]
          },
          "metadata": {
            "tags": []
          },
          "execution_count": 23
        }
      ]
    },
    {
      "cell_type": "code",
      "metadata": {
        "id": "nL_6YGMyvRGl",
        "colab_type": "code",
        "colab": {
          "base_uri": "https://localhost:8080/",
          "height": 403
        },
        "outputId": "b5fa11e6-365a-421d-d602-d147db17e026"
      },
      "source": [
        "#Compruebo que en esta columna ya no hay valores outliers\n",
        "plt.boxplot(df_out2['popgrowth'])"
      ],
      "execution_count": 24,
      "outputs": [
        {
          "output_type": "execute_result",
          "data": {
            "text/plain": [
              "{'boxes': [<matplotlib.lines.Line2D at 0x7fcc5af2b0b8>],\n",
              " 'caps': [<matplotlib.lines.Line2D at 0x7fcc5af2bac8>,\n",
              "  <matplotlib.lines.Line2D at 0x7fcc5af2be48>],\n",
              " 'fliers': [<matplotlib.lines.Line2D at 0x7fcc5af34588>],\n",
              " 'means': [],\n",
              " 'medians': [<matplotlib.lines.Line2D at 0x7fcc5af34208>],\n",
              " 'whiskers': [<matplotlib.lines.Line2D at 0x7fcc5af2b3c8>,\n",
              "  <matplotlib.lines.Line2D at 0x7fcc5af2b748>]}"
            ]
          },
          "metadata": {
            "tags": []
          },
          "execution_count": 24
        },
        {
          "output_type": "display_data",
          "data": {
            "image/png": "[encoded data removed]",
            "text/plain": [
              "<Figure size 432x288 with 1 Axes>"
            ]
          },
          "metadata": {
            "tags": [],
            "needs_background": "light"
          }
        }
      ]
    },
    {
      "cell_type": "code",
      "metadata": {
        "id": "AWwQUgMYv-8h",
        "colab_type": "code",
        "colab": {
          "base_uri": "https://localhost:8080/",
          "height": 336
        },
        "outputId": "3c0bab93-7725-4de0-8e9d-763017a70ec1"
      },
      "source": [
        "#Se eliminaron 11 filas con valores outliers\n",
        "summary = df_out2.describe()\n",
        "print(summary)"
      ],
      "execution_count": 25,
      "outputs": [
        {
          "output_type": "stream",
          "text": [
            "             gdp60         gdp85   gdpgrowth   popgrowth      invest  \\\n",
            "count   110.000000    110.000000  110.000000  110.000000  110.000000   \n",
            "mean   2364.263636   5023.263636    4.211818    2.250909   17.682727   \n",
            "std    1963.342356   4890.696790    1.958268    0.908143    7.793209   \n",
            "min     383.000000    412.000000   -0.900000    0.300000    4.100000   \n",
            "25%     917.000000   1193.750000    2.825000    1.700000   12.000000   \n",
            "50%    1620.500000   3150.000000    4.050000    2.450000   17.150000   \n",
            "75%    3145.000000   6042.000000    5.500000    2.900000   23.350000   \n",
            "max    7938.000000  19723.000000    9.200000    4.300000   36.900000   \n",
            "\n",
            "           school  literacy60  \n",
            "count  110.000000  110.000000  \n",
            "mean     5.179091   44.272727  \n",
            "std      3.393007   34.556405  \n",
            "min      0.400000    1.000000  \n",
            "25%      2.325000   13.250000  \n",
            "50%      4.450000   32.000000  \n",
            "75%      7.975000   74.500000  \n",
            "max     12.100000  100.000000  \n"
          ],
          "name": "stdout"
        }
      ]
    },
    {
      "cell_type": "code",
      "metadata": {
        "id": "Rz__CC6eaDLR",
        "colab_type": "code",
        "colab": {}
      },
      "source": [
        "#Bucle para eliminar valores outliers, no funciono falta modificar el exclude\n",
        "def boxplot_outlier_removal(df):\n",
        "  for col in df.columns:\n",
        "        if col not in exclude:\n",
        "            # get Q1, Q3 & Interquantile Range\n",
        "            Q1 = df[col].quantile(0.25)\n",
        "            Q3 = df[col].quantile(0.75)\n",
        "            IQR = Q3 - Q1\n",
        "            # define outliers and remove them\n",
        "            filter_ = (df[col] > Q1 - 1.5 * IQR) & (df[col] < Q3 + 1.5 *IQR)\n",
        "            df = df[filter_]\n",
        "  after = len(df)\n",
        "  diff = before-after\n",
        "  percent = diff/before*100\n",
        "  print('{} ({:.2f}%) outliers removed'.format(diff, percent))\n",
        "  return df\n"
      ],
      "execution_count": 26,
      "outputs": []
    },
    {
      "cell_type": "code",
      "metadata": {
        "id": "rJ9cbhglwPbq",
        "colab_type": "code",
        "colab": {
          "base_uri": "https://localhost:8080/",
          "height": 1000
        },
        "outputId": "67847bc9-098f-4a03-8416-5edc0901b50b"
      },
      "source": [
        "#normalizacion\n",
        "from sklearn import preprocessing\n",
        "data = df_out2.iloc[:,[3,4,5,6,7,8,9]].values #normalizar antes de seguir\n",
        "datanorm = (data-data.min())/(data.max()-data.min())\n",
        "print(datanorm)\n",
        "\n"
      ],
      "execution_count": 57,
      "outputs": [
        {
          "output_type": "stream",
          "text": [
            "[[1.26034912e-01 2.21654947e-01 2.88989500e-04 1.77449693e-04\n",
            "  1.26749781e-03 2.73779526e-04 5.52629044e-04]\n",
            " [8.05570906e-02 5.94152272e-02 8.61898509e-05 1.52099737e-04\n",
            "  3.39689412e-04 1.36889763e-04 2.99129483e-04]\n",
            " [5.66267320e-02 5.43452360e-02 1.57169728e-04 1.67309711e-04\n",
            "  5.93188974e-04 1.36889763e-04 2.99129483e-04]\n",
            " [4.86668458e-02 1.86165008e-01 4.81649167e-04 2.07869640e-04\n",
            "  1.48043744e-03 1.92659667e-04 2.99129483e-04]\n",
            " [2.68658835e-02 4.34954548e-02 1.92659667e-04 9.12598421e-05\n",
            "  6.89518807e-04 6.59098860e-05 1.47029746e-04]\n",
            " [3.83240637e-02 3.36596718e-02 1.06469816e-04 1.31819772e-04\n",
            "  3.04199474e-04 6.59098860e-05 7.55428693e-04]\n",
            " [4.51178519e-02 1.11078438e-01 3.34619421e-04 1.52099737e-04\n",
            "  6.94588798e-04 2.18009623e-04 1.00892825e-03]\n",
            " [4.25321564e-02 4.00478607e-02 1.21679789e-04 1.31819772e-04\n",
            "  5.77979000e-04 1.16609798e-04 4.00529307e-04]\n",
            " [4.60811503e-02 2.34689894e-02 0.00000000e+00 1.41959754e-04\n",
            "  3.95459316e-04 6.59098860e-05 3.49829395e-04]\n",
            " [5.12018414e-02 1.33082200e-01 3.59969377e-04 1.67309711e-04\n",
            "  1.50578739e-03 2.38289588e-04 8.56828518e-04]\n",
            " [4.60304504e-02 1.09557440e-01 3.49829395e-04 1.72379702e-04\n",
            "  8.72038491e-04 4.00529307e-04 1.36382764e-03]\n",
            " [2.70686832e-02 3.08711766e-02 1.87589675e-04 1.62239719e-04\n",
            "  3.19409447e-04 1.01399825e-04 8.06128605e-04]\n",
            " [6.63104153e-02 2.71290161e-01 4.00529307e-04 1.16609798e-04\n",
            "  1.16609798e-03 1.77449693e-04 8.06128605e-04]\n",
            " [4.05548598e-02 2.71290161e-01 2.28149605e-04 1.16609798e-04\n",
            "  9.63298333e-04 1.21679789e-04 8.06128605e-04]\n",
            " [5.12018414e-02 3.69044662e-02 9.63298333e-05 1.62239719e-04\n",
            "  5.06999123e-04 2.83919509e-04 1.41452755e-03]\n",
            " [3.78677645e-02 4.41038537e-02 1.57169728e-04 1.26749781e-04\n",
            "  5.98258965e-04 2.83919509e-04 4.00529307e-04]\n",
            " [7.03157084e-02 8.64382805e-02 3.04199474e-04 2.63639544e-04\n",
            "  6.74308833e-04 1.62239719e-04 2.99129483e-04]\n",
            " [4.79063471e-02 6.74258134e-02 2.88989500e-04 2.18009623e-04\n",
            "  9.27808395e-04 1.67309711e-04 1.05962817e-03]\n",
            " [2.18972921e-02 7.52335998e-02 3.90389325e-04 1.41959754e-04\n",
            "  6.84448816e-04 1.47029746e-04 1.05962817e-03]\n",
            " [4.37996542e-02 4.79063471e-02 2.12939632e-04 1.97729658e-04\n",
            "  1.13567804e-03 1.72379702e-04 5.01929132e-04]\n",
            " [6.05813252e-02 4.94780444e-02 1.16609798e-04 1.57169728e-04\n",
            "  4.05599298e-04 1.77449693e-04 2.58062554e-03]\n",
            " [2.31140900e-02 4.17716577e-02 2.88989500e-04 1.67309711e-04\n",
            "  7.14868763e-04 7.60498684e-05 1.31312773e-03]\n",
            " [3.74114653e-02 3.60425676e-02 1.52099737e-04 1.57169728e-04\n",
            "  4.15739281e-04 9.63298333e-05 1.97729658e-04]\n",
            " [3.94394618e-02 5.26721389e-02 2.12939632e-04 1.57169728e-04\n",
            "  1.34354768e-03 9.63298333e-05 2.99129483e-04]\n",
            " [1.00076557e-01 1.50472270e-01 2.58569553e-04 1.77449693e-04\n",
            "  9.12598421e-04 4.15739281e-04 2.99129483e-04]\n",
            " [5.22665396e-02 1.19089024e-01 3.39689412e-04 1.72379702e-04\n",
            "  4.66439193e-04 2.28149605e-04 7.55428693e-04]\n",
            " [7.20395054e-02 5.25200391e-02 1.16609798e-04 1.82519684e-04\n",
            "  3.54899386e-04 8.11198597e-05 6.03328956e-04]\n",
            " [2.73728826e-02 4.26842562e-02 2.68709535e-04 1.77449693e-04\n",
            "  5.67839018e-04 7.09798772e-05 9.63298333e-05]\n",
            " [5.35340374e-02 6.01757259e-02 1.87589675e-04 1.67309711e-04\n",
            "  6.54028869e-04 1.62239719e-04 8.06128605e-04]\n",
            " [2.33675896e-02 3.53327689e-02 2.73779526e-04 1.87589675e-04\n",
            "  4.46159228e-04 6.59098860e-05 8.56828518e-04]\n",
            " [7.06199078e-02 7.35605027e-02 1.72379702e-04 1.62239719e-04\n",
            "  5.32349079e-04 1.31819772e-04 3.49829395e-04]\n",
            " [2.59532851e-02 4.08590593e-02 2.18009623e-04 1.26749781e-04\n",
            "  5.98258965e-04 1.31819772e-04 4.00529307e-04]\n",
            " [4.57262509e-02 3.33554723e-02 1.36889763e-04 2.02799649e-04\n",
            "  7.45288711e-04 1.01399825e-04 1.47029746e-04]\n",
            " [2.41782812e-01 3.58189810e-01 2.43359579e-04 1.62239719e-04\n",
            "  1.14074803e-03 1.97729658e-04 2.93552492e-03]\n",
            " [6.36233199e-02 5.26721389e-02 1.36889763e-04 1.77449693e-04\n",
            "  7.14868763e-04 1.47029746e-04 7.04728781e-04]\n",
            " [4.14674583e-02 5.26721389e-02 4.10669290e-04 1.77449693e-04\n",
            "  9.43018369e-04 2.33219597e-04 7.04728781e-04]\n",
            " [1.94636963e-02 3.60425676e-02 3.14339456e-04 1.92659667e-04\n",
            "  9.58228342e-04 7.09798772e-05 5.52629044e-04]\n",
            " [3.94394618e-02 4.96301441e-02 2.18009623e-04 1.72379702e-04\n",
            "  8.31478562e-04 1.92659667e-04 5.52629044e-04]\n",
            " [8.23315876e-02 1.85658009e-01 3.29549430e-04 1.67309711e-04\n",
            "  7.45288711e-04 2.63639544e-04 8.56828518e-04]\n",
            " [3.05162772e-02 3.38624714e-02 2.23079614e-04 2.02799649e-04\n",
            "  2.53499561e-04 1.01399825e-04 1.82012685e-03]\n",
            " [3.01613778e-02 2.09339938e-02 9.12598421e-05 1.67309711e-04\n",
            "  3.75179351e-04 2.28149605e-04 1.61732720e-03]\n",
            " [7.15325062e-02 6.17474232e-02 1.52099737e-04 1.82519684e-04\n",
            "  1.65281714e-03 1.67309711e-04 1.51592738e-03]\n",
            " [6.02264258e-02 1.06870345e-01 3.04199474e-04 1.87589675e-04\n",
            "  1.11539807e-03 2.68709535e-04 2.02292650e-03]\n",
            " [6.21023226e-02 1.06870345e-01 1.26749781e-04 1.87589675e-04\n",
            "  3.95459316e-04 9.12598421e-05 4.51229219e-04]\n",
            " [6.21023226e-02 1.06870345e-01 1.26749781e-04 1.87589675e-04\n",
            "  1.56662729e-03 6.59098860e-04 4.51229219e-04]\n",
            " [4.29377557e-02 6.19502228e-02 2.48429570e-04 1.77449693e-04\n",
            "  3.90389325e-04 2.07869640e-04 1.16102799e-03]\n",
            " [2.62574846e-02 5.23172395e-02 2.73779526e-04 1.31819772e-04\n",
            "  6.23608921e-04 2.23079614e-04 3.08762466e-03]\n",
            " [1.56454859e-01 6.78004857e-01 4.96859140e-04 1.97729658e-04\n",
            "  1.05455818e-03 4.10669290e-04 3.59462378e-03]\n",
            " [4.96301441e-02 6.79328125e-02 2.28149605e-04 1.67309711e-04\n",
            "  8.97388448e-04 3.04199474e-04 1.46522747e-03]\n",
            " [1.82869514e-01 3.75224981e-01 3.65039368e-04 2.18009623e-04\n",
            "  9.78508307e-04 3.75179351e-04 8.56828518e-04]\n",
            " [2.49286399e-01 2.85283336e-01 2.38289588e-04 2.07869640e-04\n",
            "  8.66968500e-04 4.20809272e-04 9.58228342e-04]\n",
            " [2.43506609e-01 5.29859713e-01 3.44759404e-04 1.87589675e-04\n",
            "  1.49057742e-03 5.27279088e-04 4.30442255e-03]\n",
            " [1.77140424e-01 7.04419511e-01 3.90389325e-04 1.06469816e-04\n",
            "  1.87082676e-03 5.98258965e-04 5.01422133e-03]\n",
            " [1.10723538e-01 2.18663652e-01 3.19409447e-04 1.82519684e-04\n",
            "  9.37948377e-04 5.93188974e-04 1.66802711e-03]\n",
            " [6.51950172e-02 2.42137711e-01 4.46159228e-04 1.82519684e-04\n",
            "  1.17623797e-03 5.62769026e-04 3.64532369e-03]\n",
            " [1.09253241e-01 2.93496722e-01 4.05599298e-04 2.07869640e-04\n",
            "  1.22186789e-03 4.15739281e-04 2.73272527e-03]\n",
            " [4.22786569e-02 4.94273445e-02 1.77449693e-04 1.47029746e-04\n",
            "  3.44759404e-04 1.62239719e-04 5.01929132e-04]\n",
            " [4.22786569e-02 7.90153063e-01 1.77449693e-04 2.12939632e-04\n",
            "  8.36548553e-04 1.82519684e-04 5.01929132e-04]\n",
            " [5.46494355e-02 1.10317939e-01 3.39689412e-04 1.97729658e-04\n",
            "  6.64168851e-04 1.97729658e-04 8.06128605e-04]\n",
            " [8.46130836e-02 1.23246417e-01 2.73779526e-04 1.97729658e-04\n",
            "  8.01058614e-04 5.83048991e-04 3.69602361e-03]\n",
            " [3.41306740e-01 5.60634560e-01 3.54899386e-04 2.53499561e-04\n",
            "  6.94588798e-04 2.02799649e-04 1.97729658e-04]\n",
            " [1.41650485e-01 7.44218943e-01 5.12069114e-04 1.77449693e-04\n",
            "  1.67816710e-03 5.01929132e-04 4.25372264e-03]\n",
            " [9.10012726e-02 1.25882812e-01 2.33219597e-04 1.67309711e-04\n",
            "  7.95988623e-04 4.66439193e-04 3.84812334e-03]\n",
            " [1.20812821e-01 3.06374500e-01 3.85319333e-04 1.97729658e-04\n",
            "  8.51758526e-04 4.91789149e-04 1.56662729e-03]\n",
            " [1.20812821e-01 3.06374500e-01 4.51229219e-04 1.97729658e-04\n",
            "  1.09511811e-03 4.91789149e-04 1.56662729e-03]\n",
            " [6.63611152e-02 1.63299347e-01 3.85319333e-04 2.02799649e-04\n",
            "  9.58228342e-04 2.68709535e-04 3.49322396e-03]\n",
            " [6.63611152e-02 9.38653106e-01 3.85319333e-04 2.02799649e-04\n",
            "  1.38917760e-03 2.68709535e-04 3.49322396e-03]\n",
            " [6.63611152e-02 9.72880617e-02 3.85319333e-04 1.72379702e-04\n",
            "  9.17668412e-04 7.60498684e-05 1.97729658e-04]\n",
            " [3.01152409e-01 6.75723361e-01 2.28149605e-04 6.59098860e-05\n",
            "  1.23200787e-03 4.51229219e-04 5.06492124e-03]\n",
            " [3.44247334e-01 7.24547377e-01 2.23079614e-04 7.09798772e-05\n",
            "  1.23200787e-03 5.17139105e-04 5.06492124e-03]\n",
            " [1.49508971e-01 7.24547377e-01 3.09269465e-04 7.09798772e-05\n",
            "  1.62746718e-03 4.61369202e-04 5.06492124e-03]\n",
            " [3.30963957e-01 6.98639721e-01 2.33219597e-04 8.11198597e-05\n",
            "  1.91645668e-03 6.28678912e-04 5.06492124e-03]\n",
            " [3.65845497e-01 7.61913212e-01 2.43359579e-04 9.63298333e-05\n",
            "  1.37396762e-03 4.96859140e-04 5.06492124e-03]\n",
            " [3.90181455e-01 7.75602188e-01 2.12939632e-04 7.09798772e-05\n",
            "  1.49057742e-03 4.71509184e-04 5.06492124e-03]\n",
            " [1.14475332e-01 3.48252628e-01 3.04199474e-04 8.11198597e-05\n",
            "  1.53113735e-03 4.46159228e-04 4.15232282e-03]\n",
            " [2.23682943e-01 4.39867369e-01 2.38289588e-04 1.01399825e-04\n",
            "  1.35875765e-03 6.23608921e-04 5.01422133e-03]\n",
            " [2.49134299e-01 5.61902058e-01 2.38289588e-04 7.60498684e-05\n",
            "  1.30805774e-03 4.05599298e-04 4.65932194e-03]\n",
            " [1.16300529e-01 5.61902058e-01 3.49829395e-04 7.60498684e-05\n",
            "  1.61225721e-03 4.05599298e-04 4.65932194e-03]\n",
            " [3.89877256e-01 6.68118374e-01 2.28149605e-04 1.16609798e-04\n",
            "  1.35368766e-03 5.88118983e-04 5.06492124e-03]\n",
            " [4.02501534e-01 1.00000000e+00 2.63639544e-04 8.11198597e-05\n",
            "  1.52099737e-03 5.52629044e-04 5.06492124e-03]\n",
            " [1.15235831e-01 2.95474019e-01 2.68709535e-04 7.60498684e-05\n",
            "  1.18637795e-03 3.39689412e-04 3.18902448e-03]\n",
            " [1.90981500e-01 5.02126861e-01 2.94059491e-04 9.63298333e-05\n",
            "  9.43018369e-04 4.51229219e-04 4.45652229e-03]\n",
            " [3.95606346e-01 7.72560193e-01 2.02799649e-04 6.59098860e-05\n",
            "  1.28777777e-03 4.46159228e-04 5.06492124e-03]\n",
            " [1.15337230e-01 2.25356040e-01 3.09269465e-04 1.72379702e-04\n",
            "  1.06976815e-03 3.24479439e-04 1.97222659e-03]\n",
            " [3.87088760e-01 6.75926161e-01 1.72379702e-04 6.08398947e-05\n",
            "  9.78508307e-04 4.96859140e-04 5.06492124e-03]\n",
            " [1.60510852e-01 6.75926161e-01 2.88989500e-04 6.08398947e-05\n",
            "  1.03427821e-03 6.59098860e-04 5.06492124e-03]\n",
            " [1.70397335e-01 2.27789636e-01 2.83919509e-04 2.23079614e-04\n",
            "  7.90918632e-04 4.00529307e-04 4.60862203e-03]\n",
            " [9.83527598e-02 1.67760940e-01 3.04199474e-04 1.92659667e-04\n",
            "  9.12598421e-04 3.39689412e-04 3.34112422e-03]\n",
            " [1.03574851e-01 1.01293355e-01 2.12939632e-04 2.12939632e-04\n",
            "  4.51229219e-04 2.43359579e-04 2.52992562e-03]\n",
            " [1.25832112e-01 1.53869164e-01 2.43359579e-04 2.02799649e-04\n",
            "  4.91789149e-04 1.67309711e-04 1.66802711e-03]\n",
            " [5.56127338e-02 6.27614214e-02 1.36889763e-04 1.11539807e-04\n",
            "  4.05599298e-04 1.41959754e-04 8.06128605e-04]\n",
            " [7.25465045e-02 9.24208701e-02 2.48429570e-04 2.02799649e-04\n",
            "  7.45288711e-04 2.33219597e-04 2.32712597e-03]\n",
            " [1.38253591e-01 1.56201360e-01 1.52099737e-04 1.26749781e-04\n",
            "  1.09004811e-03 6.13468939e-04 4.20302273e-03]\n",
            " [2.14455559e-01 3.74210983e-01 3.24479439e-04 2.12939632e-04\n",
            "  1.03427821e-03 3.80249342e-04 3.34112422e-03]\n",
            " [1.62031850e-01 2.01729881e-01 2.53499561e-04 2.12939632e-04\n",
            "  7.80778649e-04 3.39689412e-04 4.60862203e-03]\n",
            " [1.22891517e-01 2.54609890e-01 3.44759404e-04 1.97729658e-04\n",
            "  1.36889763e-03 6.33748904e-04 3.74672352e-03]\n",
            " [2.46041604e-01 2.80568245e-01 1.52099737e-04 1.21679789e-04\n",
            "  1.32833770e-03 2.99129483e-04 4.65932194e-03]\n",
            " [8.20780880e-02 1.04233950e-01 2.12939632e-04 1.67309711e-04\n",
            "  7.19938755e-04 2.94059491e-04 2.02292650e-03]\n",
            " [9.34348684e-02 2.82089242e-01 4.15739281e-04 1.92659667e-04\n",
            "  1.22186789e-03 2.83919509e-04 3.13832457e-03]\n",
            " [2.63127475e-01 2.80568245e-01 1.77449693e-04 1.62239719e-04\n",
            "  1.55141732e-03 4.36019246e-04 4.30442255e-03]\n",
            " [1.35515796e-01 2.23378744e-01 2.99129483e-04 1.97729658e-04\n",
            "  9.58228342e-04 3.54899386e-04 3.23972440e-03]\n",
            " [1.11484037e-01 2.28398035e-01 3.34619421e-04 1.87589675e-04\n",
            "  1.28270778e-03 4.10669290e-04 3.49322396e-03]\n",
            " [1.40028088e-01 2.28398035e-01 1.01399825e-04 1.87589675e-04\n",
            "  1.68830708e-03 6.38818895e-04 3.49322396e-03]\n",
            " [9.89611588e-02 1.98485087e-01 3.24479439e-04 1.82519684e-04\n",
            "  6.38818895e-04 2.68709535e-04 3.84812334e-03]\n",
            " [1.67862340e-01 1.91437799e-01 2.23079614e-04 1.92659667e-04\n",
            "  6.54028869e-04 4.51229219e-04 3.13832457e-03]\n",
            " [1.63603547e-01 1.91437799e-01 2.73779526e-04 1.92659667e-04\n",
            "  1.02920822e-03 4.56299211e-04 3.13832457e-03]\n",
            " [2.59578481e-01 2.78641648e-01 9.12598421e-05 7.60498684e-05\n",
            "  6.43888886e-04 4.00529307e-04 4.81142168e-03]\n",
            " [1.84289111e-01 6.79880754e-01 2.58569553e-04 1.47029746e-04\n",
            "  1.09004811e-03 4.56299211e-04 5.11562115e-03]\n",
            " [4.46108528e-02 1.09506741e-01 3.24479439e-04 1.41959754e-04\n",
            "  7.50358702e-04 2.53499561e-04 2.02292650e-03]\n",
            " [9.03421737e-02 1.29026207e-01 2.23079614e-04 1.52099737e-04\n",
            "  8.66968500e-04 1.21679789e-04 1.51592738e-03]]\n"
          ],
          "name": "stdout"
        }
      ]
    },
    {
      "cell_type": "code",
      "metadata": {
        "id": "SDt2_PSzOHc_",
        "colab_type": "code",
        "colab": {}
      },
      "source": [
        "#algortimo aglomerativo jerarquico - dendrogramas\n",
        "import scipy.cluster.hierarchy as sch\n",
        "from matplotlib import pyplot as plt\n",
        "\n",
        "#datos=df_out2.iloc[:,[3,4,5,6,7,8]].values\n",
        "#datos\n"
      ],
      "execution_count": 61,
      "outputs": []
    },
    {
      "cell_type": "code",
      "metadata": {
        "id": "vcXRjrozVbj9",
        "colab_type": "code",
        "colab": {}
      },
      "source": [
        "clustering_jerarquico= sch.linkage(datanorm, 'ward')"
      ],
      "execution_count": 62,
      "outputs": []
    },
    {
      "cell_type": "code",
      "metadata": {
        "id": "NyWOYmSUVzGl",
        "colab_type": "code",
        "colab": {
          "base_uri": "https://localhost:8080/",
          "height": 265
        },
        "outputId": "44de07ce-eeab-4bdd-b377-8258adebef42"
      },
      "source": [
        "dendrogram=sch.dendrogram(clustering_jerarquico)"
      ],
      "execution_count": 63,
      "outputs": [
        {
          "output_type": "display_data",
          "data": {
            "image/png": "[encoded data removed]",
            "text/plain": [
              "<Figure size 432x288 with 1 Axes>"
            ]
          },
          "metadata": {
            "tags": [],
            "needs_background": "light"
          }
        }
      ]
    },
    {
      "cell_type": "code",
      "metadata": {
        "id": "UY_c3gf74yhz",
        "colab_type": "code",
        "colab": {}
      },
      "source": [
        "#realizo el corte en 1\n",
        "from scipy.cluster.hierarchy import fcluster\n",
        "clusters = fcluster(clustering_jerarquico, t=1, criterion='distance')"
      ],
      "execution_count": 70,
      "outputs": []
    },
    {
      "cell_type": "code",
      "metadata": {
        "id": "1GedOQfF8qWL",
        "colab_type": "code",
        "colab": {
          "base_uri": "https://localhost:8080/",
          "height": 67
        },
        "outputId": "7122b14f-734f-4ffe-8f17-6987adacebda"
      },
      "source": [
        "print(clusters)"
      ],
      "execution_count": 71,
      "outputs": [
        {
          "output_type": "stream",
          "text": [
            "[2 3 3 3 3 3 3 3 3 3 3 3 2 2 3 3 3 3 3 3 3 3 3 3 3 3 3 3 3 3 3 3 3 2 3 3 3\n",
            " 3 3 3 3 3 3 3 3 3 3 1 3 2 2 1 1 2 2 2 3 1 3 3 1 1 3 2 2 3 1 3 1 1 1 1 1 1\n",
            " 2 1 1 1 1 1 2 1 1 2 1 1 2 3 3 3 3 3 3 2 2 2 2 3 2 2 2 2 2 3 2 2 2 1 3 3]\n"
          ],
          "name": "stdout"
        }
      ]
    },
    {
      "cell_type": "code",
      "metadata": {
        "id": "TIZKQGWz9a-4",
        "colab_type": "code",
        "colab": {
          "base_uri": "https://localhost:8080/",
          "height": 118
        },
        "outputId": "20820ffc-f0d1-4a2f-ab2f-f097e0ed4d00"
      },
      "source": [
        "df_out2['clustering jerarquico']=clusters"
      ],
      "execution_count": 75,
      "outputs": [
        {
          "output_type": "stream",
          "text": [
            "/usr/local/lib/python3.6/dist-packages/ipykernel_launcher.py:1: SettingWithCopyWarning: \n",
            "A value is trying to be set on a copy of a slice from a DataFrame.\n",
            "Try using .loc[row_indexer,col_indexer] = value instead\n",
            "\n",
            "See the caveats in the documentation: https://pandas.pydata.org/pandas-docs/stable/user_guide/indexing.html#returning-a-view-versus-a-copy\n",
            "  \"\"\"Entry point for launching an IPython kernel.\n"
          ],
          "name": "stderr"
        }
      ]
    },
    {
      "cell_type": "code",
      "metadata": {
        "id": "ZPXoSEx9-9sb",
        "colab_type": "code",
        "colab": {
          "base_uri": "https://localhost:8080/",
          "height": 343
        },
        "outputId": "17a42a90-396b-4bdb-b42e-eec038ff11e7"
      },
      "source": [
        "df_out2.head(10)"
      ],
      "execution_count": 82,
      "outputs": [
        {
          "output_type": "execute_result",
          "data": {
            "text/html": [
              "<div>\n",
              "<style scoped>\n",
              "    .dataframe tbody tr th:only-of-type {\n",
              "        vertical-align: middle;\n",
              "    }\n",
              "\n",
              "    .dataframe tbody tr th {\n",
              "        vertical-align: top;\n",
              "    }\n",
              "\n",
              "    .dataframe thead th {\n",
              "        text-align: right;\n",
              "    }\n",
              "</style>\n",
              "<table border=\"1\" class=\"dataframe\">\n",
              "  <thead>\n",
              "    <tr style=\"text-align: right;\">\n",
              "      <th></th>\n",
              "      <th>oil</th>\n",
              "      <th>inter</th>\n",
              "      <th>oecd</th>\n",
              "      <th>gdp60</th>\n",
              "      <th>gdp85</th>\n",
              "      <th>gdpgrowth</th>\n",
              "      <th>popgrowth</th>\n",
              "      <th>invest</th>\n",
              "      <th>school</th>\n",
              "      <th>literacy60</th>\n",
              "      <th>clustering_jerarquico</th>\n",
              "    </tr>\n",
              "  </thead>\n",
              "  <tbody>\n",
              "    <tr>\n",
              "      <th>0</th>\n",
              "      <td>no</td>\n",
              "      <td>yes</td>\n",
              "      <td>no</td>\n",
              "      <td>2485.0</td>\n",
              "      <td>4371.0</td>\n",
              "      <td>4.8</td>\n",
              "      <td>2.6</td>\n",
              "      <td>24.1</td>\n",
              "      <td>4.5</td>\n",
              "      <td>10.0</td>\n",
              "      <td>2</td>\n",
              "    </tr>\n",
              "    <tr>\n",
              "      <th>1</th>\n",
              "      <td>no</td>\n",
              "      <td>no</td>\n",
              "      <td>no</td>\n",
              "      <td>1588.0</td>\n",
              "      <td>1171.0</td>\n",
              "      <td>0.8</td>\n",
              "      <td>2.1</td>\n",
              "      <td>5.8</td>\n",
              "      <td>1.8</td>\n",
              "      <td>5.0</td>\n",
              "      <td>3</td>\n",
              "    </tr>\n",
              "    <tr>\n",
              "      <th>2</th>\n",
              "      <td>no</td>\n",
              "      <td>no</td>\n",
              "      <td>no</td>\n",
              "      <td>1116.0</td>\n",
              "      <td>1071.0</td>\n",
              "      <td>2.2</td>\n",
              "      <td>2.4</td>\n",
              "      <td>10.8</td>\n",
              "      <td>1.8</td>\n",
              "      <td>5.0</td>\n",
              "      <td>3</td>\n",
              "    </tr>\n",
              "    <tr>\n",
              "      <th>3</th>\n",
              "      <td>no</td>\n",
              "      <td>yes</td>\n",
              "      <td>no</td>\n",
              "      <td>959.0</td>\n",
              "      <td>3671.0</td>\n",
              "      <td>8.6</td>\n",
              "      <td>3.2</td>\n",
              "      <td>28.3</td>\n",
              "      <td>2.9</td>\n",
              "      <td>5.0</td>\n",
              "      <td>3</td>\n",
              "    </tr>\n",
              "    <tr>\n",
              "      <th>4</th>\n",
              "      <td>no</td>\n",
              "      <td>no</td>\n",
              "      <td>no</td>\n",
              "      <td>529.0</td>\n",
              "      <td>857.0</td>\n",
              "      <td>2.9</td>\n",
              "      <td>0.9</td>\n",
              "      <td>12.7</td>\n",
              "      <td>0.4</td>\n",
              "      <td>2.0</td>\n",
              "      <td>3</td>\n",
              "    </tr>\n",
              "    <tr>\n",
              "      <th>5</th>\n",
              "      <td>no</td>\n",
              "      <td>no</td>\n",
              "      <td>no</td>\n",
              "      <td>755.0</td>\n",
              "      <td>663.0</td>\n",
              "      <td>1.2</td>\n",
              "      <td>1.7</td>\n",
              "      <td>5.1</td>\n",
              "      <td>0.4</td>\n",
              "      <td>14.0</td>\n",
              "      <td>3</td>\n",
              "    </tr>\n",
              "    <tr>\n",
              "      <th>6</th>\n",
              "      <td>no</td>\n",
              "      <td>yes</td>\n",
              "      <td>no</td>\n",
              "      <td>889.0</td>\n",
              "      <td>2190.0</td>\n",
              "      <td>5.7</td>\n",
              "      <td>2.1</td>\n",
              "      <td>12.8</td>\n",
              "      <td>3.4</td>\n",
              "      <td>19.0</td>\n",
              "      <td>3</td>\n",
              "    </tr>\n",
              "    <tr>\n",
              "      <th>7</th>\n",
              "      <td>no</td>\n",
              "      <td>no</td>\n",
              "      <td>no</td>\n",
              "      <td>838.0</td>\n",
              "      <td>789.0</td>\n",
              "      <td>1.5</td>\n",
              "      <td>1.7</td>\n",
              "      <td>10.5</td>\n",
              "      <td>1.4</td>\n",
              "      <td>7.0</td>\n",
              "      <td>3</td>\n",
              "    </tr>\n",
              "    <tr>\n",
              "      <th>8</th>\n",
              "      <td>no</td>\n",
              "      <td>no</td>\n",
              "      <td>no</td>\n",
              "      <td>908.0</td>\n",
              "      <td>462.0</td>\n",
              "      <td>-0.9</td>\n",
              "      <td>1.9</td>\n",
              "      <td>6.9</td>\n",
              "      <td>0.4</td>\n",
              "      <td>6.0</td>\n",
              "      <td>3</td>\n",
              "    </tr>\n",
              "    <tr>\n",
              "      <th>9</th>\n",
              "      <td>no</td>\n",
              "      <td>no</td>\n",
              "      <td>no</td>\n",
              "      <td>1009.0</td>\n",
              "      <td>2624.0</td>\n",
              "      <td>6.2</td>\n",
              "      <td>2.4</td>\n",
              "      <td>28.8</td>\n",
              "      <td>3.8</td>\n",
              "      <td>16.0</td>\n",
              "      <td>3</td>\n",
              "    </tr>\n",
              "  </tbody>\n",
              "</table>\n",
              "</div>"
            ],
            "text/plain": [
              "  oil inter oecd   gdp60   gdp85  gdpgrowth  popgrowth  invest  school  \\\n",
              "0  no   yes   no  2485.0  4371.0        4.8        2.6    24.1     4.5   \n",
              "1  no    no   no  1588.0  1171.0        0.8        2.1     5.8     1.8   \n",
              "2  no    no   no  1116.0  1071.0        2.2        2.4    10.8     1.8   \n",
              "3  no   yes   no   959.0  3671.0        8.6        3.2    28.3     2.9   \n",
              "4  no    no   no   529.0   857.0        2.9        0.9    12.7     0.4   \n",
              "5  no    no   no   755.0   663.0        1.2        1.7     5.1     0.4   \n",
              "6  no   yes   no   889.0  2190.0        5.7        2.1    12.8     3.4   \n",
              "7  no    no   no   838.0   789.0        1.5        1.7    10.5     1.4   \n",
              "8  no    no   no   908.0   462.0       -0.9        1.9     6.9     0.4   \n",
              "9  no    no   no  1009.0  2624.0        6.2        2.4    28.8     3.8   \n",
              "\n",
              "   literacy60  clustering_jerarquico  \n",
              "0        10.0                      2  \n",
              "1         5.0                      3  \n",
              "2         5.0                      3  \n",
              "3         5.0                      3  \n",
              "4         2.0                      3  \n",
              "5        14.0                      3  \n",
              "6        19.0                      3  \n",
              "7         7.0                      3  \n",
              "8         6.0                      3  \n",
              "9        16.0                      3  "
            ]
          },
          "metadata": {
            "tags": []
          },
          "execution_count": 82
        }
      ]
    },
    {
      "cell_type": "code",
      "metadata": {
        "id": "oaUq8x-N0N4h",
        "colab_type": "code",
        "colab": {
          "base_uri": "https://localhost:8080/",
          "height": 67
        },
        "outputId": "ec89f94c-9c81-4266-c1ef-6369604abd2b"
      },
      "source": [
        "from sklearn.cluster import AgglomerativeClustering\n",
        " \n",
        "cluster = AgglomerativeClustering(n_clusters=3, affinity='euclidean', linkage='ward')  \n",
        "categorias = cluster.fit_predict(data)\n",
        "print(categorias)"
      ],
      "execution_count": 44,
      "outputs": [
        {
          "output_type": "stream",
          "text": [
            "[2 1 1 1 1 1 1 1 1 1 1 1 2 2 1 1 1 1 1 1 1 1 1 1 1 1 1 1 1 1 1 1 1 2 1 1 1\n",
            " 1 1 1 1 1 1 1 1 1 1 0 1 2 2 0 0 2 2 2 1 0 1 1 0 0 1 2 2 1 0 1 0 0 0 0 0 0\n",
            " 2 0 0 0 0 0 2 0 0 2 0 0 2 1 1 1 1 1 1 2 2 2 2 1 2 2 2 2 2 1 2 2 2 0 1 1]\n"
          ],
          "name": "stdout"
        }
      ]
    },
    {
      "cell_type": "code",
      "metadata": {
        "id": "ahiKgTJo0Nt2",
        "colab_type": "code",
        "colab": {}
      },
      "source": [
        ""
      ],
      "execution_count": null,
      "outputs": []
    },
    {
      "cell_type": "code",
      "metadata": {
        "id": "TeaZkqJEjw2l",
        "colab_type": "code",
        "colab": {
          "base_uri": "https://localhost:8080/",
          "height": 823
        },
        "outputId": "23f0fcf1-283b-4a1d-8c95-3aba776bff00"
      },
      "source": [
        "#Regresion lineal\n",
        "import sklearn.linear_model\n",
        "fig=plt.figure(figsize=(14,14))\n",
        "df_out3=df_out2.sort_values('gdp60')\n",
        "#plt.scatter(df_out3['gdp60'],df_out3['literacy60'])\n",
        "plt.plot(df_out3['gdp60'],df_out3['literacy60'])\n",
        "plt.xlabel('PBI 1960')\n",
        "plt.ylabel('Fraction of the population over 15 years old that is able to read and write in 1960 (in percent).')\n",
        "plt.grid()\n"
      ],
      "execution_count": 42,
      "outputs": [
        {
          "output_type": "display_data",
          "data": {
            "image/png": "[encoded data removed]",
            "text/plain": [
              "<Figure size 1008x1008 with 1 Axes>"
            ]
          },
          "metadata": {
            "tags": [],
            "needs_background": "light"
          }
        }
      ]
    },
    {
      "cell_type": "code",
      "metadata": {
        "id": "_EUSos2nppN3",
        "colab_type": "code",
        "colab": {}
      },
      "source": [
        "x=df_out2.iloc[:,[3,4,5,6,7,8]]\n",
        "y=df_out2.iloc[:,4]"
      ],
      "execution_count": null,
      "outputs": []
    },
    {
      "cell_type": "code",
      "metadata": {
        "id": "Dy-_gov0p_vc",
        "colab_type": "code",
        "colab": {}
      },
      "source": [
        "eje_x=list(range(x.shape[0]))\n",
        "eje_y=y"
      ],
      "execution_count": null,
      "outputs": []
    },
    {
      "cell_type": "code",
      "metadata": {
        "id": "vdZjpVv4sGc3",
        "colab_type": "code",
        "colab": {
          "base_uri": "https://localhost:8080/",
          "height": 162
        },
        "outputId": "a707eb90-4b70-4ef4-8d29-d51e19a025ae"
      },
      "source": [
        ""
      ],
      "execution_count": null,
      "outputs": [
        {
          "output_type": "error",
          "ename": "NameError",
          "evalue": "ignored",
          "traceback": [
            "\u001b[0;31m---------------------------------------------------------------------------\u001b[0m",
            "\u001b[0;31mNameError\u001b[0m                                 Traceback (most recent call last)",
            "\u001b[0;32m<ipython-input-76-a20d82c6a218>\u001b[0m in \u001b[0;36m<module>\u001b[0;34m()\u001b[0m\n\u001b[0;32m----> 1\u001b[0;31m \u001b[0mprint\u001b[0m\u001b[0;34m(\u001b[0m\u001b[0mregr\u001b[0m\u001b[0;34m.\u001b[0m\u001b[0mfit\u001b[0m\u001b[0;34m(\u001b[0m\u001b[0mx\u001b[0m\u001b[0;34m,\u001b[0m\u001b[0my\u001b[0m\u001b[0;34m)\u001b[0m\u001b[0;34m)\u001b[0m\u001b[0;34m\u001b[0m\u001b[0;34m\u001b[0m\u001b[0m\n\u001b[0m",
            "\u001b[0;31mNameError\u001b[0m: name 'regr' is not defined"
          ]
        }
      ]
    },
    {
      "cell_type": "code",
      "metadata": {
        "id": "vzx0RFMusGM_",
        "colab_type": "code",
        "colab": {}
      },
      "source": [
        "p"
      ],
      "execution_count": null,
      "outputs": []
    }
  ]
}