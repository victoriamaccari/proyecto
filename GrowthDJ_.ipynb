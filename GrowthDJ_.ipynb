{
  "nbformat": 4,
  "nbformat_minor": 0,
  "metadata": {
    "colab": {
      "name": "GrowthDJ -",
      "provenance": [],
      "toc_visible": true,
      "authorship_tag": "ABX9TyNZVrpSeeei5/YndqT4zx/V",
      "include_colab_link": true
    },
    "kernelspec": {
      "name": "python3",
      "display_name": "Python 3"
    }
  },
  "cells": [
    {
      "cell_type": "markdown",
      "metadata": {
        "id": "view-in-github",
        "colab_type": "text"
      },
      "source": [
        "<a href=\"https://colab.research.google.com/github/victoriamaccari/proyecto/blob/master/GrowthDJ_.ipynb\" target=\"_parent\"><img src=\"https://colab.research.google.com/assets/colab-badge.svg\" alt=\"Open In Colab\"/></a>"
      ]
    },
    {
      "cell_type": "markdown",
      "metadata": {
        "id": "MomkMOpPJ5KT"
      },
      "source": [
        "# Preproceso de datos\n",
        "\n",
        "\n"
      ]
    },
    {
      "cell_type": "markdown",
      "metadata": {
        "id": "mxq3gBP7L1ZD"
      },
      "source": [
        "\n",
        "\n",
        "#####carga de datos\n",
        "\n"
      ]
    },
    {
      "cell_type": "markdown",
      "metadata": {
        "id": "QHsOFTuMKBTF"
      },
      "source": [
        ""
      ]
    },
    {
      "cell_type": "code",
      "metadata": {
        "id": "IqOX5oVDEhzw"
      },
      "source": [
        "import pandas as pd"
      ],
      "execution_count": 82,
      "outputs": []
    },
    {
      "cell_type": "code",
      "metadata": {
        "id": "SfyYy3SzEnlH"
      },
      "source": [
        "url= \"https://raw.githubusercontent.com/victoriamaccari/proyecto/master/GrowthDJ.csv\""
      ],
      "execution_count": 83,
      "outputs": []
    },
    {
      "cell_type": "code",
      "metadata": {
        "id": "csKyPQeUEuAW"
      },
      "source": [
        "df= pd.read_csv(url)"
      ],
      "execution_count": 84,
      "outputs": []
    },
    {
      "cell_type": "code",
      "metadata": {
        "id": "U2DoWFVuFUmI",
        "outputId": "7ecbb67a-2698-4251-c7c9-a16cbc18dea7",
        "colab": {
          "base_uri": "https://localhost:8080/",
          "height": 343
        }
      },
      "source": [
        "df.head(10)"
      ],
      "execution_count": 85,
      "outputs": [
        {
          "output_type": "execute_result",
          "data": {
            "text/html": [
              "<div>\n",
              "<style scoped>\n",
              "    .dataframe tbody tr th:only-of-type {\n",
              "        vertical-align: middle;\n",
              "    }\n",
              "\n",
              "    .dataframe tbody tr th {\n",
              "        vertical-align: top;\n",
              "    }\n",
              "\n",
              "    .dataframe thead th {\n",
              "        text-align: right;\n",
              "    }\n",
              "</style>\n",
              "<table border=\"1\" class=\"dataframe\">\n",
              "  <thead>\n",
              "    <tr style=\"text-align: right;\">\n",
              "      <th></th>\n",
              "      <th>Unnamed: 0</th>\n",
              "      <th>oil</th>\n",
              "      <th>inter</th>\n",
              "      <th>oecd</th>\n",
              "      <th>gdp60</th>\n",
              "      <th>gdp85</th>\n",
              "      <th>gdpgrowth</th>\n",
              "      <th>popgrowth</th>\n",
              "      <th>invest</th>\n",
              "      <th>school</th>\n",
              "      <th>literacy60</th>\n",
              "    </tr>\n",
              "  </thead>\n",
              "  <tbody>\n",
              "    <tr>\n",
              "      <th>0</th>\n",
              "      <td>1</td>\n",
              "      <td>no</td>\n",
              "      <td>yes</td>\n",
              "      <td>no</td>\n",
              "      <td>2485.0</td>\n",
              "      <td>4371.0</td>\n",
              "      <td>4.8</td>\n",
              "      <td>2.6</td>\n",
              "      <td>24.1</td>\n",
              "      <td>4.5</td>\n",
              "      <td>10.0</td>\n",
              "    </tr>\n",
              "    <tr>\n",
              "      <th>1</th>\n",
              "      <td>2</td>\n",
              "      <td>no</td>\n",
              "      <td>no</td>\n",
              "      <td>no</td>\n",
              "      <td>1588.0</td>\n",
              "      <td>1171.0</td>\n",
              "      <td>0.8</td>\n",
              "      <td>2.1</td>\n",
              "      <td>5.8</td>\n",
              "      <td>1.8</td>\n",
              "      <td>5.0</td>\n",
              "    </tr>\n",
              "    <tr>\n",
              "      <th>2</th>\n",
              "      <td>3</td>\n",
              "      <td>no</td>\n",
              "      <td>no</td>\n",
              "      <td>no</td>\n",
              "      <td>1116.0</td>\n",
              "      <td>1071.0</td>\n",
              "      <td>2.2</td>\n",
              "      <td>2.4</td>\n",
              "      <td>10.8</td>\n",
              "      <td>1.8</td>\n",
              "      <td>5.0</td>\n",
              "    </tr>\n",
              "    <tr>\n",
              "      <th>3</th>\n",
              "      <td>4</td>\n",
              "      <td>no</td>\n",
              "      <td>yes</td>\n",
              "      <td>no</td>\n",
              "      <td>959.0</td>\n",
              "      <td>3671.0</td>\n",
              "      <td>8.6</td>\n",
              "      <td>3.2</td>\n",
              "      <td>28.3</td>\n",
              "      <td>2.9</td>\n",
              "      <td>NaN</td>\n",
              "    </tr>\n",
              "    <tr>\n",
              "      <th>4</th>\n",
              "      <td>5</td>\n",
              "      <td>no</td>\n",
              "      <td>no</td>\n",
              "      <td>no</td>\n",
              "      <td>529.0</td>\n",
              "      <td>857.0</td>\n",
              "      <td>2.9</td>\n",
              "      <td>0.9</td>\n",
              "      <td>12.7</td>\n",
              "      <td>0.4</td>\n",
              "      <td>2.0</td>\n",
              "    </tr>\n",
              "    <tr>\n",
              "      <th>5</th>\n",
              "      <td>6</td>\n",
              "      <td>no</td>\n",
              "      <td>no</td>\n",
              "      <td>no</td>\n",
              "      <td>755.0</td>\n",
              "      <td>663.0</td>\n",
              "      <td>1.2</td>\n",
              "      <td>1.7</td>\n",
              "      <td>5.1</td>\n",
              "      <td>0.4</td>\n",
              "      <td>14.0</td>\n",
              "    </tr>\n",
              "    <tr>\n",
              "      <th>6</th>\n",
              "      <td>7</td>\n",
              "      <td>no</td>\n",
              "      <td>yes</td>\n",
              "      <td>no</td>\n",
              "      <td>889.0</td>\n",
              "      <td>2190.0</td>\n",
              "      <td>5.7</td>\n",
              "      <td>2.1</td>\n",
              "      <td>12.8</td>\n",
              "      <td>3.4</td>\n",
              "      <td>19.0</td>\n",
              "    </tr>\n",
              "    <tr>\n",
              "      <th>7</th>\n",
              "      <td>8</td>\n",
              "      <td>no</td>\n",
              "      <td>no</td>\n",
              "      <td>no</td>\n",
              "      <td>838.0</td>\n",
              "      <td>789.0</td>\n",
              "      <td>1.5</td>\n",
              "      <td>1.7</td>\n",
              "      <td>10.5</td>\n",
              "      <td>1.4</td>\n",
              "      <td>7.0</td>\n",
              "    </tr>\n",
              "    <tr>\n",
              "      <th>8</th>\n",
              "      <td>9</td>\n",
              "      <td>no</td>\n",
              "      <td>no</td>\n",
              "      <td>no</td>\n",
              "      <td>908.0</td>\n",
              "      <td>462.0</td>\n",
              "      <td>-0.9</td>\n",
              "      <td>1.9</td>\n",
              "      <td>6.9</td>\n",
              "      <td>0.4</td>\n",
              "      <td>6.0</td>\n",
              "    </tr>\n",
              "    <tr>\n",
              "      <th>9</th>\n",
              "      <td>10</td>\n",
              "      <td>no</td>\n",
              "      <td>no</td>\n",
              "      <td>no</td>\n",
              "      <td>1009.0</td>\n",
              "      <td>2624.0</td>\n",
              "      <td>6.2</td>\n",
              "      <td>2.4</td>\n",
              "      <td>28.8</td>\n",
              "      <td>3.8</td>\n",
              "      <td>16.0</td>\n",
              "    </tr>\n",
              "  </tbody>\n",
              "</table>\n",
              "</div>"
            ],
            "text/plain": [
              "   Unnamed: 0 oil inter oecd   gdp60   gdp85  gdpgrowth  popgrowth  invest  \\\n",
              "0           1  no   yes   no  2485.0  4371.0        4.8        2.6    24.1   \n",
              "1           2  no    no   no  1588.0  1171.0        0.8        2.1     5.8   \n",
              "2           3  no    no   no  1116.0  1071.0        2.2        2.4    10.8   \n",
              "3           4  no   yes   no   959.0  3671.0        8.6        3.2    28.3   \n",
              "4           5  no    no   no   529.0   857.0        2.9        0.9    12.7   \n",
              "5           6  no    no   no   755.0   663.0        1.2        1.7     5.1   \n",
              "6           7  no   yes   no   889.0  2190.0        5.7        2.1    12.8   \n",
              "7           8  no    no   no   838.0   789.0        1.5        1.7    10.5   \n",
              "8           9  no    no   no   908.0   462.0       -0.9        1.9     6.9   \n",
              "9          10  no    no   no  1009.0  2624.0        6.2        2.4    28.8   \n",
              "\n",
              "   school  literacy60  \n",
              "0     4.5        10.0  \n",
              "1     1.8         5.0  \n",
              "2     1.8         5.0  \n",
              "3     2.9         NaN  \n",
              "4     0.4         2.0  \n",
              "5     0.4        14.0  \n",
              "6     3.4        19.0  \n",
              "7     1.4         7.0  \n",
              "8     0.4         6.0  \n",
              "9     3.8        16.0  "
            ]
          },
          "metadata": {
            "tags": []
          },
          "execution_count": 85
        }
      ]
    },
    {
      "cell_type": "code",
      "metadata": {
        "id": "F3e_xz8GRTI6",
        "outputId": "4e48b6a6-c92f-461a-da08-fabb20be3bf7",
        "colab": {
          "base_uri": "https://localhost:8080/",
          "height": 319
        }
      },
      "source": [
        "df.info()"
      ],
      "execution_count": 86,
      "outputs": [
        {
          "output_type": "stream",
          "text": [
            "<class 'pandas.core.frame.DataFrame'>\n",
            "RangeIndex: 121 entries, 0 to 120\n",
            "Data columns (total 11 columns):\n",
            " #   Column      Non-Null Count  Dtype  \n",
            "---  ------      --------------  -----  \n",
            " 0   Unnamed: 0  121 non-null    int64  \n",
            " 1   oil         121 non-null    object \n",
            " 2   inter       121 non-null    object \n",
            " 3   oecd        121 non-null    object \n",
            " 4   gdp60       116 non-null    float64\n",
            " 5   gdp85       108 non-null    float64\n",
            " 6   gdpgrowth   117 non-null    float64\n",
            " 7   popgrowth   107 non-null    float64\n",
            " 8   invest      121 non-null    float64\n",
            " 9   school      118 non-null    float64\n",
            " 10  literacy60  103 non-null    float64\n",
            "dtypes: float64(7), int64(1), object(3)\n",
            "memory usage: 10.5+ KB\n"
          ],
          "name": "stdout"
        }
      ]
    },
    {
      "cell_type": "code",
      "metadata": {
        "id": "MLw87ERjI6s7"
      },
      "source": [
        "#elimino columna Unnamed:0\n",
        "df.drop(df.columns[[0]], axis='columns', inplace=True)"
      ],
      "execution_count": 87,
      "outputs": []
    },
    {
      "cell_type": "code",
      "metadata": {
        "id": "r0OIa_kV-wvX",
        "outputId": "9a9ed547-d797-4c1b-d581-7d9ca5a7e53c",
        "colab": {
          "base_uri": "https://localhost:8080/",
          "height": 343
        }
      },
      "source": [
        "df.head(10)"
      ],
      "execution_count": 88,
      "outputs": [
        {
          "output_type": "execute_result",
          "data": {
            "text/html": [
              "<div>\n",
              "<style scoped>\n",
              "    .dataframe tbody tr th:only-of-type {\n",
              "        vertical-align: middle;\n",
              "    }\n",
              "\n",
              "    .dataframe tbody tr th {\n",
              "        vertical-align: top;\n",
              "    }\n",
              "\n",
              "    .dataframe thead th {\n",
              "        text-align: right;\n",
              "    }\n",
              "</style>\n",
              "<table border=\"1\" class=\"dataframe\">\n",
              "  <thead>\n",
              "    <tr style=\"text-align: right;\">\n",
              "      <th></th>\n",
              "      <th>oil</th>\n",
              "      <th>inter</th>\n",
              "      <th>oecd</th>\n",
              "      <th>gdp60</th>\n",
              "      <th>gdp85</th>\n",
              "      <th>gdpgrowth</th>\n",
              "      <th>popgrowth</th>\n",
              "      <th>invest</th>\n",
              "      <th>school</th>\n",
              "      <th>literacy60</th>\n",
              "    </tr>\n",
              "  </thead>\n",
              "  <tbody>\n",
              "    <tr>\n",
              "      <th>0</th>\n",
              "      <td>no</td>\n",
              "      <td>yes</td>\n",
              "      <td>no</td>\n",
              "      <td>2485.0</td>\n",
              "      <td>4371.0</td>\n",
              "      <td>4.8</td>\n",
              "      <td>2.6</td>\n",
              "      <td>24.1</td>\n",
              "      <td>4.5</td>\n",
              "      <td>10.0</td>\n",
              "    </tr>\n",
              "    <tr>\n",
              "      <th>1</th>\n",
              "      <td>no</td>\n",
              "      <td>no</td>\n",
              "      <td>no</td>\n",
              "      <td>1588.0</td>\n",
              "      <td>1171.0</td>\n",
              "      <td>0.8</td>\n",
              "      <td>2.1</td>\n",
              "      <td>5.8</td>\n",
              "      <td>1.8</td>\n",
              "      <td>5.0</td>\n",
              "    </tr>\n",
              "    <tr>\n",
              "      <th>2</th>\n",
              "      <td>no</td>\n",
              "      <td>no</td>\n",
              "      <td>no</td>\n",
              "      <td>1116.0</td>\n",
              "      <td>1071.0</td>\n",
              "      <td>2.2</td>\n",
              "      <td>2.4</td>\n",
              "      <td>10.8</td>\n",
              "      <td>1.8</td>\n",
              "      <td>5.0</td>\n",
              "    </tr>\n",
              "    <tr>\n",
              "      <th>3</th>\n",
              "      <td>no</td>\n",
              "      <td>yes</td>\n",
              "      <td>no</td>\n",
              "      <td>959.0</td>\n",
              "      <td>3671.0</td>\n",
              "      <td>8.6</td>\n",
              "      <td>3.2</td>\n",
              "      <td>28.3</td>\n",
              "      <td>2.9</td>\n",
              "      <td>NaN</td>\n",
              "    </tr>\n",
              "    <tr>\n",
              "      <th>4</th>\n",
              "      <td>no</td>\n",
              "      <td>no</td>\n",
              "      <td>no</td>\n",
              "      <td>529.0</td>\n",
              "      <td>857.0</td>\n",
              "      <td>2.9</td>\n",
              "      <td>0.9</td>\n",
              "      <td>12.7</td>\n",
              "      <td>0.4</td>\n",
              "      <td>2.0</td>\n",
              "    </tr>\n",
              "    <tr>\n",
              "      <th>5</th>\n",
              "      <td>no</td>\n",
              "      <td>no</td>\n",
              "      <td>no</td>\n",
              "      <td>755.0</td>\n",
              "      <td>663.0</td>\n",
              "      <td>1.2</td>\n",
              "      <td>1.7</td>\n",
              "      <td>5.1</td>\n",
              "      <td>0.4</td>\n",
              "      <td>14.0</td>\n",
              "    </tr>\n",
              "    <tr>\n",
              "      <th>6</th>\n",
              "      <td>no</td>\n",
              "      <td>yes</td>\n",
              "      <td>no</td>\n",
              "      <td>889.0</td>\n",
              "      <td>2190.0</td>\n",
              "      <td>5.7</td>\n",
              "      <td>2.1</td>\n",
              "      <td>12.8</td>\n",
              "      <td>3.4</td>\n",
              "      <td>19.0</td>\n",
              "    </tr>\n",
              "    <tr>\n",
              "      <th>7</th>\n",
              "      <td>no</td>\n",
              "      <td>no</td>\n",
              "      <td>no</td>\n",
              "      <td>838.0</td>\n",
              "      <td>789.0</td>\n",
              "      <td>1.5</td>\n",
              "      <td>1.7</td>\n",
              "      <td>10.5</td>\n",
              "      <td>1.4</td>\n",
              "      <td>7.0</td>\n",
              "    </tr>\n",
              "    <tr>\n",
              "      <th>8</th>\n",
              "      <td>no</td>\n",
              "      <td>no</td>\n",
              "      <td>no</td>\n",
              "      <td>908.0</td>\n",
              "      <td>462.0</td>\n",
              "      <td>-0.9</td>\n",
              "      <td>1.9</td>\n",
              "      <td>6.9</td>\n",
              "      <td>0.4</td>\n",
              "      <td>6.0</td>\n",
              "    </tr>\n",
              "    <tr>\n",
              "      <th>9</th>\n",
              "      <td>no</td>\n",
              "      <td>no</td>\n",
              "      <td>no</td>\n",
              "      <td>1009.0</td>\n",
              "      <td>2624.0</td>\n",
              "      <td>6.2</td>\n",
              "      <td>2.4</td>\n",
              "      <td>28.8</td>\n",
              "      <td>3.8</td>\n",
              "      <td>16.0</td>\n",
              "    </tr>\n",
              "  </tbody>\n",
              "</table>\n",
              "</div>"
            ],
            "text/plain": [
              "  oil inter oecd   gdp60   gdp85  gdpgrowth  popgrowth  invest  school  \\\n",
              "0  no   yes   no  2485.0  4371.0        4.8        2.6    24.1     4.5   \n",
              "1  no    no   no  1588.0  1171.0        0.8        2.1     5.8     1.8   \n",
              "2  no    no   no  1116.0  1071.0        2.2        2.4    10.8     1.8   \n",
              "3  no   yes   no   959.0  3671.0        8.6        3.2    28.3     2.9   \n",
              "4  no    no   no   529.0   857.0        2.9        0.9    12.7     0.4   \n",
              "5  no    no   no   755.0   663.0        1.2        1.7     5.1     0.4   \n",
              "6  no   yes   no   889.0  2190.0        5.7        2.1    12.8     3.4   \n",
              "7  no    no   no   838.0   789.0        1.5        1.7    10.5     1.4   \n",
              "8  no    no   no   908.0   462.0       -0.9        1.9     6.9     0.4   \n",
              "9  no    no   no  1009.0  2624.0        6.2        2.4    28.8     3.8   \n",
              "\n",
              "   literacy60  \n",
              "0        10.0  \n",
              "1         5.0  \n",
              "2         5.0  \n",
              "3         NaN  \n",
              "4         2.0  \n",
              "5        14.0  \n",
              "6        19.0  \n",
              "7         7.0  \n",
              "8         6.0  \n",
              "9        16.0  "
            ]
          },
          "metadata": {
            "tags": []
          },
          "execution_count": 88
        }
      ]
    },
    {
      "cell_type": "code",
      "metadata": {
        "id": "wc65gN1UCEya",
        "outputId": "bc0e2e55-241b-4f89-8454-61a77763bab6",
        "colab": {
          "base_uri": "https://localhost:8080/",
          "height": 168
        }
      },
      "source": [
        "print(df['gdp60'].describe())\n"
      ],
      "execution_count": 89,
      "outputs": [
        {
          "output_type": "stream",
          "text": [
            "count      116.000000\n",
            "mean      3681.818966\n",
            "std       7492.877637\n",
            "min        383.000000\n",
            "25%        973.250000\n",
            "50%       1962.000000\n",
            "75%       4274.500000\n",
            "max      77881.000000\n",
            "Name: gdp60, dtype: float64\n"
          ],
          "name": "stdout"
        }
      ]
    },
    {
      "cell_type": "markdown",
      "metadata": {
        "id": "ZM4o3gVXMBNq"
      },
      "source": [
        "#####Valores perdidos"
      ]
    },
    {
      "cell_type": "code",
      "metadata": {
        "id": "1weYO77PL_yu"
      },
      "source": [
        ""
      ],
      "execution_count": 89,
      "outputs": []
    },
    {
      "cell_type": "code",
      "metadata": {
        "id": "f8gbSTFSFUi3",
        "outputId": "34158b9a-9573-420a-fe51-9d85759f530b",
        "colab": {
          "base_uri": "https://localhost:8080/",
          "height": 202
        }
      },
      "source": [
        "#Comprobar si hay valores perdidos\n",
        "pd.isnull(df).any()\n",
        "\n"
      ],
      "execution_count": 90,
      "outputs": [
        {
          "output_type": "execute_result",
          "data": {
            "text/plain": [
              "oil           False\n",
              "inter         False\n",
              "oecd          False\n",
              "gdp60          True\n",
              "gdp85          True\n",
              "gdpgrowth      True\n",
              "popgrowth      True\n",
              "invest        False\n",
              "school         True\n",
              "literacy60     True\n",
              "dtype: bool"
            ]
          },
          "metadata": {
            "tags": []
          },
          "execution_count": 90
        }
      ]
    },
    {
      "cell_type": "code",
      "metadata": {
        "id": "0MaSbzZDHBTl",
        "outputId": "d3bfc825-5465-4ef3-b775-3666fc831a5e",
        "colab": {
          "base_uri": "https://localhost:8080/",
          "height": 202
        }
      },
      "source": [
        "#Total de valores perdidos por columna\n",
        "df.isnull().sum()"
      ],
      "execution_count": 91,
      "outputs": [
        {
          "output_type": "execute_result",
          "data": {
            "text/plain": [
              "oil            0\n",
              "inter          0\n",
              "oecd           0\n",
              "gdp60          5\n",
              "gdp85         13\n",
              "gdpgrowth      4\n",
              "popgrowth     14\n",
              "invest         0\n",
              "school         3\n",
              "literacy60    18\n",
              "dtype: int64"
            ]
          },
          "metadata": {
            "tags": []
          },
          "execution_count": 91
        }
      ]
    },
    {
      "cell_type": "code",
      "metadata": {
        "id": "1IwDlR2fKv4i"
      },
      "source": [
        "#Metodo fillna, asigna el valor previo o el ultimo valor valido\n",
        "df.fillna(method='ffill', inplace=True)"
      ],
      "execution_count": 92,
      "outputs": []
    },
    {
      "cell_type": "code",
      "metadata": {
        "id": "OAPBmO35LHIg",
        "outputId": "2d69f6ee-c3ea-47ec-df40-e48c14a59717",
        "colab": {
          "base_uri": "https://localhost:8080/",
          "height": 202
        }
      },
      "source": [
        "#Compruebo que no queden valores perdidos\n",
        "pd.isnull(df).any()"
      ],
      "execution_count": 93,
      "outputs": [
        {
          "output_type": "execute_result",
          "data": {
            "text/plain": [
              "oil           False\n",
              "inter         False\n",
              "oecd          False\n",
              "gdp60         False\n",
              "gdp85         False\n",
              "gdpgrowth     False\n",
              "popgrowth     False\n",
              "invest        False\n",
              "school        False\n",
              "literacy60    False\n",
              "dtype: bool"
            ]
          },
          "metadata": {
            "tags": []
          },
          "execution_count": 93
        }
      ]
    },
    {
      "cell_type": "code",
      "metadata": {
        "id": "bRu90NyKLnZR",
        "outputId": "b46cec4b-cdb4-41e1-e034-93bb87964423",
        "colab": {
          "base_uri": "https://localhost:8080/",
          "height": 1000
        }
      },
      "source": [
        "#Comprobar si hay valores duplicados, filtro para que me muestre True si hay duplicados\n",
        "df.duplicated(keep=False)"
      ],
      "execution_count": 94,
      "outputs": [
        {
          "output_type": "execute_result",
          "data": {
            "text/plain": [
              "0      False\n",
              "1      False\n",
              "2      False\n",
              "3      False\n",
              "4      False\n",
              "5      False\n",
              "6      False\n",
              "7      False\n",
              "8      False\n",
              "9      False\n",
              "10     False\n",
              "11     False\n",
              "12     False\n",
              "13     False\n",
              "14     False\n",
              "15     False\n",
              "16     False\n",
              "17     False\n",
              "18     False\n",
              "19     False\n",
              "20     False\n",
              "21     False\n",
              "22     False\n",
              "23     False\n",
              "24     False\n",
              "25     False\n",
              "26     False\n",
              "27     False\n",
              "28     False\n",
              "29     False\n",
              "30     False\n",
              "31     False\n",
              "32     False\n",
              "33     False\n",
              "34     False\n",
              "35     False\n",
              "36     False\n",
              "37     False\n",
              "38     False\n",
              "39     False\n",
              "40     False\n",
              "41     False\n",
              "42     False\n",
              "43     False\n",
              "44     False\n",
              "45     False\n",
              "46     False\n",
              "47     False\n",
              "48     False\n",
              "49     False\n",
              "50     False\n",
              "51     False\n",
              "52     False\n",
              "53     False\n",
              "54     False\n",
              "55     False\n",
              "56     False\n",
              "57     False\n",
              "58     False\n",
              "59     False\n",
              "60     False\n",
              "61     False\n",
              "62     False\n",
              "63     False\n",
              "64     False\n",
              "65     False\n",
              "66     False\n",
              "67     False\n",
              "68     False\n",
              "69     False\n",
              "70     False\n",
              "71     False\n",
              "72     False\n",
              "73     False\n",
              "74     False\n",
              "75     False\n",
              "76     False\n",
              "77     False\n",
              "78     False\n",
              "79     False\n",
              "80     False\n",
              "81     False\n",
              "82     False\n",
              "83     False\n",
              "84     False\n",
              "85     False\n",
              "86     False\n",
              "87     False\n",
              "88     False\n",
              "89     False\n",
              "90     False\n",
              "91     False\n",
              "92     False\n",
              "93     False\n",
              "94     False\n",
              "95     False\n",
              "96     False\n",
              "97     False\n",
              "98     False\n",
              "99     False\n",
              "100    False\n",
              "101    False\n",
              "102    False\n",
              "103    False\n",
              "104    False\n",
              "105    False\n",
              "106    False\n",
              "107    False\n",
              "108    False\n",
              "109    False\n",
              "110    False\n",
              "111    False\n",
              "112    False\n",
              "113    False\n",
              "114    False\n",
              "115    False\n",
              "116    False\n",
              "117    False\n",
              "118    False\n",
              "119    False\n",
              "120    False\n",
              "dtype: bool"
            ]
          },
          "metadata": {
            "tags": []
          },
          "execution_count": 94
        }
      ]
    },
    {
      "cell_type": "code",
      "metadata": {
        "id": "FRSlGbakMnOC"
      },
      "source": [
        "#Observo los datos\n",
        "import matplotlib.pyplot as plt\n"
      ],
      "execution_count": 95,
      "outputs": []
    },
    {
      "cell_type": "code",
      "metadata": {
        "id": "z4R8i6NAAn5P",
        "outputId": "c1584d43-b44d-4a77-8b58-a28060b2d821",
        "colab": {
          "base_uri": "https://localhost:8080/",
          "height": 417
        }
      },
      "source": [
        "fig, ax = plt.subplots(1, figsize=(10, 6))\n",
        "fig.suptitle('Grafico de dispersion')\n",
        "\n",
        "ax.scatter(df['gdp60'], df['gdp85'],\n",
        "            color=\"blue\",    # Color of the dots\n",
        "            s=100,           # Size of the dots\n",
        "            alpha=0.5,       # Alpha/transparency of the dots (1 is opaque, 0 is transparent)\n",
        "            linewidths=1)    # Size of edge around the dots\n",
        "\n",
        "# Show the plot\n",
        "plt.show()"
      ],
      "execution_count": 96,
      "outputs": [
        {
          "output_type": "display_data",
          "data": {
            "image/png": "[encoded data removed]",
            "text/plain": [
              "<Figure size 720x432 with 1 Axes>"
            ]
          },
          "metadata": {
            "tags": []
          }
        }
      ]
    },
    {
      "cell_type": "code",
      "metadata": {
        "id": "_q6AkbvKUrkL",
        "outputId": "1e5b4955-f5f8-400e-eddc-f1f131cec470",
        "colab": {
          "base_uri": "https://localhost:8080/",
          "height": 336
        }
      },
      "source": [
        "summary = df.describe()\n",
        "print(summary)"
      ],
      "execution_count": 97,
      "outputs": [
        {
          "output_type": "stream",
          "text": [
            "              gdp60         gdp85   gdpgrowth   popgrowth      invest  \\\n",
            "count    121.000000    121.000000  121.000000  121.000000  121.000000   \n",
            "mean    3587.983471   5857.661157    4.104132    2.231405   18.157025   \n",
            "std     7349.898268   5600.090048    1.908376    1.016615    7.853310   \n",
            "min      383.000000    412.000000   -0.900000    0.300000    4.100000   \n",
            "25%      978.000000   1237.000000    2.700000    1.600000   12.000000   \n",
            "50%     1939.000000   3775.000000    3.900000    2.400000   17.700000   \n",
            "75%     3766.000000   9903.000000    5.400000    2.900000   24.100000   \n",
            "max    77881.000000  25635.000000    9.200000    6.800000   36.900000   \n",
            "\n",
            "           school  literacy60  \n",
            "count  121.000000  121.000000  \n",
            "mean     5.537190   48.256198  \n",
            "std      3.502693   35.646302  \n",
            "min      0.400000    1.000000  \n",
            "25%      2.400000   15.000000  \n",
            "50%      4.900000   39.000000  \n",
            "75%      8.200000   84.000000  \n",
            "max     12.100000  100.000000  \n"
          ],
          "name": "stdout"
        }
      ]
    },
    {
      "cell_type": "code",
      "metadata": {
        "id": "edgvpJbrTJKz",
        "outputId": "98369da7-87b3-4991-89e7-67603b74d1ba",
        "colab": {
          "base_uri": "https://localhost:8080/",
          "height": 604
        }
      },
      "source": [
        "plt.hist(df[\"gdpgrowth\"])"
      ],
      "execution_count": 98,
      "outputs": [
        {
          "output_type": "execute_result",
          "data": {
            "text/plain": [
              "(array([ 1.,  5., 14., 16., 30., 21., 17., 10.,  4.,  3.]),\n",
              " array([-0.9 ,  0.11,  1.12,  2.13,  3.14,  4.15,  5.16,  6.17,  7.18,\n",
              "         8.19,  9.2 ]),\n",
              " <a list of 10 Patch objects>)"
            ]
          },
          "metadata": {
            "tags": []
          },
          "execution_count": 98
        },
        {
          "output_type": "display_data",
          "data": {
            "image/png": "[encoded data removed]",
            "text/plain": [
              "<Figure size 1152x648 with 1 Axes>"
            ]
          },
          "metadata": {
            "tags": []
          }
        }
      ]
    },
    {
      "cell_type": "markdown",
      "metadata": {
        "id": "q3YktVCoFoZj"
      },
      "source": [
        ""
      ]
    },
    {
      "cell_type": "code",
      "metadata": {
        "id": "DSvO5C0vTmkh",
        "outputId": "1563723c-5264-4cc3-db3d-76651ea6f90f",
        "colab": {
          "base_uri": "https://localhost:8080/",
          "height": 671
        }
      },
      "source": [
        "plt.boxplot(df['gdpgrowth'])"
      ],
      "execution_count": 99,
      "outputs": [
        {
          "output_type": "execute_result",
          "data": {
            "text/plain": [
              "{'boxes': [<matplotlib.lines.Line2D at 0x7f9051120668>],\n",
              " 'caps': [<matplotlib.lines.Line2D at 0x7f905112e0b8>,\n",
              "  <matplotlib.lines.Line2D at 0x7f905112e438>],\n",
              " 'fliers': [<matplotlib.lines.Line2D at 0x7f905112eb38>],\n",
              " 'means': [],\n",
              " 'medians': [<matplotlib.lines.Line2D at 0x7f905112e7b8>],\n",
              " 'whiskers': [<matplotlib.lines.Line2D at 0x7f9051120978>,\n",
              "  <matplotlib.lines.Line2D at 0x7f9051120cf8>]}"
            ]
          },
          "metadata": {
            "tags": []
          },
          "execution_count": 99
        },
        {
          "output_type": "display_data",
          "data": {
            "image/png": "[encoded data removed]",
            "text/plain": [
              "<Figure size 1152x648 with 1 Axes>"
            ]
          },
          "metadata": {
            "tags": []
          }
        }
      ]
    },
    {
      "cell_type": "code",
      "metadata": {
        "id": "zls_0K6gTzdu",
        "outputId": "3f8ece54-c183-468b-d37e-18bc39e514d7",
        "colab": {
          "base_uri": "https://localhost:8080/",
          "height": 671
        }
      },
      "source": [
        "plt.boxplot(df['popgrowth'])"
      ],
      "execution_count": 100,
      "outputs": [
        {
          "output_type": "execute_result",
          "data": {
            "text/plain": [
              "{'boxes': [<matplotlib.lines.Line2D at 0x7f90510fcc18>],\n",
              " 'caps': [<matplotlib.lines.Line2D at 0x7f905108d668>,\n",
              "  <matplotlib.lines.Line2D at 0x7f905108d9e8>],\n",
              " 'fliers': [<matplotlib.lines.Line2D at 0x7f9051096128>],\n",
              " 'means': [],\n",
              " 'medians': [<matplotlib.lines.Line2D at 0x7f905108dd68>],\n",
              " 'whiskers': [<matplotlib.lines.Line2D at 0x7f90510fcf28>,\n",
              "  <matplotlib.lines.Line2D at 0x7f905108d2e8>]}"
            ]
          },
          "metadata": {
            "tags": []
          },
          "execution_count": 100
        },
        {
          "output_type": "display_data",
          "data": {
            "image/png": "[encoded data removed]",
            "text/plain": [
              "<Figure size 1152x648 with 1 Axes>"
            ]
          },
          "metadata": {
            "tags": []
          }
        }
      ]
    },
    {
      "cell_type": "markdown",
      "metadata": {
        "id": "lZjBz1glKelT"
      },
      "source": [
        "##### Deteccion de outliers"
      ]
    },
    {
      "cell_type": "code",
      "metadata": {
        "id": "PN9LkXiSUWej",
        "outputId": "80d6189f-864f-4219-9b21-f925273efa55",
        "colab": {
          "base_uri": "https://localhost:8080/",
          "height": 151
        }
      },
      "source": [
        "#Deteccion de outliers\n",
        "#IQR para cada columna\n",
        "Q1 = df.quantile(0.25)\n",
        "Q3 = df.quantile(0.75)\n",
        "IQR = Q3 - Q1\n",
        "print(IQR)"
      ],
      "execution_count": 101,
      "outputs": [
        {
          "output_type": "stream",
          "text": [
            "gdp60         2788.0\n",
            "gdp85         8666.0\n",
            "gdpgrowth        2.7\n",
            "popgrowth        1.3\n",
            "invest          12.1\n",
            "school           5.8\n",
            "literacy60      69.0\n",
            "dtype: float64\n"
          ],
          "name": "stdout"
        }
      ]
    },
    {
      "cell_type": "code",
      "metadata": {
        "id": "qOBc8lfDdb24",
        "outputId": "95aaad16-4b15-49e6-8820-ef2f1cd9cd5c",
        "colab": {
          "base_uri": "https://localhost:8080/",
          "height": 1000
        }
      },
      "source": [
        "BI=(df < (Q1 - 1.5 * IQR)) \n",
        "print(BI)"
      ],
      "execution_count": 102,
      "outputs": [
        {
          "output_type": "stream",
          "text": [
            "     gdp60  gdp85  gdpgrowth  inter  invest  literacy60   oecd    oil  \\\n",
            "0    False  False      False  False   False       False  False  False   \n",
            "1    False  False      False  False   False       False  False  False   \n",
            "2    False  False      False  False   False       False  False  False   \n",
            "3    False  False      False  False   False       False  False  False   \n",
            "4    False  False      False  False   False       False  False  False   \n",
            "5    False  False      False  False   False       False  False  False   \n",
            "6    False  False      False  False   False       False  False  False   \n",
            "7    False  False      False  False   False       False  False  False   \n",
            "8    False  False      False  False   False       False  False  False   \n",
            "9    False  False      False  False   False       False  False  False   \n",
            "10   False  False      False  False   False       False  False  False   \n",
            "11   False  False      False  False   False       False  False  False   \n",
            "12   False  False      False  False   False       False  False  False   \n",
            "13   False  False      False  False   False       False  False  False   \n",
            "14   False  False      False  False   False       False  False  False   \n",
            "15   False  False      False  False   False       False  False  False   \n",
            "16   False  False      False  False   False       False  False  False   \n",
            "17   False  False      False  False   False       False  False  False   \n",
            "18   False  False      False  False   False       False  False  False   \n",
            "19   False  False      False  False   False       False  False  False   \n",
            "20   False  False      False  False   False       False  False  False   \n",
            "21   False  False      False  False   False       False  False  False   \n",
            "22   False  False      False  False   False       False  False  False   \n",
            "23   False  False      False  False   False       False  False  False   \n",
            "24   False  False      False  False   False       False  False  False   \n",
            "25   False  False      False  False   False       False  False  False   \n",
            "26   False  False      False  False   False       False  False  False   \n",
            "27   False  False      False  False   False       False  False  False   \n",
            "28   False  False      False  False   False       False  False  False   \n",
            "29   False  False      False  False   False       False  False  False   \n",
            "30   False  False      False  False   False       False  False  False   \n",
            "31   False  False      False  False   False       False  False  False   \n",
            "32   False  False      False  False   False       False  False  False   \n",
            "33   False  False      False  False   False       False  False  False   \n",
            "34   False  False      False  False   False       False  False  False   \n",
            "35   False  False      False  False   False       False  False  False   \n",
            "36   False  False      False  False   False       False  False  False   \n",
            "37   False  False      False  False   False       False  False  False   \n",
            "38   False  False      False  False   False       False  False  False   \n",
            "39   False  False      False  False   False       False  False  False   \n",
            "40   False  False      False  False   False       False  False  False   \n",
            "41   False  False      False  False   False       False  False  False   \n",
            "42   False  False      False  False   False       False  False  False   \n",
            "43   False  False      False  False   False       False  False  False   \n",
            "44   False  False      False  False   False       False  False  False   \n",
            "45   False  False      False  False   False       False  False  False   \n",
            "46   False  False      False  False   False       False  False  False   \n",
            "47   False  False      False  False   False       False  False  False   \n",
            "48   False  False      False  False   False       False  False  False   \n",
            "49   False  False      False  False   False       False  False  False   \n",
            "50   False  False      False  False   False       False  False  False   \n",
            "51   False  False      False  False   False       False  False  False   \n",
            "52   False  False      False  False   False       False  False  False   \n",
            "53   False  False      False  False   False       False  False  False   \n",
            "54   False  False      False  False   False       False  False  False   \n",
            "55   False  False      False  False   False       False  False  False   \n",
            "56   False  False      False  False   False       False  False  False   \n",
            "57   False  False      False  False   False       False  False  False   \n",
            "58   False  False      False  False   False       False  False  False   \n",
            "59   False  False      False  False   False       False  False  False   \n",
            "60   False  False      False  False   False       False  False  False   \n",
            "61   False  False      False  False   False       False  False  False   \n",
            "62   False  False      False  False   False       False  False  False   \n",
            "63   False  False      False  False   False       False  False  False   \n",
            "64   False  False      False  False   False       False  False  False   \n",
            "65   False  False      False  False   False       False  False  False   \n",
            "66   False  False      False  False   False       False  False  False   \n",
            "67   False  False      False  False   False       False  False  False   \n",
            "68   False  False      False  False   False       False  False  False   \n",
            "69   False  False      False  False   False       False  False  False   \n",
            "70   False  False      False  False   False       False  False  False   \n",
            "71   False  False      False  False   False       False  False  False   \n",
            "72   False  False      False  False   False       False  False  False   \n",
            "73   False  False      False  False   False       False  False  False   \n",
            "74   False  False      False  False   False       False  False  False   \n",
            "75   False  False      False  False   False       False  False  False   \n",
            "76   False  False      False  False   False       False  False  False   \n",
            "77   False  False      False  False   False       False  False  False   \n",
            "78   False  False      False  False   False       False  False  False   \n",
            "79   False  False      False  False   False       False  False  False   \n",
            "80   False  False      False  False   False       False  False  False   \n",
            "81   False  False      False  False   False       False  False  False   \n",
            "82   False  False      False  False   False       False  False  False   \n",
            "83   False  False      False  False   False       False  False  False   \n",
            "84   False  False      False  False   False       False  False  False   \n",
            "85   False  False      False  False   False       False  False  False   \n",
            "86   False  False      False  False   False       False  False  False   \n",
            "87   False  False      False  False   False       False  False  False   \n",
            "88   False  False      False  False   False       False  False  False   \n",
            "89   False  False      False  False   False       False  False  False   \n",
            "90   False  False      False  False   False       False  False  False   \n",
            "91   False  False      False  False   False       False  False  False   \n",
            "92   False  False      False  False   False       False  False  False   \n",
            "93   False  False      False  False   False       False  False  False   \n",
            "94   False  False      False  False   False       False  False  False   \n",
            "95   False  False      False  False   False       False  False  False   \n",
            "96   False  False      False  False   False       False  False  False   \n",
            "97   False  False      False  False   False       False  False  False   \n",
            "98   False  False      False  False   False       False  False  False   \n",
            "99   False  False      False  False   False       False  False  False   \n",
            "100  False  False      False  False   False       False  False  False   \n",
            "101  False  False      False  False   False       False  False  False   \n",
            "102  False  False      False  False   False       False  False  False   \n",
            "103  False  False      False  False   False       False  False  False   \n",
            "104  False  False      False  False   False       False  False  False   \n",
            "105  False  False      False  False   False       False  False  False   \n",
            "106  False  False      False  False   False       False  False  False   \n",
            "107  False  False      False  False   False       False  False  False   \n",
            "108  False  False      False  False   False       False  False  False   \n",
            "109  False  False      False  False   False       False  False  False   \n",
            "110  False  False      False  False   False       False  False  False   \n",
            "111  False  False      False  False   False       False  False  False   \n",
            "112  False  False      False  False   False       False  False  False   \n",
            "113  False  False      False  False   False       False  False  False   \n",
            "114  False  False      False  False   False       False  False  False   \n",
            "115  False  False      False  False   False       False  False  False   \n",
            "116  False  False      False  False   False       False  False  False   \n",
            "117  False  False      False  False   False       False  False  False   \n",
            "118  False  False      False  False   False       False  False  False   \n",
            "119  False  False      False  False   False       False  False  False   \n",
            "120  False  False      False  False   False       False  False  False   \n",
            "\n",
            "     popgrowth  school  \n",
            "0        False   False  \n",
            "1        False   False  \n",
            "2        False   False  \n",
            "3        False   False  \n",
            "4        False   False  \n",
            "5        False   False  \n",
            "6        False   False  \n",
            "7        False   False  \n",
            "8        False   False  \n",
            "9        False   False  \n",
            "10       False   False  \n",
            "11       False   False  \n",
            "12       False   False  \n",
            "13       False   False  \n",
            "14       False   False  \n",
            "15       False   False  \n",
            "16       False   False  \n",
            "17       False   False  \n",
            "18       False   False  \n",
            "19       False   False  \n",
            "20       False   False  \n",
            "21       False   False  \n",
            "22       False   False  \n",
            "23       False   False  \n",
            "24       False   False  \n",
            "25       False   False  \n",
            "26       False   False  \n",
            "27       False   False  \n",
            "28       False   False  \n",
            "29       False   False  \n",
            "30       False   False  \n",
            "31       False   False  \n",
            "32       False   False  \n",
            "33       False   False  \n",
            "34       False   False  \n",
            "35       False   False  \n",
            "36       False   False  \n",
            "37       False   False  \n",
            "38       False   False  \n",
            "39       False   False  \n",
            "40       False   False  \n",
            "41       False   False  \n",
            "42       False   False  \n",
            "43       False   False  \n",
            "44       False   False  \n",
            "45       False   False  \n",
            "46       False   False  \n",
            "47       False   False  \n",
            "48       False   False  \n",
            "49       False   False  \n",
            "50       False   False  \n",
            "51       False   False  \n",
            "52       False   False  \n",
            "53       False   False  \n",
            "54       False   False  \n",
            "55       False   False  \n",
            "56       False   False  \n",
            "57       False   False  \n",
            "58       False   False  \n",
            "59       False   False  \n",
            "60       False   False  \n",
            "61       False   False  \n",
            "62       False   False  \n",
            "63       False   False  \n",
            "64       False   False  \n",
            "65       False   False  \n",
            "66       False   False  \n",
            "67       False   False  \n",
            "68       False   False  \n",
            "69       False   False  \n",
            "70       False   False  \n",
            "71       False   False  \n",
            "72       False   False  \n",
            "73       False   False  \n",
            "74       False   False  \n",
            "75       False   False  \n",
            "76       False   False  \n",
            "77       False   False  \n",
            "78       False   False  \n",
            "79       False   False  \n",
            "80       False   False  \n",
            "81       False   False  \n",
            "82       False   False  \n",
            "83       False   False  \n",
            "84       False   False  \n",
            "85       False   False  \n",
            "86       False   False  \n",
            "87       False   False  \n",
            "88       False   False  \n",
            "89       False   False  \n",
            "90       False   False  \n",
            "91       False   False  \n",
            "92       False   False  \n",
            "93       False   False  \n",
            "94       False   False  \n",
            "95       False   False  \n",
            "96       False   False  \n",
            "97       False   False  \n",
            "98       False   False  \n",
            "99       False   False  \n",
            "100      False   False  \n",
            "101      False   False  \n",
            "102      False   False  \n",
            "103      False   False  \n",
            "104      False   False  \n",
            "105      False   False  \n",
            "106      False   False  \n",
            "107      False   False  \n",
            "108      False   False  \n",
            "109      False   False  \n",
            "110      False   False  \n",
            "111      False   False  \n",
            "112      False   False  \n",
            "113      False   False  \n",
            "114      False   False  \n",
            "115      False   False  \n",
            "116      False   False  \n",
            "117      False   False  \n",
            "118      False   False  \n",
            "119      False   False  \n",
            "120      False   False  \n"
          ],
          "name": "stdout"
        }
      ]
    },
    {
      "cell_type": "code",
      "metadata": {
        "id": "AWFjFoYHesyU",
        "outputId": "eb6590ac-67ad-4c0f-a355-c59cde6780da",
        "colab": {
          "base_uri": "https://localhost:8080/",
          "height": 1000
        }
      },
      "source": [
        "pd.set_option('display.max_rows', None)\n",
        "pd.set_option('display.max_columns', None)\n",
        "BS=(df > (Q3 + 1.5 * IQR))\n",
        "print(BS)"
      ],
      "execution_count": 103,
      "outputs": [
        {
          "output_type": "stream",
          "text": [
            "     gdp60  gdp85  gdpgrowth  inter  invest  literacy60   oecd    oil  \\\n",
            "0    False  False      False  False   False       False  False  False   \n",
            "1    False  False      False  False   False       False  False  False   \n",
            "2    False  False      False  False   False       False  False  False   \n",
            "3    False  False      False  False   False       False  False  False   \n",
            "4    False  False      False  False   False       False  False  False   \n",
            "5    False  False      False  False   False       False  False  False   \n",
            "6    False  False      False  False   False       False  False  False   \n",
            "7    False  False      False  False   False       False  False  False   \n",
            "8    False  False      False  False   False       False  False  False   \n",
            "9    False  False      False  False   False       False  False  False   \n",
            "10   False  False      False  False   False       False  False  False   \n",
            "11   False  False      False  False   False       False  False  False   \n",
            "12   False  False      False  False   False       False  False  False   \n",
            "13   False  False      False  False   False       False  False  False   \n",
            "14   False  False      False  False   False       False  False  False   \n",
            "15   False  False      False  False   False       False  False  False   \n",
            "16   False  False      False  False   False       False  False  False   \n",
            "17   False  False      False  False   False       False  False  False   \n",
            "18   False  False      False  False   False       False  False  False   \n",
            "19   False  False      False  False   False       False  False  False   \n",
            "20   False  False      False  False   False       False  False  False   \n",
            "21   False  False      False  False   False       False  False  False   \n",
            "22   False  False      False  False   False       False  False  False   \n",
            "23   False  False      False  False   False       False  False  False   \n",
            "24   False  False      False  False   False       False  False  False   \n",
            "25   False  False      False  False   False       False  False  False   \n",
            "26   False  False      False  False   False       False  False  False   \n",
            "27   False  False      False  False   False       False  False  False   \n",
            "28   False  False      False  False   False       False  False  False   \n",
            "29   False  False      False  False   False       False  False  False   \n",
            "30   False  False      False  False   False       False  False  False   \n",
            "31   False  False      False  False   False       False  False  False   \n",
            "32   False  False      False  False   False       False  False  False   \n",
            "33   False  False      False  False   False       False  False  False   \n",
            "34   False  False      False  False   False       False  False  False   \n",
            "35   False  False      False  False   False       False  False  False   \n",
            "36   False  False      False  False   False       False  False  False   \n",
            "37   False  False      False  False   False       False  False  False   \n",
            "38   False  False      False  False   False       False  False  False   \n",
            "39   False  False      False  False   False       False  False  False   \n",
            "40   False  False      False  False   False       False  False  False   \n",
            "41   False  False      False  False   False       False  False  False   \n",
            "42   False  False      False  False   False       False  False  False   \n",
            "43   False  False      False  False   False       False  False  False   \n",
            "44   False  False      False  False   False       False  False  False   \n",
            "45   False  False      False  False   False       False  False  False   \n",
            "46   False  False      False  False   False       False  False  False   \n",
            "47   False  False      False  False   False       False  False  False   \n",
            "48   False  False      False  False   False       False  False  False   \n",
            "49   False  False      False  False   False       False  False  False   \n",
            "50   False  False      False  False   False       False  False  False   \n",
            "51   False  False      False  False   False       False  False  False   \n",
            "52   False  False      False  False   False       False  False  False   \n",
            "53   False  False      False  False   False       False  False  False   \n",
            "54   False  False      False  False   False       False  False  False   \n",
            "55    True   True      False  False   False       False  False  False   \n",
            "56   False  False      False  False   False       False  False  False   \n",
            "57   False  False      False  False   False       False  False  False   \n",
            "58   False  False      False  False   False       False  False  False   \n",
            "59   False  False      False  False   False       False  False  False   \n",
            "60   False  False      False  False   False       False  False  False   \n",
            "61   False  False      False  False   False       False  False  False   \n",
            "62   False  False      False  False   False       False  False  False   \n",
            "63   False  False      False  False   False       False  False  False   \n",
            "64   False  False      False  False   False       False  False  False   \n",
            "65   False  False      False  False   False       False  False  False   \n",
            "66   False  False      False  False   False       False  False  False   \n",
            "67   False  False      False  False   False       False  False  False   \n",
            "68   False  False      False  False   False       False  False  False   \n",
            "69   False  False      False  False   False       False  False  False   \n",
            "70   False  False      False  False   False       False  False  False   \n",
            "71   False  False      False  False   False       False  False  False   \n",
            "72    True  False      False  False   False       False  False  False   \n",
            "73   False  False      False  False   False       False  False  False   \n",
            "74   False  False      False  False   False       False  False  False   \n",
            "75   False  False      False  False   False       False  False  False   \n",
            "76   False  False      False  False   False       False  False  False   \n",
            "77    True  False      False  False   False       False  False  False   \n",
            "78   False  False      False  False   False       False  False  False   \n",
            "79   False  False      False  False   False       False  False  False   \n",
            "80    True  False      False  False   False       False  False  False   \n",
            "81   False  False      False  False   False       False  False  False   \n",
            "82   False  False      False  False   False       False  False  False   \n",
            "83   False  False      False  False   False       False  False  False   \n",
            "84   False  False      False  False   False       False  False  False   \n",
            "85   False  False      False  False   False       False  False  False   \n",
            "86   False  False      False  False   False       False  False  False   \n",
            "87    True  False      False  False   False       False  False  False   \n",
            "88   False  False      False  False   False       False  False  False   \n",
            "89   False  False      False  False   False       False  False  False   \n",
            "90   False  False      False  False   False       False  False  False   \n",
            "91    True  False      False  False   False       False  False  False   \n",
            "92   False  False      False  False   False       False  False  False   \n",
            "93   False  False      False  False   False       False  False  False   \n",
            "94   False  False      False  False   False       False  False  False   \n",
            "95   False  False      False  False   False       False  False  False   \n",
            "96   False  False      False  False   False       False  False  False   \n",
            "97   False  False      False  False   False       False  False  False   \n",
            "98   False  False      False  False   False       False  False  False   \n",
            "99   False  False      False  False   False       False  False  False   \n",
            "100  False  False      False  False   False       False  False  False   \n",
            "101  False  False      False  False   False       False  False  False   \n",
            "102   True  False      False  False   False       False  False  False   \n",
            "103   True  False      False  False   False       False  False  False   \n",
            "104  False  False      False  False   False       False  False  False   \n",
            "105  False  False      False  False   False       False  False  False   \n",
            "106  False  False      False  False   False       False  False  False   \n",
            "107  False  False      False  False   False       False  False  False   \n",
            "108  False  False      False  False   False       False  False  False   \n",
            "109  False  False      False  False   False       False  False  False   \n",
            "110  False  False      False  False   False       False  False  False   \n",
            "111  False  False      False  False   False       False  False  False   \n",
            "112  False  False      False  False   False       False  False  False   \n",
            "113  False  False      False  False   False       False  False  False   \n",
            "114  False  False      False  False   False       False  False  False   \n",
            "115   True  False      False  False   False       False  False  False   \n",
            "116   True  False      False  False   False       False  False  False   \n",
            "117  False  False      False  False   False       False  False  False   \n",
            "118  False  False      False  False   False       False  False  False   \n",
            "119   True  False      False  False   False       False  False  False   \n",
            "120  False  False      False  False   False       False  False  False   \n",
            "\n",
            "     popgrowth  school  \n",
            "0        False   False  \n",
            "1        False   False  \n",
            "2        False   False  \n",
            "3        False   False  \n",
            "4        False   False  \n",
            "5        False   False  \n",
            "6        False   False  \n",
            "7        False   False  \n",
            "8        False   False  \n",
            "9        False   False  \n",
            "10       False   False  \n",
            "11       False   False  \n",
            "12       False   False  \n",
            "13       False   False  \n",
            "14       False   False  \n",
            "15       False   False  \n",
            "16       False   False  \n",
            "17       False   False  \n",
            "18       False   False  \n",
            "19       False   False  \n",
            "20       False   False  \n",
            "21       False   False  \n",
            "22       False   False  \n",
            "23       False   False  \n",
            "24       False   False  \n",
            "25       False   False  \n",
            "26       False   False  \n",
            "27       False   False  \n",
            "28       False   False  \n",
            "29       False   False  \n",
            "30       False   False  \n",
            "31       False   False  \n",
            "32       False   False  \n",
            "33       False   False  \n",
            "34       False   False  \n",
            "35       False   False  \n",
            "36       False   False  \n",
            "37       False   False  \n",
            "38       False   False  \n",
            "39       False   False  \n",
            "40       False   False  \n",
            "41       False   False  \n",
            "42       False   False  \n",
            "43       False   False  \n",
            "44       False   False  \n",
            "45       False   False  \n",
            "46       False   False  \n",
            "47       False   False  \n",
            "48       False   False  \n",
            "49       False   False  \n",
            "50       False   False  \n",
            "51       False   False  \n",
            "52       False   False  \n",
            "53       False   False  \n",
            "54       False   False  \n",
            "55        True   False  \n",
            "56       False   False  \n",
            "57       False   False  \n",
            "58       False   False  \n",
            "59       False   False  \n",
            "60       False   False  \n",
            "61       False   False  \n",
            "62       False   False  \n",
            "63       False   False  \n",
            "64       False   False  \n",
            "65       False   False  \n",
            "66       False   False  \n",
            "67       False   False  \n",
            "68       False   False  \n",
            "69       False   False  \n",
            "70       False   False  \n",
            "71       False   False  \n",
            "72       False   False  \n",
            "73       False   False  \n",
            "74       False   False  \n",
            "75       False   False  \n",
            "76       False   False  \n",
            "77       False   False  \n",
            "78       False   False  \n",
            "79       False   False  \n",
            "80       False   False  \n",
            "81       False   False  \n",
            "82       False   False  \n",
            "83       False   False  \n",
            "84       False   False  \n",
            "85       False   False  \n",
            "86       False   False  \n",
            "87       False   False  \n",
            "88       False   False  \n",
            "89       False   False  \n",
            "90       False   False  \n",
            "91       False   False  \n",
            "92       False   False  \n",
            "93       False   False  \n",
            "94       False   False  \n",
            "95       False   False  \n",
            "96       False   False  \n",
            "97       False   False  \n",
            "98       False   False  \n",
            "99       False   False  \n",
            "100      False   False  \n",
            "101      False   False  \n",
            "102      False   False  \n",
            "103      False   False  \n",
            "104      False   False  \n",
            "105      False   False  \n",
            "106      False   False  \n",
            "107      False   False  \n",
            "108      False   False  \n",
            "109      False   False  \n",
            "110      False   False  \n",
            "111      False   False  \n",
            "112      False   False  \n",
            "113      False   False  \n",
            "114      False   False  \n",
            "115      False   False  \n",
            "116      False   False  \n",
            "117      False   False  \n",
            "118      False   False  \n",
            "119      False   False  \n",
            "120      False   False  \n"
          ],
          "name": "stdout"
        }
      ]
    },
    {
      "cell_type": "markdown",
      "metadata": {
        "id": "D1KB6IPmgFjt"
      },
      "source": [
        ""
      ]
    },
    {
      "cell_type": "code",
      "metadata": {
        "id": "6Be9j8u2gZfK",
        "outputId": "f271e1a5-fc43-4a5f-f1de-7e2c2a7924b7",
        "colab": {
          "base_uri": "https://localhost:8080/",
          "height": 34
        }
      },
      "source": [
        "#Quito los outliers\n",
        "df_out = df[~((df < (Q1 - 1.5 * IQR))).any(axis=1)]\n",
        "df_out.shape"
      ],
      "execution_count": 104,
      "outputs": [
        {
          "output_type": "execute_result",
          "data": {
            "text/plain": [
              "(121, 10)"
            ]
          },
          "metadata": {
            "tags": []
          },
          "execution_count": 104
        }
      ]
    },
    {
      "cell_type": "code",
      "metadata": {
        "id": "5VfI3RSUgtIl",
        "outputId": "20ab2620-a945-44f6-9bc3-9de2d96cf46a",
        "colab": {
          "base_uri": "https://localhost:8080/",
          "height": 34
        }
      },
      "source": [
        "#Quito los outliers\n",
        "df_out2 = df[~((df > (Q3 + 1.5 * IQR))).any(axis=1)]\n",
        "df_out2.shape"
      ],
      "execution_count": 105,
      "outputs": [
        {
          "output_type": "execute_result",
          "data": {
            "text/plain": [
              "(110, 10)"
            ]
          },
          "metadata": {
            "tags": []
          },
          "execution_count": 105
        }
      ]
    },
    {
      "cell_type": "code",
      "metadata": {
        "id": "nL_6YGMyvRGl",
        "outputId": "4921e8e2-47b2-4ec9-9103-a705088ae3b2",
        "colab": {
          "base_uri": "https://localhost:8080/",
          "height": 675
        }
      },
      "source": [
        "#Compruebo que en esta columna ya no hay valores outliers\n",
        "plt.boxplot(df_out2['popgrowth'])"
      ],
      "execution_count": 106,
      "outputs": [
        {
          "output_type": "execute_result",
          "data": {
            "text/plain": [
              "{'boxes': [<matplotlib.lines.Line2D at 0x7f90513835c0>],\n",
              " 'caps': [<matplotlib.lines.Line2D at 0x7f9058d397b8>,\n",
              "  <matplotlib.lines.Line2D at 0x7f9058d391d0>],\n",
              " 'fliers': [<matplotlib.lines.Line2D at 0x7f9051381a20>],\n",
              " 'means': [],\n",
              " 'medians': [<matplotlib.lines.Line2D at 0x7f9051381320>],\n",
              " 'whiskers': [<matplotlib.lines.Line2D at 0x7f9058d39630>,\n",
              "  <matplotlib.lines.Line2D at 0x7f9058d39da0>]}"
            ]
          },
          "metadata": {
            "tags": []
          },
          "execution_count": 106
        },
        {
          "output_type": "display_data",
          "data": {
            "image/png": "[encoded data removed]",
            "text/plain": [
              "<Figure size 1152x648 with 1 Axes>"
            ]
          },
          "metadata": {
            "tags": []
          }
        }
      ]
    },
    {
      "cell_type": "code",
      "metadata": {
        "id": "AWwQUgMYv-8h",
        "outputId": "6bf735de-a7cd-482d-e29f-5b082cdb72c0",
        "colab": {
          "base_uri": "https://localhost:8080/",
          "height": 336
        }
      },
      "source": [
        "#Se eliminaron 11 filas con valores outliers\n",
        "summary = df_out2.describe()\n",
        "print(summary)"
      ],
      "execution_count": 107,
      "outputs": [
        {
          "output_type": "stream",
          "text": [
            "             gdp60         gdp85   gdpgrowth   popgrowth      invest  \\\n",
            "count   110.000000    110.000000  110.000000  110.000000  110.000000   \n",
            "mean   2364.263636   5023.263636    4.211818    2.250909   17.682727   \n",
            "std    1963.342356   4890.696790    1.958268    0.908143    7.793209   \n",
            "min     383.000000    412.000000   -0.900000    0.300000    4.100000   \n",
            "25%     917.000000   1193.750000    2.825000    1.700000   12.000000   \n",
            "50%    1620.500000   3150.000000    4.050000    2.450000   17.150000   \n",
            "75%    3145.000000   6042.000000    5.500000    2.900000   23.350000   \n",
            "max    7938.000000  19723.000000    9.200000    4.300000   36.900000   \n",
            "\n",
            "           school  literacy60  \n",
            "count  110.000000  110.000000  \n",
            "mean     5.179091   44.272727  \n",
            "std      3.393007   34.556405  \n",
            "min      0.400000    1.000000  \n",
            "25%      2.325000   13.250000  \n",
            "50%      4.450000   32.000000  \n",
            "75%      7.975000   74.500000  \n",
            "max     12.100000  100.000000  \n"
          ],
          "name": "stdout"
        }
      ]
    },
    {
      "cell_type": "code",
      "metadata": {
        "id": "Rz__CC6eaDLR"
      },
      "source": [
        "#Bucle para eliminar valores outliers, no funciono falta modificar el exclude\n",
        "def boxplot_outlier_removal(df):\n",
        "  for col in df.columns:\n",
        "        if col not in exclude:\n",
        "            # get Q1, Q3 & Interquantile Range\n",
        "            Q1 = df[col].quantile(0.25)\n",
        "            Q3 = df[col].quantile(0.75)\n",
        "            IQR = Q3 - Q1\n",
        "            # define outliers and remove them\n",
        "            filter_ = (df[col] > Q1 - 1.5 * IQR) & (df[col] < Q3 + 1.5 *IQR)\n",
        "            df = df[filter_]\n",
        "  after = len(df)\n",
        "  diff = before-after\n",
        "  percent = diff/before*100\n",
        "  print('{} ({:.2f}%) outliers removed'.format(diff, percent))\n",
        "  return df\n"
      ],
      "execution_count": 108,
      "outputs": []
    },
    {
      "cell_type": "code",
      "metadata": {
        "id": "uxgbc6KGIsyK"
      },
      "source": [
        "#from sklearn.preprocessing import StandardScaler\n",
        "#scaler=StandardScaler()\n",
        "#scaled_datos=scaler.fit_transform(df_out2.iloc[:,[3,4,5,6,7,8,9]].values)\n",
        "#print(scaled_datos)\n"
      ],
      "execution_count": 109,
      "outputs": []
    },
    {
      "cell_type": "code",
      "metadata": {
        "id": "rJ9cbhglwPbq"
      },
      "source": [
        "#normalizacion\n",
        "#from sklearn import preprocessing\n",
        "#data = df_out2.iloc[:,[3,4,5,6,7,8,9]].values #normalizar antes de seguir\n",
        "#datanorm = (data-data.min())/(data.max()-data.min())\n",
        "#print(datanorm)\n",
        "\n"
      ],
      "execution_count": 110,
      "outputs": []
    },
    {
      "cell_type": "markdown",
      "metadata": {
        "id": "GuShIdD7MOfS"
      },
      "source": [
        "#####Normalizacion de datos"
      ]
    },
    {
      "cell_type": "code",
      "metadata": {
        "id": "7X25DIl3yWs9",
        "outputId": "dd62b519-f58d-43dc-e99b-196fbaded481",
        "colab": {
          "base_uri": "https://localhost:8080/",
          "height": 1000
        }
      },
      "source": [
        "from sklearn import preprocessing \n",
        "min_max_scaler = preprocessing.MinMaxScaler()\n",
        "datanorm = min_max_scaler.fit_transform(df_out2.iloc[:,[3,4,5,6,7,8]].values)\n",
        "print(datanorm)"
      ],
      "execution_count": 111,
      "outputs": [
        {
          "output_type": "stream",
          "text": [
            "[[0.27822634 0.20501269 0.56435644 0.575      0.6097561  0.35042735]\n",
            " [0.15949702 0.03930402 0.16831683 0.45       0.05182927 0.11965812]\n",
            " [0.09702184 0.03412563 0.30693069 0.525      0.20426829 0.11965812]\n",
            " [0.0762409  0.16876392 0.94059406 0.725      0.73780488 0.21367521]\n",
            " [0.01932495 0.02304386 0.37623762 0.15       0.26219512 0.        ]\n",
            " [0.04923891 0.01299777 0.20792079 0.35       0.0304878  0.        ]\n",
            " [0.06697551 0.09207188 0.65346535 0.45       0.2652439  0.25641026]\n",
            " [0.06022502 0.01952255 0.23762376 0.35       0.19512195 0.08547009]\n",
            " [0.0694904  0.0025892  0.         0.4        0.08536585 0.        ]\n",
            " [0.08285903 0.11454611 0.7029703  0.525      0.75304878 0.29059829]\n",
            " [0.06935804 0.09051836 0.68316832 0.55       0.37195122 0.56410256]\n",
            " [0.0198544  0.01014966 0.36633663 0.5        0.03963415 0.05982906]\n",
            " [0.12230311 0.25570918 0.78217822 0.275      0.54878049 0.18803419]\n",
            " [0.05506287 0.25570918 0.44554455 0.275      0.42682927 0.09401709]\n",
            " [0.08285903 0.01631195 0.18811881 0.5        0.15243902 0.36752137]\n",
            " [0.04804765 0.02366527 0.30693069 0.325      0.20731707 0.36752137]\n",
            " [0.13275976 0.06690487 0.59405941 1.         0.25304878 0.16239316]\n",
            " [0.07425546 0.04748589 0.56435644 0.775      0.4054878  0.17094017]\n",
            " [0.00635341 0.05546062 0.76237624 0.4        0.25914634 0.13675214]\n",
            " [0.06353408 0.02754907 0.41584158 0.675      0.5304878  0.17948718]\n",
            " [0.10734613 0.02915437 0.22772277 0.475      0.09146341 0.18803419]\n",
            " [0.00953011 0.02128321 0.56435644 0.525      0.27743902 0.01709402]\n",
            " [0.04685639 0.01543162 0.2970297  0.475      0.09756098 0.05128205]\n",
            " [0.05215089 0.03241676 0.41584158 0.475      0.6554878  0.05128205]\n",
            " [0.21045665 0.13230801 0.5049505  0.575      0.39634146 0.58974359]\n",
            " [0.08563865 0.10025374 0.66336634 0.55       0.12804878 0.27350427]\n",
            " [0.13726009 0.03226141 0.22772277 0.6        0.06097561 0.02564103]\n",
            " [0.02064858 0.02221532 0.52475248 0.575      0.18902439 0.00854701]\n",
            " [0.08894772 0.04008078 0.36633663 0.525      0.24085366 0.16239316]\n",
            " [0.01019193 0.01470664 0.53465347 0.625      0.11585366 0.        ]\n",
            " [0.13355394 0.05375175 0.33663366 0.5        0.16768293 0.11111111]\n",
            " [0.01694242 0.0203511  0.42574257 0.325      0.20731707 0.11111111]\n",
            " [0.06856386 0.01268707 0.26732673 0.7        0.29573171 0.05982906]\n",
            " [0.58041032 0.34446688 0.47524752 0.5        0.53353659 0.22222222]\n",
            " [0.11528789 0.03241676 0.26732673 0.575      0.27743902 0.13675214]\n",
            " [0.0574454  0.03241676 0.8019802  0.575      0.41463415 0.28205128]\n",
            " [0.         0.01543162 0.61386139 0.65       0.42378049 0.00854701]\n",
            " [0.05215089 0.02930972 0.42574257 0.55       0.34756098 0.21367521]\n",
            " [0.16412972 0.16824608 0.64356436 0.525      0.29573171 0.33333333]\n",
            " [0.02885506 0.01320491 0.43564356 0.7        0.         0.05982906]\n",
            " [0.02792852 0.         0.17821782 0.525      0.07317073 0.27350427]\n",
            " [0.13593647 0.04168609 0.2970297  0.6        0.84146341 0.17094017]\n",
            " [0.10641959 0.08777381 0.59405941 0.625      0.51829268 0.34188034]\n",
            " [0.11131701 0.08777381 0.24752475 0.625      0.08536585 0.04273504]\n",
            " [0.11131701 0.08777381 0.24752475 0.625      0.78963415 1.        ]\n",
            " [0.06128392 0.04189322 0.48514851 0.575      0.08231707 0.23931624]\n",
            " [0.0177366  0.03205427 0.53465347 0.35       0.22256098 0.26495726]\n",
            " [0.35764394 0.67112009 0.97029703 0.675      0.48170732 0.58119658]\n",
            " [0.07875579 0.04800373 0.44554455 0.525      0.38719512 0.4017094 ]\n",
            " [0.4266049  0.36186629 0.71287129 0.775      0.43597561 0.52136752]\n",
            " [0.6        0.27000155 0.46534653 0.725      0.36890244 0.5982906 ]\n",
            " [0.58491066 0.51980736 0.67326733 0.625      0.74390244 0.77777778]\n",
            " [0.41164792 0.69809953 0.76237624 0.225      0.97256098 0.8974359 ]\n",
            " [0.23825281 0.20195743 0.62376238 0.6        0.41158537 0.88888889]\n",
            " [0.11939113 0.22593341 0.87128713 0.6        0.55487805 0.83760684]\n",
            " [0.2344143  0.27839055 0.79207921 0.725      0.58231707 0.58974359]\n",
            " [0.0595632  0.02910258 0.34653465 0.425      0.05487805 0.16239316]\n",
            " [0.0595632  0.7856662  0.34653465 0.75       0.35060976 0.1965812 ]\n",
            " [0.0918597  0.09129512 0.66336634 0.675      0.24695122 0.22222222]\n",
            " [0.17008604 0.10450003 0.53465347 0.675      0.32926829 0.87179487]\n",
            " [0.84023825 0.55124023 0.69306931 0.95       0.2652439  0.23076923]\n",
            " [0.31899404 0.73874994 1.         0.575      0.85670732 0.73504274]\n",
            " [0.18676373 0.10719279 0.45544554 0.525      0.32621951 0.67521368]\n",
            " [0.26459298 0.29154368 0.75247525 0.675      0.3597561  0.71794872]\n",
            " [0.26459298 0.29154368 0.88118812 0.675      0.50609756 0.71794872]\n",
            " [0.12243547 0.14540935 0.75247525 0.7        0.42378049 0.34188034]\n",
            " [0.12243547 0.93734141 0.75247525 0.7        0.68292683 0.34188034]\n",
            " [0.12243547 0.07798664 0.75247525 0.55       0.39939024 0.01709402]\n",
            " [0.73540702 0.66878981 0.44554455 0.025      0.58841463 0.64957265]\n",
            " [0.84791529 0.71865776 0.43564356 0.05       0.58841463 0.76068376]\n",
            " [0.33951026 0.71865776 0.6039604  0.05       0.82621951 0.66666667]\n",
            " [0.81323627 0.69219616 0.45544554 0.1        1.         0.94871795]\n",
            " [0.90430179 0.75682254 0.47524752 0.175      0.67378049 0.72649573]\n",
            " [0.96783587 0.7708042  0.41584158 0.05       0.74390244 0.68376068]\n",
            " [0.24804765 0.33431723 0.59405941 0.1        0.76829268 0.64102564]\n",
            " [0.53315685 0.42789084 0.46534653 0.2        0.66463415 0.94017094]\n",
            " [0.59960291 0.55253482 0.46534653 0.075      0.63414634 0.57264957]\n",
            " [0.25281271 0.55253482 0.68316832 0.075      0.81707317 0.57264957]\n",
            " [0.96704169 0.66102222 0.44554455 0.275      0.66158537 0.88034188]\n",
            " [1.         1.         0.51485149 0.1        0.76219512 0.82051282]\n",
            " [0.25003309 0.28041013 0.52475248 0.075      0.56097561 0.46153846]\n",
            " [0.44778293 0.49148154 0.57425743 0.175      0.41463415 0.64957265]\n",
            " [0.98199868 0.76769717 0.3960396  0.025      0.62195122 0.64102564]\n",
            " [0.25029782 0.20879292 0.6039604  0.55       0.49085366 0.43589744]\n",
            " [0.95976175 0.66899694 0.33663366 0.         0.43597561 0.72649573]\n",
            " [0.36823296 0.66899694 0.56435644 0.         0.4695122  1.        ]\n",
            " [0.39404368 0.21127855 0.55445545 0.8        0.32317073 0.56410256]\n",
            " [0.20595632 0.14996634 0.59405941 0.65       0.39634146 0.46153846]\n",
            " [0.21958968 0.08207757 0.41584158 0.75       0.11890244 0.2991453 ]\n",
            " [0.27769689 0.13577754 0.47524752 0.7        0.14329268 0.17094017]\n",
            " [0.09437459 0.04272176 0.26732673 0.25       0.09146341 0.12820513]\n",
            " [0.13858372 0.07301538 0.48514851 0.7        0.29573171 0.28205128]\n",
            " [0.31012574 0.1381596  0.2970297  0.325      0.50304878 0.92307692]\n",
            " [0.50906684 0.36083061 0.63366337 0.75       0.4695122  0.52991453]\n",
            " [0.37220384 0.18466159 0.4950495  0.75       0.31707317 0.46153846]\n",
            " [0.27001985 0.23867226 0.67326733 0.675      0.67073171 0.95726496]\n",
            " [0.59152879 0.26518565 0.2970297  0.3        0.64634146 0.39316239]\n",
            " [0.1634679  0.08508104 0.41584158 0.525      0.2804878  0.38461538]\n",
            " [0.19311714 0.26673916 0.81188119 0.65       0.58231707 0.36752137]\n",
            " [0.63613501 0.26518565 0.34653465 0.5        0.7804878  0.62393162]\n",
            " [0.30297816 0.20677334 0.58415842 0.675      0.42378049 0.48717949]\n",
            " [0.24023825 0.21189995 0.65346535 0.625      0.61890244 0.58119658]\n",
            " [0.31475844 0.21189995 0.1980198  0.625      0.86280488 0.96581197]\n",
            " [0.20754467 0.18134742 0.63366337 0.6        0.23170732 0.34188034]\n",
            " [0.38742555 0.17414945 0.43564356 0.65       0.24085366 0.64957265]\n",
            " [0.37630708 0.17414945 0.53465347 0.65       0.46646341 0.65811966]\n",
            " [0.62686962 0.26321786 0.17821782 0.075      0.2347561  0.56410256]\n",
            " [0.43031105 0.67303609 0.5049505  0.425      0.50304878 0.65811966]\n",
            " [0.06565189 0.09046657 0.63366337 0.4        0.29878049 0.31623932]\n",
            " [0.18504302 0.1104034  0.43564356 0.45       0.36890244 0.09401709]]\n"
          ],
          "name": "stdout"
        }
      ]
    },
    {
      "cell_type": "markdown",
      "metadata": {
        "id": "ojyyiUERMV_S"
      },
      "source": [
        "# Dendrograma"
      ]
    },
    {
      "cell_type": "code",
      "metadata": {
        "id": "SDt2_PSzOHc_"
      },
      "source": [
        "#algortimo aglomerativo jerarquico - dendrogramas\n",
        "import scipy.cluster.hierarchy as sch\n",
        "from matplotlib import pyplot as plt\n",
        "\n",
        "#datos=df_out2.iloc[:,[3,4,5,6,7,8]].values\n",
        "#datos\n"
      ],
      "execution_count": 112,
      "outputs": []
    },
    {
      "cell_type": "code",
      "metadata": {
        "id": "vcXRjrozVbj9"
      },
      "source": [
        "clustering_jerarquico= sch.linkage(datanorm, 'complete')"
      ],
      "execution_count": 113,
      "outputs": []
    },
    {
      "cell_type": "code",
      "metadata": {
        "id": "NyWOYmSUVzGl",
        "outputId": "15510b3a-6f52-491a-ce5e-639eab7f2967",
        "colab": {
          "base_uri": "https://localhost:8080/",
          "height": 537
        }
      },
      "source": [
        "dendrogram=sch.dendrogram(clustering_jerarquico)"
      ],
      "execution_count": 114,
      "outputs": [
        {
          "output_type": "display_data",
          "data": {
            "image/png": "[encoded data removed]",
            "text/plain": [
              "<Figure size 1152x648 with 1 Axes>"
            ]
          },
          "metadata": {
            "tags": []
          }
        }
      ]
    },
    {
      "cell_type": "code",
      "metadata": {
        "id": "UY_c3gf74yhz"
      },
      "source": [
        "#realizo el corte en \n",
        "from scipy.cluster.hierarchy import fcluster\n",
        "clusters = fcluster(clustering_jerarquico, t=1.25, criterion='distance')"
      ],
      "execution_count": 115,
      "outputs": []
    },
    {
      "cell_type": "code",
      "metadata": {
        "id": "1GedOQfF8qWL",
        "outputId": "d7e8124e-4c2d-4979-a817-941cb60e1979",
        "colab": {
          "base_uri": "https://localhost:8080/",
          "height": 67
        }
      },
      "source": [
        "print(clusters)"
      ],
      "execution_count": 116,
      "outputs": [
        {
          "output_type": "stream",
          "text": [
            "[2 2 2 2 2 2 2 2 2 2 1 2 2 2 2 2 2 2 2 2 2 2 2 2 1 2 2 2 2 2 2 2 2 1 2 2 2\n",
            " 2 2 2 2 2 2 2 1 2 2 4 1 1 1 4 3 1 4 4 2 4 2 1 4 4 1 4 4 2 4 2 3 3 3 3 3 3\n",
            " 1 3 3 3 3 3 1 3 3 2 3 3 1 1 2 2 2 2 1 1 1 4 1 1 2 1 1 1 1 2 1 1 1 4 2 2]\n"
          ],
          "name": "stdout"
        }
      ]
    },
    {
      "cell_type": "code",
      "metadata": {
        "id": "TIZKQGWz9a-4",
        "outputId": "63ad9557-731c-4723-8b66-7fcdb4b0795e",
        "colab": {
          "base_uri": "https://localhost:8080/",
          "height": 118
        }
      },
      "source": [
        "df_out2['clustering jerarquico']=clusters"
      ],
      "execution_count": 117,
      "outputs": [
        {
          "output_type": "stream",
          "text": [
            "/usr/local/lib/python3.6/dist-packages/ipykernel_launcher.py:1: SettingWithCopyWarning: \n",
            "A value is trying to be set on a copy of a slice from a DataFrame.\n",
            "Try using .loc[row_indexer,col_indexer] = value instead\n",
            "\n",
            "See the caveats in the documentation: https://pandas.pydata.org/pandas-docs/stable/user_guide/indexing.html#returning-a-view-versus-a-copy\n",
            "  \"\"\"Entry point for launching an IPython kernel.\n"
          ],
          "name": "stderr"
        }
      ]
    },
    {
      "cell_type": "markdown",
      "metadata": {
        "id": "ighKw0IfNKEE"
      },
      "source": [
        "#####Nueva columna con datos etiquetados"
      ]
    },
    {
      "cell_type": "code",
      "metadata": {
        "id": "1JZn-9Ds1Or6",
        "outputId": "f6bdf207-9a8f-445e-de96-55c648081954",
        "colab": {
          "base_uri": "https://localhost:8080/",
          "height": 47
        }
      },
      "source": [
        "#Visualizar las filas que estan en cada cluster\n",
        "df_out2[df_out2['clustering jerarquico'] == 5]"
      ],
      "execution_count": 118,
      "outputs": [
        {
          "output_type": "execute_result",
          "data": {
            "text/html": [
              "<div>\n",
              "<style scoped>\n",
              "    .dataframe tbody tr th:only-of-type {\n",
              "        vertical-align: middle;\n",
              "    }\n",
              "\n",
              "    .dataframe tbody tr th {\n",
              "        vertical-align: top;\n",
              "    }\n",
              "\n",
              "    .dataframe thead th {\n",
              "        text-align: right;\n",
              "    }\n",
              "</style>\n",
              "<table border=\"1\" class=\"dataframe\">\n",
              "  <thead>\n",
              "    <tr style=\"text-align: right;\">\n",
              "      <th></th>\n",
              "      <th>oil</th>\n",
              "      <th>inter</th>\n",
              "      <th>oecd</th>\n",
              "      <th>gdp60</th>\n",
              "      <th>gdp85</th>\n",
              "      <th>gdpgrowth</th>\n",
              "      <th>popgrowth</th>\n",
              "      <th>invest</th>\n",
              "      <th>school</th>\n",
              "      <th>literacy60</th>\n",
              "      <th>clustering jerarquico</th>\n",
              "    </tr>\n",
              "  </thead>\n",
              "  <tbody>\n",
              "  </tbody>\n",
              "</table>\n",
              "</div>"
            ],
            "text/plain": [
              "Empty DataFrame\n",
              "Columns: [oil, inter, oecd, gdp60, gdp85, gdpgrowth, popgrowth, invest, school, literacy60, clustering jerarquico]\n",
              "Index: []"
            ]
          },
          "metadata": {
            "tags": []
          },
          "execution_count": 118
        }
      ]
    },
    {
      "cell_type": "code",
      "metadata": {
        "id": "ZPXoSEx9-9sb",
        "outputId": "ed7718f2-7d88-450f-be65-6b1183253e6b",
        "colab": {
          "base_uri": "https://localhost:8080/",
          "height": 343
        }
      },
      "source": [
        "#Visualizo la nueva columna 'clustering jerarquico' con los datos etiquetados.\n",
        "df_out2.head(10)"
      ],
      "execution_count": 119,
      "outputs": [
        {
          "output_type": "execute_result",
          "data": {
            "text/html": [
              "<div>\n",
              "<style scoped>\n",
              "    .dataframe tbody tr th:only-of-type {\n",
              "        vertical-align: middle;\n",
              "    }\n",
              "\n",
              "    .dataframe tbody tr th {\n",
              "        vertical-align: top;\n",
              "    }\n",
              "\n",
              "    .dataframe thead th {\n",
              "        text-align: right;\n",
              "    }\n",
              "</style>\n",
              "<table border=\"1\" class=\"dataframe\">\n",
              "  <thead>\n",
              "    <tr style=\"text-align: right;\">\n",
              "      <th></th>\n",
              "      <th>oil</th>\n",
              "      <th>inter</th>\n",
              "      <th>oecd</th>\n",
              "      <th>gdp60</th>\n",
              "      <th>gdp85</th>\n",
              "      <th>gdpgrowth</th>\n",
              "      <th>popgrowth</th>\n",
              "      <th>invest</th>\n",
              "      <th>school</th>\n",
              "      <th>literacy60</th>\n",
              "      <th>clustering jerarquico</th>\n",
              "    </tr>\n",
              "  </thead>\n",
              "  <tbody>\n",
              "    <tr>\n",
              "      <th>0</th>\n",
              "      <td>no</td>\n",
              "      <td>yes</td>\n",
              "      <td>no</td>\n",
              "      <td>2485.0</td>\n",
              "      <td>4371.0</td>\n",
              "      <td>4.8</td>\n",
              "      <td>2.6</td>\n",
              "      <td>24.1</td>\n",
              "      <td>4.5</td>\n",
              "      <td>10.0</td>\n",
              "      <td>2</td>\n",
              "    </tr>\n",
              "    <tr>\n",
              "      <th>1</th>\n",
              "      <td>no</td>\n",
              "      <td>no</td>\n",
              "      <td>no</td>\n",
              "      <td>1588.0</td>\n",
              "      <td>1171.0</td>\n",
              "      <td>0.8</td>\n",
              "      <td>2.1</td>\n",
              "      <td>5.8</td>\n",
              "      <td>1.8</td>\n",
              "      <td>5.0</td>\n",
              "      <td>2</td>\n",
              "    </tr>\n",
              "    <tr>\n",
              "      <th>2</th>\n",
              "      <td>no</td>\n",
              "      <td>no</td>\n",
              "      <td>no</td>\n",
              "      <td>1116.0</td>\n",
              "      <td>1071.0</td>\n",
              "      <td>2.2</td>\n",
              "      <td>2.4</td>\n",
              "      <td>10.8</td>\n",
              "      <td>1.8</td>\n",
              "      <td>5.0</td>\n",
              "      <td>2</td>\n",
              "    </tr>\n",
              "    <tr>\n",
              "      <th>3</th>\n",
              "      <td>no</td>\n",
              "      <td>yes</td>\n",
              "      <td>no</td>\n",
              "      <td>959.0</td>\n",
              "      <td>3671.0</td>\n",
              "      <td>8.6</td>\n",
              "      <td>3.2</td>\n",
              "      <td>28.3</td>\n",
              "      <td>2.9</td>\n",
              "      <td>5.0</td>\n",
              "      <td>2</td>\n",
              "    </tr>\n",
              "    <tr>\n",
              "      <th>4</th>\n",
              "      <td>no</td>\n",
              "      <td>no</td>\n",
              "      <td>no</td>\n",
              "      <td>529.0</td>\n",
              "      <td>857.0</td>\n",
              "      <td>2.9</td>\n",
              "      <td>0.9</td>\n",
              "      <td>12.7</td>\n",
              "      <td>0.4</td>\n",
              "      <td>2.0</td>\n",
              "      <td>2</td>\n",
              "    </tr>\n",
              "    <tr>\n",
              "      <th>5</th>\n",
              "      <td>no</td>\n",
              "      <td>no</td>\n",
              "      <td>no</td>\n",
              "      <td>755.0</td>\n",
              "      <td>663.0</td>\n",
              "      <td>1.2</td>\n",
              "      <td>1.7</td>\n",
              "      <td>5.1</td>\n",
              "      <td>0.4</td>\n",
              "      <td>14.0</td>\n",
              "      <td>2</td>\n",
              "    </tr>\n",
              "    <tr>\n",
              "      <th>6</th>\n",
              "      <td>no</td>\n",
              "      <td>yes</td>\n",
              "      <td>no</td>\n",
              "      <td>889.0</td>\n",
              "      <td>2190.0</td>\n",
              "      <td>5.7</td>\n",
              "      <td>2.1</td>\n",
              "      <td>12.8</td>\n",
              "      <td>3.4</td>\n",
              "      <td>19.0</td>\n",
              "      <td>2</td>\n",
              "    </tr>\n",
              "    <tr>\n",
              "      <th>7</th>\n",
              "      <td>no</td>\n",
              "      <td>no</td>\n",
              "      <td>no</td>\n",
              "      <td>838.0</td>\n",
              "      <td>789.0</td>\n",
              "      <td>1.5</td>\n",
              "      <td>1.7</td>\n",
              "      <td>10.5</td>\n",
              "      <td>1.4</td>\n",
              "      <td>7.0</td>\n",
              "      <td>2</td>\n",
              "    </tr>\n",
              "    <tr>\n",
              "      <th>8</th>\n",
              "      <td>no</td>\n",
              "      <td>no</td>\n",
              "      <td>no</td>\n",
              "      <td>908.0</td>\n",
              "      <td>462.0</td>\n",
              "      <td>-0.9</td>\n",
              "      <td>1.9</td>\n",
              "      <td>6.9</td>\n",
              "      <td>0.4</td>\n",
              "      <td>6.0</td>\n",
              "      <td>2</td>\n",
              "    </tr>\n",
              "    <tr>\n",
              "      <th>9</th>\n",
              "      <td>no</td>\n",
              "      <td>no</td>\n",
              "      <td>no</td>\n",
              "      <td>1009.0</td>\n",
              "      <td>2624.0</td>\n",
              "      <td>6.2</td>\n",
              "      <td>2.4</td>\n",
              "      <td>28.8</td>\n",
              "      <td>3.8</td>\n",
              "      <td>16.0</td>\n",
              "      <td>2</td>\n",
              "    </tr>\n",
              "  </tbody>\n",
              "</table>\n",
              "</div>"
            ],
            "text/plain": [
              "  oil inter oecd   gdp60   gdp85  gdpgrowth  popgrowth  invest  school  \\\n",
              "0  no   yes   no  2485.0  4371.0        4.8        2.6    24.1     4.5   \n",
              "1  no    no   no  1588.0  1171.0        0.8        2.1     5.8     1.8   \n",
              "2  no    no   no  1116.0  1071.0        2.2        2.4    10.8     1.8   \n",
              "3  no   yes   no   959.0  3671.0        8.6        3.2    28.3     2.9   \n",
              "4  no    no   no   529.0   857.0        2.9        0.9    12.7     0.4   \n",
              "5  no    no   no   755.0   663.0        1.2        1.7     5.1     0.4   \n",
              "6  no   yes   no   889.0  2190.0        5.7        2.1    12.8     3.4   \n",
              "7  no    no   no   838.0   789.0        1.5        1.7    10.5     1.4   \n",
              "8  no    no   no   908.0   462.0       -0.9        1.9     6.9     0.4   \n",
              "9  no    no   no  1009.0  2624.0        6.2        2.4    28.8     3.8   \n",
              "\n",
              "   literacy60  clustering jerarquico  \n",
              "0        10.0                      2  \n",
              "1         5.0                      2  \n",
              "2         5.0                      2  \n",
              "3         5.0                      2  \n",
              "4         2.0                      2  \n",
              "5        14.0                      2  \n",
              "6        19.0                      2  \n",
              "7         7.0                      2  \n",
              "8         6.0                      2  \n",
              "9        16.0                      2  "
            ]
          },
          "metadata": {
            "tags": []
          },
          "execution_count": 119
        }
      ]
    },
    {
      "cell_type": "markdown",
      "metadata": {
        "id": "E9pdAm_vMjqh"
      },
      "source": [
        "#####Coeficiente de Silhouette"
      ]
    },
    {
      "cell_type": "code",
      "metadata": {
        "id": "jPgyi8aI3bvl",
        "outputId": "3df15905-b267-4fc3-c3bd-5240aff1e739",
        "colab": {
          "base_uri": "https://localhost:8080/",
          "height": 50
        }
      },
      "source": [
        "from sklearn import metrics\n",
        "n_clusters_ = len(set(clusters))\n",
        "print('Estimated number of clusters: %d' % n_clusters_)\n",
        "print(\"Silhouette Coefficient: %0.3f\"\n",
        "      % metrics.silhouette_score(datanorm, clusters))"
      ],
      "execution_count": 120,
      "outputs": [
        {
          "output_type": "stream",
          "text": [
            "Estimated number of clusters: 4\n",
            "Silhouette Coefficient: 0.268\n"
          ],
          "name": "stdout"
        }
      ]
    },
    {
      "cell_type": "markdown",
      "metadata": {
        "id": "6ofoBYVnMrNg"
      },
      "source": [
        "# PCA ANALISIS DE COMPONENTES PRINCIPALES"
      ]
    },
    {
      "cell_type": "code",
      "metadata": {
        "id": "VnwKwxbBA7L8"
      },
      "source": [
        "#PCA ANALISIS DE COMPONENTES PRINCIPALES\n",
        "from sklearn import preprocessing \n",
        "scaler = preprocessing.StandardScaler()\n",
        "states = scaler.fit_transform(df_out2.iloc[:,[3,4,5,6,7,8]].values)"
      ],
      "execution_count": 121,
      "outputs": []
    },
    {
      "cell_type": "code",
      "metadata": {
        "id": "CzfYaQV0CvQy",
        "outputId": "8cbb72ec-a01b-4244-9eec-dd67e1b7b170",
        "colab": {
          "base_uri": "https://localhost:8080/",
          "height": 1000
        }
      },
      "source": [
        "#2. PCA Estimation\n",
        "from sklearn.decomposition import PCA\n",
        "estimator = PCA (n_components = 3)\n",
        "X_pca = estimator.fit_transform(states)\n",
        "X_pca"
      ],
      "execution_count": 152,
      "outputs": [
        {
          "output_type": "execute_result",
          "data": {
            "text/plain": [
              "array([[ 0.18268288, -0.60466336, -0.07249485],\n",
              "       [-1.97837542,  1.75981653,  0.37832512],\n",
              "       [-1.78740718,  0.83158197,  0.08547769],\n",
              "       [-0.10047898, -2.69468232, -0.99274523],\n",
              "       [-1.49789826,  1.43561608, -1.54096422],\n",
              "       [-2.30292825,  1.8275464 , -0.32175059],\n",
              "       [-1.00317344, -0.44944139, -0.7832484 ],\n",
              "       [-1.79277435,  1.53462763, -0.40859671],\n",
              "       [-2.42068406,  2.47041385,  0.2353235 ],\n",
              "       [ 0.00726887, -1.30011712, -1.03338699],\n",
              "       [-0.40725888, -1.02243019, -0.24529804],\n",
              "       [-2.30453498,  0.77783912, -0.1617904 ],\n",
              "       [ 0.18840634, -0.7030959 , -1.84555627],\n",
              "       [-0.6017639 ,  0.69436314, -1.28424728],\n",
              "       [-1.62091693,  1.31110574,  0.58250568],\n",
              "       [-1.24253966,  1.21379932, -0.30510219],\n",
              "       [-1.85316346, -1.52132913,  1.0356915 ],\n",
              "       [-1.432827  , -1.03300861,  0.17636942],\n",
              "       [-1.23380569, -0.7508146 , -1.39957795],\n",
              "       [-1.23790374, -0.33544524,  0.04664924],\n",
              "       [-1.88938655,  1.3606277 ,  0.29791973],\n",
              "       [-1.77769321, -0.27717541, -0.77422089],\n",
              "       [-2.17460795,  1.08012097, -0.1182937 ],\n",
              "       [-0.96116379,  0.08632257, -0.86373654],\n",
              "       [-0.16249927, -0.30702669,  0.4336589 ],\n",
              "       [-1.3067259 , -0.59986499, -0.31688232],\n",
              "       [-2.30478157,  1.15112023,  0.55806226],\n",
              "       [-2.03547619, -0.15339834, -0.45112976],\n",
              "       [-1.60155905,  0.54507271, -0.02847652],\n",
              "       [-2.27818204, -0.25468349, -0.27740139],\n",
              "       [-1.70907375,  0.84945699,  0.03145204],\n",
              "       [-1.61469623,  0.81204166, -0.91639988],\n",
              "       [-2.05669766,  0.44682909,  0.49916218],\n",
              "       [ 0.67763087,  0.30618913,  0.28261353],\n",
              "       [-1.68680911,  0.7969944 ,  0.30387848],\n",
              "       [-0.84487769, -1.50558076, -0.81556203],\n",
              "       [-1.65594736, -0.93379723, -0.65002477],\n",
              "       [-1.3847155 ,  0.09983295, -0.16629891],\n",
              "       [-0.59672113, -0.57317281, -0.30668838],\n",
              "       [-2.55233179,  0.04582843,  0.36580028],\n",
              "       [-2.09513989,  1.34682058,  0.5443537 ],\n",
              "       [-0.50154809,  0.08060111, -0.12176419],\n",
              "       [-0.5900638 , -0.90383917, -0.18471407],\n",
              "       [-2.18164445,  0.96093303,  0.54735456],\n",
              "       [ 0.69736527, -0.03647223,  1.09362435],\n",
              "       [-1.79193677,  0.06107062,  0.08167178],\n",
              "       [-1.25450946,  0.26117604, -0.88036547],\n",
              "       [ 1.59791503, -2.30843108, -0.07231559],\n",
              "       [-0.87450692,  0.00883836, -0.04171725],\n",
              "       [ 0.57764505, -1.4500454 ,  0.85581549],\n",
              "       [ 0.55659765, -0.17978226,  1.65369391],\n",
              "       [ 2.33615428, -1.15946335,  0.76505646],\n",
              "       [ 3.58886779, -0.88886483, -1.00779338],\n",
              "       [ 0.6028767 , -0.92043632,  0.67269511],\n",
              "       [ 0.83730522, -2.1010514 , -0.22220656],\n",
              "       [ 0.58238922, -1.95787292,  0.17677633],\n",
              "       [-1.92359345,  1.03070115, -0.17370791],\n",
              "       [-0.20063058, -0.07507585,  0.55216799],\n",
              "       [-1.32532665, -1.01064409, -0.09446444],\n",
              "       [-0.07061869, -0.74062125,  1.02980161],\n",
              "       [ 0.67633944, -1.20402356,  1.90863478],\n",
              "       [ 2.77913227, -2.61276468, -0.66207559],\n",
              "       [-0.23216573,  0.03082258,  0.51265208],\n",
              "       [ 0.47123161, -1.47927849,  0.51718236],\n",
              "       [ 0.86049976, -2.11948162,  0.12294605],\n",
              "       [-0.58798256, -1.60302144, -0.16277819],\n",
              "       [ 1.49171406, -1.83393998, -0.4489598 ],\n",
              "       [-1.09866413, -1.09125051, -1.00361372],\n",
              "       [ 2.9697911 ,  1.57408707, -0.39821709],\n",
              "       [ 3.41084212,  1.60799411,  0.0223154 ],\n",
              "       [ 2.937484  ,  0.32839585, -1.50237985],\n",
              "       [ 4.3379684 ,  0.91464334, -0.06424242],\n",
              "       [ 3.5738053 ,  1.11374747,  0.29805562],\n",
              "       [ 3.89084877,  1.66284912,  0.02019506],\n",
              "       [ 1.77996773,  0.21752238, -1.43675494],\n",
              "       [ 2.52759076,  0.70527989,  0.07005025],\n",
              "       [ 2.40967319,  1.23415068, -0.64207904],\n",
              "       [ 2.31595468, -0.07941673, -1.82879889],\n",
              "       [ 3.56686645,  0.9855831 ,  0.9796975 ],\n",
              "       [ 4.68118466,  1.12114729,  0.16837132],\n",
              "       [ 0.96476509,  0.80988266, -1.40059529],\n",
              "       [ 1.68021344,  0.61380229, -0.5054014 ],\n",
              "       [ 3.62313825,  1.94695009,  0.06591394],\n",
              "       [ 0.11326771, -0.63183271, -0.0600404 ],\n",
              "       [ 3.14697728,  2.37072366,  0.35539274],\n",
              "       [ 2.76861258,  0.86539133, -0.78109043],\n",
              "       [-0.09576752, -0.83593155,  1.36405118],\n",
              "       [-0.35964434, -0.80422621,  0.31641547],\n",
              "       [-1.53880484, -0.03635026,  1.063316  ],\n",
              "       [-1.37080837, -0.06999367,  0.70090623],\n",
              "       [-1.66349067,  1.78912893, -0.57203836],\n",
              "       [-1.27028437, -0.41118141,  0.45070237],\n",
              "       [ 0.90709006,  1.0061279 ,  0.56674038],\n",
              "       [ 0.76762312, -1.04490244,  1.05606575],\n",
              "       [-0.35103865, -0.45736702,  1.17255042],\n",
              "       [ 1.28683884, -1.5482625 ,  0.70144681],\n",
              "       [ 1.1308084 ,  1.34826293,  0.15873876],\n",
              "       [-0.90384475,  0.30494121,  0.23433086],\n",
              "       [ 0.24085688, -1.80494569, -0.43975663],\n",
              "       [ 1.62641264,  0.47869657,  0.91390166],\n",
              "       [-0.01669912, -0.78125251,  0.57872724],\n",
              "       [ 0.52581474, -1.19492202,  0.11760025],\n",
              "       [ 1.35795335,  0.27090266,  1.41568063],\n",
              "       [-0.70410483, -0.62988051,  0.08559986],\n",
              "       [-0.11404205,  0.05111249,  1.31524818],\n",
              "       [ 0.39559222, -0.56256877,  0.90000178],\n",
              "       [ 0.858957  ,  2.75154253,  0.35677469],\n",
              "       [ 1.82005328,  0.1476238 ,  0.29345696],\n",
              "       [-0.8024648 , -0.29875773, -0.85564224],\n",
              "       [-0.99726896,  0.44928031, -0.4461761 ]])"
            ]
          },
          "metadata": {
            "tags": []
          },
          "execution_count": 152
        }
      ]
    },
    {
      "cell_type": "code",
      "metadata": {
        "id": "gZlGs1n6C3UG",
        "outputId": "169e542f-df20-4656-f4b6-6812df88bcce",
        "colab": {
          "base_uri": "https://localhost:8080/",
          "height": 34
        }
      },
      "source": [
        "print(estimator.explained_variance_ratio_) "
      ],
      "execution_count": 123,
      "outputs": [
        {
          "output_type": "stream",
          "text": [
            "[0.52737763 0.22211364 0.09310427]\n"
          ],
          "name": "stdout"
        }
      ]
    },
    {
      "cell_type": "markdown",
      "metadata": {
        "id": "SkbUJiNWM10A"
      },
      "source": [
        "# K-MEANS"
      ]
    },
    {
      "cell_type": "code",
      "metadata": {
        "id": "xkgHIhiHGo17"
      },
      "source": [
        "#k-means\n",
        "\n",
        "# parameters\n",
        "init = 'random' # initialization method \n",
        "\n",
        "# to run 10 times with different random centroids \n",
        "# to choose the final model as the one with the lowest SSE\n",
        "iterations = 10\n",
        "\n",
        "# maximum number of iterations for each single run\n",
        "max_iter = 300 \n",
        "\n",
        "# controls the tolerance with regard to the changes in the \n",
        "# within-cluster sum-squared-error to declare convergence\n",
        "\n",
        "tol = 1e-04 \n",
        "\n",
        " # random seed\n",
        "random_state = 0"
      ],
      "execution_count": 124,
      "outputs": []
    },
    {
      "cell_type": "code",
      "metadata": {
        "id": "a9ske2EbGw5K"
      },
      "source": [
        "from sklearn.cluster import KMeans\n",
        "from sklearn import metrics\n",
        "\n",
        "distortions = []\n",
        "silhouettes = []\n",
        "\n",
        "for i in range(2, 11):\n",
        "    km = KMeans(i, init, n_init = iterations ,max_iter= max_iter, tol = tol,random_state = random_state)\n",
        "    labels = km.fit_predict(X_pca)\n",
        "    distortions.append(km.inertia_)\n",
        "    silhouettes.append(metrics.silhouette_score(X_pca, labels))"
      ],
      "execution_count": 125,
      "outputs": []
    },
    {
      "cell_type": "code",
      "metadata": {
        "id": "HZpID41cG8aZ",
        "outputId": "3feaa025-4db5-42b9-b7f4-407b795ac903",
        "colab": {
          "base_uri": "https://localhost:8080/",
          "height": 554
        }
      },
      "source": [
        "plt.plot(range(2,11), distortions, marker='o')\n",
        "plt.xlabel('K')\n",
        "plt.ylabel('Distortion')\n",
        "plt.show()"
      ],
      "execution_count": 126,
      "outputs": [
        {
          "output_type": "display_data",
          "data": {
            "image/png": "[encoded data removed]",
            "text/plain": [
              "<Figure size 1152x648 with 1 Axes>"
            ]
          },
          "metadata": {
            "tags": []
          }
        }
      ]
    },
    {
      "cell_type": "code",
      "metadata": {
        "id": "YD2Bbu86HIsO",
        "outputId": "b7332fd7-9c11-4c01-c35c-d1f82f8d78a9",
        "colab": {
          "base_uri": "https://localhost:8080/",
          "height": 554
        }
      },
      "source": [
        "plt.plot(range(2,11), silhouettes , marker='o')\n",
        "plt.xlabel('K')\n",
        "plt.ylabel('Silohouette')\n",
        "plt.show()"
      ],
      "execution_count": 127,
      "outputs": [
        {
          "output_type": "display_data",
          "data": {
            "image/png": "[encoded data removed]",
            "text/plain": [
              "<Figure size 1152x648 with 1 Axes>"
            ]
          },
          "metadata": {
            "tags": []
          }
        }
      ]
    },
    {
      "cell_type": "code",
      "metadata": {
        "id": "N9p_DjJBHMDA"
      },
      "source": [
        "k = 4\n",
        "\n",
        "km = KMeans(k, init, n_init = iterations ,\n",
        "            max_iter= max_iter, tol = tol, random_state = random_state)\n",
        "\n",
        "y_km = km.fit_predict(X_pca)"
      ],
      "execution_count": 128,
      "outputs": []
    },
    {
      "cell_type": "code",
      "metadata": {
        "id": "ixFCgCaJHVP-",
        "outputId": "6ee52fb0-0af8-4aff-cdd2-3c3e224cee10",
        "colab": {
          "base_uri": "https://localhost:8080/",
          "height": 50
        }
      },
      "source": [
        "from sklearn import metrics\n",
        "print(\"Silhouette Coefficient: %0.3f\"\n",
        "      % metrics.silhouette_score(datanorm, y_km))\n",
        "      \n",
        "print('Distortion: %.2f' % km.inertia_)"
      ],
      "execution_count": 129,
      "outputs": [
        {
          "output_type": "stream",
          "text": [
            "Silhouette Coefficient: 0.229\n",
            "Distortion: 159.37\n"
          ],
          "name": "stdout"
        }
      ]
    },
    {
      "cell_type": "code",
      "metadata": {
        "id": "Jo_Y5eMTHeaP",
        "outputId": "bbd8d723-2478-4579-8224-d462ac0c338b",
        "colab": {
          "base_uri": "https://localhost:8080/",
          "height": 118
        }
      },
      "source": [
        "km.labels_"
      ],
      "execution_count": 130,
      "outputs": [
        {
          "output_type": "execute_result",
          "data": {
            "text/plain": [
              "array([1, 3, 3, 1, 3, 3, 0, 3, 3, 0, 0, 3, 0, 0, 3, 3, 0, 0, 0, 0, 3, 0,\n",
              "       3, 0, 1, 0, 3, 0, 3, 0, 3, 3, 3, 1, 3, 0, 0, 0, 0, 3, 3, 0, 0, 3,\n",
              "       1, 0, 0, 1, 0, 1, 1, 1, 2, 1, 1, 1, 3, 1, 0, 1, 1, 1, 0, 1, 1, 0,\n",
              "       1, 0, 2, 2, 2, 2, 2, 2, 2, 2, 2, 2, 2, 2, 2, 2, 2, 1, 2, 2, 1, 1,\n",
              "       0, 0, 3, 0, 2, 1, 1, 1, 2, 0, 1, 2, 1, 1, 1, 0, 1, 1, 2, 2, 0, 0],\n",
              "      dtype=int32)"
            ]
          },
          "metadata": {
            "tags": []
          },
          "execution_count": 130
        }
      ]
    },
    {
      "cell_type": "code",
      "metadata": {
        "id": "IAzhITySHgPV",
        "outputId": "f4206ab5-43ed-49eb-a9bb-c2672ae783e0",
        "colab": {
          "base_uri": "https://localhost:8080/",
          "height": 539
        }
      },
      "source": [
        "#plotting orginal points with color related to label\n",
        "plt.scatter(X_pca[:,0], X_pca[:,1], c=km.labels_,s=50)\n",
        "# plotting centroids\n",
        "plt.scatter(km.cluster_centers_[:,0], km.cluster_centers_[:,1], c='blue',s=50)\n",
        "# \n",
        "plt.grid()\n",
        "plt.show()"
      ],
      "execution_count": 131,
      "outputs": [
        {
          "output_type": "display_data",
          "data": {
            "image/png": "[encoded data removed]",
            "text/plain": [
              "<Figure size 1152x648 with 1 Axes>"
            ]
          },
          "metadata": {
            "tags": []
          }
        }
      ]
    },
    {
      "cell_type": "markdown",
      "metadata": {
        "id": "-bvPierhM6_g"
      },
      "source": [
        "# Regresion lineal simple"
      ]
    },
    {
      "cell_type": "code",
      "metadata": {
        "id": "TeaZkqJEjw2l"
      },
      "source": [
        "#Regresion lineal\n",
        "# Imports necesarios\n",
        "from sklearn.linear_model import LinearRegression\n",
        "import numpy as np\n",
        "import pandas as pd\n",
        "import seaborn as sb\n",
        "import matplotlib.pyplot as plt\n",
        "%matplotlib inline\n",
        "from mpl_toolkits.mplot3d import Axes3D\n",
        "from matplotlib import cm\n",
        "plt.rcParams['figure.figsize'] = (16, 9)\n",
        "plt.style.use('ggplot')\n",
        "from sklearn import linear_model\n",
        "from sklearn.metrics import mean_squared_error, r2_score\n"
      ],
      "execution_count": 132,
      "outputs": []
    },
    {
      "cell_type": "code",
      "metadata": {
        "id": "iJu2x4rYe52N",
        "outputId": "825525ac-da83-4a5c-9d00-430e73af95ad",
        "colab": {
          "base_uri": "https://localhost:8080/",
          "height": 118
        }
      },
      "source": [
        "x_train=(df_out2['gdp60']).values.reshape(-1,1)\n",
        "y_train=(df_out2['literacy60']).values.reshape(-1,1)\n",
        "regr = linear_model.LinearRegression()\n",
        "# Entrenamos nuestro modelo\n",
        "regr.fit(x_train, y_train)\n",
        "y_pred = regr.predict(x_train)\n",
        "# Veamos los coeficienetes obtenidos, En nuestro caso, serán la Tangente\n",
        "print('Coefficients: \\n', regr.coef_)\n",
        "# Este es el valor donde corta el eje Y (en X=0)\n",
        "print('Independent term: \\n', regr.intercept_)\n",
        "# Error Cuadrado Medio\n",
        "print(\"Mean squared error: %.2f\" % mean_squared_error(y_train, y_pred))\n",
        "# Puntaje de Varianza. El mejor puntaje es un 1.0\n",
        "print('Variance score: %.2f' % r2_score(y_train, y_pred))\n",
        "\n",
        "#https://www.aprendemachinelearning.com/regresion-lineal-en-espanol-con-python/"
      ],
      "execution_count": 133,
      "outputs": [
        {
          "output_type": "stream",
          "text": [
            "Coefficients: \n",
            " [[0.01251093]]\n",
            "Independent term: \n",
            " [14.69357939]\n",
            "Mean squared error: 585.42\n",
            "Variance score: 0.51\n"
          ],
          "name": "stdout"
        }
      ]
    },
    {
      "cell_type": "code",
      "metadata": {
        "id": "fYTP_DPL60Uv"
      },
      "source": [
        "#el coeficiente m es la pendiente 0.01251093\n",
        "#la ordenada al origen es 14.69\n",
        "#el error cuadratico es 585.42\n",
        "#la varianza es 0.51 \n"
      ],
      "execution_count": 134,
      "outputs": []
    },
    {
      "cell_type": "markdown",
      "metadata": {
        "id": "mo4hVhvy6xmO"
      },
      "source": [
        ""
      ]
    },
    {
      "cell_type": "code",
      "metadata": {
        "id": "Dy-_gov0p_vc"
      },
      "source": [
        "x=df_out2['gdp60'].values.reshape(-1,1)\n",
        "y=df_out2['literacy60'].values.reshape(-1,1)\n",
        "linear_regressor=LinearRegression()\n",
        "linear_regressor.fit(x,y)\n",
        "x_pred=linear_regressor.predict(x)\n"
      ],
      "execution_count": 135,
      "outputs": []
    },
    {
      "cell_type": "code",
      "metadata": {
        "id": "vdZjpVv4sGc3",
        "outputId": "61bad124-17d7-4d4e-e481-4223cadbef9c",
        "colab": {
          "base_uri": "https://localhost:8080/",
          "height": 34
        }
      },
      "source": [
        "#ecuacion\n",
        "import matplotlib.pyplot as plt\n",
        "\n",
        "m = linear_regressor.coef_[0][0]\n",
        "c = linear_regressor.intercept_[0]\n",
        "label = r'$y = %0.4f*x  %+0.4f$'%(m,c)\n",
        "print(label)"
      ],
      "execution_count": 136,
      "outputs": [
        {
          "output_type": "stream",
          "text": [
            "$y = 0.0125*x  +14.6936$\n"
          ],
          "name": "stdout"
        }
      ]
    },
    {
      "cell_type": "code",
      "metadata": {
        "id": "kHoVleN-5QNZ",
        "outputId": "c4756158-8873-4fe6-9201-6e6887cea417",
        "colab": {
          "base_uri": "https://localhost:8080/",
          "height": 537
        }
      },
      "source": [
        "plt.scatter(x_train, y_train)\n",
        "plt.plot(x_train, y_pred, color='red')\n",
        "plt.show()\n"
      ],
      "execution_count": 137,
      "outputs": [
        {
          "output_type": "display_data",
          "data": {
            "image/png": "[encoded data removed]",
            "text/plain": [
              "<Figure size 1152x648 with 1 Axes>"
            ]
          },
          "metadata": {
            "tags": []
          }
        }
      ]
    },
    {
      "cell_type": "code",
      "metadata": {
        "id": "NzAbx-jW5QK9",
        "outputId": "b30456c1-6408-4c94-f582-10f47bcb1464",
        "colab": {
          "base_uri": "https://localhost:8080/",
          "height": 34
        }
      },
      "source": [
        "#prediccion, si el PBI aumenta a 10.000 el porcentaje que sabe leer y escribir aumenta a 139%\n",
        "y_Diezmil = regr.predict([[10000]])\n",
        "print(int(y_Diezmil))"
      ],
      "execution_count": 138,
      "outputs": [
        {
          "output_type": "stream",
          "text": [
            "139\n"
          ],
          "name": "stdout"
        }
      ]
    },
    {
      "cell_type": "code",
      "metadata": {
        "id": "kh6323FiVfTy",
        "outputId": "39ca8f7b-ea02-444d-e4ff-8574aa434470",
        "colab": {
          "base_uri": "https://localhost:8080/",
          "height": 195
        }
      },
      "source": [
        "#Regresion lineal NO ME SALIO CON LA BASE DE DATOS NORMALIZADA\n",
        "import sklearn.linear_model\n",
        "from sklearn.linear_model import LinearRegression\n",
        "import matplotlib as plt\n",
        "plt.scatter(datanorm[:,1],datanorm[:,3])\n"
      ],
      "execution_count": 139,
      "outputs": [
        {
          "output_type": "error",
          "ename": "AttributeError",
          "evalue": "ignored",
          "traceback": [
            "\u001b[0;31m---------------------------------------------------------------------------\u001b[0m",
            "\u001b[0;31mAttributeError\u001b[0m                            Traceback (most recent call last)",
            "\u001b[0;32m<ipython-input-139-d42c5899ca48>\u001b[0m in \u001b[0;36m<module>\u001b[0;34m()\u001b[0m\n\u001b[1;32m      3\u001b[0m \u001b[0;32mfrom\u001b[0m \u001b[0msklearn\u001b[0m\u001b[0;34m.\u001b[0m\u001b[0mlinear_model\u001b[0m \u001b[0;32mimport\u001b[0m \u001b[0mLinearRegression\u001b[0m\u001b[0;34m\u001b[0m\u001b[0;34m\u001b[0m\u001b[0m\n\u001b[1;32m      4\u001b[0m \u001b[0;32mimport\u001b[0m \u001b[0mmatplotlib\u001b[0m \u001b[0;32mas\u001b[0m \u001b[0mplt\u001b[0m\u001b[0;34m\u001b[0m\u001b[0;34m\u001b[0m\u001b[0m\n\u001b[0;32m----> 5\u001b[0;31m \u001b[0mplt\u001b[0m\u001b[0;34m.\u001b[0m\u001b[0mscatter\u001b[0m\u001b[0;34m(\u001b[0m\u001b[0mdatanorm\u001b[0m\u001b[0;34m[\u001b[0m\u001b[0;34m:\u001b[0m\u001b[0;34m,\u001b[0m\u001b[0;36m1\u001b[0m\u001b[0;34m]\u001b[0m\u001b[0;34m,\u001b[0m\u001b[0mdatanorm\u001b[0m\u001b[0;34m[\u001b[0m\u001b[0;34m:\u001b[0m\u001b[0;34m,\u001b[0m\u001b[0;36m3\u001b[0m\u001b[0;34m]\u001b[0m\u001b[0;34m)\u001b[0m\u001b[0;34m\u001b[0m\u001b[0;34m\u001b[0m\u001b[0m\n\u001b[0m",
            "\u001b[0;31mAttributeError\u001b[0m: module 'matplotlib' has no attribute 'scatter'"
          ]
        }
      ]
    },
    {
      "cell_type": "code",
      "metadata": {
        "id": "_EUSos2nppN3"
      },
      "source": [
        "plt.scatter(datanorm[:,1],datanorm[:,3]\n",
        "#fig = plt.figure(figsize=(14,14))\n",
        "#plt.plot(df_out2['gdp60'],df_out2['literacy60'])\n",
        "#plt.xlabel('PBI en 1960')\n",
        "#plt.ylabel('personas que saben leer y escribir en 1960')\n"
      ],
      "execution_count": null,
      "outputs": []
    },
    {
      "cell_type": "markdown",
      "metadata": {
        "id": "oQ855QVe-NW3"
      },
      "source": [
        "# Regresion lineal multiple"
      ]
    },
    {
      "cell_type": "code",
      "metadata": {
        "id": "E3UnNSiSAApo"
      },
      "source": [
        "#datax2=(df_out2['school']).values.reshape(-1,1), (df_out2['gdp60']).values.reshape(-1,1)\n",
        "#datax2=(df_out2['gdp60']).values.reshape(-1,1)\n",
        "xy_train=X_pca\n",
        "z_train = df_out2['literacy60'].values.reshape(-1,1)\n",
        "\n",
        "\n",
        "#nsamples, nx, ny = train_dataset.shape\n",
        "#d2_train_dataset = train_dataset.reshape((nsamples,nx*ny))"
      ],
      "execution_count": 140,
      "outputs": []
    },
    {
      "cell_type": "code",
      "metadata": {
        "id": "rzMoymggApHi",
        "outputId": "3927d3bc-4476-428b-c6ce-cd37a40cdf34",
        "colab": {
          "base_uri": "https://localhost:8080/",
          "height": 84
        }
      },
      "source": [
        "# Creo un nuevo objeto de Regresión Lineal\n",
        "regr2 = linear_model.LinearRegression()\n",
        "\n",
        "# Entreno el modelo, esta vez, con 2 dimensiones\n",
        "# obtengo 2 coeficientes, para graficar un plano\n",
        "regr2.fit(xy_train, z_train)\n",
        "\n",
        "# Hago la predicción con la que tendremos puntos sobre el plano hallado\n",
        "z_pred = regr2.predict(xy_train)\n",
        "\n",
        "# Los coeficientes\n",
        "print('Coefficients: \\n', regr2.coef_)\n",
        "# Error cuadrático medio\n",
        "print(\"Mean squared error: %.2f\" % mean_squared_error(z_train, z_pred))\n",
        "# Evaluo el puntaje de varianza (siendo 1.0 el mejor posible)\n",
        "print('Variance score: %.2f' % r2_score(z_train, z_pred))\n"
      ],
      "execution_count": 141,
      "outputs": [
        {
          "output_type": "stream",
          "text": [
            "Coefficients: \n",
            " [[15.72059111  2.89212543  3.87570059]]\n",
            "Mean squared error: 381.74\n",
            "Variance score: 0.68\n"
          ],
          "name": "stdout"
        }
      ]
    },
    {
      "cell_type": "code",
      "metadata": {
        "id": "9sPpkXogBlqy",
        "outputId": "0be0fbb4-ab1b-49c2-88dd-1b782a6bd981",
        "colab": {
          "base_uri": "https://localhost:8080/",
          "height": 229
        }
      },
      "source": [
        "fig = plt.figure()\n",
        "ax = Axes3D(fig)\n",
        " \n",
        "# Creamos una malla, sobre la cual graficaremos el plano\n",
        "xx, yy, zz = np.meshgrid(np.linspace(0, 20000, num=20), np.linspace(0, 60, num=20), np.linspace(0, 60, num=20))\n",
        " \n",
        "\n",
        "# calculamos los valores del plano para los puntos x e y\n",
        "nuevoX = (regr2.coef_[0] * xx)\n",
        "nuevoY = (regr2.coef_[1] * yy)\n",
        "nuevoZ = (regr2.coef_[2] * zz)\n",
        "\n",
        "\n",
        " \n",
        "# calculamos los correspondientes valores para z. Debemos sumar el punto de intercepción\n",
        "z = (nuevoX + nuevoY + nuevoZ + regr2.intercept_)\n",
        " \n",
        "# Graficamos el plano\n",
        "ax.plot_surface(xx, yy, zz, z, alpha=0.2, cmap='hot')\n",
        " \n",
        "# Graficamos en azul los puntos en 3D\n",
        "ax.scatter(xy_train[:, 0], xy_train[:, 1],xy_train[:, 2], z_train, c='blue',s=30)\n",
        " \n",
        "# Graficamos en rojo, los puntos que \n",
        "ax.scatter(xy_train[:, 0], xy_train[:, 1],xy_train[:, 2], z_pred, c='red',s=40)\n",
        " \n",
        "# con esto situamos la \"camara\" con la que visualizamos\n",
        "ax.view_init(elev=30., azim=65)\n",
        "        \n",
        "ax.set_xlabel('PBI en 1960')\n",
        "ax.set_ylabel('Porcentaje de personas que saben leer y escribir')\n",
        "ax.set_zlabel('Personas que van a la escuela en edad de trabajar')\n",
        "ax.set_title('Regresión Lineal con Múltiples Variables')"
      ],
      "execution_count": 142,
      "outputs": [
        {
          "output_type": "error",
          "ename": "TypeError",
          "evalue": "ignored",
          "traceback": [
            "\u001b[0;31m---------------------------------------------------------------------------\u001b[0m",
            "\u001b[0;31mTypeError\u001b[0m                                 Traceback (most recent call last)",
            "\u001b[0;32m<ipython-input-142-cfab987c0949>\u001b[0m in \u001b[0;36m<module>\u001b[0;34m()\u001b[0m\n\u001b[0;32m----> 1\u001b[0;31m \u001b[0mfig\u001b[0m \u001b[0;34m=\u001b[0m \u001b[0mplt\u001b[0m\u001b[0;34m.\u001b[0m\u001b[0mfigure\u001b[0m\u001b[0;34m(\u001b[0m\u001b[0;34m)\u001b[0m\u001b[0;34m\u001b[0m\u001b[0;34m\u001b[0m\u001b[0m\n\u001b[0m\u001b[1;32m      2\u001b[0m \u001b[0max\u001b[0m \u001b[0;34m=\u001b[0m \u001b[0mAxes3D\u001b[0m\u001b[0;34m(\u001b[0m\u001b[0mfig\u001b[0m\u001b[0;34m)\u001b[0m\u001b[0;34m\u001b[0m\u001b[0;34m\u001b[0m\u001b[0m\n\u001b[1;32m      3\u001b[0m \u001b[0;34m\u001b[0m\u001b[0m\n\u001b[1;32m      4\u001b[0m \u001b[0;31m# Creamos una malla, sobre la cual graficaremos el plano\u001b[0m\u001b[0;34m\u001b[0m\u001b[0;34m\u001b[0m\u001b[0;34m\u001b[0m\u001b[0m\n\u001b[1;32m      5\u001b[0m \u001b[0mxx\u001b[0m\u001b[0;34m,\u001b[0m \u001b[0myy\u001b[0m\u001b[0;34m,\u001b[0m \u001b[0mzz\u001b[0m \u001b[0;34m=\u001b[0m \u001b[0mnp\u001b[0m\u001b[0;34m.\u001b[0m\u001b[0mmeshgrid\u001b[0m\u001b[0;34m(\u001b[0m\u001b[0mnp\u001b[0m\u001b[0;34m.\u001b[0m\u001b[0mlinspace\u001b[0m\u001b[0;34m(\u001b[0m\u001b[0;36m0\u001b[0m\u001b[0;34m,\u001b[0m \u001b[0;36m20000\u001b[0m\u001b[0;34m,\u001b[0m \u001b[0mnum\u001b[0m\u001b[0;34m=\u001b[0m\u001b[0;36m20\u001b[0m\u001b[0;34m)\u001b[0m\u001b[0;34m,\u001b[0m \u001b[0mnp\u001b[0m\u001b[0;34m.\u001b[0m\u001b[0mlinspace\u001b[0m\u001b[0;34m(\u001b[0m\u001b[0;36m0\u001b[0m\u001b[0;34m,\u001b[0m \u001b[0;36m60\u001b[0m\u001b[0;34m,\u001b[0m \u001b[0mnum\u001b[0m\u001b[0;34m=\u001b[0m\u001b[0;36m20\u001b[0m\u001b[0;34m)\u001b[0m\u001b[0;34m,\u001b[0m \u001b[0mnp\u001b[0m\u001b[0;34m.\u001b[0m\u001b[0mlinspace\u001b[0m\u001b[0;34m(\u001b[0m\u001b[0;36m0\u001b[0m\u001b[0;34m,\u001b[0m \u001b[0;36m60\u001b[0m\u001b[0;34m,\u001b[0m \u001b[0mnum\u001b[0m\u001b[0;34m=\u001b[0m\u001b[0;36m20\u001b[0m\u001b[0;34m)\u001b[0m\u001b[0;34m)\u001b[0m\u001b[0;34m\u001b[0m\u001b[0;34m\u001b[0m\u001b[0m\n",
            "\u001b[0;31mTypeError\u001b[0m: 'module' object is not callable"
          ]
        }
      ]
    },
    {
      "cell_type": "markdown",
      "metadata": {
        "id": "mWKpZxeF5VYi"
      },
      "source": [
        "# DBSCAN"
      ]
    },
    {
      "cell_type": "code",
      "metadata": {
        "id": "2CYveSxa5U4q",
        "outputId": "5eadcd25-133e-487b-eef7-9ae76f9c52c5",
        "colab": {
          "base_uri": "https://localhost:8080/",
          "height": 229
        }
      },
      "source": [
        "#dibujar la distancia mas corta para obtener epsilon\n",
        "minPts=3\n",
        "from sklearn.neighbors import kneighbors_graph\n",
        "A = kneighbors_graph(datanorm, minPts, include_self=False)\n",
        "Ar = A.toarray()\n",
        "\n",
        "seq = []\n",
        "for i,s in enumerate(datanorm):\n",
        "    for j in range(len(datanorm)):\n",
        "        if Ar[i][j] != 0:\n",
        "            seq.append([i][j])\n",
        "            \n",
        "seq.sort()\n",
        "# establecer intervalo ejes\n",
        "fig = plt.figure()\n",
        "ax = fig.gca()\n",
        "ax.set_xticks(numpy.arange(0, 150, 20))\n",
        "ax.set_yticks(numpy.arange(0, 3, 0.2))\n",
        "\n",
        "plt.plot(seq)\n",
        "\n",
        "\n",
        "plt.show()"
      ],
      "execution_count": 144,
      "outputs": [
        {
          "output_type": "error",
          "ename": "IndexError",
          "evalue": "ignored",
          "traceback": [
            "\u001b[0;31m---------------------------------------------------------------------------\u001b[0m",
            "\u001b[0;31mIndexError\u001b[0m                                Traceback (most recent call last)",
            "\u001b[0;32m<ipython-input-144-96b9285048d6>\u001b[0m in \u001b[0;36m<module>\u001b[0;34m()\u001b[0m\n\u001b[1;32m      8\u001b[0m     \u001b[0;32mfor\u001b[0m \u001b[0mj\u001b[0m \u001b[0;32min\u001b[0m \u001b[0mrange\u001b[0m\u001b[0;34m(\u001b[0m\u001b[0mlen\u001b[0m\u001b[0;34m(\u001b[0m\u001b[0mdatanorm\u001b[0m\u001b[0;34m)\u001b[0m\u001b[0;34m)\u001b[0m\u001b[0;34m:\u001b[0m\u001b[0;34m\u001b[0m\u001b[0;34m\u001b[0m\u001b[0m\n\u001b[1;32m      9\u001b[0m         \u001b[0;32mif\u001b[0m \u001b[0mAr\u001b[0m\u001b[0;34m[\u001b[0m\u001b[0mi\u001b[0m\u001b[0;34m]\u001b[0m\u001b[0;34m[\u001b[0m\u001b[0mj\u001b[0m\u001b[0;34m]\u001b[0m \u001b[0;34m!=\u001b[0m \u001b[0;36m0\u001b[0m\u001b[0;34m:\u001b[0m\u001b[0;34m\u001b[0m\u001b[0;34m\u001b[0m\u001b[0m\n\u001b[0;32m---> 10\u001b[0;31m             \u001b[0mseq\u001b[0m\u001b[0;34m.\u001b[0m\u001b[0mappend\u001b[0m\u001b[0;34m(\u001b[0m\u001b[0;34m[\u001b[0m\u001b[0mi\u001b[0m\u001b[0;34m]\u001b[0m\u001b[0;34m[\u001b[0m\u001b[0mj\u001b[0m\u001b[0;34m]\u001b[0m\u001b[0;34m)\u001b[0m\u001b[0;34m\u001b[0m\u001b[0;34m\u001b[0m\u001b[0m\n\u001b[0m\u001b[1;32m     11\u001b[0m \u001b[0;34m\u001b[0m\u001b[0m\n\u001b[1;32m     12\u001b[0m \u001b[0mseq\u001b[0m\u001b[0;34m.\u001b[0m\u001b[0msort\u001b[0m\u001b[0;34m(\u001b[0m\u001b[0;34m)\u001b[0m\u001b[0;34m\u001b[0m\u001b[0;34m\u001b[0m\u001b[0m\n",
            "\u001b[0;31mIndexError\u001b[0m: list index out of range"
          ]
        }
      ]
    },
    {
      "cell_type": "code",
      "metadata": {
        "id": "1_Fexl9C6w1t",
        "outputId": "0cd3b41c-be4d-4872-c655-3ae045e92cff",
        "colab": {
          "base_uri": "https://localhost:8080/",
          "height": 101
        }
      },
      "source": [
        "# realizar diferntes clusters desde 0.2 a 0.7 con intervalos de 0.1. \n",
        "#De todas formas la disposición de los datos hará que DBSCAN únicamente aisle \n",
        "#una zona densa de aquellos elementos que considera outliers\n",
        "from sklearn.cluster import DBSCAN\n",
        "import numpy\n",
        "\n",
        "for eps in numpy.arange(0.20, 0.7, 0.10):\n",
        "  db = DBSCAN(eps, min_samples=minPts).fit(datanorm)\n",
        "  core_samples_mask = numpy.zeros_like(db.labels_, dtype=bool)\n",
        "  core_samples_mask[db.core_sample_indices_] = True\n",
        "  labels = db.labels_\n",
        "  n_clusters_ = len(set(labels)) - (1 if -1 in labels else 0)\n",
        "  print (eps, n_clusters_)"
      ],
      "execution_count": 146,
      "outputs": [
        {
          "output_type": "stream",
          "text": [
            "0.2 5\n",
            "0.30000000000000004 3\n",
            "0.4000000000000001 2\n",
            "0.5000000000000001 1\n",
            "0.6000000000000001 1\n"
          ],
          "name": "stdout"
        }
      ]
    },
    {
      "cell_type": "code",
      "metadata": {
        "id": "Gfx2yzXl7SwQ",
        "outputId": "36da7c65-5124-413c-c7c0-d2d7df4e12d0",
        "colab": {
          "base_uri": "https://localhost:8080/",
          "height": 134
        }
      },
      "source": [
        "db = DBSCAN(eps=0.5, min_samples=minPts).fit(datanorm)\n",
        "labels = db.labels_\n",
        "labels"
      ],
      "execution_count": 147,
      "outputs": [
        {
          "output_type": "execute_result",
          "data": {
            "text/plain": [
              "array([ 0,  0,  0,  0,  0,  0,  0,  0,  0,  0,  0,  0,  0,  0,  0,  0,  0,\n",
              "        0,  0,  0,  0,  0,  0,  0,  0,  0,  0,  0,  0,  0,  0,  0,  0,  0,\n",
              "        0,  0,  0,  0,  0,  0,  0,  0,  0,  0,  0,  0,  0,  0,  0,  0,  0,\n",
              "        0,  0,  0,  0,  0,  0, -1,  0,  0, -1,  0,  0,  0,  0,  0, -1,  0,\n",
              "        0,  0,  0,  0,  0,  0,  0,  0,  0,  0,  0,  0,  0,  0,  0,  0,  0,\n",
              "        0,  0,  0,  0,  0,  0,  0,  0,  0,  0,  0,  0,  0,  0,  0,  0,  0,\n",
              "        0,  0,  0,  0, -1,  0,  0,  0])"
            ]
          },
          "metadata": {
            "tags": []
          },
          "execution_count": 147
        }
      ]
    },
    {
      "cell_type": "code",
      "metadata": {
        "id": "uZx-o0za7Uyl",
        "outputId": "0938d1d5-4365-4a32-ee67-1e8819932669",
        "colab": {
          "base_uri": "https://localhost:8080/",
          "height": 539
        }
      },
      "source": [
        "#visualizamos los resultados\n",
        "#plotting orginal points with color related to label\n",
        "import matplotlib.pyplot as plt\n",
        "plt.scatter(X_pca[:,0], X_pca[:,1], c=labels,s=50)\n",
        "plt.grid()\n",
        "plt.show()"
      ],
      "execution_count": 153,
      "outputs": [
        {
          "output_type": "display_data",
          "data": {
            "image/png": "[encoded data removed]",
            "text/plain": [
              "<Figure size 1152x648 with 1 Axes>"
            ]
          },
          "metadata": {
            "tags": []
          }
        }
      ]
    },
    {
      "cell_type": "code",
      "metadata": {
        "id": "schHN03D7_Wx",
        "outputId": "6a56d694-b3c7-4757-edf7-6ebaf59fa027",
        "colab": {
          "base_uri": "https://localhost:8080/",
          "height": 34
        }
      },
      "source": [
        "#determinar el numero de clusters\n",
        "from sklearn.mixture import GaussianMixture\n",
        "\n",
        "lowest_bic = numpy.infty\n",
        "bic = []\n",
        "best_cv = 'full'\n",
        "best_k = 3\n",
        "cv_types = ['spherical', 'tied', 'diag', 'full']\n",
        "n_components_range = range(1, 7)\n",
        "for cv_type in cv_types:\n",
        "    for k in range(1, 7):\n",
        "        gmm = GaussianMixture(n_components=k, covariance_type=cv_type, init_params='random')\n",
        "        gmm.fit(X_pca)\n",
        "        bic.append(gmm.bic(X_pca))\n",
        "        if bic[-1] < lowest_bic:\n",
        "            lowest_bic = bic[-1]\n",
        "            best_cv = cv_type\n",
        "            best_k = k\n",
        "            \n",
        "print (\"Mejor valor K\", best_k, \"Mejor tipo de Covarianza\", best_cv)"
      ],
      "execution_count": 155,
      "outputs": [
        {
          "output_type": "stream",
          "text": [
            "Mejor valor K 4 Mejor tipo de Covarianza spherical\n"
          ],
          "name": "stdout"
        }
      ]
    },
    {
      "cell_type": "code",
      "metadata": {
        "id": "JxbernZ28oHo",
        "outputId": "7fa36412-bfa8-4fcc-a20e-7ed51defdcbe",
        "colab": {
          "base_uri": "https://localhost:8080/",
          "height": 229
        }
      },
      "source": [
        "# Plot the BIC scores\n",
        "color_iter = itertools.cycle(['navy', 'turquoise', 'cornflowerblue',\n",
        "                              'darkorange'])\n",
        "bars = []\n",
        "plt.figure(figsize=(18, 6))\n",
        "spl = plt.subplot(2, 1, 1)\n",
        "for i, (cv_type, color) in enumerate(zip(cv_types, color_iter)):\n",
        "    xpos = numpy.array(n_components_range) + .2 * (i - 2)\n",
        "    bars.append(plt.bar(xpos, bic[i * len(n_components_range):\n",
        "                                  (i + 1) * len(n_components_range)],\n",
        "                        width=.2, color=color))\n",
        "plt.xticks(n_components_range)\n",
        "plt.ylim([min(bic) * 1.01 - .01 * max(bic), max(bic)])\n",
        "plt.title('BIC score per model')\n",
        "xpos = numpy.mod(numpy.argmin(bic), len(n_components_range)) + .65 +\\\n",
        "    .2 * numpy.floor(numpy.argmin(bic) / len(n_components_range))\n",
        "plt.text(xpos, min(bic) * 0.97 + .03 * max(bic), '*', fontsize=14)\n",
        "spl.set_xlabel('Número de componentes')\n",
        "spl.legend([b[0] for b in bars], cv_types)"
      ],
      "execution_count": 156,
      "outputs": [
        {
          "output_type": "error",
          "ename": "NameError",
          "evalue": "ignored",
          "traceback": [
            "\u001b[0;31m---------------------------------------------------------------------------\u001b[0m",
            "\u001b[0;31mNameError\u001b[0m                                 Traceback (most recent call last)",
            "\u001b[0;32m<ipython-input-156-e03baad6de46>\u001b[0m in \u001b[0;36m<module>\u001b[0;34m()\u001b[0m\n\u001b[1;32m      1\u001b[0m \u001b[0;31m# Plot the BIC scores\u001b[0m\u001b[0;34m\u001b[0m\u001b[0;34m\u001b[0m\u001b[0;34m\u001b[0m\u001b[0m\n\u001b[0;32m----> 2\u001b[0;31m color_iter = itertools.cycle(['navy', 'turquoise', 'cornflowerblue',\n\u001b[0m\u001b[1;32m      3\u001b[0m                               'darkorange'])\n\u001b[1;32m      4\u001b[0m \u001b[0mbars\u001b[0m \u001b[0;34m=\u001b[0m \u001b[0;34m[\u001b[0m\u001b[0;34m]\u001b[0m\u001b[0;34m\u001b[0m\u001b[0;34m\u001b[0m\u001b[0m\n\u001b[1;32m      5\u001b[0m \u001b[0mplt\u001b[0m\u001b[0;34m.\u001b[0m\u001b[0mfigure\u001b[0m\u001b[0;34m(\u001b[0m\u001b[0mfigsize\u001b[0m\u001b[0;34m=\u001b[0m\u001b[0;34m(\u001b[0m\u001b[0;36m18\u001b[0m\u001b[0;34m,\u001b[0m \u001b[0;36m6\u001b[0m\u001b[0;34m)\u001b[0m\u001b[0;34m)\u001b[0m\u001b[0;34m\u001b[0m\u001b[0;34m\u001b[0m\u001b[0m\n",
            "\u001b[0;31mNameError\u001b[0m: name 'itertools' is not defined"
          ]
        }
      ]
    }
  ]
}