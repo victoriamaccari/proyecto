{
  "nbformat": 4,
  "nbformat_minor": 0,
  "metadata": {
    "colab": {
      "name": "GrowthDJ -",
      "provenance": [],
      "authorship_tag": "ABX9TyMpKLNNlyZ3MvG6P1hisDoY",
      "include_colab_link": true
    },
    "kernelspec": {
      "name": "python3",
      "display_name": "Python 3"
    }
  },
  "cells": [
    {
      "cell_type": "markdown",
      "metadata": {
        "id": "view-in-github",
        "colab_type": "text"
      },
      "source": [
        "<a href=\"https://colab.research.google.com/github/victoriamaccari/proyecto/blob/master/GrowthDJ_.ipynb\" target=\"_parent\"><img src=\"https://colab.research.google.com/assets/colab-badge.svg\" alt=\"Open In Colab\"/></a>"
      ]
    },
    {
      "cell_type": "markdown",
      "metadata": {
        "id": "MomkMOpPJ5KT"
      },
      "source": [
        "# Preproceso de datos\n",
        "\n",
        "\n"
      ]
    },
    {
      "cell_type": "markdown",
      "metadata": {
        "id": "mxq3gBP7L1ZD"
      },
      "source": [
        "\n",
        "\n",
        "#####carga de datos\n",
        "\n"
      ]
    },
    {
      "cell_type": "markdown",
      "metadata": {
        "id": "QHsOFTuMKBTF"
      },
      "source": [
        ""
      ]
    },
    {
      "cell_type": "code",
      "metadata": {
        "id": "IqOX5oVDEhzw"
      },
      "source": [
        "import pandas as pd"
      ],
      "execution_count": 1,
      "outputs": []
    },
    {
      "cell_type": "code",
      "metadata": {
        "id": "SfyYy3SzEnlH"
      },
      "source": [
        "url= \"https://raw.githubusercontent.com/victoriamaccari/proyecto/master/GrowthDJ.csv\""
      ],
      "execution_count": 2,
      "outputs": []
    },
    {
      "cell_type": "code",
      "metadata": {
        "id": "csKyPQeUEuAW"
      },
      "source": [
        "df= pd.read_csv(url)"
      ],
      "execution_count": 3,
      "outputs": []
    },
    {
      "cell_type": "code",
      "metadata": {
        "id": "U2DoWFVuFUmI",
        "outputId": "23d3826c-5385-4973-b50b-9e63795fef1e",
        "colab": {
          "base_uri": "https://localhost:8080/",
          "height": 343
        }
      },
      "source": [
        "df.head(10)"
      ],
      "execution_count": 4,
      "outputs": [
        {
          "output_type": "execute_result",
          "data": {
            "text/html": [
              "<div>\n",
              "<style scoped>\n",
              "    .dataframe tbody tr th:only-of-type {\n",
              "        vertical-align: middle;\n",
              "    }\n",
              "\n",
              "    .dataframe tbody tr th {\n",
              "        vertical-align: top;\n",
              "    }\n",
              "\n",
              "    .dataframe thead th {\n",
              "        text-align: right;\n",
              "    }\n",
              "</style>\n",
              "<table border=\"1\" class=\"dataframe\">\n",
              "  <thead>\n",
              "    <tr style=\"text-align: right;\">\n",
              "      <th></th>\n",
              "      <th>Unnamed: 0</th>\n",
              "      <th>oil</th>\n",
              "      <th>inter</th>\n",
              "      <th>oecd</th>\n",
              "      <th>gdp60</th>\n",
              "      <th>gdp85</th>\n",
              "      <th>gdpgrowth</th>\n",
              "      <th>popgrowth</th>\n",
              "      <th>invest</th>\n",
              "      <th>school</th>\n",
              "      <th>literacy60</th>\n",
              "    </tr>\n",
              "  </thead>\n",
              "  <tbody>\n",
              "    <tr>\n",
              "      <th>0</th>\n",
              "      <td>1</td>\n",
              "      <td>no</td>\n",
              "      <td>yes</td>\n",
              "      <td>no</td>\n",
              "      <td>2485.0</td>\n",
              "      <td>4371.0</td>\n",
              "      <td>4.8</td>\n",
              "      <td>2.6</td>\n",
              "      <td>24.1</td>\n",
              "      <td>4.5</td>\n",
              "      <td>10.0</td>\n",
              "    </tr>\n",
              "    <tr>\n",
              "      <th>1</th>\n",
              "      <td>2</td>\n",
              "      <td>no</td>\n",
              "      <td>no</td>\n",
              "      <td>no</td>\n",
              "      <td>1588.0</td>\n",
              "      <td>1171.0</td>\n",
              "      <td>0.8</td>\n",
              "      <td>2.1</td>\n",
              "      <td>5.8</td>\n",
              "      <td>1.8</td>\n",
              "      <td>5.0</td>\n",
              "    </tr>\n",
              "    <tr>\n",
              "      <th>2</th>\n",
              "      <td>3</td>\n",
              "      <td>no</td>\n",
              "      <td>no</td>\n",
              "      <td>no</td>\n",
              "      <td>1116.0</td>\n",
              "      <td>1071.0</td>\n",
              "      <td>2.2</td>\n",
              "      <td>2.4</td>\n",
              "      <td>10.8</td>\n",
              "      <td>1.8</td>\n",
              "      <td>5.0</td>\n",
              "    </tr>\n",
              "    <tr>\n",
              "      <th>3</th>\n",
              "      <td>4</td>\n",
              "      <td>no</td>\n",
              "      <td>yes</td>\n",
              "      <td>no</td>\n",
              "      <td>959.0</td>\n",
              "      <td>3671.0</td>\n",
              "      <td>8.6</td>\n",
              "      <td>3.2</td>\n",
              "      <td>28.3</td>\n",
              "      <td>2.9</td>\n",
              "      <td>NaN</td>\n",
              "    </tr>\n",
              "    <tr>\n",
              "      <th>4</th>\n",
              "      <td>5</td>\n",
              "      <td>no</td>\n",
              "      <td>no</td>\n",
              "      <td>no</td>\n",
              "      <td>529.0</td>\n",
              "      <td>857.0</td>\n",
              "      <td>2.9</td>\n",
              "      <td>0.9</td>\n",
              "      <td>12.7</td>\n",
              "      <td>0.4</td>\n",
              "      <td>2.0</td>\n",
              "    </tr>\n",
              "    <tr>\n",
              "      <th>5</th>\n",
              "      <td>6</td>\n",
              "      <td>no</td>\n",
              "      <td>no</td>\n",
              "      <td>no</td>\n",
              "      <td>755.0</td>\n",
              "      <td>663.0</td>\n",
              "      <td>1.2</td>\n",
              "      <td>1.7</td>\n",
              "      <td>5.1</td>\n",
              "      <td>0.4</td>\n",
              "      <td>14.0</td>\n",
              "    </tr>\n",
              "    <tr>\n",
              "      <th>6</th>\n",
              "      <td>7</td>\n",
              "      <td>no</td>\n",
              "      <td>yes</td>\n",
              "      <td>no</td>\n",
              "      <td>889.0</td>\n",
              "      <td>2190.0</td>\n",
              "      <td>5.7</td>\n",
              "      <td>2.1</td>\n",
              "      <td>12.8</td>\n",
              "      <td>3.4</td>\n",
              "      <td>19.0</td>\n",
              "    </tr>\n",
              "    <tr>\n",
              "      <th>7</th>\n",
              "      <td>8</td>\n",
              "      <td>no</td>\n",
              "      <td>no</td>\n",
              "      <td>no</td>\n",
              "      <td>838.0</td>\n",
              "      <td>789.0</td>\n",
              "      <td>1.5</td>\n",
              "      <td>1.7</td>\n",
              "      <td>10.5</td>\n",
              "      <td>1.4</td>\n",
              "      <td>7.0</td>\n",
              "    </tr>\n",
              "    <tr>\n",
              "      <th>8</th>\n",
              "      <td>9</td>\n",
              "      <td>no</td>\n",
              "      <td>no</td>\n",
              "      <td>no</td>\n",
              "      <td>908.0</td>\n",
              "      <td>462.0</td>\n",
              "      <td>-0.9</td>\n",
              "      <td>1.9</td>\n",
              "      <td>6.9</td>\n",
              "      <td>0.4</td>\n",
              "      <td>6.0</td>\n",
              "    </tr>\n",
              "    <tr>\n",
              "      <th>9</th>\n",
              "      <td>10</td>\n",
              "      <td>no</td>\n",
              "      <td>no</td>\n",
              "      <td>no</td>\n",
              "      <td>1009.0</td>\n",
              "      <td>2624.0</td>\n",
              "      <td>6.2</td>\n",
              "      <td>2.4</td>\n",
              "      <td>28.8</td>\n",
              "      <td>3.8</td>\n",
              "      <td>16.0</td>\n",
              "    </tr>\n",
              "  </tbody>\n",
              "</table>\n",
              "</div>"
            ],
            "text/plain": [
              "   Unnamed: 0 oil inter oecd  ...  popgrowth  invest  school  literacy60\n",
              "0           1  no   yes   no  ...        2.6    24.1     4.5        10.0\n",
              "1           2  no    no   no  ...        2.1     5.8     1.8         5.0\n",
              "2           3  no    no   no  ...        2.4    10.8     1.8         5.0\n",
              "3           4  no   yes   no  ...        3.2    28.3     2.9         NaN\n",
              "4           5  no    no   no  ...        0.9    12.7     0.4         2.0\n",
              "5           6  no    no   no  ...        1.7     5.1     0.4        14.0\n",
              "6           7  no   yes   no  ...        2.1    12.8     3.4        19.0\n",
              "7           8  no    no   no  ...        1.7    10.5     1.4         7.0\n",
              "8           9  no    no   no  ...        1.9     6.9     0.4         6.0\n",
              "9          10  no    no   no  ...        2.4    28.8     3.8        16.0\n",
              "\n",
              "[10 rows x 11 columns]"
            ]
          },
          "metadata": {
            "tags": []
          },
          "execution_count": 4
        }
      ]
    },
    {
      "cell_type": "code",
      "metadata": {
        "id": "F3e_xz8GRTI6",
        "outputId": "26a73cc9-0b3b-4f9c-e097-3600b1344670",
        "colab": {
          "base_uri": "https://localhost:8080/",
          "height": 319
        }
      },
      "source": [
        "df.info()"
      ],
      "execution_count": 5,
      "outputs": [
        {
          "output_type": "stream",
          "text": [
            "<class 'pandas.core.frame.DataFrame'>\n",
            "RangeIndex: 121 entries, 0 to 120\n",
            "Data columns (total 11 columns):\n",
            " #   Column      Non-Null Count  Dtype  \n",
            "---  ------      --------------  -----  \n",
            " 0   Unnamed: 0  121 non-null    int64  \n",
            " 1   oil         121 non-null    object \n",
            " 2   inter       121 non-null    object \n",
            " 3   oecd        121 non-null    object \n",
            " 4   gdp60       116 non-null    float64\n",
            " 5   gdp85       108 non-null    float64\n",
            " 6   gdpgrowth   117 non-null    float64\n",
            " 7   popgrowth   107 non-null    float64\n",
            " 8   invest      121 non-null    float64\n",
            " 9   school      118 non-null    float64\n",
            " 10  literacy60  103 non-null    float64\n",
            "dtypes: float64(7), int64(1), object(3)\n",
            "memory usage: 10.5+ KB\n"
          ],
          "name": "stdout"
        }
      ]
    },
    {
      "cell_type": "code",
      "metadata": {
        "id": "MLw87ERjI6s7"
      },
      "source": [
        "#elimino columna Unnamed:0\n",
        "df.drop(df.columns[[0]], axis='columns', inplace=True)"
      ],
      "execution_count": 6,
      "outputs": []
    },
    {
      "cell_type": "code",
      "metadata": {
        "id": "r0OIa_kV-wvX",
        "outputId": "e26635a7-fca0-4ad7-e551-cd0569756c69",
        "colab": {
          "base_uri": "https://localhost:8080/",
          "height": 343
        }
      },
      "source": [
        "df.head(10)"
      ],
      "execution_count": 7,
      "outputs": [
        {
          "output_type": "execute_result",
          "data": {
            "text/html": [
              "<div>\n",
              "<style scoped>\n",
              "    .dataframe tbody tr th:only-of-type {\n",
              "        vertical-align: middle;\n",
              "    }\n",
              "\n",
              "    .dataframe tbody tr th {\n",
              "        vertical-align: top;\n",
              "    }\n",
              "\n",
              "    .dataframe thead th {\n",
              "        text-align: right;\n",
              "    }\n",
              "</style>\n",
              "<table border=\"1\" class=\"dataframe\">\n",
              "  <thead>\n",
              "    <tr style=\"text-align: right;\">\n",
              "      <th></th>\n",
              "      <th>oil</th>\n",
              "      <th>inter</th>\n",
              "      <th>oecd</th>\n",
              "      <th>gdp60</th>\n",
              "      <th>gdp85</th>\n",
              "      <th>gdpgrowth</th>\n",
              "      <th>popgrowth</th>\n",
              "      <th>invest</th>\n",
              "      <th>school</th>\n",
              "      <th>literacy60</th>\n",
              "    </tr>\n",
              "  </thead>\n",
              "  <tbody>\n",
              "    <tr>\n",
              "      <th>0</th>\n",
              "      <td>no</td>\n",
              "      <td>yes</td>\n",
              "      <td>no</td>\n",
              "      <td>2485.0</td>\n",
              "      <td>4371.0</td>\n",
              "      <td>4.8</td>\n",
              "      <td>2.6</td>\n",
              "      <td>24.1</td>\n",
              "      <td>4.5</td>\n",
              "      <td>10.0</td>\n",
              "    </tr>\n",
              "    <tr>\n",
              "      <th>1</th>\n",
              "      <td>no</td>\n",
              "      <td>no</td>\n",
              "      <td>no</td>\n",
              "      <td>1588.0</td>\n",
              "      <td>1171.0</td>\n",
              "      <td>0.8</td>\n",
              "      <td>2.1</td>\n",
              "      <td>5.8</td>\n",
              "      <td>1.8</td>\n",
              "      <td>5.0</td>\n",
              "    </tr>\n",
              "    <tr>\n",
              "      <th>2</th>\n",
              "      <td>no</td>\n",
              "      <td>no</td>\n",
              "      <td>no</td>\n",
              "      <td>1116.0</td>\n",
              "      <td>1071.0</td>\n",
              "      <td>2.2</td>\n",
              "      <td>2.4</td>\n",
              "      <td>10.8</td>\n",
              "      <td>1.8</td>\n",
              "      <td>5.0</td>\n",
              "    </tr>\n",
              "    <tr>\n",
              "      <th>3</th>\n",
              "      <td>no</td>\n",
              "      <td>yes</td>\n",
              "      <td>no</td>\n",
              "      <td>959.0</td>\n",
              "      <td>3671.0</td>\n",
              "      <td>8.6</td>\n",
              "      <td>3.2</td>\n",
              "      <td>28.3</td>\n",
              "      <td>2.9</td>\n",
              "      <td>NaN</td>\n",
              "    </tr>\n",
              "    <tr>\n",
              "      <th>4</th>\n",
              "      <td>no</td>\n",
              "      <td>no</td>\n",
              "      <td>no</td>\n",
              "      <td>529.0</td>\n",
              "      <td>857.0</td>\n",
              "      <td>2.9</td>\n",
              "      <td>0.9</td>\n",
              "      <td>12.7</td>\n",
              "      <td>0.4</td>\n",
              "      <td>2.0</td>\n",
              "    </tr>\n",
              "    <tr>\n",
              "      <th>5</th>\n",
              "      <td>no</td>\n",
              "      <td>no</td>\n",
              "      <td>no</td>\n",
              "      <td>755.0</td>\n",
              "      <td>663.0</td>\n",
              "      <td>1.2</td>\n",
              "      <td>1.7</td>\n",
              "      <td>5.1</td>\n",
              "      <td>0.4</td>\n",
              "      <td>14.0</td>\n",
              "    </tr>\n",
              "    <tr>\n",
              "      <th>6</th>\n",
              "      <td>no</td>\n",
              "      <td>yes</td>\n",
              "      <td>no</td>\n",
              "      <td>889.0</td>\n",
              "      <td>2190.0</td>\n",
              "      <td>5.7</td>\n",
              "      <td>2.1</td>\n",
              "      <td>12.8</td>\n",
              "      <td>3.4</td>\n",
              "      <td>19.0</td>\n",
              "    </tr>\n",
              "    <tr>\n",
              "      <th>7</th>\n",
              "      <td>no</td>\n",
              "      <td>no</td>\n",
              "      <td>no</td>\n",
              "      <td>838.0</td>\n",
              "      <td>789.0</td>\n",
              "      <td>1.5</td>\n",
              "      <td>1.7</td>\n",
              "      <td>10.5</td>\n",
              "      <td>1.4</td>\n",
              "      <td>7.0</td>\n",
              "    </tr>\n",
              "    <tr>\n",
              "      <th>8</th>\n",
              "      <td>no</td>\n",
              "      <td>no</td>\n",
              "      <td>no</td>\n",
              "      <td>908.0</td>\n",
              "      <td>462.0</td>\n",
              "      <td>-0.9</td>\n",
              "      <td>1.9</td>\n",
              "      <td>6.9</td>\n",
              "      <td>0.4</td>\n",
              "      <td>6.0</td>\n",
              "    </tr>\n",
              "    <tr>\n",
              "      <th>9</th>\n",
              "      <td>no</td>\n",
              "      <td>no</td>\n",
              "      <td>no</td>\n",
              "      <td>1009.0</td>\n",
              "      <td>2624.0</td>\n",
              "      <td>6.2</td>\n",
              "      <td>2.4</td>\n",
              "      <td>28.8</td>\n",
              "      <td>3.8</td>\n",
              "      <td>16.0</td>\n",
              "    </tr>\n",
              "  </tbody>\n",
              "</table>\n",
              "</div>"
            ],
            "text/plain": [
              "  oil inter oecd   gdp60  ...  popgrowth  invest  school  literacy60\n",
              "0  no   yes   no  2485.0  ...        2.6    24.1     4.5        10.0\n",
              "1  no    no   no  1588.0  ...        2.1     5.8     1.8         5.0\n",
              "2  no    no   no  1116.0  ...        2.4    10.8     1.8         5.0\n",
              "3  no   yes   no   959.0  ...        3.2    28.3     2.9         NaN\n",
              "4  no    no   no   529.0  ...        0.9    12.7     0.4         2.0\n",
              "5  no    no   no   755.0  ...        1.7     5.1     0.4        14.0\n",
              "6  no   yes   no   889.0  ...        2.1    12.8     3.4        19.0\n",
              "7  no    no   no   838.0  ...        1.7    10.5     1.4         7.0\n",
              "8  no    no   no   908.0  ...        1.9     6.9     0.4         6.0\n",
              "9  no    no   no  1009.0  ...        2.4    28.8     3.8        16.0\n",
              "\n",
              "[10 rows x 10 columns]"
            ]
          },
          "metadata": {
            "tags": []
          },
          "execution_count": 7
        }
      ]
    },
    {
      "cell_type": "code",
      "metadata": {
        "id": "wc65gN1UCEya",
        "outputId": "1975eff7-7c51-4ddf-c3a7-ccbd2a14648b",
        "colab": {
          "base_uri": "https://localhost:8080/",
          "height": 168
        }
      },
      "source": [
        "print(df['gdp60'].describe())\n"
      ],
      "execution_count": 8,
      "outputs": [
        {
          "output_type": "stream",
          "text": [
            "count      116.000000\n",
            "mean      3681.818966\n",
            "std       7492.877637\n",
            "min        383.000000\n",
            "25%        973.250000\n",
            "50%       1962.000000\n",
            "75%       4274.500000\n",
            "max      77881.000000\n",
            "Name: gdp60, dtype: float64\n"
          ],
          "name": "stdout"
        }
      ]
    },
    {
      "cell_type": "markdown",
      "metadata": {
        "id": "ZM4o3gVXMBNq"
      },
      "source": [
        "#####Valores perdidos"
      ]
    },
    {
      "cell_type": "code",
      "metadata": {
        "id": "1weYO77PL_yu"
      },
      "source": [
        ""
      ],
      "execution_count": null,
      "outputs": []
    },
    {
      "cell_type": "code",
      "metadata": {
        "id": "f8gbSTFSFUi3",
        "outputId": "8ae44a49-1ccf-4ea2-bd36-4bc2237626fe",
        "colab": {
          "base_uri": "https://localhost:8080/",
          "height": 202
        }
      },
      "source": [
        "#Comprobar si hay valores perdidos\n",
        "pd.isnull(df).any()\n",
        "\n"
      ],
      "execution_count": 9,
      "outputs": [
        {
          "output_type": "execute_result",
          "data": {
            "text/plain": [
              "oil           False\n",
              "inter         False\n",
              "oecd          False\n",
              "gdp60          True\n",
              "gdp85          True\n",
              "gdpgrowth      True\n",
              "popgrowth      True\n",
              "invest        False\n",
              "school         True\n",
              "literacy60     True\n",
              "dtype: bool"
            ]
          },
          "metadata": {
            "tags": []
          },
          "execution_count": 9
        }
      ]
    },
    {
      "cell_type": "code",
      "metadata": {
        "id": "0MaSbzZDHBTl",
        "outputId": "13f397af-a853-466d-ffdc-54f66078a7f1",
        "colab": {
          "base_uri": "https://localhost:8080/",
          "height": 202
        }
      },
      "source": [
        "#Total de valores perdidos por columna\n",
        "df.isnull().sum()"
      ],
      "execution_count": 10,
      "outputs": [
        {
          "output_type": "execute_result",
          "data": {
            "text/plain": [
              "oil            0\n",
              "inter          0\n",
              "oecd           0\n",
              "gdp60          5\n",
              "gdp85         13\n",
              "gdpgrowth      4\n",
              "popgrowth     14\n",
              "invest         0\n",
              "school         3\n",
              "literacy60    18\n",
              "dtype: int64"
            ]
          },
          "metadata": {
            "tags": []
          },
          "execution_count": 10
        }
      ]
    },
    {
      "cell_type": "code",
      "metadata": {
        "id": "1IwDlR2fKv4i"
      },
      "source": [
        "#Metodo fillna, asigna el valor previo o el ultimo valor valido\n",
        "df.fillna(method='ffill', inplace=True)"
      ],
      "execution_count": 11,
      "outputs": []
    },
    {
      "cell_type": "code",
      "metadata": {
        "id": "OAPBmO35LHIg",
        "outputId": "ae4cb2fa-d72b-49b5-c2ac-591e38d312c0",
        "colab": {
          "base_uri": "https://localhost:8080/",
          "height": 202
        }
      },
      "source": [
        "#Compruebo que no queden valores perdidos\n",
        "pd.isnull(df).any()"
      ],
      "execution_count": 12,
      "outputs": [
        {
          "output_type": "execute_result",
          "data": {
            "text/plain": [
              "oil           False\n",
              "inter         False\n",
              "oecd          False\n",
              "gdp60         False\n",
              "gdp85         False\n",
              "gdpgrowth     False\n",
              "popgrowth     False\n",
              "invest        False\n",
              "school        False\n",
              "literacy60    False\n",
              "dtype: bool"
            ]
          },
          "metadata": {
            "tags": []
          },
          "execution_count": 12
        }
      ]
    },
    {
      "cell_type": "code",
      "metadata": {
        "id": "bRu90NyKLnZR",
        "outputId": "1bde18c1-946c-4ca0-f3b9-2ca1746dc80b",
        "colab": {
          "base_uri": "https://localhost:8080/",
          "height": 218
        }
      },
      "source": [
        "#Comprobar si hay valores duplicados, filtro para que me muestre True si hay duplicados\n",
        "df.duplicated(keep=False)"
      ],
      "execution_count": 13,
      "outputs": [
        {
          "output_type": "execute_result",
          "data": {
            "text/plain": [
              "0      False\n",
              "1      False\n",
              "2      False\n",
              "3      False\n",
              "4      False\n",
              "       ...  \n",
              "116    False\n",
              "117    False\n",
              "118    False\n",
              "119    False\n",
              "120    False\n",
              "Length: 121, dtype: bool"
            ]
          },
          "metadata": {
            "tags": []
          },
          "execution_count": 13
        }
      ]
    },
    {
      "cell_type": "code",
      "metadata": {
        "id": "FRSlGbakMnOC"
      },
      "source": [
        "#Observo los datos\n",
        "import matplotlib.pyplot as plt\n"
      ],
      "execution_count": 14,
      "outputs": []
    },
    {
      "cell_type": "code",
      "metadata": {
        "id": "z4R8i6NAAn5P",
        "outputId": "3280f4b9-2fc7-4d8c-9d5a-7b87864626df",
        "colab": {
          "base_uri": "https://localhost:8080/",
          "height": 417
        }
      },
      "source": [
        "fig, ax = plt.subplots(1, figsize=(10, 6))\n",
        "fig.suptitle('Grafico de dispersion')\n",
        "\n",
        "ax.scatter(df['gdp60'], df['gdp85'],\n",
        "            color=\"blue\",    # Color of the dots\n",
        "            s=100,           # Size of the dots\n",
        "            alpha=0.5,       # Alpha/transparency of the dots (1 is opaque, 0 is transparent)\n",
        "            linewidths=1)    # Size of edge around the dots\n",
        "\n",
        "# Show the plot\n",
        "plt.show()"
      ],
      "execution_count": 15,
      "outputs": [
        {
          "output_type": "display_data",
          "data": {
            "image/png": "[encoded data removed]",
            "text/plain": [
              "<Figure size 720x432 with 1 Axes>"
            ]
          },
          "metadata": {
            "tags": [],
            "needs_background": "light"
          }
        }
      ]
    },
    {
      "cell_type": "code",
      "metadata": {
        "id": "_q6AkbvKUrkL",
        "outputId": "5f02bdd5-18de-4819-a32d-47fb9a0babfc",
        "colab": {
          "base_uri": "https://localhost:8080/",
          "height": 202
        }
      },
      "source": [
        "summary = df.describe()\n",
        "print(summary)"
      ],
      "execution_count": 16,
      "outputs": [
        {
          "output_type": "stream",
          "text": [
            "              gdp60         gdp85  ...      school  literacy60\n",
            "count    121.000000    121.000000  ...  121.000000  121.000000\n",
            "mean    3587.983471   5857.661157  ...    5.537190   48.256198\n",
            "std     7349.898268   5600.090048  ...    3.502693   35.646302\n",
            "min      383.000000    412.000000  ...    0.400000    1.000000\n",
            "25%      978.000000   1237.000000  ...    2.400000   15.000000\n",
            "50%     1939.000000   3775.000000  ...    4.900000   39.000000\n",
            "75%     3766.000000   9903.000000  ...    8.200000   84.000000\n",
            "max    77881.000000  25635.000000  ...   12.100000  100.000000\n",
            "\n",
            "[8 rows x 7 columns]\n"
          ],
          "name": "stdout"
        }
      ]
    },
    {
      "cell_type": "code",
      "metadata": {
        "id": "edgvpJbrTJKz",
        "outputId": "9f12b3c8-74bd-4b97-b9e7-dacd2eea09af",
        "colab": {
          "base_uri": "https://localhost:8080/",
          "height": 332
        }
      },
      "source": [
        "plt.hist(df[\"gdpgrowth\"])"
      ],
      "execution_count": 17,
      "outputs": [
        {
          "output_type": "execute_result",
          "data": {
            "text/plain": [
              "(array([ 1.,  5., 14., 16., 30., 21., 17., 10.,  4.,  3.]),\n",
              " array([-0.9 ,  0.11,  1.12,  2.13,  3.14,  4.15,  5.16,  6.17,  7.18,\n",
              "         8.19,  9.2 ]),\n",
              " <a list of 10 Patch objects>)"
            ]
          },
          "metadata": {
            "tags": []
          },
          "execution_count": 17
        },
        {
          "output_type": "display_data",
          "data": {
            "image/png": "[encoded data removed]",
            "text/plain": [
              "<Figure size 432x288 with 1 Axes>"
            ]
          },
          "metadata": {
            "tags": [],
            "needs_background": "light"
          }
        }
      ]
    },
    {
      "cell_type": "markdown",
      "metadata": {
        "id": "q3YktVCoFoZj"
      },
      "source": [
        ""
      ]
    },
    {
      "cell_type": "code",
      "metadata": {
        "id": "DSvO5C0vTmkh",
        "outputId": "6824a9a3-5233-4086-db1c-472e41b4db9a",
        "colab": {
          "base_uri": "https://localhost:8080/",
          "height": 399
        }
      },
      "source": [
        "plt.boxplot(df['gdpgrowth'])"
      ],
      "execution_count": 18,
      "outputs": [
        {
          "output_type": "execute_result",
          "data": {
            "text/plain": [
              "{'boxes': [<matplotlib.lines.Line2D at 0x7f492b7b6c18>],\n",
              " 'caps': [<matplotlib.lines.Line2D at 0x7f492b743668>,\n",
              "  <matplotlib.lines.Line2D at 0x7f492b7439e8>],\n",
              " 'fliers': [<matplotlib.lines.Line2D at 0x7f492b74f128>],\n",
              " 'means': [],\n",
              " 'medians': [<matplotlib.lines.Line2D at 0x7f492b743d68>],\n",
              " 'whiskers': [<matplotlib.lines.Line2D at 0x7f492b7b6f28>,\n",
              "  <matplotlib.lines.Line2D at 0x7f492b7432e8>]}"
            ]
          },
          "metadata": {
            "tags": []
          },
          "execution_count": 18
        },
        {
          "output_type": "display_data",
          "data": {
            "image/png": "[encoded data removed]",
            "text/plain": [
              "<Figure size 432x288 with 1 Axes>"
            ]
          },
          "metadata": {
            "tags": [],
            "needs_background": "light"
          }
        }
      ]
    },
    {
      "cell_type": "code",
      "metadata": {
        "id": "zls_0K6gTzdu",
        "outputId": "67bab648-4a3b-40e1-d6f5-7ca833e409e6",
        "colab": {
          "base_uri": "https://localhost:8080/",
          "height": 401
        }
      },
      "source": [
        "plt.boxplot(df['popgrowth'])"
      ],
      "execution_count": 19,
      "outputs": [
        {
          "output_type": "execute_result",
          "data": {
            "text/plain": [
              "{'boxes': [<matplotlib.lines.Line2D at 0x7f492b71f198>],\n",
              " 'caps': [<matplotlib.lines.Line2D at 0x7f492b71fba8>,\n",
              "  <matplotlib.lines.Line2D at 0x7f492b71ff28>],\n",
              " 'fliers': [<matplotlib.lines.Line2D at 0x7f492b72a668>],\n",
              " 'means': [],\n",
              " 'medians': [<matplotlib.lines.Line2D at 0x7f492b72a2e8>],\n",
              " 'whiskers': [<matplotlib.lines.Line2D at 0x7f492b71f4a8>,\n",
              "  <matplotlib.lines.Line2D at 0x7f492b71f828>]}"
            ]
          },
          "metadata": {
            "tags": []
          },
          "execution_count": 19
        },
        {
          "output_type": "display_data",
          "data": {
            "image/png": "[encoded data removed]",
            "text/plain": [
              "<Figure size 432x288 with 1 Axes>"
            ]
          },
          "metadata": {
            "tags": [],
            "needs_background": "light"
          }
        }
      ]
    },
    {
      "cell_type": "markdown",
      "metadata": {
        "id": "lZjBz1glKelT"
      },
      "source": [
        "##### Deteccion de outliers"
      ]
    },
    {
      "cell_type": "code",
      "metadata": {
        "id": "PN9LkXiSUWej",
        "outputId": "3e0562d1-d7cb-4490-8d81-806779e45115",
        "colab": {
          "base_uri": "https://localhost:8080/",
          "height": 151
        }
      },
      "source": [
        "#Deteccion de outliers\n",
        "#IQR para cada columna\n",
        "Q1 = df.quantile(0.25)\n",
        "Q3 = df.quantile(0.75)\n",
        "IQR = Q3 - Q1\n",
        "print(IQR)"
      ],
      "execution_count": 20,
      "outputs": [
        {
          "output_type": "stream",
          "text": [
            "gdp60         2788.0\n",
            "gdp85         8666.0\n",
            "gdpgrowth        2.7\n",
            "popgrowth        1.3\n",
            "invest          12.1\n",
            "school           5.8\n",
            "literacy60      69.0\n",
            "dtype: float64\n"
          ],
          "name": "stdout"
        }
      ]
    },
    {
      "cell_type": "code",
      "metadata": {
        "id": "qOBc8lfDdb24",
        "outputId": "c141c492-9bdb-432d-92b5-d043df804fc6",
        "colab": {
          "base_uri": "https://localhost:8080/",
          "height": 252
        }
      },
      "source": [
        "BI=(df < (Q1 - 1.5 * IQR)) \n",
        "print(BI)"
      ],
      "execution_count": 21,
      "outputs": [
        {
          "output_type": "stream",
          "text": [
            "     gdp60  gdp85  gdpgrowth  inter  ...   oecd    oil  popgrowth  school\n",
            "0    False  False      False  False  ...  False  False      False   False\n",
            "1    False  False      False  False  ...  False  False      False   False\n",
            "2    False  False      False  False  ...  False  False      False   False\n",
            "3    False  False      False  False  ...  False  False      False   False\n",
            "4    False  False      False  False  ...  False  False      False   False\n",
            "..     ...    ...        ...    ...  ...    ...    ...        ...     ...\n",
            "116  False  False      False  False  ...  False  False      False   False\n",
            "117  False  False      False  False  ...  False  False      False   False\n",
            "118  False  False      False  False  ...  False  False      False   False\n",
            "119  False  False      False  False  ...  False  False      False   False\n",
            "120  False  False      False  False  ...  False  False      False   False\n",
            "\n",
            "[121 rows x 10 columns]\n"
          ],
          "name": "stdout"
        }
      ]
    },
    {
      "cell_type": "code",
      "metadata": {
        "id": "AWFjFoYHesyU",
        "outputId": "a2886dfc-9ffa-49de-85f6-91fd88f96d54",
        "colab": {
          "base_uri": "https://localhost:8080/",
          "height": 1000
        }
      },
      "source": [
        "pd.set_option('display.max_rows', None)\n",
        "pd.set_option('display.max_columns', None)\n",
        "BS=(df > (Q3 + 1.5 * IQR))\n",
        "print(BS)"
      ],
      "execution_count": 22,
      "outputs": [
        {
          "output_type": "stream",
          "text": [
            "     gdp60  gdp85  gdpgrowth  inter  invest  literacy60   oecd    oil  \\\n",
            "0    False  False      False  False   False       False  False  False   \n",
            "1    False  False      False  False   False       False  False  False   \n",
            "2    False  False      False  False   False       False  False  False   \n",
            "3    False  False      False  False   False       False  False  False   \n",
            "4    False  False      False  False   False       False  False  False   \n",
            "5    False  False      False  False   False       False  False  False   \n",
            "6    False  False      False  False   False       False  False  False   \n",
            "7    False  False      False  False   False       False  False  False   \n",
            "8    False  False      False  False   False       False  False  False   \n",
            "9    False  False      False  False   False       False  False  False   \n",
            "10   False  False      False  False   False       False  False  False   \n",
            "11   False  False      False  False   False       False  False  False   \n",
            "12   False  False      False  False   False       False  False  False   \n",
            "13   False  False      False  False   False       False  False  False   \n",
            "14   False  False      False  False   False       False  False  False   \n",
            "15   False  False      False  False   False       False  False  False   \n",
            "16   False  False      False  False   False       False  False  False   \n",
            "17   False  False      False  False   False       False  False  False   \n",
            "18   False  False      False  False   False       False  False  False   \n",
            "19   False  False      False  False   False       False  False  False   \n",
            "20   False  False      False  False   False       False  False  False   \n",
            "21   False  False      False  False   False       False  False  False   \n",
            "22   False  False      False  False   False       False  False  False   \n",
            "23   False  False      False  False   False       False  False  False   \n",
            "24   False  False      False  False   False       False  False  False   \n",
            "25   False  False      False  False   False       False  False  False   \n",
            "26   False  False      False  False   False       False  False  False   \n",
            "27   False  False      False  False   False       False  False  False   \n",
            "28   False  False      False  False   False       False  False  False   \n",
            "29   False  False      False  False   False       False  False  False   \n",
            "30   False  False      False  False   False       False  False  False   \n",
            "31   False  False      False  False   False       False  False  False   \n",
            "32   False  False      False  False   False       False  False  False   \n",
            "33   False  False      False  False   False       False  False  False   \n",
            "34   False  False      False  False   False       False  False  False   \n",
            "35   False  False      False  False   False       False  False  False   \n",
            "36   False  False      False  False   False       False  False  False   \n",
            "37   False  False      False  False   False       False  False  False   \n",
            "38   False  False      False  False   False       False  False  False   \n",
            "39   False  False      False  False   False       False  False  False   \n",
            "40   False  False      False  False   False       False  False  False   \n",
            "41   False  False      False  False   False       False  False  False   \n",
            "42   False  False      False  False   False       False  False  False   \n",
            "43   False  False      False  False   False       False  False  False   \n",
            "44   False  False      False  False   False       False  False  False   \n",
            "45   False  False      False  False   False       False  False  False   \n",
            "46   False  False      False  False   False       False  False  False   \n",
            "47   False  False      False  False   False       False  False  False   \n",
            "48   False  False      False  False   False       False  False  False   \n",
            "49   False  False      False  False   False       False  False  False   \n",
            "50   False  False      False  False   False       False  False  False   \n",
            "51   False  False      False  False   False       False  False  False   \n",
            "52   False  False      False  False   False       False  False  False   \n",
            "53   False  False      False  False   False       False  False  False   \n",
            "54   False  False      False  False   False       False  False  False   \n",
            "55    True   True      False  False   False       False  False  False   \n",
            "56   False  False      False  False   False       False  False  False   \n",
            "57   False  False      False  False   False       False  False  False   \n",
            "58   False  False      False  False   False       False  False  False   \n",
            "59   False  False      False  False   False       False  False  False   \n",
            "60   False  False      False  False   False       False  False  False   \n",
            "61   False  False      False  False   False       False  False  False   \n",
            "62   False  False      False  False   False       False  False  False   \n",
            "63   False  False      False  False   False       False  False  False   \n",
            "64   False  False      False  False   False       False  False  False   \n",
            "65   False  False      False  False   False       False  False  False   \n",
            "66   False  False      False  False   False       False  False  False   \n",
            "67   False  False      False  False   False       False  False  False   \n",
            "68   False  False      False  False   False       False  False  False   \n",
            "69   False  False      False  False   False       False  False  False   \n",
            "70   False  False      False  False   False       False  False  False   \n",
            "71   False  False      False  False   False       False  False  False   \n",
            "72    True  False      False  False   False       False  False  False   \n",
            "73   False  False      False  False   False       False  False  False   \n",
            "74   False  False      False  False   False       False  False  False   \n",
            "75   False  False      False  False   False       False  False  False   \n",
            "76   False  False      False  False   False       False  False  False   \n",
            "77    True  False      False  False   False       False  False  False   \n",
            "78   False  False      False  False   False       False  False  False   \n",
            "79   False  False      False  False   False       False  False  False   \n",
            "80    True  False      False  False   False       False  False  False   \n",
            "81   False  False      False  False   False       False  False  False   \n",
            "82   False  False      False  False   False       False  False  False   \n",
            "83   False  False      False  False   False       False  False  False   \n",
            "84   False  False      False  False   False       False  False  False   \n",
            "85   False  False      False  False   False       False  False  False   \n",
            "86   False  False      False  False   False       False  False  False   \n",
            "87    True  False      False  False   False       False  False  False   \n",
            "88   False  False      False  False   False       False  False  False   \n",
            "89   False  False      False  False   False       False  False  False   \n",
            "90   False  False      False  False   False       False  False  False   \n",
            "91    True  False      False  False   False       False  False  False   \n",
            "92   False  False      False  False   False       False  False  False   \n",
            "93   False  False      False  False   False       False  False  False   \n",
            "94   False  False      False  False   False       False  False  False   \n",
            "95   False  False      False  False   False       False  False  False   \n",
            "96   False  False      False  False   False       False  False  False   \n",
            "97   False  False      False  False   False       False  False  False   \n",
            "98   False  False      False  False   False       False  False  False   \n",
            "99   False  False      False  False   False       False  False  False   \n",
            "100  False  False      False  False   False       False  False  False   \n",
            "101  False  False      False  False   False       False  False  False   \n",
            "102   True  False      False  False   False       False  False  False   \n",
            "103   True  False      False  False   False       False  False  False   \n",
            "104  False  False      False  False   False       False  False  False   \n",
            "105  False  False      False  False   False       False  False  False   \n",
            "106  False  False      False  False   False       False  False  False   \n",
            "107  False  False      False  False   False       False  False  False   \n",
            "108  False  False      False  False   False       False  False  False   \n",
            "109  False  False      False  False   False       False  False  False   \n",
            "110  False  False      False  False   False       False  False  False   \n",
            "111  False  False      False  False   False       False  False  False   \n",
            "112  False  False      False  False   False       False  False  False   \n",
            "113  False  False      False  False   False       False  False  False   \n",
            "114  False  False      False  False   False       False  False  False   \n",
            "115   True  False      False  False   False       False  False  False   \n",
            "116   True  False      False  False   False       False  False  False   \n",
            "117  False  False      False  False   False       False  False  False   \n",
            "118  False  False      False  False   False       False  False  False   \n",
            "119   True  False      False  False   False       False  False  False   \n",
            "120  False  False      False  False   False       False  False  False   \n",
            "\n",
            "     popgrowth  school  \n",
            "0        False   False  \n",
            "1        False   False  \n",
            "2        False   False  \n",
            "3        False   False  \n",
            "4        False   False  \n",
            "5        False   False  \n",
            "6        False   False  \n",
            "7        False   False  \n",
            "8        False   False  \n",
            "9        False   False  \n",
            "10       False   False  \n",
            "11       False   False  \n",
            "12       False   False  \n",
            "13       False   False  \n",
            "14       False   False  \n",
            "15       False   False  \n",
            "16       False   False  \n",
            "17       False   False  \n",
            "18       False   False  \n",
            "19       False   False  \n",
            "20       False   False  \n",
            "21       False   False  \n",
            "22       False   False  \n",
            "23       False   False  \n",
            "24       False   False  \n",
            "25       False   False  \n",
            "26       False   False  \n",
            "27       False   False  \n",
            "28       False   False  \n",
            "29       False   False  \n",
            "30       False   False  \n",
            "31       False   False  \n",
            "32       False   False  \n",
            "33       False   False  \n",
            "34       False   False  \n",
            "35       False   False  \n",
            "36       False   False  \n",
            "37       False   False  \n",
            "38       False   False  \n",
            "39       False   False  \n",
            "40       False   False  \n",
            "41       False   False  \n",
            "42       False   False  \n",
            "43       False   False  \n",
            "44       False   False  \n",
            "45       False   False  \n",
            "46       False   False  \n",
            "47       False   False  \n",
            "48       False   False  \n",
            "49       False   False  \n",
            "50       False   False  \n",
            "51       False   False  \n",
            "52       False   False  \n",
            "53       False   False  \n",
            "54       False   False  \n",
            "55        True   False  \n",
            "56       False   False  \n",
            "57       False   False  \n",
            "58       False   False  \n",
            "59       False   False  \n",
            "60       False   False  \n",
            "61       False   False  \n",
            "62       False   False  \n",
            "63       False   False  \n",
            "64       False   False  \n",
            "65       False   False  \n",
            "66       False   False  \n",
            "67       False   False  \n",
            "68       False   False  \n",
            "69       False   False  \n",
            "70       False   False  \n",
            "71       False   False  \n",
            "72       False   False  \n",
            "73       False   False  \n",
            "74       False   False  \n",
            "75       False   False  \n",
            "76       False   False  \n",
            "77       False   False  \n",
            "78       False   False  \n",
            "79       False   False  \n",
            "80       False   False  \n",
            "81       False   False  \n",
            "82       False   False  \n",
            "83       False   False  \n",
            "84       False   False  \n",
            "85       False   False  \n",
            "86       False   False  \n",
            "87       False   False  \n",
            "88       False   False  \n",
            "89       False   False  \n",
            "90       False   False  \n",
            "91       False   False  \n",
            "92       False   False  \n",
            "93       False   False  \n",
            "94       False   False  \n",
            "95       False   False  \n",
            "96       False   False  \n",
            "97       False   False  \n",
            "98       False   False  \n",
            "99       False   False  \n",
            "100      False   False  \n",
            "101      False   False  \n",
            "102      False   False  \n",
            "103      False   False  \n",
            "104      False   False  \n",
            "105      False   False  \n",
            "106      False   False  \n",
            "107      False   False  \n",
            "108      False   False  \n",
            "109      False   False  \n",
            "110      False   False  \n",
            "111      False   False  \n",
            "112      False   False  \n",
            "113      False   False  \n",
            "114      False   False  \n",
            "115      False   False  \n",
            "116      False   False  \n",
            "117      False   False  \n",
            "118      False   False  \n",
            "119      False   False  \n",
            "120      False   False  \n"
          ],
          "name": "stdout"
        }
      ]
    },
    {
      "cell_type": "markdown",
      "metadata": {
        "id": "D1KB6IPmgFjt"
      },
      "source": [
        ""
      ]
    },
    {
      "cell_type": "code",
      "metadata": {
        "id": "6Be9j8u2gZfK",
        "outputId": "6b88b9b8-c9ef-4492-9b5d-60605a23bb70",
        "colab": {
          "base_uri": "https://localhost:8080/",
          "height": 34
        }
      },
      "source": [
        "#Quito los outliers\n",
        "df_out = df[~((df < (Q1 - 1.5 * IQR))).any(axis=1)]\n",
        "df_out.shape"
      ],
      "execution_count": 23,
      "outputs": [
        {
          "output_type": "execute_result",
          "data": {
            "text/plain": [
              "(121, 10)"
            ]
          },
          "metadata": {
            "tags": []
          },
          "execution_count": 23
        }
      ]
    },
    {
      "cell_type": "code",
      "metadata": {
        "id": "5VfI3RSUgtIl",
        "outputId": "7f5bc981-9fb7-4900-a913-885038131553",
        "colab": {
          "base_uri": "https://localhost:8080/",
          "height": 34
        }
      },
      "source": [
        "#Quito los outliers\n",
        "df_out2 = df[~((df > (Q3 + 1.5 * IQR))).any(axis=1)]\n",
        "df_out2.shape"
      ],
      "execution_count": 24,
      "outputs": [
        {
          "output_type": "execute_result",
          "data": {
            "text/plain": [
              "(110, 10)"
            ]
          },
          "metadata": {
            "tags": []
          },
          "execution_count": 24
        }
      ]
    },
    {
      "cell_type": "code",
      "metadata": {
        "id": "nL_6YGMyvRGl",
        "outputId": "99be84e0-868d-47ee-9441-4247dfeac0b2",
        "colab": {
          "base_uri": "https://localhost:8080/",
          "height": 403
        }
      },
      "source": [
        "#Compruebo que en esta columna ya no hay valores outliers\n",
        "plt.boxplot(df_out2['popgrowth'])"
      ],
      "execution_count": 25,
      "outputs": [
        {
          "output_type": "execute_result",
          "data": {
            "text/plain": [
              "{'boxes': [<matplotlib.lines.Line2D at 0x7f492a400c50>],\n",
              " 'caps': [<matplotlib.lines.Line2D at 0x7f492a40d6a0>,\n",
              "  <matplotlib.lines.Line2D at 0x7f492a40da20>],\n",
              " 'fliers': [<matplotlib.lines.Line2D at 0x7f492a417160>],\n",
              " 'means': [],\n",
              " 'medians': [<matplotlib.lines.Line2D at 0x7f492a40dda0>],\n",
              " 'whiskers': [<matplotlib.lines.Line2D at 0x7f492a400f60>,\n",
              "  <matplotlib.lines.Line2D at 0x7f492a40d320>]}"
            ]
          },
          "metadata": {
            "tags": []
          },
          "execution_count": 25
        },
        {
          "output_type": "display_data",
          "data": {
            "image/png": "[encoded data removed]",
            "text/plain": [
              "<Figure size 432x288 with 1 Axes>"
            ]
          },
          "metadata": {
            "tags": [],
            "needs_background": "light"
          }
        }
      ]
    },
    {
      "cell_type": "code",
      "metadata": {
        "id": "AWwQUgMYv-8h",
        "outputId": "230f7b7a-32a7-4a06-cdeb-66e72412a00f",
        "colab": {
          "base_uri": "https://localhost:8080/",
          "height": 336
        }
      },
      "source": [
        "#Se eliminaron 11 filas con valores outliers\n",
        "summary = df_out2.describe()\n",
        "print(summary)"
      ],
      "execution_count": 26,
      "outputs": [
        {
          "output_type": "stream",
          "text": [
            "             gdp60         gdp85   gdpgrowth   popgrowth      invest  \\\n",
            "count   110.000000    110.000000  110.000000  110.000000  110.000000   \n",
            "mean   2364.263636   5023.263636    4.211818    2.250909   17.682727   \n",
            "std    1963.342356   4890.696790    1.958268    0.908143    7.793209   \n",
            "min     383.000000    412.000000   -0.900000    0.300000    4.100000   \n",
            "25%     917.000000   1193.750000    2.825000    1.700000   12.000000   \n",
            "50%    1620.500000   3150.000000    4.050000    2.450000   17.150000   \n",
            "75%    3145.000000   6042.000000    5.500000    2.900000   23.350000   \n",
            "max    7938.000000  19723.000000    9.200000    4.300000   36.900000   \n",
            "\n",
            "           school  literacy60  \n",
            "count  110.000000  110.000000  \n",
            "mean     5.179091   44.272727  \n",
            "std      3.393007   34.556405  \n",
            "min      0.400000    1.000000  \n",
            "25%      2.325000   13.250000  \n",
            "50%      4.450000   32.000000  \n",
            "75%      7.975000   74.500000  \n",
            "max     12.100000  100.000000  \n"
          ],
          "name": "stdout"
        }
      ]
    },
    {
      "cell_type": "code",
      "metadata": {
        "id": "Rz__CC6eaDLR"
      },
      "source": [
        "#Bucle para eliminar valores outliers, no funciono falta modificar el exclude\n",
        "def boxplot_outlier_removal(df):\n",
        "  for col in df.columns:\n",
        "        if col not in exclude:\n",
        "            # get Q1, Q3 & Interquantile Range\n",
        "            Q1 = df[col].quantile(0.25)\n",
        "            Q3 = df[col].quantile(0.75)\n",
        "            IQR = Q3 - Q1\n",
        "            # define outliers and remove them\n",
        "            filter_ = (df[col] > Q1 - 1.5 * IQR) & (df[col] < Q3 + 1.5 *IQR)\n",
        "            df = df[filter_]\n",
        "  after = len(df)\n",
        "  diff = before-after\n",
        "  percent = diff/before*100\n",
        "  print('{} ({:.2f}%) outliers removed'.format(diff, percent))\n",
        "  return df\n"
      ],
      "execution_count": 27,
      "outputs": []
    },
    {
      "cell_type": "code",
      "metadata": {
        "id": "uxgbc6KGIsyK",
        "outputId": "eecece46-da02-4d66-df82-8bffb7e4bbe9",
        "colab": {
          "base_uri": "https://localhost:8080/",
          "height": 1000
        }
      },
      "source": [
        "#from sklearn.preprocessing import StandardScaler\n",
        "#scaler=StandardScaler()\n",
        "#scaled_datos=scaler.fit_transform(df_out2.iloc[:,[3,4,5,6,7,8,9]].values)\n",
        "#print(scaled_datos)\n"
      ],
      "execution_count": 28,
      "outputs": [
        {
          "output_type": "stream",
          "text": [
            "[[ 6.17767632e-02 -1.33978627e-01  3.01732842e-01  3.86160042e-01\n",
            "   8.27212867e-01 -2.01060284e-01 -9.96329993e-01]\n",
            " [-3.97188166e-01 -7.91276661e-01 -1.75023703e+00 -1.66933768e-01\n",
            "  -1.53173245e+00 -1.00045659e+00 -1.14168318e+00]\n",
            " [-6.38694795e-01 -8.11817224e-01 -1.03204757e+00  1.64922518e-01\n",
            "  -8.87211873e-01 -1.00045659e+00 -1.14168318e+00]\n",
            " [-7.19026449e-01 -2.77762572e-01  2.25110422e+00  1.04987261e+00\n",
            "   1.36861015e+00 -6.74776615e-01 -1.14168318e+00]\n",
            " [-9.39043082e-01 -8.55774030e-01 -6.72952846e-01 -1.49435891e+00\n",
            "  -6.42294053e-01 -1.41495838e+00 -1.22889508e+00]\n",
            " [-8.23406433e-01 -8.95622724e-01 -1.54504004e+00 -6.09408816e-01\n",
            "  -1.62196533e+00 -1.41495838e+00 -8.80047448e-01]\n",
            " [-7.54843110e-01 -5.81968318e-01  7.63426063e-01 -1.66933768e-01\n",
            "  -6.29403642e-01 -5.26740261e-01 -7.34694266e-01]\n",
            " [-7.80938106e-01 -8.69741614e-01 -1.39114230e+00 -6.09408816e-01\n",
            "  -9.25883108e-01 -1.11888567e+00 -1.08354190e+00]\n",
            " [-7.45121445e-01 -9.36909257e-01 -2.62232422e+00 -3.88171292e-01\n",
            "  -1.38993793e+00 -1.41495838e+00 -1.11261254e+00]\n",
            " [-6.93443120e-01 -4.92822272e-01  1.01992230e+00  1.64922518e-01\n",
            "   1.43306221e+00 -4.08311178e-01 -8.21906175e-01]\n",
            " [-7.45633112e-01 -5.88130487e-01  9.17323803e-01  2.75541280e-01\n",
            "  -1.78239236e-01  5.39121483e-01 -5.31199811e-01]\n",
            " [-9.36996415e-01 -9.06920034e-01 -7.24252093e-01  5.43037559e-02\n",
            "  -1.58329410e+00 -1.20770749e+00 -8.50976811e-01]\n",
            " [-5.40966477e-01  6.71134905e-02  1.43031627e+00 -9.41265102e-01\n",
            "   5.69404635e-01 -7.63598427e-01 -8.50976811e-01]\n",
            " [-8.00893103e-01  6.71134905e-02 -3.13858119e-01 -9.41265102e-01\n",
            "   5.37881720e-02 -1.08927840e+00 -8.50976811e-01]\n",
            " [-6.93443120e-01 -8.82476763e-01 -1.64763853e+00  5.43037559e-02\n",
            "  -1.10634887e+00 -1.41845742e-01 -5.02129174e-01]\n",
            " [-8.28011432e-01 -8.53309163e-01 -1.03204757e+00 -7.20027578e-01\n",
            "  -8.74321462e-01 -1.41845742e-01 -1.08354190e+00]\n",
            " [-5.00544816e-01 -6.81795457e-01  4.55630582e-01  2.26667900e+00\n",
            "  -6.80965288e-01 -8.52420239e-01 -1.14168318e+00]\n",
            " [-7.26701448e-01 -7.58822570e-01  3.01732842e-01  1.27111014e+00\n",
            "  -3.64447091e-02 -8.22812968e-01 -7.05623629e-01]\n",
            " [-9.89186407e-01 -7.27190103e-01  1.32771778e+00 -3.88171292e-01\n",
            "  -6.55184465e-01 -9.41242051e-01 -7.05623629e-01]\n",
            " [-7.68146442e-01 -8.37903740e-01 -4.67755859e-01  8.28635090e-01\n",
            "   4.92062166e-01 -7.93205697e-01 -1.02540063e+00]\n",
            " [-5.98784801e-01 -8.31536165e-01 -1.44244155e+00 -5.63150061e-02\n",
            "  -1.36415710e+00 -7.63598427e-01  1.66495463e-01]\n",
            " [-9.76906409e-01 -8.62757822e-01  3.01732842e-01  1.64922518e-01\n",
            "  -5.77841996e-01 -1.35574384e+00 -5.60270447e-01]\n",
            " [-8.32616432e-01 -8.85968659e-01 -1.08334682e+00 -5.63150061e-02\n",
            "  -1.33837628e+00 -1.23731476e+00 -1.19982445e+00]\n",
            " [-8.12149768e-01 -8.18595610e-01 -4.67755859e-01 -5.63150061e-02\n",
            "   1.02056904e+00 -1.23731476e+00 -1.14168318e+00]\n",
            " [-2.00196530e-01 -4.22368139e-01 -6.06263825e-03  3.86160042e-01\n",
            "  -7.51159438e-02  6.27943296e-01 -1.14168318e+00]\n",
            " [-6.82698122e-01 -5.49514228e-01  8.14725309e-01  2.75541280e-01\n",
            "  -1.20947216e+00 -4.67525720e-01 -8.80047448e-01]\n",
            " [-4.83148152e-01 -8.19211827e-01 -1.44244155e+00  4.96778804e-01\n",
            "  -1.49306122e+00 -1.32613657e+00 -9.67259357e-01]\n",
            " [-9.33926416e-01 -8.59060521e-01  9.65358552e-02  3.86160042e-01\n",
            "  -9.51663931e-01 -1.38535111e+00 -1.25796572e+00]\n",
            " [-6.69906457e-01 -7.88195576e-01 -7.24252093e-01  1.64922518e-01\n",
            "  -7.32526934e-01 -8.52420239e-01 -8.50976811e-01]\n",
            " [-9.74348076e-01 -8.88844338e-01  1.47835102e-01  6.07397566e-01\n",
            "  -1.26103381e+00 -1.41495838e+00 -8.21906175e-01]\n",
            " [-4.97474817e-01 -7.33968489e-01 -8.78149833e-01  5.43037559e-02\n",
            "  -1.04189681e+00 -1.03006386e+00 -1.11261254e+00]\n",
            " [-9.48253080e-01 -8.66455124e-01 -4.16456612e-01 -7.20027578e-01\n",
            "  -8.74321462e-01 -1.03006386e+00 -1.08354190e+00]\n",
            " [-7.48703111e-01 -8.96855158e-01 -1.23724456e+00  9.39253852e-01\n",
            "  -5.00499526e-01 -1.20770749e+00 -1.22889508e+00]\n",
            " [ 1.22991158e+00  4.19178750e-01 -1.59960378e-01  5.43037559e-02\n",
            "   5.04952577e-01 -6.45169344e-01  3.69989918e-01]\n",
            " [-5.68084806e-01 -8.18595610e-01 -1.23724456e+00  3.86160042e-01\n",
            "  -5.77841996e-01 -9.41242051e-01 -9.09118084e-01]\n",
            " [-7.91683105e-01 -8.18595610e-01  1.53291476e+00  3.86160042e-01\n",
            "   2.22652564e-03 -4.37918449e-01 -9.09118084e-01]\n",
            " [-1.01374640e+00 -8.85968659e-01  5.58229076e-01  7.18016328e-01\n",
            "   4.08977604e-02 -1.38535111e+00 -9.96329993e-01]\n",
            " [-8.12149768e-01 -8.30919949e-01 -4.16456612e-01  2.75541280e-01\n",
            "  -2.81362529e-01 -6.74776615e-01 -9.96329993e-01]\n",
            " [-3.79279835e-01 -2.79816628e-01  7.12126816e-01  1.64922518e-01\n",
            "  -5.00499526e-01 -2.60274825e-01 -8.21906175e-01]\n",
            " [-9.02203087e-01 -8.94801101e-01 -3.65157365e-01  9.39253852e-01\n",
            "  -1.75086945e+00 -1.20770749e+00 -2.69564083e-01]\n",
            " [-9.05784754e-01 -9.47179538e-01 -1.69893778e+00  1.64922518e-01\n",
            "  -1.44149957e+00 -4.67525720e-01 -3.85846629e-01]\n",
            " [-4.88264818e-01 -7.81828002e-01 -1.08334682e+00  4.96778804e-01\n",
            "   1.80688415e+00 -8.22812968e-01 -4.43987901e-01]\n",
            " [-6.02366467e-01 -5.99016986e-01  4.55630582e-01  6.07397566e-01\n",
            "   4.40500519e-01 -2.30667554e-01 -1.53281537e-01]\n",
            " [-5.83434804e-01 -5.99016986e-01 -1.33984305e+00  6.07397566e-01\n",
            "  -1.38993793e+00 -1.26692203e+00 -1.05447127e+00]\n",
            " [-5.83434804e-01 -5.99016986e-01 -1.33984305e+00  6.07397566e-01\n",
            "   1.58774715e+00  2.04909229e+00 -1.05447127e+00]\n",
            " [-7.76844774e-01 -7.81006379e-01 -1.08661132e-01  3.86160042e-01\n",
            "  -1.40282834e+00 -5.85954803e-01 -6.47482356e-01]\n",
            " [-9.45183081e-01 -8.20033450e-01  1.47835102e-01 -6.09408816e-01\n",
            "  -8.09869404e-01 -4.97132991e-01  4.57201827e-01]\n",
            " [ 3.68776716e-01  1.71487750e+00  2.40500196e+00  8.28635090e-01\n",
            "   2.85815580e-01  5.98336025e-01  7.47908191e-01]\n",
            " [-7.09304784e-01 -7.56768514e-01 -3.13858119e-01  1.64922518e-01\n",
            "  -1.13787179e-01 -2.34166595e-02 -4.73058538e-01]\n",
            " [ 6.35355008e-01  4.88195044e-01  1.07122154e+00  1.27111014e+00\n",
            "   9.24594067e-02  3.91085130e-01 -8.21906175e-01]\n",
            " [ 1.30563824e+00  1.23805446e-01 -2.11259625e-01  1.04987261e+00\n",
            "  -1.91129648e-01  6.57550566e-01 -7.63764902e-01]\n",
            " [ 1.24730825e+00  1.11468223e+00  8.66024556e-01  6.07397566e-01\n",
            "   1.39439098e+00  1.27930325e+00  1.15489710e+00]\n",
            " [ 5.77536683e-01  1.82189384e+00  1.32771778e+00 -1.16250263e+00\n",
            "   2.36117184e+00  1.69380504e+00  1.56188601e+00]\n",
            " [-9.27465462e-02 -1.46097559e-01  6.09528323e-01  4.96778804e-01\n",
            "  -1.06638859e-02  1.66419777e+00 -3.56775992e-01]\n",
            " [-5.52223142e-01 -5.09947500e-02  1.89200949e+00  4.96778804e-01\n",
            "   5.95185458e-01  1.48655415e+00  7.76978828e-01]\n",
            " [-1.07584877e-01  1.57081159e-01  1.48161552e+00  1.04987261e+00\n",
            "   7.11199163e-01  6.27943296e-01  2.53707372e-01]\n",
            " [-7.83496439e-01 -8.31741571e-01 -8.26850586e-01 -2.77552530e-01\n",
            "  -1.51884204e+00 -8.52420239e-01 -1.02540063e+00]\n",
            " [-7.83496439e-01  2.16923477e+00 -8.26850586e-01  1.16049138e+00\n",
            "  -2.68472118e-01 -7.33991156e-01 -1.02540063e+00]\n",
            " [-6.58649792e-01 -5.85049403e-01  8.14725309e-01  8.28635090e-01\n",
            "  -7.06746111e-01 -6.45169344e-01 -8.50976811e-01]\n",
            " [-3.56254839e-01 -5.32670966e-01  1.47835102e-01  8.28635090e-01\n",
            "  -3.58704999e-01  1.60498323e+00  8.06049464e-01]\n",
            " [ 2.23431309e+00  1.23936345e+00  9.68623050e-01  2.04544147e+00\n",
            "  -6.29403642e-01 -6.15562073e-01 -1.19982445e+00]\n",
            " [ 2.19370072e-01  1.98313726e+00  2.55889970e+00  3.86160042e-01\n",
            "   1.87133620e+00  1.13126690e+00  1.12582646e+00]\n",
            " [-2.91784849e-01 -5.21989873e-01 -2.62558872e-01  1.64922518e-01\n",
            "  -3.71595410e-01  9.24016002e-01  8.93261373e-01]\n",
            " [ 9.07510465e-03  2.09254190e-01  1.27641853e+00  8.28635090e-01\n",
            "  -2.29800883e-01  1.07205236e+00 -4.14917265e-01]\n",
            " [ 9.07510465e-03  2.09254190e-01  1.94330874e+00  8.28635090e-01\n",
            "   3.88938873e-01  1.07205236e+00 -4.14917265e-01]\n",
            " [-5.40454810e-01 -3.70400513e-01  1.27641853e+00  9.39253852e-01\n",
            "   4.08977604e-02 -2.30667554e-01  6.89766918e-01]\n",
            " [-5.40454810e-01  2.77086787e+00  1.27641853e+00  9.39253852e-01\n",
            "   1.13658274e+00 -2.30667554e-01  6.89766918e-01]\n",
            " [-5.40454810e-01 -6.37838651e-01  1.27641853e+00  2.75541280e-01\n",
            "  -6.22255323e-02 -1.35574384e+00 -1.19982445e+00]\n",
            " [ 1.82907316e+00  1.70563425e+00 -3.13858119e-01 -2.04745272e+00\n",
            "   7.36979986e-01  8.35194190e-01  1.59095665e+00]\n",
            " [ 2.26398976e+00  1.90343987e+00 -3.65157365e-01 -1.93683396e+00\n",
            "   7.36979986e-01  1.22008871e+00  1.59095665e+00]\n",
            " [ 2.98678393e-01  1.90343987e+00  5.06929829e-01 -1.93683396e+00\n",
            "   1.74243209e+00  8.94408732e-01  1.59095665e+00]\n",
            " [ 2.12993311e+00  1.79847759e+00 -2.62558872e-01 -1.71559644e+00\n",
            "   2.47718555e+00  1.87144866e+00  1.59095665e+00]\n",
            " [ 2.48195972e+00  2.05482383e+00 -1.59960378e-01 -1.38374015e+00\n",
            "   1.09791151e+00  1.10165963e+00  1.59095665e+00]\n",
            " [ 2.72755968e+00  2.11028335e+00 -4.67755859e-01 -1.93683396e+00\n",
            "   1.39439098e+00  9.53623273e-01  1.59095665e+00]\n",
            " [-5.48832188e-02  3.78919245e-01  4.55630582e-01 -1.71559644e+00\n",
            "   1.49751427e+00  8.05586920e-01  1.06768519e+00]\n",
            " [ 1.04724661e+00  7.50087229e-01 -2.11259625e-01 -1.27312139e+00\n",
            "   1.05924028e+00  1.84184139e+00  1.56188601e+00]\n",
            " [ 1.30410324e+00  1.24449859e+00 -2.11259625e-01 -1.82621520e+00\n",
            "   9.30336159e-01  5.68728754e-01  1.35839156e+00]\n",
            " [-3.64632216e-02  1.24449859e+00  9.17323803e-01 -1.82621520e+00\n",
            "   1.70376085e+00  5.68728754e-01  1.35839156e+00]\n",
            " [ 2.72448968e+00  1.67482340e+00 -3.13858119e-01 -9.41265102e-01\n",
            "   1.04634986e+00  1.63459050e+00  1.59095665e+00]\n",
            " [ 2.85189466e+00  3.01940869e+00  4.52366085e-02 -1.71559644e+00\n",
            "   1.47173345e+00  1.42733960e+00  1.59095665e+00]\n",
            " [-4.72082200e-02  1.65091979e-01  9.65358552e-02 -1.82621520e+00\n",
            "   6.20966282e-01  1.83834235e-01  5.15343100e-01]\n",
            " [ 7.17221662e-01  1.00232535e+00  3.53032089e-01 -1.38374015e+00\n",
            "   2.22652564e-03  8.35194190e-01  1.24210901e+00]\n",
            " [ 2.78230801e+00  2.09795901e+00 -5.70354352e-01 -2.04745272e+00\n",
            "   8.78774513e-01  8.05586920e-01  1.59095665e+00]\n",
            " [-4.61848868e-02 -1.18984015e-01  5.06929829e-01  2.75541280e-01\n",
            "   3.24486815e-01  9.50124232e-02 -1.82352174e-01]\n",
            " [ 2.69634802e+00  1.70645587e+00 -8.78149833e-01 -2.15807148e+00\n",
            "   9.24594067e-02  1.10165963e+00  1.59095665e+00]\n",
            " [ 4.09710043e-01  1.70645587e+00  3.01732842e-01 -2.15807148e+00\n",
            "   2.34253934e-01  2.04909229e+00  1.59095665e+00]\n",
            " [ 5.09485027e-01 -1.09124545e-01  2.50433595e-01  1.38172890e+00\n",
            "  -3.84485822e-01  5.39121483e-01  1.32932092e+00]\n",
            " [-2.17593194e-01 -3.52324818e-01  4.55630582e-01  7.18016328e-01\n",
            "  -7.51159438e-02  1.83834235e-01  6.02555009e-01]\n",
            " [-1.64891535e-01 -6.21611606e-01 -4.67755859e-01  1.16049138e+00\n",
            "  -1.24814340e+00 -3.78703908e-01  1.37424827e-01]\n",
            " [ 5.97300968e-02 -4.08605962e-01 -1.59960378e-01  9.39253852e-01\n",
            "  -1.14502011e+00 -8.22812968e-01 -3.56775992e-01]\n",
            " [-6.48928127e-01 -7.77719889e-01 -1.23724456e+00 -1.05188386e+00\n",
            "  -1.36415710e+00 -9.70849321e-01 -8.50976811e-01]\n",
            " [-4.78031487e-01 -6.57557592e-01 -1.08661132e-01  9.39253852e-01\n",
            "  -5.00499526e-01 -4.37918449e-01  2.11422810e-02]\n",
            " [ 1.85088411e-01 -3.99157302e-01 -1.08334682e+00 -7.20027578e-01\n",
            "   3.76048461e-01  1.78262685e+00  1.09675583e+00]\n",
            " [ 9.54123292e-01  4.84086931e-01  6.60827569e-01  1.16049138e+00\n",
            "   2.34253934e-01  4.20692401e-01  6.02555009e-01]\n",
            " [ 4.25060040e-01 -2.14703042e-01 -5.73618850e-02  1.16049138e+00\n",
            "  -4.10266645e-01  1.83834235e-01  1.32932092e+00]\n",
            " [ 3.00534347e-02 -4.64963666e-04  8.66024556e-01  8.28635090e-01\n",
            "   1.08502110e+00  1.90105594e+00  8.35120100e-01]\n",
            " [ 1.27289158e+00  1.04702722e-01 -1.08334682e+00 -8.30646340e-01\n",
            "   9.81897806e-01 -5.30239302e-02  1.35839156e+00]\n",
            " [-3.81838168e-01 -6.09698079e-01 -4.67755859e-01  1.64922518e-01\n",
            "  -5.64951584e-01 -8.26312009e-02 -1.53281537e-01]\n",
            " [-2.67224853e-01  1.10864891e-01  1.58421401e+00  7.18016328e-01\n",
            "   7.11199163e-01 -1.41845742e-01  4.86272464e-01]\n",
            " [ 1.44532322e+00  1.04702722e-01 -8.26850586e-01  5.43037559e-02\n",
            "   1.54907592e+00  7.46372378e-01  1.15489710e+00]\n",
            " [ 1.57458415e-01 -1.26994835e-01  4.04331336e-01  8.28635090e-01\n",
            "   4.08977604e-02  2.72656047e-01  5.44413736e-01]\n",
            " [-8.50715474e-02 -1.06659677e-01  7.63426063e-01  6.07397566e-01\n",
            "   8.65884102e-01  5.98336025e-01  6.89766918e-01]\n",
            " [ 2.02996741e-01 -1.06659677e-01 -1.59633929e+00  6.07397566e-01\n",
            "   1.89711703e+00  1.93066321e+00  6.89766918e-01]\n",
            " [-2.11453195e-01 -2.27849002e-01  6.60827569e-01  4.96778804e-01\n",
            "  -7.71198169e-01 -2.30667554e-01  8.93261373e-01]\n",
            " [ 4.83901698e-01 -2.56400386e-01 -3.65157365e-01  7.18016328e-01\n",
            "  -7.32526934e-01  8.35194190e-01  4.86272464e-01]\n",
            " [ 4.40921704e-01 -2.56400386e-01  1.47835102e-01  7.18016328e-01\n",
            "   2.21363523e-01  8.64801461e-01  4.86272464e-01]\n",
            " [ 1.40950655e+00  9.68973076e-02 -1.69893778e+00 -1.82621520e+00\n",
            "  -7.58307758e-01  5.39121483e-01  1.44560346e+00]\n",
            " [ 6.49681672e-01  1.72247751e+00 -6.06263825e-03 -2.77552530e-01\n",
            "   3.76048461e-01  8.64801461e-01  1.62002728e+00]\n",
            " [-7.59959776e-01 -5.88335893e-01  6.60827569e-01 -3.88171292e-01\n",
            "  -4.87609114e-01 -3.19489366e-01 -1.53281537e-01]\n",
            " [-2.98436514e-01 -5.09254723e-01 -3.65157365e-01 -1.66933768e-01\n",
            "  -1.91129648e-01 -1.08927840e+00 -4.43987901e-01]]\n"
          ],
          "name": "stdout"
        }
      ]
    },
    {
      "cell_type": "code",
      "metadata": {
        "id": "rJ9cbhglwPbq",
        "outputId": "7fcbab6b-1864-4496-fccb-57b53b00658d",
        "colab": {
          "base_uri": "https://localhost:8080/",
          "height": 1000
        }
      },
      "source": [
        "#normalizacion\n",
        "#from sklearn import preprocessing\n",
        "#data = df_out2.iloc[:,[3,4,5,6,7,8,9]].values #normalizar antes de seguir\n",
        "#datanorm = (data-data.min())/(data.max()-data.min())\n",
        "#print(datanorm)\n",
        "\n"
      ],
      "execution_count": 48,
      "outputs": [
        {
          "output_type": "stream",
          "text": [
            "[[1.26034912e-01 2.21654947e-01 2.88989500e-04 1.77449693e-04\n",
            "  1.26749781e-03 2.73779526e-04 5.52629044e-04]\n",
            " [8.05570906e-02 5.94152272e-02 8.61898509e-05 1.52099737e-04\n",
            "  3.39689412e-04 1.36889763e-04 2.99129483e-04]\n",
            " [5.66267320e-02 5.43452360e-02 1.57169728e-04 1.67309711e-04\n",
            "  5.93188974e-04 1.36889763e-04 2.99129483e-04]\n",
            " [4.86668458e-02 1.86165008e-01 4.81649167e-04 2.07869640e-04\n",
            "  1.48043744e-03 1.92659667e-04 2.99129483e-04]\n",
            " [2.68658835e-02 4.34954548e-02 1.92659667e-04 9.12598421e-05\n",
            "  6.89518807e-04 6.59098860e-05 1.47029746e-04]\n",
            " [3.83240637e-02 3.36596718e-02 1.06469816e-04 1.31819772e-04\n",
            "  3.04199474e-04 6.59098860e-05 7.55428693e-04]\n",
            " [4.51178519e-02 1.11078438e-01 3.34619421e-04 1.52099737e-04\n",
            "  6.94588798e-04 2.18009623e-04 1.00892825e-03]\n",
            " [4.25321564e-02 4.00478607e-02 1.21679789e-04 1.31819772e-04\n",
            "  5.77979000e-04 1.16609798e-04 4.00529307e-04]\n",
            " [4.60811503e-02 2.34689894e-02 0.00000000e+00 1.41959754e-04\n",
            "  3.95459316e-04 6.59098860e-05 3.49829395e-04]\n",
            " [5.12018414e-02 1.33082200e-01 3.59969377e-04 1.67309711e-04\n",
            "  1.50578739e-03 2.38289588e-04 8.56828518e-04]\n",
            " [4.60304504e-02 1.09557440e-01 3.49829395e-04 1.72379702e-04\n",
            "  8.72038491e-04 4.00529307e-04 1.36382764e-03]\n",
            " [2.70686832e-02 3.08711766e-02 1.87589675e-04 1.62239719e-04\n",
            "  3.19409447e-04 1.01399825e-04 8.06128605e-04]\n",
            " [6.63104153e-02 2.71290161e-01 4.00529307e-04 1.16609798e-04\n",
            "  1.16609798e-03 1.77449693e-04 8.06128605e-04]\n",
            " [4.05548598e-02 2.71290161e-01 2.28149605e-04 1.16609798e-04\n",
            "  9.63298333e-04 1.21679789e-04 8.06128605e-04]\n",
            " [5.12018414e-02 3.69044662e-02 9.63298333e-05 1.62239719e-04\n",
            "  5.06999123e-04 2.83919509e-04 1.41452755e-03]\n",
            " [3.78677645e-02 4.41038537e-02 1.57169728e-04 1.26749781e-04\n",
            "  5.98258965e-04 2.83919509e-04 4.00529307e-04]\n",
            " [7.03157084e-02 8.64382805e-02 3.04199474e-04 2.63639544e-04\n",
            "  6.74308833e-04 1.62239719e-04 2.99129483e-04]\n",
            " [4.79063471e-02 6.74258134e-02 2.88989500e-04 2.18009623e-04\n",
            "  9.27808395e-04 1.67309711e-04 1.05962817e-03]\n",
            " [2.18972921e-02 7.52335998e-02 3.90389325e-04 1.41959754e-04\n",
            "  6.84448816e-04 1.47029746e-04 1.05962817e-03]\n",
            " [4.37996542e-02 4.79063471e-02 2.12939632e-04 1.97729658e-04\n",
            "  1.13567804e-03 1.72379702e-04 5.01929132e-04]\n",
            " [6.05813252e-02 4.94780444e-02 1.16609798e-04 1.57169728e-04\n",
            "  4.05599298e-04 1.77449693e-04 2.58062554e-03]\n",
            " [2.31140900e-02 4.17716577e-02 2.88989500e-04 1.67309711e-04\n",
            "  7.14868763e-04 7.60498684e-05 1.31312773e-03]\n",
            " [3.74114653e-02 3.60425676e-02 1.52099737e-04 1.57169728e-04\n",
            "  4.15739281e-04 9.63298333e-05 1.97729658e-04]\n",
            " [3.94394618e-02 5.26721389e-02 2.12939632e-04 1.57169728e-04\n",
            "  1.34354768e-03 9.63298333e-05 2.99129483e-04]\n",
            " [1.00076557e-01 1.50472270e-01 2.58569553e-04 1.77449693e-04\n",
            "  9.12598421e-04 4.15739281e-04 2.99129483e-04]\n",
            " [5.22665396e-02 1.19089024e-01 3.39689412e-04 1.72379702e-04\n",
            "  4.66439193e-04 2.28149605e-04 7.55428693e-04]\n",
            " [7.20395054e-02 5.25200391e-02 1.16609798e-04 1.82519684e-04\n",
            "  3.54899386e-04 8.11198597e-05 6.03328956e-04]\n",
            " [2.73728826e-02 4.26842562e-02 2.68709535e-04 1.77449693e-04\n",
            "  5.67839018e-04 7.09798772e-05 9.63298333e-05]\n",
            " [5.35340374e-02 6.01757259e-02 1.87589675e-04 1.67309711e-04\n",
            "  6.54028869e-04 1.62239719e-04 8.06128605e-04]\n",
            " [2.33675896e-02 3.53327689e-02 2.73779526e-04 1.87589675e-04\n",
            "  4.46159228e-04 6.59098860e-05 8.56828518e-04]\n",
            " [7.06199078e-02 7.35605027e-02 1.72379702e-04 1.62239719e-04\n",
            "  5.32349079e-04 1.31819772e-04 3.49829395e-04]\n",
            " [2.59532851e-02 4.08590593e-02 2.18009623e-04 1.26749781e-04\n",
            "  5.98258965e-04 1.31819772e-04 4.00529307e-04]\n",
            " [4.57262509e-02 3.33554723e-02 1.36889763e-04 2.02799649e-04\n",
            "  7.45288711e-04 1.01399825e-04 1.47029746e-04]\n",
            " [2.41782812e-01 3.58189810e-01 2.43359579e-04 1.62239719e-04\n",
            "  1.14074803e-03 1.97729658e-04 2.93552492e-03]\n",
            " [6.36233199e-02 5.26721389e-02 1.36889763e-04 1.77449693e-04\n",
            "  7.14868763e-04 1.47029746e-04 7.04728781e-04]\n",
            " [4.14674583e-02 5.26721389e-02 4.10669290e-04 1.77449693e-04\n",
            "  9.43018369e-04 2.33219597e-04 7.04728781e-04]\n",
            " [1.94636963e-02 3.60425676e-02 3.14339456e-04 1.92659667e-04\n",
            "  9.58228342e-04 7.09798772e-05 5.52629044e-04]\n",
            " [3.94394618e-02 4.96301441e-02 2.18009623e-04 1.72379702e-04\n",
            "  8.31478562e-04 1.92659667e-04 5.52629044e-04]\n",
            " [8.23315876e-02 1.85658009e-01 3.29549430e-04 1.67309711e-04\n",
            "  7.45288711e-04 2.63639544e-04 8.56828518e-04]\n",
            " [3.05162772e-02 3.38624714e-02 2.23079614e-04 2.02799649e-04\n",
            "  2.53499561e-04 1.01399825e-04 1.82012685e-03]\n",
            " [3.01613778e-02 2.09339938e-02 9.12598421e-05 1.67309711e-04\n",
            "  3.75179351e-04 2.28149605e-04 1.61732720e-03]\n",
            " [7.15325062e-02 6.17474232e-02 1.52099737e-04 1.82519684e-04\n",
            "  1.65281714e-03 1.67309711e-04 1.51592738e-03]\n",
            " [6.02264258e-02 1.06870345e-01 3.04199474e-04 1.87589675e-04\n",
            "  1.11539807e-03 2.68709535e-04 2.02292650e-03]\n",
            " [6.21023226e-02 1.06870345e-01 1.26749781e-04 1.87589675e-04\n",
            "  3.95459316e-04 9.12598421e-05 4.51229219e-04]\n",
            " [6.21023226e-02 1.06870345e-01 1.26749781e-04 1.87589675e-04\n",
            "  1.56662729e-03 6.59098860e-04 4.51229219e-04]\n",
            " [4.29377557e-02 6.19502228e-02 2.48429570e-04 1.77449693e-04\n",
            "  3.90389325e-04 2.07869640e-04 1.16102799e-03]\n",
            " [2.62574846e-02 5.23172395e-02 2.73779526e-04 1.31819772e-04\n",
            "  6.23608921e-04 2.23079614e-04 3.08762466e-03]\n",
            " [1.56454859e-01 6.78004857e-01 4.96859140e-04 1.97729658e-04\n",
            "  1.05455818e-03 4.10669290e-04 3.59462378e-03]\n",
            " [4.96301441e-02 6.79328125e-02 2.28149605e-04 1.67309711e-04\n",
            "  8.97388448e-04 3.04199474e-04 1.46522747e-03]\n",
            " [1.82869514e-01 3.75224981e-01 3.65039368e-04 2.18009623e-04\n",
            "  9.78508307e-04 3.75179351e-04 8.56828518e-04]\n",
            " [2.49286399e-01 2.85283336e-01 2.38289588e-04 2.07869640e-04\n",
            "  8.66968500e-04 4.20809272e-04 9.58228342e-04]\n",
            " [2.43506609e-01 5.29859713e-01 3.44759404e-04 1.87589675e-04\n",
            "  1.49057742e-03 5.27279088e-04 4.30442255e-03]\n",
            " [1.77140424e-01 7.04419511e-01 3.90389325e-04 1.06469816e-04\n",
            "  1.87082676e-03 5.98258965e-04 5.01422133e-03]\n",
            " [1.10723538e-01 2.18663652e-01 3.19409447e-04 1.82519684e-04\n",
            "  9.37948377e-04 5.93188974e-04 1.66802711e-03]\n",
            " [6.51950172e-02 2.42137711e-01 4.46159228e-04 1.82519684e-04\n",
            "  1.17623797e-03 5.62769026e-04 3.64532369e-03]\n",
            " [1.09253241e-01 2.93496722e-01 4.05599298e-04 2.07869640e-04\n",
            "  1.22186789e-03 4.15739281e-04 2.73272527e-03]\n",
            " [4.22786569e-02 4.94273445e-02 1.77449693e-04 1.47029746e-04\n",
            "  3.44759404e-04 1.62239719e-04 5.01929132e-04]\n",
            " [4.22786569e-02 7.90153063e-01 1.77449693e-04 2.12939632e-04\n",
            "  8.36548553e-04 1.82519684e-04 5.01929132e-04]\n",
            " [5.46494355e-02 1.10317939e-01 3.39689412e-04 1.97729658e-04\n",
            "  6.64168851e-04 1.97729658e-04 8.06128605e-04]\n",
            " [8.46130836e-02 1.23246417e-01 2.73779526e-04 1.97729658e-04\n",
            "  8.01058614e-04 5.83048991e-04 3.69602361e-03]\n",
            " [3.41306740e-01 5.60634560e-01 3.54899386e-04 2.53499561e-04\n",
            "  6.94588798e-04 2.02799649e-04 1.97729658e-04]\n",
            " [1.41650485e-01 7.44218943e-01 5.12069114e-04 1.77449693e-04\n",
            "  1.67816710e-03 5.01929132e-04 4.25372264e-03]\n",
            " [9.10012726e-02 1.25882812e-01 2.33219597e-04 1.67309711e-04\n",
            "  7.95988623e-04 4.66439193e-04 3.84812334e-03]\n",
            " [1.20812821e-01 3.06374500e-01 3.85319333e-04 1.97729658e-04\n",
            "  8.51758526e-04 4.91789149e-04 1.56662729e-03]\n",
            " [1.20812821e-01 3.06374500e-01 4.51229219e-04 1.97729658e-04\n",
            "  1.09511811e-03 4.91789149e-04 1.56662729e-03]\n",
            " [6.63611152e-02 1.63299347e-01 3.85319333e-04 2.02799649e-04\n",
            "  9.58228342e-04 2.68709535e-04 3.49322396e-03]\n",
            " [6.63611152e-02 9.38653106e-01 3.85319333e-04 2.02799649e-04\n",
            "  1.38917760e-03 2.68709535e-04 3.49322396e-03]\n",
            " [6.63611152e-02 9.72880617e-02 3.85319333e-04 1.72379702e-04\n",
            "  9.17668412e-04 7.60498684e-05 1.97729658e-04]\n",
            " [3.01152409e-01 6.75723361e-01 2.28149605e-04 6.59098860e-05\n",
            "  1.23200787e-03 4.51229219e-04 5.06492124e-03]\n",
            " [3.44247334e-01 7.24547377e-01 2.23079614e-04 7.09798772e-05\n",
            "  1.23200787e-03 5.17139105e-04 5.06492124e-03]\n",
            " [1.49508971e-01 7.24547377e-01 3.09269465e-04 7.09798772e-05\n",
            "  1.62746718e-03 4.61369202e-04 5.06492124e-03]\n",
            " [3.30963957e-01 6.98639721e-01 2.33219597e-04 8.11198597e-05\n",
            "  1.91645668e-03 6.28678912e-04 5.06492124e-03]\n",
            " [3.65845497e-01 7.61913212e-01 2.43359579e-04 9.63298333e-05\n",
            "  1.37396762e-03 4.96859140e-04 5.06492124e-03]\n",
            " [3.90181455e-01 7.75602188e-01 2.12939632e-04 7.09798772e-05\n",
            "  1.49057742e-03 4.71509184e-04 5.06492124e-03]\n",
            " [1.14475332e-01 3.48252628e-01 3.04199474e-04 8.11198597e-05\n",
            "  1.53113735e-03 4.46159228e-04 4.15232282e-03]\n",
            " [2.23682943e-01 4.39867369e-01 2.38289588e-04 1.01399825e-04\n",
            "  1.35875765e-03 6.23608921e-04 5.01422133e-03]\n",
            " [2.49134299e-01 5.61902058e-01 2.38289588e-04 7.60498684e-05\n",
            "  1.30805774e-03 4.05599298e-04 4.65932194e-03]\n",
            " [1.16300529e-01 5.61902058e-01 3.49829395e-04 7.60498684e-05\n",
            "  1.61225721e-03 4.05599298e-04 4.65932194e-03]\n",
            " [3.89877256e-01 6.68118374e-01 2.28149605e-04 1.16609798e-04\n",
            "  1.35368766e-03 5.88118983e-04 5.06492124e-03]\n",
            " [4.02501534e-01 1.00000000e+00 2.63639544e-04 8.11198597e-05\n",
            "  1.52099737e-03 5.52629044e-04 5.06492124e-03]\n",
            " [1.15235831e-01 2.95474019e-01 2.68709535e-04 7.60498684e-05\n",
            "  1.18637795e-03 3.39689412e-04 3.18902448e-03]\n",
            " [1.90981500e-01 5.02126861e-01 2.94059491e-04 9.63298333e-05\n",
            "  9.43018369e-04 4.51229219e-04 4.45652229e-03]\n",
            " [3.95606346e-01 7.72560193e-01 2.02799649e-04 6.59098860e-05\n",
            "  1.28777777e-03 4.46159228e-04 5.06492124e-03]\n",
            " [1.15337230e-01 2.25356040e-01 3.09269465e-04 1.72379702e-04\n",
            "  1.06976815e-03 3.24479439e-04 1.97222659e-03]\n",
            " [3.87088760e-01 6.75926161e-01 1.72379702e-04 6.08398947e-05\n",
            "  9.78508307e-04 4.96859140e-04 5.06492124e-03]\n",
            " [1.60510852e-01 6.75926161e-01 2.88989500e-04 6.08398947e-05\n",
            "  1.03427821e-03 6.59098860e-04 5.06492124e-03]\n",
            " [1.70397335e-01 2.27789636e-01 2.83919509e-04 2.23079614e-04\n",
            "  7.90918632e-04 4.00529307e-04 4.60862203e-03]\n",
            " [9.83527598e-02 1.67760940e-01 3.04199474e-04 1.92659667e-04\n",
            "  9.12598421e-04 3.39689412e-04 3.34112422e-03]\n",
            " [1.03574851e-01 1.01293355e-01 2.12939632e-04 2.12939632e-04\n",
            "  4.51229219e-04 2.43359579e-04 2.52992562e-03]\n",
            " [1.25832112e-01 1.53869164e-01 2.43359579e-04 2.02799649e-04\n",
            "  4.91789149e-04 1.67309711e-04 1.66802711e-03]\n",
            " [5.56127338e-02 6.27614214e-02 1.36889763e-04 1.11539807e-04\n",
            "  4.05599298e-04 1.41959754e-04 8.06128605e-04]\n",
            " [7.25465045e-02 9.24208701e-02 2.48429570e-04 2.02799649e-04\n",
            "  7.45288711e-04 2.33219597e-04 2.32712597e-03]\n",
            " [1.38253591e-01 1.56201360e-01 1.52099737e-04 1.26749781e-04\n",
            "  1.09004811e-03 6.13468939e-04 4.20302273e-03]\n",
            " [2.14455559e-01 3.74210983e-01 3.24479439e-04 2.12939632e-04\n",
            "  1.03427821e-03 3.80249342e-04 3.34112422e-03]\n",
            " [1.62031850e-01 2.01729881e-01 2.53499561e-04 2.12939632e-04\n",
            "  7.80778649e-04 3.39689412e-04 4.60862203e-03]\n",
            " [1.22891517e-01 2.54609890e-01 3.44759404e-04 1.97729658e-04\n",
            "  1.36889763e-03 6.33748904e-04 3.74672352e-03]\n",
            " [2.46041604e-01 2.80568245e-01 1.52099737e-04 1.21679789e-04\n",
            "  1.32833770e-03 2.99129483e-04 4.65932194e-03]\n",
            " [8.20780880e-02 1.04233950e-01 2.12939632e-04 1.67309711e-04\n",
            "  7.19938755e-04 2.94059491e-04 2.02292650e-03]\n",
            " [9.34348684e-02 2.82089242e-01 4.15739281e-04 1.92659667e-04\n",
            "  1.22186789e-03 2.83919509e-04 3.13832457e-03]\n",
            " [2.63127475e-01 2.80568245e-01 1.77449693e-04 1.62239719e-04\n",
            "  1.55141732e-03 4.36019246e-04 4.30442255e-03]\n",
            " [1.35515796e-01 2.23378744e-01 2.99129483e-04 1.97729658e-04\n",
            "  9.58228342e-04 3.54899386e-04 3.23972440e-03]\n",
            " [1.11484037e-01 2.28398035e-01 3.34619421e-04 1.87589675e-04\n",
            "  1.28270778e-03 4.10669290e-04 3.49322396e-03]\n",
            " [1.40028088e-01 2.28398035e-01 1.01399825e-04 1.87589675e-04\n",
            "  1.68830708e-03 6.38818895e-04 3.49322396e-03]\n",
            " [9.89611588e-02 1.98485087e-01 3.24479439e-04 1.82519684e-04\n",
            "  6.38818895e-04 2.68709535e-04 3.84812334e-03]\n",
            " [1.67862340e-01 1.91437799e-01 2.23079614e-04 1.92659667e-04\n",
            "  6.54028869e-04 4.51229219e-04 3.13832457e-03]\n",
            " [1.63603547e-01 1.91437799e-01 2.73779526e-04 1.92659667e-04\n",
            "  1.02920822e-03 4.56299211e-04 3.13832457e-03]\n",
            " [2.59578481e-01 2.78641648e-01 9.12598421e-05 7.60498684e-05\n",
            "  6.43888886e-04 4.00529307e-04 4.81142168e-03]\n",
            " [1.84289111e-01 6.79880754e-01 2.58569553e-04 1.47029746e-04\n",
            "  1.09004811e-03 4.56299211e-04 5.11562115e-03]\n",
            " [4.46108528e-02 1.09506741e-01 3.24479439e-04 1.41959754e-04\n",
            "  7.50358702e-04 2.53499561e-04 2.02292650e-03]\n",
            " [9.03421737e-02 1.29026207e-01 2.23079614e-04 1.52099737e-04\n",
            "  8.66968500e-04 1.21679789e-04 1.51592738e-03]]\n"
          ],
          "name": "stdout"
        }
      ]
    },
    {
      "cell_type": "markdown",
      "metadata": {
        "id": "GuShIdD7MOfS"
      },
      "source": [
        "#####Normalizacion de datos"
      ]
    },
    {
      "cell_type": "code",
      "metadata": {
        "id": "7X25DIl3yWs9",
        "outputId": "ff097924-f801-4928-bb3c-fab88774ae2b",
        "colab": {
          "base_uri": "https://localhost:8080/",
          "height": 1000
        }
      },
      "source": [
        "from sklearn import preprocessing \n",
        "min_max_scaler = preprocessing.MinMaxScaler()\n",
        "datanorm = min_max_scaler.fit_transform(df_out2.iloc[:,[3,4,5,6,7,8]].values)\n",
        "print(datanorm)"
      ],
      "execution_count": 52,
      "outputs": [
        {
          "output_type": "stream",
          "text": [
            "[[0.27822634 0.20501269 0.56435644 0.575      0.6097561  0.35042735]\n",
            " [0.15949702 0.03930402 0.16831683 0.45       0.05182927 0.11965812]\n",
            " [0.09702184 0.03412563 0.30693069 0.525      0.20426829 0.11965812]\n",
            " [0.0762409  0.16876392 0.94059406 0.725      0.73780488 0.21367521]\n",
            " [0.01932495 0.02304386 0.37623762 0.15       0.26219512 0.        ]\n",
            " [0.04923891 0.01299777 0.20792079 0.35       0.0304878  0.        ]\n",
            " [0.06697551 0.09207188 0.65346535 0.45       0.2652439  0.25641026]\n",
            " [0.06022502 0.01952255 0.23762376 0.35       0.19512195 0.08547009]\n",
            " [0.0694904  0.0025892  0.         0.4        0.08536585 0.        ]\n",
            " [0.08285903 0.11454611 0.7029703  0.525      0.75304878 0.29059829]\n",
            " [0.06935804 0.09051836 0.68316832 0.55       0.37195122 0.56410256]\n",
            " [0.0198544  0.01014966 0.36633663 0.5        0.03963415 0.05982906]\n",
            " [0.12230311 0.25570918 0.78217822 0.275      0.54878049 0.18803419]\n",
            " [0.05506287 0.25570918 0.44554455 0.275      0.42682927 0.09401709]\n",
            " [0.08285903 0.01631195 0.18811881 0.5        0.15243902 0.36752137]\n",
            " [0.04804765 0.02366527 0.30693069 0.325      0.20731707 0.36752137]\n",
            " [0.13275976 0.06690487 0.59405941 1.         0.25304878 0.16239316]\n",
            " [0.07425546 0.04748589 0.56435644 0.775      0.4054878  0.17094017]\n",
            " [0.00635341 0.05546062 0.76237624 0.4        0.25914634 0.13675214]\n",
            " [0.06353408 0.02754907 0.41584158 0.675      0.5304878  0.17948718]\n",
            " [0.10734613 0.02915437 0.22772277 0.475      0.09146341 0.18803419]\n",
            " [0.00953011 0.02128321 0.56435644 0.525      0.27743902 0.01709402]\n",
            " [0.04685639 0.01543162 0.2970297  0.475      0.09756098 0.05128205]\n",
            " [0.05215089 0.03241676 0.41584158 0.475      0.6554878  0.05128205]\n",
            " [0.21045665 0.13230801 0.5049505  0.575      0.39634146 0.58974359]\n",
            " [0.08563865 0.10025374 0.66336634 0.55       0.12804878 0.27350427]\n",
            " [0.13726009 0.03226141 0.22772277 0.6        0.06097561 0.02564103]\n",
            " [0.02064858 0.02221532 0.52475248 0.575      0.18902439 0.00854701]\n",
            " [0.08894772 0.04008078 0.36633663 0.525      0.24085366 0.16239316]\n",
            " [0.01019193 0.01470664 0.53465347 0.625      0.11585366 0.        ]\n",
            " [0.13355394 0.05375175 0.33663366 0.5        0.16768293 0.11111111]\n",
            " [0.01694242 0.0203511  0.42574257 0.325      0.20731707 0.11111111]\n",
            " [0.06856386 0.01268707 0.26732673 0.7        0.29573171 0.05982906]\n",
            " [0.58041032 0.34446688 0.47524752 0.5        0.53353659 0.22222222]\n",
            " [0.11528789 0.03241676 0.26732673 0.575      0.27743902 0.13675214]\n",
            " [0.0574454  0.03241676 0.8019802  0.575      0.41463415 0.28205128]\n",
            " [0.         0.01543162 0.61386139 0.65       0.42378049 0.00854701]\n",
            " [0.05215089 0.02930972 0.42574257 0.55       0.34756098 0.21367521]\n",
            " [0.16412972 0.16824608 0.64356436 0.525      0.29573171 0.33333333]\n",
            " [0.02885506 0.01320491 0.43564356 0.7        0.         0.05982906]\n",
            " [0.02792852 0.         0.17821782 0.525      0.07317073 0.27350427]\n",
            " [0.13593647 0.04168609 0.2970297  0.6        0.84146341 0.17094017]\n",
            " [0.10641959 0.08777381 0.59405941 0.625      0.51829268 0.34188034]\n",
            " [0.11131701 0.08777381 0.24752475 0.625      0.08536585 0.04273504]\n",
            " [0.11131701 0.08777381 0.24752475 0.625      0.78963415 1.        ]\n",
            " [0.06128392 0.04189322 0.48514851 0.575      0.08231707 0.23931624]\n",
            " [0.0177366  0.03205427 0.53465347 0.35       0.22256098 0.26495726]\n",
            " [0.35764394 0.67112009 0.97029703 0.675      0.48170732 0.58119658]\n",
            " [0.07875579 0.04800373 0.44554455 0.525      0.38719512 0.4017094 ]\n",
            " [0.4266049  0.36186629 0.71287129 0.775      0.43597561 0.52136752]\n",
            " [0.6        0.27000155 0.46534653 0.725      0.36890244 0.5982906 ]\n",
            " [0.58491066 0.51980736 0.67326733 0.625      0.74390244 0.77777778]\n",
            " [0.41164792 0.69809953 0.76237624 0.225      0.97256098 0.8974359 ]\n",
            " [0.23825281 0.20195743 0.62376238 0.6        0.41158537 0.88888889]\n",
            " [0.11939113 0.22593341 0.87128713 0.6        0.55487805 0.83760684]\n",
            " [0.2344143  0.27839055 0.79207921 0.725      0.58231707 0.58974359]\n",
            " [0.0595632  0.02910258 0.34653465 0.425      0.05487805 0.16239316]\n",
            " [0.0595632  0.7856662  0.34653465 0.75       0.35060976 0.1965812 ]\n",
            " [0.0918597  0.09129512 0.66336634 0.675      0.24695122 0.22222222]\n",
            " [0.17008604 0.10450003 0.53465347 0.675      0.32926829 0.87179487]\n",
            " [0.84023825 0.55124023 0.69306931 0.95       0.2652439  0.23076923]\n",
            " [0.31899404 0.73874994 1.         0.575      0.85670732 0.73504274]\n",
            " [0.18676373 0.10719279 0.45544554 0.525      0.32621951 0.67521368]\n",
            " [0.26459298 0.29154368 0.75247525 0.675      0.3597561  0.71794872]\n",
            " [0.26459298 0.29154368 0.88118812 0.675      0.50609756 0.71794872]\n",
            " [0.12243547 0.14540935 0.75247525 0.7        0.42378049 0.34188034]\n",
            " [0.12243547 0.93734141 0.75247525 0.7        0.68292683 0.34188034]\n",
            " [0.12243547 0.07798664 0.75247525 0.55       0.39939024 0.01709402]\n",
            " [0.73540702 0.66878981 0.44554455 0.025      0.58841463 0.64957265]\n",
            " [0.84791529 0.71865776 0.43564356 0.05       0.58841463 0.76068376]\n",
            " [0.33951026 0.71865776 0.6039604  0.05       0.82621951 0.66666667]\n",
            " [0.81323627 0.69219616 0.45544554 0.1        1.         0.94871795]\n",
            " [0.90430179 0.75682254 0.47524752 0.175      0.67378049 0.72649573]\n",
            " [0.96783587 0.7708042  0.41584158 0.05       0.74390244 0.68376068]\n",
            " [0.24804765 0.33431723 0.59405941 0.1        0.76829268 0.64102564]\n",
            " [0.53315685 0.42789084 0.46534653 0.2        0.66463415 0.94017094]\n",
            " [0.59960291 0.55253482 0.46534653 0.075      0.63414634 0.57264957]\n",
            " [0.25281271 0.55253482 0.68316832 0.075      0.81707317 0.57264957]\n",
            " [0.96704169 0.66102222 0.44554455 0.275      0.66158537 0.88034188]\n",
            " [1.         1.         0.51485149 0.1        0.76219512 0.82051282]\n",
            " [0.25003309 0.28041013 0.52475248 0.075      0.56097561 0.46153846]\n",
            " [0.44778293 0.49148154 0.57425743 0.175      0.41463415 0.64957265]\n",
            " [0.98199868 0.76769717 0.3960396  0.025      0.62195122 0.64102564]\n",
            " [0.25029782 0.20879292 0.6039604  0.55       0.49085366 0.43589744]\n",
            " [0.95976175 0.66899694 0.33663366 0.         0.43597561 0.72649573]\n",
            " [0.36823296 0.66899694 0.56435644 0.         0.4695122  1.        ]\n",
            " [0.39404368 0.21127855 0.55445545 0.8        0.32317073 0.56410256]\n",
            " [0.20595632 0.14996634 0.59405941 0.65       0.39634146 0.46153846]\n",
            " [0.21958968 0.08207757 0.41584158 0.75       0.11890244 0.2991453 ]\n",
            " [0.27769689 0.13577754 0.47524752 0.7        0.14329268 0.17094017]\n",
            " [0.09437459 0.04272176 0.26732673 0.25       0.09146341 0.12820513]\n",
            " [0.13858372 0.07301538 0.48514851 0.7        0.29573171 0.28205128]\n",
            " [0.31012574 0.1381596  0.2970297  0.325      0.50304878 0.92307692]\n",
            " [0.50906684 0.36083061 0.63366337 0.75       0.4695122  0.52991453]\n",
            " [0.37220384 0.18466159 0.4950495  0.75       0.31707317 0.46153846]\n",
            " [0.27001985 0.23867226 0.67326733 0.675      0.67073171 0.95726496]\n",
            " [0.59152879 0.26518565 0.2970297  0.3        0.64634146 0.39316239]\n",
            " [0.1634679  0.08508104 0.41584158 0.525      0.2804878  0.38461538]\n",
            " [0.19311714 0.26673916 0.81188119 0.65       0.58231707 0.36752137]\n",
            " [0.63613501 0.26518565 0.34653465 0.5        0.7804878  0.62393162]\n",
            " [0.30297816 0.20677334 0.58415842 0.675      0.42378049 0.48717949]\n",
            " [0.24023825 0.21189995 0.65346535 0.625      0.61890244 0.58119658]\n",
            " [0.31475844 0.21189995 0.1980198  0.625      0.86280488 0.96581197]\n",
            " [0.20754467 0.18134742 0.63366337 0.6        0.23170732 0.34188034]\n",
            " [0.38742555 0.17414945 0.43564356 0.65       0.24085366 0.64957265]\n",
            " [0.37630708 0.17414945 0.53465347 0.65       0.46646341 0.65811966]\n",
            " [0.62686962 0.26321786 0.17821782 0.075      0.2347561  0.56410256]\n",
            " [0.43031105 0.67303609 0.5049505  0.425      0.50304878 0.65811966]\n",
            " [0.06565189 0.09046657 0.63366337 0.4        0.29878049 0.31623932]\n",
            " [0.18504302 0.1104034  0.43564356 0.45       0.36890244 0.09401709]]\n"
          ],
          "name": "stdout"
        }
      ]
    },
    {
      "cell_type": "markdown",
      "metadata": {
        "id": "ojyyiUERMV_S"
      },
      "source": [
        "# Dendrograma"
      ]
    },
    {
      "cell_type": "code",
      "metadata": {
        "id": "SDt2_PSzOHc_"
      },
      "source": [
        "#algortimo aglomerativo jerarquico - dendrogramas\n",
        "import scipy.cluster.hierarchy as sch\n",
        "from matplotlib import pyplot as plt\n",
        "\n",
        "#datos=df_out2.iloc[:,[3,4,5,6,7,8]].values\n",
        "#datos\n"
      ],
      "execution_count": 30,
      "outputs": []
    },
    {
      "cell_type": "code",
      "metadata": {
        "id": "vcXRjrozVbj9"
      },
      "source": [
        "clustering_jerarquico= sch.linkage(datanorm, 'ward')"
      ],
      "execution_count": 53,
      "outputs": []
    },
    {
      "cell_type": "code",
      "metadata": {
        "id": "NyWOYmSUVzGl",
        "outputId": "0cdb5e45-1990-46a2-90af-30920f150346",
        "colab": {
          "base_uri": "https://localhost:8080/",
          "height": 265
        }
      },
      "source": [
        "dendrogram=sch.dendrogram(clustering_jerarquico)"
      ],
      "execution_count": 54,
      "outputs": [
        {
          "output_type": "display_data",
          "data": {
            "image/png": "[encoded data removed]",
            "text/plain": [
              "<Figure size 432x288 with 1 Axes>"
            ]
          },
          "metadata": {
            "tags": [],
            "needs_background": "light"
          }
        }
      ]
    },
    {
      "cell_type": "code",
      "metadata": {
        "id": "UY_c3gf74yhz"
      },
      "source": [
        "#realizo el corte en 2\n",
        "from scipy.cluster.hierarchy import fcluster\n",
        "clusters = fcluster(clustering_jerarquico, t=2, criterion='distance')"
      ],
      "execution_count": 106,
      "outputs": []
    },
    {
      "cell_type": "code",
      "metadata": {
        "id": "1GedOQfF8qWL",
        "outputId": "b6ea5358-2977-4ce0-e6b5-9f66cd228a78",
        "colab": {
          "base_uri": "https://localhost:8080/",
          "height": 67
        }
      },
      "source": [
        "print(clusters)"
      ],
      "execution_count": 107,
      "outputs": [
        {
          "output_type": "stream",
          "text": [
            "[2 1 1 2 1 1 2 1 1 2 2 1 2 1 1 1 2 2 2 2 1 1 1 2 2 2 1 1 1 1 1 1 1 5 1 2 2\n",
            " 1 2 1 1 2 2 1 5 1 2 4 2 5 5 4 4 5 5 5 1 4 2 5 5 4 2 5 5 2 4 2 3 3 4 3 3 3\n",
            " 4 4 4 4 3 3 4 4 3 2 3 4 5 2 2 2 1 2 5 5 5 5 5 2 2 5 2 2 5 2 5 5 5 4 2 1]\n"
          ],
          "name": "stdout"
        }
      ]
    },
    {
      "cell_type": "code",
      "metadata": {
        "id": "TIZKQGWz9a-4",
        "outputId": "aeee4332-e0ad-47f5-f423-2e3892e022bd",
        "colab": {
          "base_uri": "https://localhost:8080/",
          "height": 118
        }
      },
      "source": [
        "df_out2['clustering jerarquico']=clusters"
      ],
      "execution_count": 63,
      "outputs": [
        {
          "output_type": "stream",
          "text": [
            "/usr/local/lib/python3.6/dist-packages/ipykernel_launcher.py:1: SettingWithCopyWarning: \n",
            "A value is trying to be set on a copy of a slice from a DataFrame.\n",
            "Try using .loc[row_indexer,col_indexer] = value instead\n",
            "\n",
            "See the caveats in the documentation: https://pandas.pydata.org/pandas-docs/stable/user_guide/indexing.html#returning-a-view-versus-a-copy\n",
            "  \"\"\"Entry point for launching an IPython kernel.\n"
          ],
          "name": "stderr"
        }
      ]
    },
    {
      "cell_type": "markdown",
      "metadata": {
        "id": "ighKw0IfNKEE"
      },
      "source": [
        "#####Nueva columna con datos etiquetados"
      ]
    },
    {
      "cell_type": "code",
      "metadata": {
        "id": "1JZn-9Ds1Or6",
        "outputId": "41ccf6a0-0c12-487a-d5c0-43dbbb2980ad",
        "colab": {
          "base_uri": "https://localhost:8080/",
          "height": 698
        }
      },
      "source": [
        "#Visualizar las filas que estan en cada cluster\n",
        "df_out2[df_out2['clustering jerarquico'] == 5]"
      ],
      "execution_count": 72,
      "outputs": [
        {
          "output_type": "execute_result",
          "data": {
            "text/html": [
              "<div>\n",
              "<style scoped>\n",
              "    .dataframe tbody tr th:only-of-type {\n",
              "        vertical-align: middle;\n",
              "    }\n",
              "\n",
              "    .dataframe tbody tr th {\n",
              "        vertical-align: top;\n",
              "    }\n",
              "\n",
              "    .dataframe thead th {\n",
              "        text-align: right;\n",
              "    }\n",
              "</style>\n",
              "<table border=\"1\" class=\"dataframe\">\n",
              "  <thead>\n",
              "    <tr style=\"text-align: right;\">\n",
              "      <th></th>\n",
              "      <th>oil</th>\n",
              "      <th>inter</th>\n",
              "      <th>oecd</th>\n",
              "      <th>gdp60</th>\n",
              "      <th>gdp85</th>\n",
              "      <th>gdpgrowth</th>\n",
              "      <th>popgrowth</th>\n",
              "      <th>invest</th>\n",
              "      <th>school</th>\n",
              "      <th>literacy60</th>\n",
              "      <th>clustering jerarquico</th>\n",
              "    </tr>\n",
              "  </thead>\n",
              "  <tbody>\n",
              "    <tr>\n",
              "      <th>33</th>\n",
              "      <td>no</td>\n",
              "      <td>yes</td>\n",
              "      <td>no</td>\n",
              "      <td>4768.0</td>\n",
              "      <td>7064.0</td>\n",
              "      <td>3.9</td>\n",
              "      <td>2.3</td>\n",
              "      <td>21.6</td>\n",
              "      <td>3.0</td>\n",
              "      <td>57.0</td>\n",
              "      <td>5</td>\n",
              "    </tr>\n",
              "    <tr>\n",
              "      <th>44</th>\n",
              "      <td>yes</td>\n",
              "      <td>no</td>\n",
              "      <td>no</td>\n",
              "      <td>1224.0</td>\n",
              "      <td>2107.0</td>\n",
              "      <td>1.6</td>\n",
              "      <td>2.8</td>\n",
              "      <td>30.0</td>\n",
              "      <td>12.1</td>\n",
              "      <td>8.0</td>\n",
              "      <td>5</td>\n",
              "    </tr>\n",
              "    <tr>\n",
              "      <th>49</th>\n",
              "      <td>yes</td>\n",
              "      <td>no</td>\n",
              "      <td>no</td>\n",
              "      <td>3606.0</td>\n",
              "      <td>7400.0</td>\n",
              "      <td>6.3</td>\n",
              "      <td>3.4</td>\n",
              "      <td>18.4</td>\n",
              "      <td>6.5</td>\n",
              "      <td>16.0</td>\n",
              "      <td>5</td>\n",
              "    </tr>\n",
              "    <tr>\n",
              "      <th>50</th>\n",
              "      <td>yes</td>\n",
              "      <td>no</td>\n",
              "      <td>no</td>\n",
              "      <td>4916.0</td>\n",
              "      <td>5626.0</td>\n",
              "      <td>3.8</td>\n",
              "      <td>3.2</td>\n",
              "      <td>16.2</td>\n",
              "      <td>7.4</td>\n",
              "      <td>18.0</td>\n",
              "      <td>5</td>\n",
              "    </tr>\n",
              "    <tr>\n",
              "      <th>53</th>\n",
              "      <td>no</td>\n",
              "      <td>yes</td>\n",
              "      <td>no</td>\n",
              "      <td>2183.0</td>\n",
              "      <td>4312.0</td>\n",
              "      <td>5.4</td>\n",
              "      <td>2.7</td>\n",
              "      <td>17.6</td>\n",
              "      <td>10.8</td>\n",
              "      <td>32.0</td>\n",
              "      <td>5</td>\n",
              "    </tr>\n",
              "    <tr>\n",
              "      <th>54</th>\n",
              "      <td>no</td>\n",
              "      <td>yes</td>\n",
              "      <td>no</td>\n",
              "      <td>1285.0</td>\n",
              "      <td>4775.0</td>\n",
              "      <td>7.9</td>\n",
              "      <td>2.7</td>\n",
              "      <td>22.3</td>\n",
              "      <td>10.2</td>\n",
              "      <td>71.0</td>\n",
              "      <td>5</td>\n",
              "    </tr>\n",
              "    <tr>\n",
              "      <th>56</th>\n",
              "      <td>no</td>\n",
              "      <td>yes</td>\n",
              "      <td>no</td>\n",
              "      <td>2154.0</td>\n",
              "      <td>5788.0</td>\n",
              "      <td>7.1</td>\n",
              "      <td>3.2</td>\n",
              "      <td>23.2</td>\n",
              "      <td>7.3</td>\n",
              "      <td>53.0</td>\n",
              "      <td>5</td>\n",
              "    </tr>\n",
              "    <tr>\n",
              "      <th>60</th>\n",
              "      <td>no</td>\n",
              "      <td>yes</td>\n",
              "      <td>no</td>\n",
              "      <td>1668.0</td>\n",
              "      <td>2430.0</td>\n",
              "      <td>4.5</td>\n",
              "      <td>3.0</td>\n",
              "      <td>14.9</td>\n",
              "      <td>10.6</td>\n",
              "      <td>72.0</td>\n",
              "      <td>5</td>\n",
              "    </tr>\n",
              "    <tr>\n",
              "      <th>61</th>\n",
              "      <td>yes</td>\n",
              "      <td>no</td>\n",
              "      <td>no</td>\n",
              "      <td>6731.0</td>\n",
              "      <td>11057.0</td>\n",
              "      <td>6.1</td>\n",
              "      <td>4.1</td>\n",
              "      <td>12.8</td>\n",
              "      <td>3.1</td>\n",
              "      <td>3.0</td>\n",
              "      <td>5</td>\n",
              "    </tr>\n",
              "    <tr>\n",
              "      <th>64</th>\n",
              "      <td>no</td>\n",
              "      <td>yes</td>\n",
              "      <td>no</td>\n",
              "      <td>2382.0</td>\n",
              "      <td>6042.0</td>\n",
              "      <td>6.7</td>\n",
              "      <td>3.0</td>\n",
              "      <td>15.9</td>\n",
              "      <td>8.8</td>\n",
              "      <td>30.0</td>\n",
              "      <td>5</td>\n",
              "    </tr>\n",
              "    <tr>\n",
              "      <th>65</th>\n",
              "      <td>yes</td>\n",
              "      <td>no</td>\n",
              "      <td>no</td>\n",
              "      <td>2382.0</td>\n",
              "      <td>6042.0</td>\n",
              "      <td>8.0</td>\n",
              "      <td>3.0</td>\n",
              "      <td>20.7</td>\n",
              "      <td>8.8</td>\n",
              "      <td>30.0</td>\n",
              "      <td>5</td>\n",
              "    </tr>\n",
              "    <tr>\n",
              "      <th>92</th>\n",
              "      <td>no</td>\n",
              "      <td>yes</td>\n",
              "      <td>no</td>\n",
              "      <td>3360.0</td>\n",
              "      <td>4492.0</td>\n",
              "      <td>4.7</td>\n",
              "      <td>3.5</td>\n",
              "      <td>14.7</td>\n",
              "      <td>7.0</td>\n",
              "      <td>90.0</td>\n",
              "      <td>5</td>\n",
              "    </tr>\n",
              "    <tr>\n",
              "      <th>98</th>\n",
              "      <td>no</td>\n",
              "      <td>yes</td>\n",
              "      <td>no</td>\n",
              "      <td>2726.0</td>\n",
              "      <td>3080.0</td>\n",
              "      <td>2.1</td>\n",
              "      <td>1.6</td>\n",
              "      <td>20.6</td>\n",
              "      <td>11.2</td>\n",
              "      <td>82.0</td>\n",
              "      <td>5</td>\n",
              "    </tr>\n",
              "    <tr>\n",
              "      <th>99</th>\n",
              "      <td>no</td>\n",
              "      <td>yes</td>\n",
              "      <td>no</td>\n",
              "      <td>4229.0</td>\n",
              "      <td>7380.0</td>\n",
              "      <td>5.5</td>\n",
              "      <td>3.3</td>\n",
              "      <td>19.5</td>\n",
              "      <td>6.6</td>\n",
              "      <td>65.0</td>\n",
              "      <td>5</td>\n",
              "    </tr>\n",
              "    <tr>\n",
              "      <th>100</th>\n",
              "      <td>no</td>\n",
              "      <td>yes</td>\n",
              "      <td>no</td>\n",
              "      <td>3195.0</td>\n",
              "      <td>3978.0</td>\n",
              "      <td>4.1</td>\n",
              "      <td>3.3</td>\n",
              "      <td>14.5</td>\n",
              "      <td>5.8</td>\n",
              "      <td>90.0</td>\n",
              "      <td>5</td>\n",
              "    </tr>\n",
              "    <tr>\n",
              "      <th>101</th>\n",
              "      <td>no</td>\n",
              "      <td>yes</td>\n",
              "      <td>no</td>\n",
              "      <td>2423.0</td>\n",
              "      <td>5021.0</td>\n",
              "      <td>5.9</td>\n",
              "      <td>3.0</td>\n",
              "      <td>26.1</td>\n",
              "      <td>11.6</td>\n",
              "      <td>73.0</td>\n",
              "      <td>5</td>\n",
              "    </tr>\n",
              "    <tr>\n",
              "      <th>104</th>\n",
              "      <td>no</td>\n",
              "      <td>yes</td>\n",
              "      <td>no</td>\n",
              "      <td>4852.0</td>\n",
              "      <td>5533.0</td>\n",
              "      <td>2.1</td>\n",
              "      <td>1.5</td>\n",
              "      <td>25.3</td>\n",
              "      <td>5.0</td>\n",
              "      <td>91.0</td>\n",
              "      <td>5</td>\n",
              "    </tr>\n",
              "    <tr>\n",
              "      <th>107</th>\n",
              "      <td>no</td>\n",
              "      <td>yes</td>\n",
              "      <td>no</td>\n",
              "      <td>5189.0</td>\n",
              "      <td>5533.0</td>\n",
              "      <td>2.6</td>\n",
              "      <td>2.3</td>\n",
              "      <td>29.7</td>\n",
              "      <td>7.7</td>\n",
              "      <td>84.0</td>\n",
              "      <td>5</td>\n",
              "    </tr>\n",
              "    <tr>\n",
              "      <th>110</th>\n",
              "      <td>yes</td>\n",
              "      <td>no</td>\n",
              "      <td>no</td>\n",
              "      <td>2761.0</td>\n",
              "      <td>4504.0</td>\n",
              "      <td>1.1</td>\n",
              "      <td>2.8</td>\n",
              "      <td>32.4</td>\n",
              "      <td>11.7</td>\n",
              "      <td>68.0</td>\n",
              "      <td>5</td>\n",
              "    </tr>\n",
              "    <tr>\n",
              "      <th>112</th>\n",
              "      <td>no</td>\n",
              "      <td>yes</td>\n",
              "      <td>no</td>\n",
              "      <td>3310.0</td>\n",
              "      <td>3775.0</td>\n",
              "      <td>3.5</td>\n",
              "      <td>2.9</td>\n",
              "      <td>12.0</td>\n",
              "      <td>8.0</td>\n",
              "      <td>61.0</td>\n",
              "      <td>5</td>\n",
              "    </tr>\n",
              "    <tr>\n",
              "      <th>113</th>\n",
              "      <td>yes</td>\n",
              "      <td>no</td>\n",
              "      <td>no</td>\n",
              "      <td>3226.0</td>\n",
              "      <td>3775.0</td>\n",
              "      <td>4.5</td>\n",
              "      <td>2.9</td>\n",
              "      <td>19.4</td>\n",
              "      <td>8.1</td>\n",
              "      <td>61.0</td>\n",
              "      <td>5</td>\n",
              "    </tr>\n",
              "    <tr>\n",
              "      <th>114</th>\n",
              "      <td>no</td>\n",
              "      <td>yes</td>\n",
              "      <td>no</td>\n",
              "      <td>5119.0</td>\n",
              "      <td>5495.0</td>\n",
              "      <td>0.9</td>\n",
              "      <td>0.6</td>\n",
              "      <td>11.8</td>\n",
              "      <td>7.0</td>\n",
              "      <td>94.0</td>\n",
              "      <td>5</td>\n",
              "    </tr>\n",
              "  </tbody>\n",
              "</table>\n",
              "</div>"
            ],
            "text/plain": [
              "     oil inter oecd   gdp60    gdp85  gdpgrowth  popgrowth  invest  school  \\\n",
              "33    no   yes   no  4768.0   7064.0        3.9        2.3    21.6     3.0   \n",
              "44   yes    no   no  1224.0   2107.0        1.6        2.8    30.0    12.1   \n",
              "49   yes    no   no  3606.0   7400.0        6.3        3.4    18.4     6.5   \n",
              "50   yes    no   no  4916.0   5626.0        3.8        3.2    16.2     7.4   \n",
              "53    no   yes   no  2183.0   4312.0        5.4        2.7    17.6    10.8   \n",
              "54    no   yes   no  1285.0   4775.0        7.9        2.7    22.3    10.2   \n",
              "56    no   yes   no  2154.0   5788.0        7.1        3.2    23.2     7.3   \n",
              "60    no   yes   no  1668.0   2430.0        4.5        3.0    14.9    10.6   \n",
              "61   yes    no   no  6731.0  11057.0        6.1        4.1    12.8     3.1   \n",
              "64    no   yes   no  2382.0   6042.0        6.7        3.0    15.9     8.8   \n",
              "65   yes    no   no  2382.0   6042.0        8.0        3.0    20.7     8.8   \n",
              "92    no   yes   no  3360.0   4492.0        4.7        3.5    14.7     7.0   \n",
              "98    no   yes   no  2726.0   3080.0        2.1        1.6    20.6    11.2   \n",
              "99    no   yes   no  4229.0   7380.0        5.5        3.3    19.5     6.6   \n",
              "100   no   yes   no  3195.0   3978.0        4.1        3.3    14.5     5.8   \n",
              "101   no   yes   no  2423.0   5021.0        5.9        3.0    26.1    11.6   \n",
              "104   no   yes   no  4852.0   5533.0        2.1        1.5    25.3     5.0   \n",
              "107   no   yes   no  5189.0   5533.0        2.6        2.3    29.7     7.7   \n",
              "110  yes    no   no  2761.0   4504.0        1.1        2.8    32.4    11.7   \n",
              "112   no   yes   no  3310.0   3775.0        3.5        2.9    12.0     8.0   \n",
              "113  yes    no   no  3226.0   3775.0        4.5        2.9    19.4     8.1   \n",
              "114   no   yes   no  5119.0   5495.0        0.9        0.6    11.8     7.0   \n",
              "\n",
              "     literacy60  clustering jerarquico  \n",
              "33         57.0                      5  \n",
              "44          8.0                      5  \n",
              "49         16.0                      5  \n",
              "50         18.0                      5  \n",
              "53         32.0                      5  \n",
              "54         71.0                      5  \n",
              "56         53.0                      5  \n",
              "60         72.0                      5  \n",
              "61          3.0                      5  \n",
              "64         30.0                      5  \n",
              "65         30.0                      5  \n",
              "92         90.0                      5  \n",
              "98         82.0                      5  \n",
              "99         65.0                      5  \n",
              "100        90.0                      5  \n",
              "101        73.0                      5  \n",
              "104        91.0                      5  \n",
              "107        84.0                      5  \n",
              "110        68.0                      5  \n",
              "112        61.0                      5  \n",
              "113        61.0                      5  \n",
              "114        94.0                      5  "
            ]
          },
          "metadata": {
            "tags": []
          },
          "execution_count": 72
        }
      ]
    },
    {
      "cell_type": "code",
      "metadata": {
        "id": "ZPXoSEx9-9sb",
        "outputId": "9f4c99d5-89a7-4b33-ec8d-82f1adc9002f",
        "colab": {
          "base_uri": "https://localhost:8080/",
          "height": 343
        }
      },
      "source": [
        "#Visualizo la nueva columna 'clustering jerarquico' con los datos etiquetados.\n",
        "df_out2.head(10)"
      ],
      "execution_count": 64,
      "outputs": [
        {
          "output_type": "execute_result",
          "data": {
            "text/html": [
              "<div>\n",
              "<style scoped>\n",
              "    .dataframe tbody tr th:only-of-type {\n",
              "        vertical-align: middle;\n",
              "    }\n",
              "\n",
              "    .dataframe tbody tr th {\n",
              "        vertical-align: top;\n",
              "    }\n",
              "\n",
              "    .dataframe thead th {\n",
              "        text-align: right;\n",
              "    }\n",
              "</style>\n",
              "<table border=\"1\" class=\"dataframe\">\n",
              "  <thead>\n",
              "    <tr style=\"text-align: right;\">\n",
              "      <th></th>\n",
              "      <th>oil</th>\n",
              "      <th>inter</th>\n",
              "      <th>oecd</th>\n",
              "      <th>gdp60</th>\n",
              "      <th>gdp85</th>\n",
              "      <th>gdpgrowth</th>\n",
              "      <th>popgrowth</th>\n",
              "      <th>invest</th>\n",
              "      <th>school</th>\n",
              "      <th>literacy60</th>\n",
              "      <th>clustering jerarquico</th>\n",
              "    </tr>\n",
              "  </thead>\n",
              "  <tbody>\n",
              "    <tr>\n",
              "      <th>0</th>\n",
              "      <td>no</td>\n",
              "      <td>yes</td>\n",
              "      <td>no</td>\n",
              "      <td>2485.0</td>\n",
              "      <td>4371.0</td>\n",
              "      <td>4.8</td>\n",
              "      <td>2.6</td>\n",
              "      <td>24.1</td>\n",
              "      <td>4.5</td>\n",
              "      <td>10.0</td>\n",
              "      <td>2</td>\n",
              "    </tr>\n",
              "    <tr>\n",
              "      <th>1</th>\n",
              "      <td>no</td>\n",
              "      <td>no</td>\n",
              "      <td>no</td>\n",
              "      <td>1588.0</td>\n",
              "      <td>1171.0</td>\n",
              "      <td>0.8</td>\n",
              "      <td>2.1</td>\n",
              "      <td>5.8</td>\n",
              "      <td>1.8</td>\n",
              "      <td>5.0</td>\n",
              "      <td>1</td>\n",
              "    </tr>\n",
              "    <tr>\n",
              "      <th>2</th>\n",
              "      <td>no</td>\n",
              "      <td>no</td>\n",
              "      <td>no</td>\n",
              "      <td>1116.0</td>\n",
              "      <td>1071.0</td>\n",
              "      <td>2.2</td>\n",
              "      <td>2.4</td>\n",
              "      <td>10.8</td>\n",
              "      <td>1.8</td>\n",
              "      <td>5.0</td>\n",
              "      <td>1</td>\n",
              "    </tr>\n",
              "    <tr>\n",
              "      <th>3</th>\n",
              "      <td>no</td>\n",
              "      <td>yes</td>\n",
              "      <td>no</td>\n",
              "      <td>959.0</td>\n",
              "      <td>3671.0</td>\n",
              "      <td>8.6</td>\n",
              "      <td>3.2</td>\n",
              "      <td>28.3</td>\n",
              "      <td>2.9</td>\n",
              "      <td>5.0</td>\n",
              "      <td>2</td>\n",
              "    </tr>\n",
              "    <tr>\n",
              "      <th>4</th>\n",
              "      <td>no</td>\n",
              "      <td>no</td>\n",
              "      <td>no</td>\n",
              "      <td>529.0</td>\n",
              "      <td>857.0</td>\n",
              "      <td>2.9</td>\n",
              "      <td>0.9</td>\n",
              "      <td>12.7</td>\n",
              "      <td>0.4</td>\n",
              "      <td>2.0</td>\n",
              "      <td>1</td>\n",
              "    </tr>\n",
              "    <tr>\n",
              "      <th>5</th>\n",
              "      <td>no</td>\n",
              "      <td>no</td>\n",
              "      <td>no</td>\n",
              "      <td>755.0</td>\n",
              "      <td>663.0</td>\n",
              "      <td>1.2</td>\n",
              "      <td>1.7</td>\n",
              "      <td>5.1</td>\n",
              "      <td>0.4</td>\n",
              "      <td>14.0</td>\n",
              "      <td>1</td>\n",
              "    </tr>\n",
              "    <tr>\n",
              "      <th>6</th>\n",
              "      <td>no</td>\n",
              "      <td>yes</td>\n",
              "      <td>no</td>\n",
              "      <td>889.0</td>\n",
              "      <td>2190.0</td>\n",
              "      <td>5.7</td>\n",
              "      <td>2.1</td>\n",
              "      <td>12.8</td>\n",
              "      <td>3.4</td>\n",
              "      <td>19.0</td>\n",
              "      <td>2</td>\n",
              "    </tr>\n",
              "    <tr>\n",
              "      <th>7</th>\n",
              "      <td>no</td>\n",
              "      <td>no</td>\n",
              "      <td>no</td>\n",
              "      <td>838.0</td>\n",
              "      <td>789.0</td>\n",
              "      <td>1.5</td>\n",
              "      <td>1.7</td>\n",
              "      <td>10.5</td>\n",
              "      <td>1.4</td>\n",
              "      <td>7.0</td>\n",
              "      <td>1</td>\n",
              "    </tr>\n",
              "    <tr>\n",
              "      <th>8</th>\n",
              "      <td>no</td>\n",
              "      <td>no</td>\n",
              "      <td>no</td>\n",
              "      <td>908.0</td>\n",
              "      <td>462.0</td>\n",
              "      <td>-0.9</td>\n",
              "      <td>1.9</td>\n",
              "      <td>6.9</td>\n",
              "      <td>0.4</td>\n",
              "      <td>6.0</td>\n",
              "      <td>1</td>\n",
              "    </tr>\n",
              "    <tr>\n",
              "      <th>9</th>\n",
              "      <td>no</td>\n",
              "      <td>no</td>\n",
              "      <td>no</td>\n",
              "      <td>1009.0</td>\n",
              "      <td>2624.0</td>\n",
              "      <td>6.2</td>\n",
              "      <td>2.4</td>\n",
              "      <td>28.8</td>\n",
              "      <td>3.8</td>\n",
              "      <td>16.0</td>\n",
              "      <td>2</td>\n",
              "    </tr>\n",
              "  </tbody>\n",
              "</table>\n",
              "</div>"
            ],
            "text/plain": [
              "  oil inter oecd   gdp60   gdp85  gdpgrowth  popgrowth  invest  school  \\\n",
              "0  no   yes   no  2485.0  4371.0        4.8        2.6    24.1     4.5   \n",
              "1  no    no   no  1588.0  1171.0        0.8        2.1     5.8     1.8   \n",
              "2  no    no   no  1116.0  1071.0        2.2        2.4    10.8     1.8   \n",
              "3  no   yes   no   959.0  3671.0        8.6        3.2    28.3     2.9   \n",
              "4  no    no   no   529.0   857.0        2.9        0.9    12.7     0.4   \n",
              "5  no    no   no   755.0   663.0        1.2        1.7     5.1     0.4   \n",
              "6  no   yes   no   889.0  2190.0        5.7        2.1    12.8     3.4   \n",
              "7  no    no   no   838.0   789.0        1.5        1.7    10.5     1.4   \n",
              "8  no    no   no   908.0   462.0       -0.9        1.9     6.9     0.4   \n",
              "9  no    no   no  1009.0  2624.0        6.2        2.4    28.8     3.8   \n",
              "\n",
              "   literacy60  clustering jerarquico  \n",
              "0        10.0                      2  \n",
              "1         5.0                      1  \n",
              "2         5.0                      1  \n",
              "3         5.0                      2  \n",
              "4         2.0                      1  \n",
              "5        14.0                      1  \n",
              "6        19.0                      2  \n",
              "7         7.0                      1  \n",
              "8         6.0                      1  \n",
              "9        16.0                      2  "
            ]
          },
          "metadata": {
            "tags": []
          },
          "execution_count": 64
        }
      ]
    },
    {
      "cell_type": "markdown",
      "metadata": {
        "id": "E9pdAm_vMjqh"
      },
      "source": [
        "#####Coeficiente de Silhouette"
      ]
    },
    {
      "cell_type": "code",
      "metadata": {
        "id": "jPgyi8aI3bvl",
        "outputId": "124cf2ef-29c1-4fd8-9744-893842370aa2",
        "colab": {
          "base_uri": "https://localhost:8080/",
          "height": 50
        }
      },
      "source": [
        "from sklearn import metrics\n",
        "n_clusters_ = len(set(clusters))\n",
        "print('Estimated number of clusters: %d' % n_clusters_)\n",
        "print(\"Silhouette Coefficient: %0.3f\"\n",
        "      % metrics.silhouette_score(datanorm, clusters))"
      ],
      "execution_count": 108,
      "outputs": [
        {
          "output_type": "stream",
          "text": [
            "Estimated number of clusters: 5\n",
            "Silhouette Coefficient: 0.235\n"
          ],
          "name": "stdout"
        }
      ]
    },
    {
      "cell_type": "markdown",
      "metadata": {
        "id": "6ofoBYVnMrNg"
      },
      "source": [
        "# PCA ANALISIS DE COMPONENTES PRINCIPALES"
      ]
    },
    {
      "cell_type": "code",
      "metadata": {
        "id": "VnwKwxbBA7L8"
      },
      "source": [
        "#PCA ANALISIS DE COMPONENTES PRINCIPALES\n",
        "from sklearn import preprocessing \n",
        "scaler = preprocessing.StandardScaler()\n",
        "states = scaler.fit_transform(df_out2.iloc[:,[3,4,5,6,7,8]].values)"
      ],
      "execution_count": 114,
      "outputs": []
    },
    {
      "cell_type": "code",
      "metadata": {
        "id": "CzfYaQV0CvQy",
        "outputId": "617024b7-674e-416f-9ce0-ea6b626f4b69",
        "colab": {
          "base_uri": "https://localhost:8080/",
          "height": 1000
        }
      },
      "source": [
        "#2. PCA Estimation\n",
        "from sklearn.decomposition import PCA\n",
        "estimator = PCA (n_components = 3)\n",
        "X_pca = estimator.fit_transform(states)\n",
        "X_pca"
      ],
      "execution_count": 115,
      "outputs": [
        {
          "output_type": "execute_result",
          "data": {
            "text/plain": [
              "array([[ 0.18268288, -0.60466336, -0.07249485],\n",
              "       [-1.97837542,  1.75981653,  0.37832512],\n",
              "       [-1.78740718,  0.83158197,  0.08547769],\n",
              "       [-0.10047898, -2.69468232, -0.99274523],\n",
              "       [-1.49789826,  1.43561608, -1.54096422],\n",
              "       [-2.30292825,  1.8275464 , -0.32175059],\n",
              "       [-1.00317344, -0.44944139, -0.7832484 ],\n",
              "       [-1.79277435,  1.53462763, -0.40859671],\n",
              "       [-2.42068406,  2.47041385,  0.2353235 ],\n",
              "       [ 0.00726887, -1.30011712, -1.03338699],\n",
              "       [-0.40725888, -1.02243019, -0.24529804],\n",
              "       [-2.30453498,  0.77783912, -0.1617904 ],\n",
              "       [ 0.18840634, -0.7030959 , -1.84555627],\n",
              "       [-0.6017639 ,  0.69436314, -1.28424728],\n",
              "       [-1.62091693,  1.31110574,  0.58250568],\n",
              "       [-1.24253966,  1.21379932, -0.30510219],\n",
              "       [-1.85316346, -1.52132913,  1.0356915 ],\n",
              "       [-1.432827  , -1.03300861,  0.17636942],\n",
              "       [-1.23380569, -0.7508146 , -1.39957795],\n",
              "       [-1.23790374, -0.33544524,  0.04664924],\n",
              "       [-1.88938655,  1.3606277 ,  0.29791973],\n",
              "       [-1.77769321, -0.27717541, -0.77422089],\n",
              "       [-2.17460795,  1.08012097, -0.1182937 ],\n",
              "       [-0.96116379,  0.08632257, -0.86373654],\n",
              "       [-0.16249927, -0.30702669,  0.4336589 ],\n",
              "       [-1.3067259 , -0.59986499, -0.31688232],\n",
              "       [-2.30478157,  1.15112023,  0.55806226],\n",
              "       [-2.03547619, -0.15339834, -0.45112976],\n",
              "       [-1.60155905,  0.54507271, -0.02847652],\n",
              "       [-2.27818204, -0.25468349, -0.27740139],\n",
              "       [-1.70907375,  0.84945699,  0.03145204],\n",
              "       [-1.61469623,  0.81204166, -0.91639988],\n",
              "       [-2.05669766,  0.44682909,  0.49916218],\n",
              "       [ 0.67763087,  0.30618913,  0.28261353],\n",
              "       [-1.68680911,  0.7969944 ,  0.30387848],\n",
              "       [-0.84487769, -1.50558076, -0.81556203],\n",
              "       [-1.65594736, -0.93379723, -0.65002477],\n",
              "       [-1.3847155 ,  0.09983295, -0.16629891],\n",
              "       [-0.59672113, -0.57317281, -0.30668838],\n",
              "       [-2.55233179,  0.04582843,  0.36580028],\n",
              "       [-2.09513989,  1.34682058,  0.5443537 ],\n",
              "       [-0.50154809,  0.08060111, -0.12176419],\n",
              "       [-0.5900638 , -0.90383917, -0.18471407],\n",
              "       [-2.18164445,  0.96093303,  0.54735456],\n",
              "       [ 0.69736527, -0.03647223,  1.09362435],\n",
              "       [-1.79193677,  0.06107062,  0.08167178],\n",
              "       [-1.25450946,  0.26117604, -0.88036547],\n",
              "       [ 1.59791503, -2.30843108, -0.07231559],\n",
              "       [-0.87450692,  0.00883836, -0.04171725],\n",
              "       [ 0.57764505, -1.4500454 ,  0.85581549],\n",
              "       [ 0.55659765, -0.17978226,  1.65369391],\n",
              "       [ 2.33615428, -1.15946335,  0.76505646],\n",
              "       [ 3.58886779, -0.88886483, -1.00779338],\n",
              "       [ 0.6028767 , -0.92043632,  0.67269511],\n",
              "       [ 0.83730522, -2.1010514 , -0.22220656],\n",
              "       [ 0.58238922, -1.95787292,  0.17677633],\n",
              "       [-1.92359345,  1.03070115, -0.17370791],\n",
              "       [-0.20063058, -0.07507585,  0.55216799],\n",
              "       [-1.32532665, -1.01064409, -0.09446444],\n",
              "       [-0.07061869, -0.74062125,  1.02980161],\n",
              "       [ 0.67633944, -1.20402356,  1.90863478],\n",
              "       [ 2.77913227, -2.61276468, -0.66207559],\n",
              "       [-0.23216573,  0.03082258,  0.51265208],\n",
              "       [ 0.47123161, -1.47927849,  0.51718236],\n",
              "       [ 0.86049976, -2.11948162,  0.12294605],\n",
              "       [-0.58798256, -1.60302144, -0.16277819],\n",
              "       [ 1.49171406, -1.83393998, -0.4489598 ],\n",
              "       [-1.09866413, -1.09125051, -1.00361372],\n",
              "       [ 2.9697911 ,  1.57408707, -0.39821709],\n",
              "       [ 3.41084212,  1.60799411,  0.0223154 ],\n",
              "       [ 2.937484  ,  0.32839585, -1.50237985],\n",
              "       [ 4.3379684 ,  0.91464334, -0.06424242],\n",
              "       [ 3.5738053 ,  1.11374747,  0.29805562],\n",
              "       [ 3.89084877,  1.66284912,  0.02019506],\n",
              "       [ 1.77996773,  0.21752238, -1.43675494],\n",
              "       [ 2.52759076,  0.70527989,  0.07005025],\n",
              "       [ 2.40967319,  1.23415068, -0.64207904],\n",
              "       [ 2.31595468, -0.07941673, -1.82879889],\n",
              "       [ 3.56686645,  0.9855831 ,  0.9796975 ],\n",
              "       [ 4.68118466,  1.12114729,  0.16837132],\n",
              "       [ 0.96476509,  0.80988266, -1.40059529],\n",
              "       [ 1.68021344,  0.61380229, -0.5054014 ],\n",
              "       [ 3.62313825,  1.94695009,  0.06591394],\n",
              "       [ 0.11326771, -0.63183271, -0.0600404 ],\n",
              "       [ 3.14697728,  2.37072366,  0.35539274],\n",
              "       [ 2.76861258,  0.86539133, -0.78109043],\n",
              "       [-0.09576752, -0.83593155,  1.36405118],\n",
              "       [-0.35964434, -0.80422621,  0.31641547],\n",
              "       [-1.53880484, -0.03635026,  1.063316  ],\n",
              "       [-1.37080837, -0.06999367,  0.70090623],\n",
              "       [-1.66349067,  1.78912893, -0.57203836],\n",
              "       [-1.27028437, -0.41118141,  0.45070237],\n",
              "       [ 0.90709006,  1.0061279 ,  0.56674038],\n",
              "       [ 0.76762312, -1.04490244,  1.05606575],\n",
              "       [-0.35103865, -0.45736702,  1.17255042],\n",
              "       [ 1.28683884, -1.5482625 ,  0.70144681],\n",
              "       [ 1.1308084 ,  1.34826293,  0.15873876],\n",
              "       [-0.90384475,  0.30494121,  0.23433086],\n",
              "       [ 0.24085688, -1.80494569, -0.43975663],\n",
              "       [ 1.62641264,  0.47869657,  0.91390166],\n",
              "       [-0.01669912, -0.78125251,  0.57872724],\n",
              "       [ 0.52581474, -1.19492202,  0.11760025],\n",
              "       [ 1.35795335,  0.27090266,  1.41568063],\n",
              "       [-0.70410483, -0.62988051,  0.08559986],\n",
              "       [-0.11404205,  0.05111249,  1.31524818],\n",
              "       [ 0.39559222, -0.56256877,  0.90000178],\n",
              "       [ 0.858957  ,  2.75154253,  0.35677469],\n",
              "       [ 1.82005328,  0.1476238 ,  0.29345696],\n",
              "       [-0.8024648 , -0.29875773, -0.85564224],\n",
              "       [-0.99726896,  0.44928031, -0.4461761 ]])"
            ]
          },
          "metadata": {
            "tags": []
          },
          "execution_count": 115
        }
      ]
    },
    {
      "cell_type": "code",
      "metadata": {
        "id": "gZlGs1n6C3UG",
        "outputId": "b8620c78-32c4-4315-99d8-d19edc3b399e",
        "colab": {
          "base_uri": "https://localhost:8080/",
          "height": 34
        }
      },
      "source": [
        "print(estimator.explained_variance_ratio_) "
      ],
      "execution_count": 116,
      "outputs": [
        {
          "output_type": "stream",
          "text": [
            "[0.52737763 0.22211364 0.09310427]\n"
          ],
          "name": "stdout"
        }
      ]
    },
    {
      "cell_type": "markdown",
      "metadata": {
        "id": "SkbUJiNWM10A"
      },
      "source": [
        "# K-MEANS"
      ]
    },
    {
      "cell_type": "code",
      "metadata": {
        "id": "xkgHIhiHGo17"
      },
      "source": [
        "#k-means\n",
        "\n",
        "# parameters\n",
        "init = 'random' # initialization method \n",
        "\n",
        "# to run 10 times with different random centroids \n",
        "# to choose the final model as the one with the lowest SSE\n",
        "iterations = 10\n",
        "\n",
        "# maximum number of iterations for each single run\n",
        "max_iter = 300 \n",
        "\n",
        "# controls the tolerance with regard to the changes in the \n",
        "# within-cluster sum-squared-error to declare convergence\n",
        "\n",
        "tol = 1e-04 \n",
        "\n",
        " # random seed\n",
        "random_state = 0"
      ],
      "execution_count": 127,
      "outputs": []
    },
    {
      "cell_type": "code",
      "metadata": {
        "id": "a9ske2EbGw5K"
      },
      "source": [
        "from sklearn.cluster import KMeans\n",
        "from sklearn import metrics\n",
        "\n",
        "distortions = []\n",
        "silhouettes = []\n",
        "\n",
        "for i in range(2, 11):\n",
        "    km = KMeans(i, init, n_init = iterations ,max_iter= max_iter, tol = tol,random_state = random_state)\n",
        "    labels = km.fit_predict(X_pca)\n",
        "    distortions.append(km.inertia_)\n",
        "    silhouettes.append(metrics.silhouette_score(X_pca, labels))"
      ],
      "execution_count": 128,
      "outputs": []
    },
    {
      "cell_type": "code",
      "metadata": {
        "id": "HZpID41cG8aZ",
        "outputId": "9f21e6f8-c525-40b4-fc07-6fbe91c4f76f",
        "colab": {
          "base_uri": "https://localhost:8080/",
          "height": 279
        }
      },
      "source": [
        "plt.plot(range(2,11), distortions, marker='o')\n",
        "plt.xlabel('K')\n",
        "plt.ylabel('Distortion')\n",
        "plt.show()"
      ],
      "execution_count": 129,
      "outputs": [
        {
          "output_type": "display_data",
          "data": {
            "image/png": "[encoded data removed]",
            "text/plain": [
              "<Figure size 432x288 with 1 Axes>"
            ]
          },
          "metadata": {
            "tags": [],
            "needs_background": "light"
          }
        }
      ]
    },
    {
      "cell_type": "code",
      "metadata": {
        "id": "YD2Bbu86HIsO",
        "outputId": "5e97ccf1-c30c-4244-e575-a1df94ad43b7",
        "colab": {
          "base_uri": "https://localhost:8080/",
          "height": 279
        }
      },
      "source": [
        "plt.plot(range(2,11), silhouettes , marker='o')\n",
        "plt.xlabel('K')\n",
        "plt.ylabel('Silohouette')\n",
        "plt.show()"
      ],
      "execution_count": 130,
      "outputs": [
        {
          "output_type": "display_data",
          "data": {
            "image/png": "[encoded data removed]",
            "text/plain": [
              "<Figure size 432x288 with 1 Axes>"
            ]
          },
          "metadata": {
            "tags": [],
            "needs_background": "light"
          }
        }
      ]
    },
    {
      "cell_type": "code",
      "metadata": {
        "id": "N9p_DjJBHMDA"
      },
      "source": [
        "k = 4\n",
        "\n",
        "km = KMeans(k, init, n_init = iterations ,\n",
        "            max_iter= max_iter, tol = tol, random_state = random_state)\n",
        "\n",
        "y_km = km.fit_predict(X_pca)"
      ],
      "execution_count": 150,
      "outputs": []
    },
    {
      "cell_type": "code",
      "metadata": {
        "id": "ixFCgCaJHVP-",
        "outputId": "d4d846df-88b4-4a48-810f-6fa88209a570",
        "colab": {
          "base_uri": "https://localhost:8080/",
          "height": 50
        }
      },
      "source": [
        "from sklearn import metrics\n",
        "print(\"Silhouette Coefficient: %0.3f\"\n",
        "      % metrics.silhouette_score(datanorm, y_km))\n",
        "      \n",
        "print('Distortion: %.2f' % km.inertia_)"
      ],
      "execution_count": 151,
      "outputs": [
        {
          "output_type": "stream",
          "text": [
            "Silhouette Coefficient: 0.229\n",
            "Distortion: 159.37\n"
          ],
          "name": "stdout"
        }
      ]
    },
    {
      "cell_type": "code",
      "metadata": {
        "id": "Jo_Y5eMTHeaP",
        "outputId": "c36213cd-81b8-4b4f-d672-bc9c32a45531",
        "colab": {
          "base_uri": "https://localhost:8080/",
          "height": 118
        }
      },
      "source": [
        "km.labels_"
      ],
      "execution_count": 152,
      "outputs": [
        {
          "output_type": "execute_result",
          "data": {
            "text/plain": [
              "array([1, 3, 3, 1, 3, 3, 0, 3, 3, 0, 0, 3, 0, 0, 3, 3, 0, 0, 0, 0, 3, 0,\n",
              "       3, 0, 1, 0, 3, 0, 3, 0, 3, 3, 3, 1, 3, 0, 0, 0, 0, 3, 3, 0, 0, 3,\n",
              "       1, 0, 0, 1, 0, 1, 1, 1, 2, 1, 1, 1, 3, 1, 0, 1, 1, 1, 0, 1, 1, 0,\n",
              "       1, 0, 2, 2, 2, 2, 2, 2, 2, 2, 2, 2, 2, 2, 2, 2, 2, 1, 2, 2, 1, 1,\n",
              "       0, 0, 3, 0, 2, 1, 1, 1, 2, 0, 1, 2, 1, 1, 1, 0, 1, 1, 2, 2, 0, 0],\n",
              "      dtype=int32)"
            ]
          },
          "metadata": {
            "tags": []
          },
          "execution_count": 152
        }
      ]
    },
    {
      "cell_type": "code",
      "metadata": {
        "id": "IAzhITySHgPV",
        "outputId": "daa33057-3bf8-4ce3-ec54-3a723aaa894c",
        "colab": {
          "base_uri": "https://localhost:8080/",
          "height": 268
        }
      },
      "source": [
        "#plotting orginal points with color related to label\n",
        "plt.scatter(X_pca[:,0], X_pca[:,1], c=km.labels_,s=50)\n",
        "# plotting centroids\n",
        "plt.scatter(km.cluster_centers_[:,0], km.cluster_centers_[:,1], c='blue',s=50)\n",
        "# \n",
        "plt.grid()\n",
        "plt.show()"
      ],
      "execution_count": 153,
      "outputs": [
        {
          "output_type": "display_data",
          "data": {
            "image/png": "[encoded data removed]",
            "text/plain": [
              "<Figure size 432x288 with 1 Axes>"
            ]
          },
          "metadata": {
            "tags": [],
            "needs_background": "light"
          }
        }
      ]
    },
    {
      "cell_type": "markdown",
      "metadata": {
        "id": "-bvPierhM6_g"
      },
      "source": [
        "# Regresion lineal simple"
      ]
    },
    {
      "cell_type": "code",
      "metadata": {
        "id": "TeaZkqJEjw2l"
      },
      "source": [
        "#Regresion lineal\n",
        "import sklearn.linear_model\n",
        "from sklearn.linear_model import LinearRegression\n",
        "import matplotlib as plt\n",
        "\n"
      ],
      "execution_count": 169,
      "outputs": []
    },
    {
      "cell_type": "code",
      "metadata": {
        "id": "kh6323FiVfTy",
        "outputId": "620b19b5-5ca8-4c49-d77f-e59432bb2fa6",
        "colab": {
          "base_uri": "https://localhost:8080/",
          "height": 195
        }
      },
      "source": [
        "#Regresion lineal\n",
        "import sklearn.linear_model\n",
        "from sklearn.linear_model import LinearRegression\n",
        "import matplotlib as plt\n",
        "plt.scatter(datanorm[:,1],datanorm[:,3])\n"
      ],
      "execution_count": 176,
      "outputs": [
        {
          "output_type": "error",
          "ename": "AttributeError",
          "evalue": "ignored",
          "traceback": [
            "\u001b[0;31m---------------------------------------------------------------------------\u001b[0m",
            "\u001b[0;31mAttributeError\u001b[0m                            Traceback (most recent call last)",
            "\u001b[0;32m<ipython-input-176-77609c19d2a8>\u001b[0m in \u001b[0;36m<module>\u001b[0;34m()\u001b[0m\n\u001b[1;32m      3\u001b[0m \u001b[0;32mfrom\u001b[0m \u001b[0msklearn\u001b[0m\u001b[0;34m.\u001b[0m\u001b[0mlinear_model\u001b[0m \u001b[0;32mimport\u001b[0m \u001b[0mLinearRegression\u001b[0m\u001b[0;34m\u001b[0m\u001b[0;34m\u001b[0m\u001b[0m\n\u001b[1;32m      4\u001b[0m \u001b[0;32mimport\u001b[0m \u001b[0mmatplotlib\u001b[0m \u001b[0;32mas\u001b[0m \u001b[0mplt\u001b[0m\u001b[0;34m\u001b[0m\u001b[0;34m\u001b[0m\u001b[0m\n\u001b[0;32m----> 5\u001b[0;31m \u001b[0mplt\u001b[0m\u001b[0;34m.\u001b[0m\u001b[0mscatter\u001b[0m\u001b[0;34m(\u001b[0m\u001b[0mdatanorm\u001b[0m\u001b[0;34m[\u001b[0m\u001b[0;34m:\u001b[0m\u001b[0;34m,\u001b[0m\u001b[0;36m1\u001b[0m\u001b[0;34m]\u001b[0m\u001b[0;34m,\u001b[0m\u001b[0mdatanorm\u001b[0m\u001b[0;34m[\u001b[0m\u001b[0;34m:\u001b[0m\u001b[0;34m,\u001b[0m\u001b[0;36m3\u001b[0m\u001b[0;34m]\u001b[0m\u001b[0;34m)\u001b[0m\u001b[0;34m\u001b[0m\u001b[0;34m\u001b[0m\u001b[0m\n\u001b[0m",
            "\u001b[0;31mAttributeError\u001b[0m: module 'matplotlib' has no attribute 'scatter'"
          ]
        }
      ]
    },
    {
      "cell_type": "code",
      "metadata": {
        "id": "_EUSos2nppN3",
        "outputId": "e1971ff9-1a1c-45e4-fda7-8b5189433f93",
        "colab": {
          "base_uri": "https://localhost:8080/",
          "height": 128
        }
      },
      "source": [
        "plt.scatter(datanorm[:,1],datanorm[:,3]\n",
        "#fig = plt.figure(figsize=(14,14))\n",
        "#plt.plot(df_out2['gdp60'],df_out2['literacy60'])\n",
        "#plt.xlabel('PBI en 1960')\n",
        "#plt.ylabel('personas que saben leer y escribir en 1960')\n"
      ],
      "execution_count": 173,
      "outputs": [
        {
          "output_type": "error",
          "ename": "SyntaxError",
          "evalue": "ignored",
          "traceback": [
            "\u001b[0;36m  File \u001b[0;32m\"<ipython-input-173-f9199e25d802>\"\u001b[0;36m, line \u001b[0;32m7\u001b[0m\n\u001b[0;31m    #plt.ylabel('personas que saben leer y escribir en 1960')\u001b[0m\n\u001b[0m                                                             ^\u001b[0m\n\u001b[0;31mSyntaxError\u001b[0m\u001b[0;31m:\u001b[0m unexpected EOF while parsing\n"
          ]
        }
      ]
    },
    {
      "cell_type": "code",
      "metadata": {
        "id": "Dy-_gov0p_vc"
      },
      "source": [
        "x=df_out2['gdp60'].values.reshape(-1,1)\n",
        "y=df_out2['literacy60'].values.reshape(-1,1)\n",
        "linear_regressor=LinearRegression()\n",
        "linear_regressor.fit(x,y)\n",
        "x_pred=linear_regressor.predict(x)\n",
        "print(x_pred)"
      ],
      "execution_count": null,
      "outputs": []
    },
    {
      "cell_type": "code",
      "metadata": {
        "id": "vdZjpVv4sGc3"
      },
      "source": [
        "#ecuacion\n",
        "import matplotlib.pyplot as plt\n",
        "\n",
        "m = linear_regressor.coef_[0][0]\n",
        "c = linear_regressor.intercept_[0]\n",
        "label = r'$y = %0.4f*x  %+0.4f$'%(m,c)\n",
        "print(label)"
      ],
      "execution_count": null,
      "outputs": []
    }
  ]
}