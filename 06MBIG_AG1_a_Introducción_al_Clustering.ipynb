{
  "nbformat": 4,
  "nbformat_minor": 0,
  "metadata": {
    "colab": {
      "name": "06MBIG - AG1 - a - Introducción al Clustering.ipynb",
      "provenance": [],
      "collapsed_sections": [],
      "include_colab_link": true
    },
    "kernelspec": {
      "name": "python3",
      "display_name": "Python 3"
    }
  },
  "cells": [
    {
      "cell_type": "markdown",
      "metadata": {
        "id": "view-in-github",
        "colab_type": "text"
      },
      "source": [
        "<a href=\"https://colab.research.google.com/github/victoriamaccari/proyecto/blob/master/06MBIG_AG1_a_Introduccio%CC%81n_al_Clustering.ipynb\" target=\"_parent\"><img src=\"https://colab.research.google.com/assets/colab-badge.svg\" alt=\"Open In Colab\"/></a>"
      ]
    },
    {
      "cell_type": "markdown",
      "metadata": {
        "id": "Ti5Wnz3cgkRD"
      },
      "source": [
        "#  Introducción al Clustering"
      ]
    },
    {
      "cell_type": "markdown",
      "metadata": {
        "id": "3wbjJ1PrhsIJ"
      },
      "source": [
        "Como problema de partida de ejemplo de como aplicar diferentes algoritmos de clustering vamos a utilizar unos datos del Producto Interior Bruto de los Estados de Estados Unidos en 2009. Los datos están en [Enlace](https://drive.google.com/open?id=1Rb_7eNacmktJM3RqETQmSLysXYjk5EDG)"
      ]
    },
    {
      "cell_type": "markdown",
      "metadata": {
        "id": "g45HwKwiuUvB"
      },
      "source": [
        "# Preproceso Básico"
      ]
    },
    {
      "cell_type": "markdown",
      "metadata": {
        "id": "EqpW7cG5n4HB"
      },
      "source": [
        "Antes de empezar cualquier análisis hay que asegurar que las librerías básicas y de uso general (numpy, pandas, etc.) están correctamente importadas. "
      ]
    },
    {
      "cell_type": "markdown",
      "metadata": {
        "id": "Gu5L38kVoJsN"
      },
      "source": [
        "También asegurarse de que dentro del entorno están las librerías actualizadas lo cual puede ser imprescindible en algunos momentos, como en este caso sucede con la librería de visualización *seaborn*"
      ]
    },
    {
      "cell_type": "code",
      "metadata": {
        "id": "QmoGAR-EY0WF",
        "outputId": "49cc71ba-0b0b-44cd-d897-10787504cda3",
        "colab": {
          "base_uri": "https://localhost:8080/",
          "height": 319
        }
      },
      "source": [
        "!pip install seaborn --upgrade"
      ],
      "execution_count": 3,
      "outputs": [
        {
          "output_type": "stream",
          "text": [
            "Collecting seaborn\n",
            "\u001b[?25l  Downloading https://files.pythonhosted.org/packages/bc/45/5118a05b0d61173e6eb12bc5804f0fbb6f196adb0a20e0b16efc2b8e98be/seaborn-0.11.0-py3-none-any.whl (283kB)\n",
            "\u001b[K     |████████████████████████████████| 286kB 324kB/s \n",
            "\u001b[?25hRequirement already satisfied, skipping upgrade: pandas>=0.23 in /usr/local/lib/python3.6/dist-packages (from seaborn) (1.0.5)\n",
            "Requirement already satisfied, skipping upgrade: matplotlib>=2.2 in /usr/local/lib/python3.6/dist-packages (from seaborn) (3.2.2)\n",
            "Requirement already satisfied, skipping upgrade: scipy>=1.0 in /usr/local/lib/python3.6/dist-packages (from seaborn) (1.4.1)\n",
            "Requirement already satisfied, skipping upgrade: numpy>=1.15 in /usr/local/lib/python3.6/dist-packages (from seaborn) (1.18.5)\n",
            "Requirement already satisfied, skipping upgrade: pytz>=2017.2 in /usr/local/lib/python3.6/dist-packages (from pandas>=0.23->seaborn) (2018.9)\n",
            "Requirement already satisfied, skipping upgrade: python-dateutil>=2.6.1 in /usr/local/lib/python3.6/dist-packages (from pandas>=0.23->seaborn) (2.8.1)\n",
            "Requirement already satisfied, skipping upgrade: cycler>=0.10 in /usr/local/lib/python3.6/dist-packages (from matplotlib>=2.2->seaborn) (0.10.0)\n",
            "Requirement already satisfied, skipping upgrade: pyparsing!=2.0.4,!=2.1.2,!=2.1.6,>=2.0.1 in /usr/local/lib/python3.6/dist-packages (from matplotlib>=2.2->seaborn) (2.4.7)\n",
            "Requirement already satisfied, skipping upgrade: kiwisolver>=1.0.1 in /usr/local/lib/python3.6/dist-packages (from matplotlib>=2.2->seaborn) (1.2.0)\n",
            "Requirement already satisfied, skipping upgrade: six>=1.5 in /usr/local/lib/python3.6/dist-packages (from python-dateutil>=2.6.1->pandas>=0.23->seaborn) (1.15.0)\n",
            "Installing collected packages: seaborn\n",
            "  Found existing installation: seaborn 0.10.1\n",
            "    Uninstalling seaborn-0.10.1:\n",
            "      Successfully uninstalled seaborn-0.10.1\n",
            "Successfully installed seaborn-0.11.0\n"
          ],
          "name": "stdout"
        }
      ]
    },
    {
      "cell_type": "code",
      "metadata": {
        "id": "QcqAjsMIKluO"
      },
      "source": [
        "import matplotlib.pyplot as plt\n",
        "import numpy\n",
        "import itertools\n",
        "import seaborn as sns"
      ],
      "execution_count": 4,
      "outputs": []
    },
    {
      "cell_type": "markdown",
      "metadata": {
        "id": "fvxDPxPhheSW"
      },
      "source": [
        "## Carga de Datos"
      ]
    },
    {
      "cell_type": "markdown",
      "metadata": {
        "id": "AygZwiVvg6WE"
      },
      "source": [
        "En primer lugar cargamos los datos dentro del entorno con las funcionalidades que nos permite Google Colab"
      ]
    },
    {
      "cell_type": "code",
      "metadata": {
        "id": "RBK-O9mTgglR",
        "outputId": "be427353-3e1d-44f4-e774-29a2c93f7d6e",
        "colab": {
          "resources": {
            "http://localhost:8080/nbextensions/google.colab/files.js": {
              "data": "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",
              "ok": true,
              "headers": [
                [
                  "content-type",
                  "application/javascript"
                ]
              ],
              "status": 200,
              "status_text": ""
            }
          },
          "base_uri": "https://localhost:8080/",
          "height": 90
        }
      },
      "source": [
        "# 0.1 load data from file\n",
        "from google.colab import files\n",
        "\n",
        "uploaded = files.upload()\n",
        "\n",
        "for fn in uploaded.keys():\n",
        "  print('User uploaded file \"{name}\" with length {length} bytes'.format(\n",
        "      name=fn, length=len(uploaded[fn])))"
      ],
      "execution_count": 45,
      "outputs": [
        {
          "output_type": "display_data",
          "data": {
            "text/html": [
              "\n",
              "     <input type=\"file\" id=\"files-faa15cee-d351-42e0-8aa8-f3bc632c36e0\" name=\"files[]\" multiple disabled\n",
              "        style=\"border:none\" />\n",
              "     <output id=\"result-faa15cee-d351-42e0-8aa8-f3bc632c36e0\">\n",
              "      Upload widget is only available when the cell has been executed in the\n",
              "      current browser session. Please rerun this cell to enable.\n",
              "      </output>\n",
              "      <script src=\"/nbextensions/google.colab/files.js\"></script> "
            ],
            "text/plain": [
              "<IPython.core.display.HTML object>"
            ]
          },
          "metadata": {
            "tags": []
          }
        },
        {
          "output_type": "stream",
          "text": [
            "Saving 2009pivot.csv to 2009pivot (1).csv\n",
            "User uploaded file \"2009pivot.csv\" with length 5329 bytes\n"
          ],
          "name": "stdout"
        }
      ]
    },
    {
      "cell_type": "markdown",
      "metadata": {
        "id": "7jvD1yDjhASV"
      },
      "source": [
        "Posteriormente utilizamos la librería [Pandas](https://pandas.pydata.org/) con el fin de poder manejar los datos en una estructura denominada DataFrame\n"
      ]
    },
    {
      "cell_type": "code",
      "metadata": {
        "id": "4QQ6WZ3qhJLw"
      },
      "source": [
        "# 0.2 load data in DataFrame\n",
        "import pandas as pd\n",
        "import io\n",
        "df = pd.read_csv(io.StringIO(uploaded[fn].decode('utf-8')), index_col='State')\n",
        "\n",
        "\n"
      ],
      "execution_count": 46,
      "outputs": []
    },
    {
      "cell_type": "code",
      "metadata": {
        "id": "AmVjogvpw03t",
        "outputId": "f33bd976-f7af-49f5-ff9c-ae30ecee3340",
        "colab": {
          "base_uri": "https://localhost:8080/",
          "height": 262
        }
      },
      "source": [
        "df.head()"
      ],
      "execution_count": 7,
      "outputs": [
        {
          "output_type": "execute_result",
          "data": {
            "text/html": [
              "<div>\n",
              "<style scoped>\n",
              "    .dataframe tbody tr th:only-of-type {\n",
              "        vertical-align: middle;\n",
              "    }\n",
              "\n",
              "    .dataframe tbody tr th {\n",
              "        vertical-align: top;\n",
              "    }\n",
              "\n",
              "    .dataframe thead th {\n",
              "        text-align: right;\n",
              "    }\n",
              "</style>\n",
              "<table border=\"1\" class=\"dataframe\">\n",
              "  <thead>\n",
              "    <tr style=\"text-align: right;\">\n",
              "      <th></th>\n",
              "      <th>Agriculture</th>\n",
              "      <th>Mining</th>\n",
              "      <th>Utilities</th>\n",
              "      <th>Construction</th>\n",
              "      <th>Manufacturing</th>\n",
              "      <th>Wholesale trade</th>\n",
              "      <th>Retail</th>\n",
              "      <th>Transportation</th>\n",
              "      <th>Information</th>\n",
              "      <th>Finance</th>\n",
              "      <th>Buss. Services</th>\n",
              "      <th>Education</th>\n",
              "      <th>Arts</th>\n",
              "      <th>Oth Serv.</th>\n",
              "      <th>Fed. civ</th>\n",
              "      <th>Fed. military</th>\n",
              "      <th>State.1</th>\n",
              "    </tr>\n",
              "    <tr>\n",
              "      <th>State</th>\n",
              "      <th></th>\n",
              "      <th></th>\n",
              "      <th></th>\n",
              "      <th></th>\n",
              "      <th></th>\n",
              "      <th></th>\n",
              "      <th></th>\n",
              "      <th></th>\n",
              "      <th></th>\n",
              "      <th></th>\n",
              "      <th></th>\n",
              "      <th></th>\n",
              "      <th></th>\n",
              "      <th></th>\n",
              "      <th></th>\n",
              "      <th></th>\n",
              "      <th></th>\n",
              "    </tr>\n",
              "  </thead>\n",
              "  <tbody>\n",
              "    <tr>\n",
              "      <th>Alabama</th>\n",
              "      <td>2040</td>\n",
              "      <td>2982</td>\n",
              "      <td>4965</td>\n",
              "      <td>7866</td>\n",
              "      <td>25444</td>\n",
              "      <td>9712</td>\n",
              "      <td>12287</td>\n",
              "      <td>4471</td>\n",
              "      <td>4244</td>\n",
              "      <td>25185</td>\n",
              "      <td>16090</td>\n",
              "      <td>12957</td>\n",
              "      <td>4826</td>\n",
              "      <td>4694</td>\n",
              "      <td>7174</td>\n",
              "      <td>4367</td>\n",
              "      <td>19746</td>\n",
              "    </tr>\n",
              "    <tr>\n",
              "      <th>Alaska</th>\n",
              "      <td>305</td>\n",
              "      <td>14327</td>\n",
              "      <td>612</td>\n",
              "      <td>2143</td>\n",
              "      <td>1867</td>\n",
              "      <td>1026</td>\n",
              "      <td>1943</td>\n",
              "      <td>4510</td>\n",
              "      <td>948</td>\n",
              "      <td>5416</td>\n",
              "      <td>2884</td>\n",
              "      <td>2757</td>\n",
              "      <td>1273</td>\n",
              "      <td>737</td>\n",
              "      <td>1882</td>\n",
              "      <td>2398</td>\n",
              "      <td>4929</td>\n",
              "    </tr>\n",
              "    <tr>\n",
              "      <th>Arizona</th>\n",
              "      <td>1528</td>\n",
              "      <td>4687</td>\n",
              "      <td>5677</td>\n",
              "      <td>13167</td>\n",
              "      <td>20026</td>\n",
              "      <td>14283</td>\n",
              "      <td>18439</td>\n",
              "      <td>6859</td>\n",
              "      <td>6559</td>\n",
              "      <td>51282</td>\n",
              "      <td>27353</td>\n",
              "      <td>22549</td>\n",
              "      <td>10487</td>\n",
              "      <td>5231</td>\n",
              "      <td>6247</td>\n",
              "      <td>3833</td>\n",
              "      <td>25123</td>\n",
              "    </tr>\n",
              "    <tr>\n",
              "      <th>Arkansas</th>\n",
              "      <td>2537</td>\n",
              "      <td>2249</td>\n",
              "      <td>2467</td>\n",
              "      <td>4266</td>\n",
              "      <td>14010</td>\n",
              "      <td>7257</td>\n",
              "      <td>7070</td>\n",
              "      <td>4120</td>\n",
              "      <td>10864</td>\n",
              "      <td>14879</td>\n",
              "      <td>8641</td>\n",
              "      <td>8432</td>\n",
              "      <td>2797</td>\n",
              "      <td>2283</td>\n",
              "      <td>2326</td>\n",
              "      <td>1148</td>\n",
              "      <td>10494</td>\n",
              "    </tr>\n",
              "    <tr>\n",
              "      <th>California</th>\n",
              "      <td>25439</td>\n",
              "      <td>20279</td>\n",
              "      <td>27999</td>\n",
              "      <td>65707</td>\n",
              "      <td>229479</td>\n",
              "      <td>100603</td>\n",
              "      <td>109363</td>\n",
              "      <td>41864</td>\n",
              "      <td>134655</td>\n",
              "      <td>406685</td>\n",
              "      <td>236025</td>\n",
              "      <td>133118</td>\n",
              "      <td>71649</td>\n",
              "      <td>42069</td>\n",
              "      <td>34009</td>\n",
              "      <td>29132</td>\n",
              "      <td>198300</td>\n",
              "    </tr>\n",
              "  </tbody>\n",
              "</table>\n",
              "</div>"
            ],
            "text/plain": [
              "            Agriculture  Mining  Utilities  ...  Fed. civ  Fed. military  State.1\n",
              "State                                       ...                                  \n",
              "Alabama            2040    2982       4965  ...      7174           4367    19746\n",
              "Alaska              305   14327        612  ...      1882           2398     4929\n",
              "Arizona            1528    4687       5677  ...      6247           3833    25123\n",
              "Arkansas           2537    2249       2467  ...      2326           1148    10494\n",
              "California        25439   20279      27999  ...     34009          29132   198300\n",
              "\n",
              "[5 rows x 17 columns]"
            ]
          },
          "metadata": {
            "tags": []
          },
          "execution_count": 7
        }
      ]
    },
    {
      "cell_type": "code",
      "metadata": {
        "id": "qQPSzBssuy8c",
        "outputId": "c59e78f8-f456-4e5a-f0c3-7b0001c3a013",
        "colab": {
          "base_uri": "https://localhost:8080/",
          "height": 34
        }
      },
      "source": [
        "df.shape"
      ],
      "execution_count": 8,
      "outputs": [
        {
          "output_type": "execute_result",
          "data": {
            "text/plain": [
              "(51, 17)"
            ]
          },
          "metadata": {
            "tags": []
          },
          "execution_count": 8
        }
      ]
    },
    {
      "cell_type": "markdown",
      "metadata": {
        "id": "2IVR7NZrh6Qe"
      },
      "source": [
        "Estos datos contienen para cada uno de los estados (*State*) las diferentes cantidades en producto interior bruto dentro de categorías que denominaríamos de nivel 2 de agregación, es decir, son una desagragción de niveles superiores. De esta forma encontramos datos como el PIB de Agricultura, Minería, Construcción, Comercio, etc. "
      ]
    },
    {
      "cell_type": "markdown",
      "metadata": {
        "id": "dLHVkSQYiaCE"
      },
      "source": [
        "Una vez que contamos con el DataFrame de Pandas podríamos analizar qué características necesitamos y cuales deberíamos excluir. En este caso nos vamos a quedar con todas, aunque no todas sean significativas. "
      ]
    },
    {
      "cell_type": "code",
      "metadata": {
        "id": "-euIWkPTvBHI",
        "outputId": "390d5caf-00f9-4453-c147-d667bfa591e2",
        "colab": {
          "base_uri": "https://localhost:8080/",
          "height": 321
        }
      },
      "source": [
        "df.describe()"
      ],
      "execution_count": 9,
      "outputs": [
        {
          "output_type": "execute_result",
          "data": {
            "text/html": [
              "<div>\n",
              "<style scoped>\n",
              "    .dataframe tbody tr th:only-of-type {\n",
              "        vertical-align: middle;\n",
              "    }\n",
              "\n",
              "    .dataframe tbody tr th {\n",
              "        vertical-align: top;\n",
              "    }\n",
              "\n",
              "    .dataframe thead th {\n",
              "        text-align: right;\n",
              "    }\n",
              "</style>\n",
              "<table border=\"1\" class=\"dataframe\">\n",
              "  <thead>\n",
              "    <tr style=\"text-align: right;\">\n",
              "      <th></th>\n",
              "      <th>Agriculture</th>\n",
              "      <th>Mining</th>\n",
              "      <th>Utilities</th>\n",
              "      <th>Construction</th>\n",
              "      <th>Manufacturing</th>\n",
              "      <th>Wholesale trade</th>\n",
              "      <th>Retail</th>\n",
              "      <th>Transportation</th>\n",
              "      <th>Information</th>\n",
              "      <th>Finance</th>\n",
              "      <th>Buss. Services</th>\n",
              "      <th>Education</th>\n",
              "      <th>Arts</th>\n",
              "      <th>Oth Serv.</th>\n",
              "      <th>Fed. civ</th>\n",
              "      <th>Fed. military</th>\n",
              "      <th>State.1</th>\n",
              "    </tr>\n",
              "  </thead>\n",
              "  <tbody>\n",
              "    <tr>\n",
              "      <th>count</th>\n",
              "      <td>51.000000</td>\n",
              "      <td>51.000000</td>\n",
              "      <td>51.000000</td>\n",
              "      <td>51.000000</td>\n",
              "      <td>51.000000</td>\n",
              "      <td>51.000000</td>\n",
              "      <td>51.000000</td>\n",
              "      <td>51.000000</td>\n",
              "      <td>51.000000</td>\n",
              "      <td>51.000000</td>\n",
              "      <td>51.000000</td>\n",
              "      <td>51.000000</td>\n",
              "      <td>51.000000</td>\n",
              "      <td>51.000000</td>\n",
              "      <td>51.000000</td>\n",
              "      <td>51.000000</td>\n",
              "      <td>51.000000</td>\n",
              "    </tr>\n",
              "    <tr>\n",
              "      <th>mean</th>\n",
              "      <td>2700.352941</td>\n",
              "      <td>5706.470588</td>\n",
              "      <td>4975.313725</td>\n",
              "      <td>11326.235294</td>\n",
              "      <td>33698.843137</td>\n",
              "      <td>16146.372549</td>\n",
              "      <td>16544.431373</td>\n",
              "      <td>7843.843137</td>\n",
              "      <td>13754.039216</td>\n",
              "      <td>56377.196078</td>\n",
              "      <td>32565.960784</td>\n",
              "      <td>23840.411765</td>\n",
              "      <td>10249.745098</td>\n",
              "      <td>6470.568627</td>\n",
              "      <td>7009.725490</td>\n",
              "      <td>4245.803922</td>\n",
              "      <td>27486.098039</td>\n",
              "    </tr>\n",
              "    <tr>\n",
              "      <th>std</th>\n",
              "      <td>3728.896351</td>\n",
              "      <td>17096.508704</td>\n",
              "      <td>5760.583295</td>\n",
              "      <td>13309.872157</td>\n",
              "      <td>40664.412183</td>\n",
              "      <td>19916.163919</td>\n",
              "      <td>19417.765799</td>\n",
              "      <td>8626.324191</td>\n",
              "      <td>23554.046934</td>\n",
              "      <td>76085.532691</td>\n",
              "      <td>42688.455034</td>\n",
              "      <td>26831.178257</td>\n",
              "      <td>12890.622810</td>\n",
              "      <td>7602.230855</td>\n",
              "      <td>7857.742648</td>\n",
              "      <td>5385.454870</td>\n",
              "      <td>34149.245830</td>\n",
              "    </tr>\n",
              "    <tr>\n",
              "      <th>min</th>\n",
              "      <td>2.000000</td>\n",
              "      <td>0.000000</td>\n",
              "      <td>596.000000</td>\n",
              "      <td>1011.000000</td>\n",
              "      <td>238.000000</td>\n",
              "      <td>828.000000</td>\n",
              "      <td>1078.000000</td>\n",
              "      <td>325.000000</td>\n",
              "      <td>449.000000</td>\n",
              "      <td>4233.000000</td>\n",
              "      <td>1408.000000</td>\n",
              "      <td>1446.000000</td>\n",
              "      <td>874.000000</td>\n",
              "      <td>591.000000</td>\n",
              "      <td>556.000000</td>\n",
              "      <td>254.000000</td>\n",
              "      <td>2604.000000</td>\n",
              "    </tr>\n",
              "    <tr>\n",
              "      <th>25%</th>\n",
              "      <td>689.500000</td>\n",
              "      <td>305.000000</td>\n",
              "      <td>1401.000000</td>\n",
              "      <td>3293.500000</td>\n",
              "      <td>5997.000000</td>\n",
              "      <td>2947.000000</td>\n",
              "      <td>4536.000000</td>\n",
              "      <td>2390.000000</td>\n",
              "      <td>2071.500000</td>\n",
              "      <td>13013.500000</td>\n",
              "      <td>6408.500000</td>\n",
              "      <td>6814.000000</td>\n",
              "      <td>2514.000000</td>\n",
              "      <td>1736.000000</td>\n",
              "      <td>1973.000000</td>\n",
              "      <td>1079.000000</td>\n",
              "      <td>6810.000000</td>\n",
              "    </tr>\n",
              "    <tr>\n",
              "      <th>50%</th>\n",
              "      <td>1996.000000</td>\n",
              "      <td>1278.000000</td>\n",
              "      <td>3152.000000</td>\n",
              "      <td>7866.000000</td>\n",
              "      <td>24673.000000</td>\n",
              "      <td>9825.000000</td>\n",
              "      <td>11314.000000</td>\n",
              "      <td>4730.000000</td>\n",
              "      <td>5768.000000</td>\n",
              "      <td>27333.000000</td>\n",
              "      <td>16090.000000</td>\n",
              "      <td>14135.000000</td>\n",
              "      <td>5781.000000</td>\n",
              "      <td>4473.000000</td>\n",
              "      <td>3898.000000</td>\n",
              "      <td>2655.000000</td>\n",
              "      <td>18668.000000</td>\n",
              "    </tr>\n",
              "    <tr>\n",
              "      <th>75%</th>\n",
              "      <td>3306.000000</td>\n",
              "      <td>4022.500000</td>\n",
              "      <td>5752.500000</td>\n",
              "      <td>13667.500000</td>\n",
              "      <td>45200.000000</td>\n",
              "      <td>18286.000000</td>\n",
              "      <td>19836.500000</td>\n",
              "      <td>8737.000000</td>\n",
              "      <td>14827.000000</td>\n",
              "      <td>67945.500000</td>\n",
              "      <td>40891.500000</td>\n",
              "      <td>27377.500000</td>\n",
              "      <td>12298.000000</td>\n",
              "      <td>7505.000000</td>\n",
              "      <td>7787.500000</td>\n",
              "      <td>4494.500000</td>\n",
              "      <td>32707.500000</td>\n",
              "    </tr>\n",
              "    <tr>\n",
              "      <th>max</th>\n",
              "      <td>25439.000000</td>\n",
              "      <td>119695.000000</td>\n",
              "      <td>27999.000000</td>\n",
              "      <td>65707.000000</td>\n",
              "      <td>229479.000000</td>\n",
              "      <td>100603.000000</td>\n",
              "      <td>109363.000000</td>\n",
              "      <td>41864.000000</td>\n",
              "      <td>134655.000000</td>\n",
              "      <td>406685.000000</td>\n",
              "      <td>236025.000000</td>\n",
              "      <td>133118.000000</td>\n",
              "      <td>71649.000000</td>\n",
              "      <td>42069.000000</td>\n",
              "      <td>34009.000000</td>\n",
              "      <td>29132.000000</td>\n",
              "      <td>198300.000000</td>\n",
              "    </tr>\n",
              "  </tbody>\n",
              "</table>\n",
              "</div>"
            ],
            "text/plain": [
              "        Agriculture         Mining  ...  Fed. military        State.1\n",
              "count     51.000000      51.000000  ...      51.000000      51.000000\n",
              "mean    2700.352941    5706.470588  ...    4245.803922   27486.098039\n",
              "std     3728.896351   17096.508704  ...    5385.454870   34149.245830\n",
              "min        2.000000       0.000000  ...     254.000000    2604.000000\n",
              "25%      689.500000     305.000000  ...    1079.000000    6810.000000\n",
              "50%     1996.000000    1278.000000  ...    2655.000000   18668.000000\n",
              "75%     3306.000000    4022.500000  ...    4494.500000   32707.500000\n",
              "max    25439.000000  119695.000000  ...   29132.000000  198300.000000\n",
              "\n",
              "[8 rows x 17 columns]"
            ]
          },
          "metadata": {
            "tags": []
          },
          "execution_count": 9
        }
      ]
    },
    {
      "cell_type": "markdown",
      "metadata": {
        "id": "zKcv9pU2jn7f"
      },
      "source": [
        "## Transformaciones previas\n",
        "\n",
        "Como consideración previa necesitamos transformar los datos a una misma escala, por ejemplo [0,1]. Esto es así porque diferentes items de nuestras características pueden tener ordenes de dimensión diferentes. Este proceso no siempre es necesario sobre todo si nos encontramos con variables que ya están en esa esa escala. \n",
        "\n",
        "En este caso vamos a optar por utilizar la operación [MinMaxScaler](http://scikit-learn.org/stable/modules/generated/sklearn.preprocessing.MinMaxScaler.html), que pretende transformar a una escala con mínimo = 0 y máximo = 1. Esto puede generar cierta distorsión en los datos pero que puede ser conveniente para conseguir mejores resultados de clustering.  Otras opciones para reducir esta distorsión sería utilizar [MaxAbsScaler](http://scikit-learn.org/stable/modules/generated/sklearn.preprocessing.MaxAbsScaler.html#sklearn.preprocessing.MaxAbsScaler)"
      ]
    },
    {
      "cell_type": "code",
      "metadata": {
        "id": "EckMdIGeknVF"
      },
      "source": [
        "from sklearn import preprocessing \n",
        "min_max_scaler = preprocessing.MinMaxScaler()\n",
        "datanorm = min_max_scaler.fit_transform(df)\n"
      ],
      "execution_count": 10,
      "outputs": []
    },
    {
      "cell_type": "markdown",
      "metadata": {
        "id": "wiREP_-RjP2Z"
      },
      "source": [
        "# Análisis de Componentes Principales\n",
        "\n",
        "El análisis de componentes principales (en español ACP, en inglés, PCA) es una técnica utilizada para reducir la dimensionalidad de un conjunto de datos. Intuitivamente la técnica sirve para hallar las causas de la variabilidad de un conjunto de datos y ordenarlas por importancia. Técnicamente, PCA busca la proyección según la cual los datos queden mejor representados en términos de mínimos cuadrados. PCA se emplea sobre todo en análisis exploratorio de datos y para construir modelos predictivos. "
      ]
    },
    {
      "cell_type": "markdown",
      "metadata": {
        "id": "TtuF5Qsau0-H"
      },
      "source": [
        "PCA comporta el cálculo de la descomposición en autovalores de la matriz de covarianza, normalmente tras centrar los datos en la media de cada atributo.\n",
        "Para ello utilizaremos el procedimiento [StandardScaler](http://scikit-learn.org/stable/modules/generated/sklearn.preprocessing.StandardScaler.html#sklearn.preprocessing.StandardScaler) de scikitlearn"
      ]
    },
    {
      "cell_type": "code",
      "metadata": {
        "id": "O7L2bLfjuz-k"
      },
      "source": [
        "from sklearn import preprocessing \n",
        "scaler = preprocessing.StandardScaler()\n",
        "states = scaler.fit_transform(df)\n"
      ],
      "execution_count": 11,
      "outputs": []
    },
    {
      "cell_type": "markdown",
      "metadata": {
        "id": "b2H8F9WCu_8J"
      },
      "source": [
        "Una de las ventajas del PCA para reducir la dimensionalidad de un grupo de datos, es que retiene aquellas características del conjunto de datos que contribuyen más a su varianza, manteniendo un orden de bajo nivel de los componentes principales e ignorando los de alto nivel. \n",
        "\n",
        "El objetivo es que esos componentes de bajo orden a veces contienen el aspecto “más importante” de esa información \n",
        "\n",
        "En este caso y como nuestro propósito principal es la visualización utilizaremos únicamente **dos componentes principales**"
      ]
    },
    {
      "cell_type": "code",
      "metadata": {
        "id": "0-1RBk2evCk1",
        "outputId": "0caa0ca7-7d43-478e-fc96-0db4bbb034c9",
        "colab": {
          "base_uri": "https://localhost:8080/",
          "height": 874
        }
      },
      "source": [
        "#2. PCA Estimation\n",
        "from sklearn.decomposition import PCA\n",
        "estimator = PCA (n_components = 3)\n",
        "X_pca = estimator.fit_transform(states)\n",
        "X_pca\n"
      ],
      "execution_count": 12,
      "outputs": [
        {
          "output_type": "execute_result",
          "data": {
            "text/plain": [
              "array([[-1.05134764e+00,  8.22905494e-02,  3.24299700e-01],\n",
              "       [-2.59446235e+00,  7.65437182e-01,  2.17971822e-02],\n",
              "       [-3.45407582e-01,  1.03004290e-01,  1.77221419e-02],\n",
              "       [-1.90368809e+00, -6.90461856e-02, -3.34942232e-01],\n",
              "       [ 1.83222236e+01, -2.01329781e+00, -4.95191776e-02],\n",
              "       [-3.32603077e-01,  2.23181745e-01,  2.27181548e-01],\n",
              "       [-1.00003236e+00, -2.65526387e-01, -2.74761917e-01],\n",
              "       [-2.76668238e+00, -1.06467100e-01, -2.33783997e-01],\n",
              "       [-1.59001718e+00, -3.43070170e-01,  2.98359716e+00],\n",
              "       [ 5.57372843e+00, -6.04904120e-01, -7.09751839e-02],\n",
              "       [ 1.69121113e+00, -1.75311403e-01,  4.36565504e-01],\n",
              "       [-2.27747515e+00, -2.54365953e-02,  4.28206799e-01],\n",
              "       [-2.55307313e+00, -1.09392233e-01, -2.87233372e-01],\n",
              "       [ 3.84848832e+00, -3.28861488e-01, -8.21857052e-01],\n",
              "       [-2.35394210e-01, -1.38394582e-02, -6.86109326e-01],\n",
              "       [-1.48383468e+00, -3.36321691e-01, -7.75051151e-01],\n",
              "       [-1.62915817e+00, -1.04368161e-01, -2.48064161e-01],\n",
              "       [-1.24304710e+00,  2.44384972e-01,  1.87803573e-02],\n",
              "       [-7.70723796e-01,  1.11936813e+00, -3.56804105e-01],\n",
              "       [-2.66973421e+00, -8.44749386e-02, -1.70265508e-01],\n",
              "       [ 6.13220391e-01, -3.71413452e-01,  2.75832996e+00],\n",
              "       [ 7.54268351e-01, -5.01987198e-01,  4.06909112e-01],\n",
              "       [ 8.27233605e-01, -2.71139973e-01, -5.97377050e-01],\n",
              "       [-2.88494150e-01, -3.29148620e-01, -6.90502056e-01],\n",
              "       [-2.01022974e+00,  1.46698592e-02, -9.78447626e-02],\n",
              "       [-2.68825793e-01, -2.30793527e-01, -1.61355887e-01],\n",
              "       [-2.75950390e+00,  1.90179137e-02, -2.07061530e-01],\n",
              "       [-1.98961584e+00, -1.86253101e-01, -5.56992974e-01],\n",
              "       [-1.71783660e+00,  1.40439915e-01, -2.82272701e-01],\n",
              "       [-2.59509560e+00, -7.67583367e-02, -1.60695825e-01],\n",
              "       [ 1.89709004e+00, -4.23174096e-01, -6.02400125e-01],\n",
              "       [-2.18612198e+00,  2.32504745e-01,  4.39139443e-01],\n",
              "       [ 8.28179775e+00, -2.02644931e+00, -7.64746109e-01],\n",
              "       [ 1.42458066e+00, -1.58725716e-01,  3.76002039e-01],\n",
              "       [-2.74511409e+00, -6.34318190e-02, -3.42909793e-01],\n",
              "       [ 2.05914211e+00, -1.32105281e-01, -4.32087934e-01],\n",
              "       [-1.47430113e+00,  7.86369358e-01,  5.57420653e-02],\n",
              "       [-1.30922933e+00, -1.75373072e-01, -4.74400324e-01],\n",
              "       [ 3.03882674e+00, -2.70995503e-01, -3.10341673e-01],\n",
              "       [-2.73284509e+00, -7.58871090e-02, -7.45320782e-02],\n",
              "       [-1.28605468e+00, -3.62704754e-02, -4.19282766e-03],\n",
              "       [-2.73120967e+00, -1.84117617e-01, -3.61964804e-01],\n",
              "       [-4.01604915e-01, -7.72591529e-02, -1.80241826e-01],\n",
              "       [ 1.05571452e+01,  6.25563333e+00, -4.28507912e-02],\n",
              "       [-1.94946543e+00,  1.14618197e-01, -4.25693428e-03],\n",
              "       [-2.97407706e+00, -4.80434524e-02, -2.10500103e-01],\n",
              "       [ 1.90089956e+00, -1.64445845e-01,  3.16347084e+00],\n",
              "       [ 9.27384384e-01, -5.37121593e-01,  2.20038689e-01],\n",
              "       [-2.50192546e+00,  3.50784591e-01, -8.75409043e-02],\n",
              "       [-5.36994910e-01, -1.95099727e-01, -6.76802998e-01],\n",
              "       [-2.81201377e+00,  6.64606930e-01, -2.44543342e-01]])"
            ]
          },
          "metadata": {
            "tags": []
          },
          "execution_count": 12
        }
      ]
    },
    {
      "cell_type": "markdown",
      "metadata": {
        "id": "wvTWij-qvJMY"
      },
      "source": [
        "A continuación, se muestra el porcentaje de varianza explicado por cada uno de los componentes seleccionados.\n",
        "\n",
        "En PCA cada componente principal tiene una cierta desviación, que en conjunto suman hasta el 100% de la desviación total.\n",
        "\n",
        "Para cada componente principal, un cociente de su varianza con respecto a la varianza total se denomina \"proporción de varianza explicada\"."
      ]
    },
    {
      "cell_type": "code",
      "metadata": {
        "id": "1r4h8xT4vIkn",
        "outputId": "75982e2e-a18f-45e5-d1b6-a525a871413d",
        "colab": {
          "base_uri": "https://localhost:8080/",
          "height": 34
        }
      },
      "source": [
        "print(estimator.explained_variance_ratio_) "
      ],
      "execution_count": 67,
      "outputs": [
        {
          "output_type": "stream",
          "text": [
            "[0.83500216 0.06087741 0.0386852 ]\n"
          ],
          "name": "stdout"
        }
      ]
    },
    {
      "cell_type": "code",
      "metadata": {
        "id": "ttjzkYzvE4ev"
      },
      "source": [
        ""
      ],
      "execution_count": null,
      "outputs": []
    },
    {
      "cell_type": "code",
      "metadata": {
        "id": "gjWHcHZtzAoq",
        "outputId": "09a426b1-405a-4a2c-f4e6-c46eee574311",
        "colab": {
          "base_uri": "https://localhost:8080/",
          "height": 421
        }
      },
      "source": [
        "pd.DataFrame(numpy.matrix.transpose(estimator.components_), columns=['PC-1', 'PC-2', 'PC-3'], index=df.columns)"
      ],
      "execution_count": 68,
      "outputs": [
        {
          "output_type": "error",
          "ename": "ValueError",
          "evalue": "ignored",
          "traceback": [
            "\u001b[0;31m---------------------------------------------------------------------------\u001b[0m",
            "\u001b[0;31mValueError\u001b[0m                                Traceback (most recent call last)",
            "\u001b[0;32m/usr/local/lib/python3.6/dist-packages/pandas/core/internals/managers.py\u001b[0m in \u001b[0;36mcreate_block_manager_from_blocks\u001b[0;34m(blocks, axes)\u001b[0m\n\u001b[1;32m   1656\u001b[0m \u001b[0;34m\u001b[0m\u001b[0m\n\u001b[0;32m-> 1657\u001b[0;31m         \u001b[0mmgr\u001b[0m \u001b[0;34m=\u001b[0m \u001b[0mBlockManager\u001b[0m\u001b[0;34m(\u001b[0m\u001b[0mblocks\u001b[0m\u001b[0;34m,\u001b[0m \u001b[0maxes\u001b[0m\u001b[0;34m)\u001b[0m\u001b[0;34m\u001b[0m\u001b[0;34m\u001b[0m\u001b[0m\n\u001b[0m\u001b[1;32m   1658\u001b[0m         \u001b[0mmgr\u001b[0m\u001b[0;34m.\u001b[0m\u001b[0m_consolidate_inplace\u001b[0m\u001b[0;34m(\u001b[0m\u001b[0;34m)\u001b[0m\u001b[0;34m\u001b[0m\u001b[0;34m\u001b[0m\u001b[0m\n",
            "\u001b[0;32m/usr/local/lib/python3.6/dist-packages/pandas/core/internals/managers.py\u001b[0m in \u001b[0;36m__init__\u001b[0;34m(self, blocks, axes, do_integrity_check)\u001b[0m\n\u001b[1;32m    138\u001b[0m         \u001b[0;32mif\u001b[0m \u001b[0mdo_integrity_check\u001b[0m\u001b[0;34m:\u001b[0m\u001b[0;34m\u001b[0m\u001b[0;34m\u001b[0m\u001b[0m\n\u001b[0;32m--> 139\u001b[0;31m             \u001b[0mself\u001b[0m\u001b[0;34m.\u001b[0m\u001b[0m_verify_integrity\u001b[0m\u001b[0;34m(\u001b[0m\u001b[0;34m)\u001b[0m\u001b[0;34m\u001b[0m\u001b[0;34m\u001b[0m\u001b[0m\n\u001b[0m\u001b[1;32m    140\u001b[0m \u001b[0;34m\u001b[0m\u001b[0m\n",
            "\u001b[0;32m/usr/local/lib/python3.6/dist-packages/pandas/core/internals/managers.py\u001b[0m in \u001b[0;36m_verify_integrity\u001b[0;34m(self)\u001b[0m\n\u001b[1;32m    333\u001b[0m             \u001b[0;32mif\u001b[0m \u001b[0mblock\u001b[0m\u001b[0;34m.\u001b[0m\u001b[0m_verify_integrity\u001b[0m \u001b[0;32mand\u001b[0m \u001b[0mblock\u001b[0m\u001b[0;34m.\u001b[0m\u001b[0mshape\u001b[0m\u001b[0;34m[\u001b[0m\u001b[0;36m1\u001b[0m\u001b[0;34m:\u001b[0m\u001b[0;34m]\u001b[0m \u001b[0;34m!=\u001b[0m \u001b[0mmgr_shape\u001b[0m\u001b[0;34m[\u001b[0m\u001b[0;36m1\u001b[0m\u001b[0;34m:\u001b[0m\u001b[0;34m]\u001b[0m\u001b[0;34m:\u001b[0m\u001b[0;34m\u001b[0m\u001b[0;34m\u001b[0m\u001b[0m\n\u001b[0;32m--> 334\u001b[0;31m                 \u001b[0mconstruction_error\u001b[0m\u001b[0;34m(\u001b[0m\u001b[0mtot_items\u001b[0m\u001b[0;34m,\u001b[0m \u001b[0mblock\u001b[0m\u001b[0;34m.\u001b[0m\u001b[0mshape\u001b[0m\u001b[0;34m[\u001b[0m\u001b[0;36m1\u001b[0m\u001b[0;34m:\u001b[0m\u001b[0;34m]\u001b[0m\u001b[0;34m,\u001b[0m \u001b[0mself\u001b[0m\u001b[0;34m.\u001b[0m\u001b[0maxes\u001b[0m\u001b[0;34m)\u001b[0m\u001b[0;34m\u001b[0m\u001b[0;34m\u001b[0m\u001b[0m\n\u001b[0m\u001b[1;32m    335\u001b[0m         \u001b[0;32mif\u001b[0m \u001b[0mlen\u001b[0m\u001b[0;34m(\u001b[0m\u001b[0mself\u001b[0m\u001b[0;34m.\u001b[0m\u001b[0mitems\u001b[0m\u001b[0;34m)\u001b[0m \u001b[0;34m!=\u001b[0m \u001b[0mtot_items\u001b[0m\u001b[0;34m:\u001b[0m\u001b[0;34m\u001b[0m\u001b[0;34m\u001b[0m\u001b[0m\n",
            "\u001b[0;32m/usr/local/lib/python3.6/dist-packages/pandas/core/internals/managers.py\u001b[0m in \u001b[0;36mconstruction_error\u001b[0;34m(tot_items, block_shape, axes, e)\u001b[0m\n\u001b[1;32m   1693\u001b[0m         \u001b[0;32mraise\u001b[0m \u001b[0mValueError\u001b[0m\u001b[0;34m(\u001b[0m\u001b[0;34m\"Empty data passed with indices specified.\"\u001b[0m\u001b[0;34m)\u001b[0m\u001b[0;34m\u001b[0m\u001b[0;34m\u001b[0m\u001b[0m\n\u001b[0;32m-> 1694\u001b[0;31m     \u001b[0;32mraise\u001b[0m \u001b[0mValueError\u001b[0m\u001b[0;34m(\u001b[0m\u001b[0;34mf\"Shape of passed values is {passed}, indices imply {implied}\"\u001b[0m\u001b[0;34m)\u001b[0m\u001b[0;34m\u001b[0m\u001b[0;34m\u001b[0m\u001b[0m\n\u001b[0m\u001b[1;32m   1695\u001b[0m \u001b[0;34m\u001b[0m\u001b[0m\n",
            "\u001b[0;31mValueError\u001b[0m: Shape of passed values is (17, 3), indices imply (18, 3)",
            "\nDuring handling of the above exception, another exception occurred:\n",
            "\u001b[0;31mValueError\u001b[0m                                Traceback (most recent call last)",
            "\u001b[0;32m<ipython-input-68-60b12588b9c5>\u001b[0m in \u001b[0;36m<module>\u001b[0;34m()\u001b[0m\n\u001b[0;32m----> 1\u001b[0;31m \u001b[0mpd\u001b[0m\u001b[0;34m.\u001b[0m\u001b[0mDataFrame\u001b[0m\u001b[0;34m(\u001b[0m\u001b[0mnumpy\u001b[0m\u001b[0;34m.\u001b[0m\u001b[0mmatrix\u001b[0m\u001b[0;34m.\u001b[0m\u001b[0mtranspose\u001b[0m\u001b[0;34m(\u001b[0m\u001b[0mestimator\u001b[0m\u001b[0;34m.\u001b[0m\u001b[0mcomponents_\u001b[0m\u001b[0;34m)\u001b[0m\u001b[0;34m,\u001b[0m \u001b[0mcolumns\u001b[0m\u001b[0;34m=\u001b[0m\u001b[0;34m[\u001b[0m\u001b[0;34m'PC-1'\u001b[0m\u001b[0;34m,\u001b[0m \u001b[0;34m'PC-2'\u001b[0m\u001b[0;34m,\u001b[0m \u001b[0;34m'PC-3'\u001b[0m\u001b[0;34m]\u001b[0m\u001b[0;34m,\u001b[0m \u001b[0mindex\u001b[0m\u001b[0;34m=\u001b[0m\u001b[0mdf\u001b[0m\u001b[0;34m.\u001b[0m\u001b[0mcolumns\u001b[0m\u001b[0;34m)\u001b[0m\u001b[0;34m\u001b[0m\u001b[0;34m\u001b[0m\u001b[0m\n\u001b[0m",
            "\u001b[0;32m/usr/local/lib/python3.6/dist-packages/pandas/core/frame.py\u001b[0m in \u001b[0;36m__init__\u001b[0;34m(self, data, index, columns, dtype, copy)\u001b[0m\n\u001b[1;32m    462\u001b[0m                 \u001b[0mmgr\u001b[0m \u001b[0;34m=\u001b[0m \u001b[0minit_dict\u001b[0m\u001b[0;34m(\u001b[0m\u001b[0;34m{\u001b[0m\u001b[0mdata\u001b[0m\u001b[0;34m.\u001b[0m\u001b[0mname\u001b[0m\u001b[0;34m:\u001b[0m \u001b[0mdata\u001b[0m\u001b[0;34m}\u001b[0m\u001b[0;34m,\u001b[0m \u001b[0mindex\u001b[0m\u001b[0;34m,\u001b[0m \u001b[0mcolumns\u001b[0m\u001b[0;34m,\u001b[0m \u001b[0mdtype\u001b[0m\u001b[0;34m=\u001b[0m\u001b[0mdtype\u001b[0m\u001b[0;34m)\u001b[0m\u001b[0;34m\u001b[0m\u001b[0;34m\u001b[0m\u001b[0m\n\u001b[1;32m    463\u001b[0m             \u001b[0;32melse\u001b[0m\u001b[0;34m:\u001b[0m\u001b[0;34m\u001b[0m\u001b[0;34m\u001b[0m\u001b[0m\n\u001b[0;32m--> 464\u001b[0;31m                 \u001b[0mmgr\u001b[0m \u001b[0;34m=\u001b[0m \u001b[0minit_ndarray\u001b[0m\u001b[0;34m(\u001b[0m\u001b[0mdata\u001b[0m\u001b[0;34m,\u001b[0m \u001b[0mindex\u001b[0m\u001b[0;34m,\u001b[0m \u001b[0mcolumns\u001b[0m\u001b[0;34m,\u001b[0m \u001b[0mdtype\u001b[0m\u001b[0;34m=\u001b[0m\u001b[0mdtype\u001b[0m\u001b[0;34m,\u001b[0m \u001b[0mcopy\u001b[0m\u001b[0;34m=\u001b[0m\u001b[0mcopy\u001b[0m\u001b[0;34m)\u001b[0m\u001b[0;34m\u001b[0m\u001b[0;34m\u001b[0m\u001b[0m\n\u001b[0m\u001b[1;32m    465\u001b[0m \u001b[0;34m\u001b[0m\u001b[0m\n\u001b[1;32m    466\u001b[0m         \u001b[0;31m# For data is list-like, or Iterable (will consume into list)\u001b[0m\u001b[0;34m\u001b[0m\u001b[0;34m\u001b[0m\u001b[0;34m\u001b[0m\u001b[0m\n",
            "\u001b[0;32m/usr/local/lib/python3.6/dist-packages/pandas/core/internals/construction.py\u001b[0m in \u001b[0;36minit_ndarray\u001b[0;34m(values, index, columns, dtype, copy)\u001b[0m\n\u001b[1;32m    208\u001b[0m         \u001b[0mblock_values\u001b[0m \u001b[0;34m=\u001b[0m \u001b[0;34m[\u001b[0m\u001b[0mvalues\u001b[0m\u001b[0;34m]\u001b[0m\u001b[0;34m\u001b[0m\u001b[0;34m\u001b[0m\u001b[0m\n\u001b[1;32m    209\u001b[0m \u001b[0;34m\u001b[0m\u001b[0m\n\u001b[0;32m--> 210\u001b[0;31m     \u001b[0;32mreturn\u001b[0m \u001b[0mcreate_block_manager_from_blocks\u001b[0m\u001b[0;34m(\u001b[0m\u001b[0mblock_values\u001b[0m\u001b[0;34m,\u001b[0m \u001b[0;34m[\u001b[0m\u001b[0mcolumns\u001b[0m\u001b[0;34m,\u001b[0m \u001b[0mindex\u001b[0m\u001b[0;34m]\u001b[0m\u001b[0;34m)\u001b[0m\u001b[0;34m\u001b[0m\u001b[0;34m\u001b[0m\u001b[0m\n\u001b[0m\u001b[1;32m    211\u001b[0m \u001b[0;34m\u001b[0m\u001b[0m\n\u001b[1;32m    212\u001b[0m \u001b[0;34m\u001b[0m\u001b[0m\n",
            "\u001b[0;32m/usr/local/lib/python3.6/dist-packages/pandas/core/internals/managers.py\u001b[0m in \u001b[0;36mcreate_block_manager_from_blocks\u001b[0;34m(blocks, axes)\u001b[0m\n\u001b[1;32m   1662\u001b[0m         \u001b[0mblocks\u001b[0m \u001b[0;34m=\u001b[0m \u001b[0;34m[\u001b[0m\u001b[0mgetattr\u001b[0m\u001b[0;34m(\u001b[0m\u001b[0mb\u001b[0m\u001b[0;34m,\u001b[0m \u001b[0;34m\"values\"\u001b[0m\u001b[0;34m,\u001b[0m \u001b[0mb\u001b[0m\u001b[0;34m)\u001b[0m \u001b[0;32mfor\u001b[0m \u001b[0mb\u001b[0m \u001b[0;32min\u001b[0m \u001b[0mblocks\u001b[0m\u001b[0;34m]\u001b[0m\u001b[0;34m\u001b[0m\u001b[0;34m\u001b[0m\u001b[0m\n\u001b[1;32m   1663\u001b[0m         \u001b[0mtot_items\u001b[0m \u001b[0;34m=\u001b[0m \u001b[0msum\u001b[0m\u001b[0;34m(\u001b[0m\u001b[0mb\u001b[0m\u001b[0;34m.\u001b[0m\u001b[0mshape\u001b[0m\u001b[0;34m[\u001b[0m\u001b[0;36m0\u001b[0m\u001b[0;34m]\u001b[0m \u001b[0;32mfor\u001b[0m \u001b[0mb\u001b[0m \u001b[0;32min\u001b[0m \u001b[0mblocks\u001b[0m\u001b[0;34m)\u001b[0m\u001b[0;34m\u001b[0m\u001b[0;34m\u001b[0m\u001b[0m\n\u001b[0;32m-> 1664\u001b[0;31m         \u001b[0mconstruction_error\u001b[0m\u001b[0;34m(\u001b[0m\u001b[0mtot_items\u001b[0m\u001b[0;34m,\u001b[0m \u001b[0mblocks\u001b[0m\u001b[0;34m[\u001b[0m\u001b[0;36m0\u001b[0m\u001b[0;34m]\u001b[0m\u001b[0;34m.\u001b[0m\u001b[0mshape\u001b[0m\u001b[0;34m[\u001b[0m\u001b[0;36m1\u001b[0m\u001b[0;34m:\u001b[0m\u001b[0;34m]\u001b[0m\u001b[0;34m,\u001b[0m \u001b[0maxes\u001b[0m\u001b[0;34m,\u001b[0m \u001b[0me\u001b[0m\u001b[0;34m)\u001b[0m\u001b[0;34m\u001b[0m\u001b[0;34m\u001b[0m\u001b[0m\n\u001b[0m\u001b[1;32m   1665\u001b[0m \u001b[0;34m\u001b[0m\u001b[0m\n\u001b[1;32m   1666\u001b[0m \u001b[0;34m\u001b[0m\u001b[0m\n",
            "\u001b[0;32m/usr/local/lib/python3.6/dist-packages/pandas/core/internals/managers.py\u001b[0m in \u001b[0;36mconstruction_error\u001b[0;34m(tot_items, block_shape, axes, e)\u001b[0m\n\u001b[1;32m   1692\u001b[0m     \u001b[0;32mif\u001b[0m \u001b[0mblock_shape\u001b[0m\u001b[0;34m[\u001b[0m\u001b[0;36m0\u001b[0m\u001b[0;34m]\u001b[0m \u001b[0;34m==\u001b[0m \u001b[0;36m0\u001b[0m\u001b[0;34m:\u001b[0m\u001b[0;34m\u001b[0m\u001b[0;34m\u001b[0m\u001b[0m\n\u001b[1;32m   1693\u001b[0m         \u001b[0;32mraise\u001b[0m \u001b[0mValueError\u001b[0m\u001b[0;34m(\u001b[0m\u001b[0;34m\"Empty data passed with indices specified.\"\u001b[0m\u001b[0;34m)\u001b[0m\u001b[0;34m\u001b[0m\u001b[0;34m\u001b[0m\u001b[0m\n\u001b[0;32m-> 1694\u001b[0;31m     \u001b[0;32mraise\u001b[0m \u001b[0mValueError\u001b[0m\u001b[0;34m(\u001b[0m\u001b[0;34mf\"Shape of passed values is {passed}, indices imply {implied}\"\u001b[0m\u001b[0;34m)\u001b[0m\u001b[0;34m\u001b[0m\u001b[0;34m\u001b[0m\u001b[0m\n\u001b[0m\u001b[1;32m   1695\u001b[0m \u001b[0;34m\u001b[0m\u001b[0m\n\u001b[1;32m   1696\u001b[0m \u001b[0;34m\u001b[0m\u001b[0m\n",
            "\u001b[0;31mValueError\u001b[0m: Shape of passed values is (17, 3), indices imply (18, 3)"
          ]
        }
      ]
    },
    {
      "cell_type": "markdown",
      "metadata": {
        "id": "dE4uYvpPvPtA"
      },
      "source": [
        "Finalmente, PCA encuentra un nuevo sistema de coordenadas en el que cada punto tiene un nuevo valor (x,y). Los ejes no significan realmente nada físico; se eligen para dar a uno de ellos la mejor de las variaciones."
      ]
    },
    {
      "cell_type": "code",
      "metadata": {
        "id": "kKzf00B1PHUZ",
        "outputId": "2f3adee5-e990-449d-af85-2e69ed49674d",
        "colab": {
          "base_uri": "https://localhost:8080/",
          "height": 265
        }
      },
      "source": [
        "fig, ax = plt.subplots()\n",
        "ax.scatter(X_pca[:,0], X_pca[:,1] ,s=50)\n",
        "\n",
        "# anotación \n",
        "#numbers = numpy.arange(len(X_pca)) # etiquetas numéricas\n",
        "for i in range(0,len(X_pca)):\n",
        "    ax.annotate(df.iloc[i,:].name[0:2], (X_pca[i,0], X_pca[i,1]))"
      ],
      "execution_count": 15,
      "outputs": [
        {
          "output_type": "display_data",
          "data": {
            "image/png": "[encoded data removed]",
            "text/plain": [
              "<Figure size 432x288 with 1 Axes>"
            ]
          },
          "metadata": {
            "tags": [],
            "needs_background": "light"
          }
        }
      ]
    },
    {
      "cell_type": "markdown",
      "metadata": {
        "id": "BxXseeWEjZ0w"
      },
      "source": [
        "# Clustering Jerárquico\n",
        "\n",
        "\n",
        "Los algoritmos de clustering jerárquico se distinguen por generar como resultado una estructura de\n",
        "grupos organizada en forma de árbol jerárquico. Este árbol, denominado dendrograma es un fiel reflejo de como los clusters se relacionan unos con otros. Dentro de la estructura, el nodo superior o “raíz” del árbol engloba la totalidad de los elementos de la colección, mientras que\n",
        "los nodos “hoja” representan a los grupos de elementos con similitud máxima. Cada nivel intermedio\n",
        "puede ser visto como la combinación de dos agrupaciones del nivel más bajo, o bien, como una parte\n",
        "de la división de la agrupación de nivel más alto.\n",
        "\n"
      ]
    },
    {
      "cell_type": "markdown",
      "metadata": {
        "id": "Dhz61-y7k6Aw"
      },
      "source": [
        "A continuación, ejecutemos un algoritmo de clustering jerárquico con el fin de observar como se pueden están organizados los elementos que están bajo estudio, en este caso los estados de Estados Unidos. \n",
        "\n",
        "En primer lugar vamos a calcular la matriz de similitud entre los diferentes elementos utilizando para ello la [distancia euclídea](https://scikit-learn.org/stable/modules/generated/sklearn.neighbors.DistanceMetric.html) y la visualizamos utilizando la librería seaborn y el [gráfico de calor](https://seaborn.pydata.org/generated/seaborn.heatmap.html)\n",
        "\n"
      ]
    },
    {
      "cell_type": "code",
      "metadata": {
        "id": "rV5zM54FlHo8",
        "outputId": "cc316b6d-172c-427c-92cf-fd4e4c6acba1",
        "colab": {
          "base_uri": "https://localhost:8080/",
          "height": 272
        }
      },
      "source": [
        "#3. Hierarchical Clustering\n",
        "# 3.1. Compute the similarity matrix\n",
        "import sklearn.neighbors\n",
        "dist = sklearn.neighbors.DistanceMetric.get_metric('euclidean')\n",
        "matsim = dist.pairwise(datanorm)\n",
        "\n",
        "# 3.1.1 Visualization\n",
        "import seaborn as sns; sns.set()\n",
        "ax = sns.heatmap(matsim,vmin=0, vmax=1)\n",
        "\n"
      ],
      "execution_count": 16,
      "outputs": [
        {
          "output_type": "display_data",
          "data": {
            "image/png": "[encoded data removed]",
            "text/plain": [
              "<Figure size 432x288 with 2 Axes>"
            ]
          },
          "metadata": {
            "tags": []
          }
        }
      ]
    },
    {
      "cell_type": "markdown",
      "metadata": {
        "id": "LnknIOcZlYNx"
      },
      "source": [
        "Una vez calculada la matriz de similitud pasamos a construir el dendrograma. Para ello hay que decidir que tipo de [distancia intercluster](https://docs.scipy.org/doc/scipy/reference/generated/scipy.cluster.hierarchy.linkage.html) utilizamos, lo cual dependerá del problema que tengamos que afrontar. En un extremo estará el enlace simple que permitirá manejar fácilmente elementos especiales (*outliers*) y clusters de muy diversa forma, pero que nos ofrecerá grupos poco balanceados. En el otro extremo el enlace completo nos ofrecerá agrupaciones más equlibradas pero que supondrán la división de grupos mayoritarios. De forma intermedia tendremos otros índices como Ward o Average \n",
        "para ver cómo se distribuyen los datos.\n"
      ]
    },
    {
      "cell_type": "code",
      "metadata": {
        "id": "5TEcUnawlKMW",
        "outputId": "7e30e05f-149f-4847-de7f-f3160e10e019",
        "colab": {
          "base_uri": "https://localhost:8080/",
          "height": 389
        }
      },
      "source": [
        "# 3.2. Building the Dendrogram\t\n",
        "from scipy import cluster\n",
        "clusters = cluster.hierarchy.linkage(matsim, method = 'ward')\n",
        "# http://docs.scipy.org/doc/scipy-0.14.0/reference/generated/scipy.cluster.hierarchy.dendrogram.html\n",
        "cluster.hierarchy.dendrogram(clusters, labels = df.index)\n",
        "\n",
        "# 3.2.1 Visualization\n",
        "f = plt.figure()\n",
        "plt.show()\n",
        "#f.savefig( \"test.png\")\n",
        "#files.download('test.png')\n"
      ],
      "execution_count": 17,
      "outputs": [
        {
          "output_type": "stream",
          "text": [
            "/usr/local/lib/python3.6/dist-packages/ipykernel_launcher.py:3: ClusterWarning: scipy.cluster: The symmetric non-negative hollow observation matrix looks suspiciously like an uncondensed distance matrix\n",
            "  This is separate from the ipykernel package so we can avoid doing imports until\n"
          ],
          "name": "stderr"
        },
        {
          "output_type": "display_data",
          "data": {
            "image/png": "[encoded data removed]",
            "text/plain": [
              "<Figure size 432x288 with 1 Axes>"
            ]
          },
          "metadata": {
            "tags": []
          }
        },
        {
          "output_type": "display_data",
          "data": {
            "text/plain": [
              "<Figure size 432x288 with 0 Axes>"
            ]
          },
          "metadata": {
            "tags": []
          }
        }
      ]
    },
    {
      "cell_type": "markdown",
      "metadata": {
        "id": "vmx8QVuZpPiK"
      },
      "source": [
        "Aunque aquí el corte más que lineal tendría que hacerse ad-hoc, es decir, a partir de un corte con más granularidad (más grupos) deberíamos entonces reagrupar clusters que sean muy similares entre sí.\n",
        "\n",
        "De todos modos vamos a cortar a un nivel lógico a pesar de darnos algunos valores atípicos (grupos de un solo elemento)\n",
        "\n",
        "Por ejemplo, un corte a nivel 5 con un enlace completo da lugar a 5 grupos, alguno de ellos con muy pocos elementos \n",
        "\n"
      ]
    },
    {
      "cell_type": "code",
      "metadata": {
        "id": "5E236j7Qpgpp",
        "outputId": "b970582d-dffe-45ef-fe71-d2ea0c8a2260",
        "colab": {
          "base_uri": "https://localhost:8080/",
          "height": 67
        }
      },
      "source": [
        "cut = 10 # !!!! ad-hoc\n",
        "labels = cluster.hierarchy.fcluster(clusters, cut , criterion = 'distance')\n",
        "\n",
        "labels"
      ],
      "execution_count": 59,
      "outputs": [
        {
          "output_type": "execute_result",
          "data": {
            "text/plain": [
              "array([3, 3, 3, 3, 2, 3, 3, 3, 4, 4, 4, 3, 3, 4, 3, 3, 3, 3, 3, 3, 4, 4,\n",
              "       4, 3, 3, 3, 3, 3, 3, 3, 4, 3, 1, 4, 3, 4, 3, 3, 4, 3, 3, 3, 3, 1,\n",
              "       3, 3, 4, 4, 3, 3, 3], dtype=int32)"
            ]
          },
          "metadata": {
            "tags": []
          },
          "execution_count": 59
        }
      ]
    },
    {
      "cell_type": "markdown",
      "metadata": {
        "id": "ciVlTsBQpqui"
      },
      "source": [
        "Una vez terminado el clustering podemos aplicar ciertas métricas de calidad del mismo como el [coeficiente Silohuette] (https://scikit-learn.org/stable/modules/generated/sklearn.metrics.silhouette_score.html)\n",
        "\n"
      ]
    },
    {
      "cell_type": "code",
      "metadata": {
        "id": "yJ8d5ngtpwwc",
        "outputId": "d270c755-8a1f-4a49-f724-8b09a877e01c",
        "colab": {
          "base_uri": "https://localhost:8080/",
          "height": 50
        }
      },
      "source": [
        "# tratamos el cluster -1 como cluster de outliers\n",
        "from sklearn import metrics\n",
        "n_clusters_ = len(set(labels)) - (1 if -1 in labels else 0)\n",
        "print('Estimated number of clusters: %d' % n_clusters_)\n",
        "print(\"Silhouette Coefficient: %0.3f\"\n",
        "      % metrics.silhouette_score(datanorm, labels))"
      ],
      "execution_count": 60,
      "outputs": [
        {
          "output_type": "stream",
          "text": [
            "Estimated number of clusters: 4\n",
            "Silhouette Coefficient: 0.492\n"
          ],
          "name": "stdout"
        }
      ]
    },
    {
      "cell_type": "markdown",
      "metadata": {
        "id": "qmfwH9AIqANm"
      },
      "source": [
        "Y podríamos comenzar con la caracterízación de los grupos, en primer lugar visualizandolos utilizando la proyección PCA"
      ]
    },
    {
      "cell_type": "code",
      "metadata": {
        "id": "XNELd36JjsgQ",
        "outputId": "2f9c3ed8-8f54-4f04-d02c-3a6162d56b12",
        "colab": {
          "base_uri": "https://localhost:8080/",
          "height": 268
        }
      },
      "source": [
        "#plotting orginal points with color related to label\n",
        "fig, ax = plt.subplots()\n",
        "plt.scatter(X_pca[:,0], X_pca[:,1], c=labels,s=50)\n",
        "#for i in range(0,len(X_pca)):\n",
        "#    ax.annotate(df.iloc[i,:].name[0:3], (X_pca[i,0], X_pca[i,1]))\n",
        "plt.grid()\n",
        "plt.show()"
      ],
      "execution_count": 20,
      "outputs": [
        {
          "output_type": "display_data",
          "data": {
            "image/png": "[encoded data removed]",
            "text/plain": [
              "<Figure size 432x288 with 1 Axes>"
            ]
          },
          "metadata": {
            "tags": []
          }
        }
      ]
    },
    {
      "cell_type": "markdown",
      "metadata": {
        "id": "DrnHb_9_j5q0"
      },
      "source": [
        "Y luego obteniendo estadísticos básicos que nos permitan interpretar que significa cada grupo"
      ]
    },
    {
      "cell_type": "code",
      "metadata": {
        "id": "vipV_MzOqFKA",
        "outputId": "6decff4c-a89b-433d-c9c0-2b56bbbf1a31",
        "colab": {
          "base_uri": "https://localhost:8080/",
          "height": 299
        }
      },
      "source": [
        "df['group'] = labels\n",
        "\n",
        "\n",
        "res = df[['Finance', 'Mining', 'Manufacturing', 'group']].groupby(('group')).mean()\n",
        "res.plot(kind='bar', legend=True)\n",
        "\n",
        "\n"
      ],
      "execution_count": 21,
      "outputs": [
        {
          "output_type": "execute_result",
          "data": {
            "text/plain": [
              "<matplotlib.axes._subplots.AxesSubplot at 0x7f2a7b0df438>"
            ]
          },
          "metadata": {
            "tags": []
          },
          "execution_count": 21
        },
        {
          "output_type": "display_data",
          "data": {
            "image/png": "[encoded data removed]",
            "text/plain": [
              "<Figure size 432x288 with 1 Axes>"
            ]
          },
          "metadata": {
            "tags": []
          }
        }
      ]
    },
    {
      "cell_type": "markdown",
      "metadata": {
        "id": "1_f6T-vDjeUT"
      },
      "source": [
        "Y podemos utilizar filtros para saber que estados pertenecen a cada grupo"
      ]
    },
    {
      "cell_type": "code",
      "metadata": {
        "id": "4VmTL2dTjATY",
        "outputId": "0131c2bd-2996-4448-e9f4-ee7fe4815353",
        "colab": {
          "base_uri": "https://localhost:8080/",
          "height": 1000
        }
      },
      "source": [
        "df[df['group'] == 3]"
      ],
      "execution_count": 22,
      "outputs": [
        {
          "output_type": "execute_result",
          "data": {
            "text/html": [
              "<div>\n",
              "<style scoped>\n",
              "    .dataframe tbody tr th:only-of-type {\n",
              "        vertical-align: middle;\n",
              "    }\n",
              "\n",
              "    .dataframe tbody tr th {\n",
              "        vertical-align: top;\n",
              "    }\n",
              "\n",
              "    .dataframe thead th {\n",
              "        text-align: right;\n",
              "    }\n",
              "</style>\n",
              "<table border=\"1\" class=\"dataframe\">\n",
              "  <thead>\n",
              "    <tr style=\"text-align: right;\">\n",
              "      <th></th>\n",
              "      <th>Agriculture</th>\n",
              "      <th>Mining</th>\n",
              "      <th>Utilities</th>\n",
              "      <th>Construction</th>\n",
              "      <th>Manufacturing</th>\n",
              "      <th>Wholesale trade</th>\n",
              "      <th>Retail</th>\n",
              "      <th>Transportation</th>\n",
              "      <th>Information</th>\n",
              "      <th>Finance</th>\n",
              "      <th>Buss. Services</th>\n",
              "      <th>Education</th>\n",
              "      <th>Arts</th>\n",
              "      <th>Oth Serv.</th>\n",
              "      <th>Fed. civ</th>\n",
              "      <th>Fed. military</th>\n",
              "      <th>State.1</th>\n",
              "      <th>group</th>\n",
              "    </tr>\n",
              "    <tr>\n",
              "      <th>State</th>\n",
              "      <th></th>\n",
              "      <th></th>\n",
              "      <th></th>\n",
              "      <th></th>\n",
              "      <th></th>\n",
              "      <th></th>\n",
              "      <th></th>\n",
              "      <th></th>\n",
              "      <th></th>\n",
              "      <th></th>\n",
              "      <th></th>\n",
              "      <th></th>\n",
              "      <th></th>\n",
              "      <th></th>\n",
              "      <th></th>\n",
              "      <th></th>\n",
              "      <th></th>\n",
              "      <th></th>\n",
              "    </tr>\n",
              "  </thead>\n",
              "  <tbody>\n",
              "    <tr>\n",
              "      <th>Alabama</th>\n",
              "      <td>2040</td>\n",
              "      <td>2982</td>\n",
              "      <td>4965</td>\n",
              "      <td>7866</td>\n",
              "      <td>25444</td>\n",
              "      <td>9712</td>\n",
              "      <td>12287</td>\n",
              "      <td>4471</td>\n",
              "      <td>4244</td>\n",
              "      <td>25185</td>\n",
              "      <td>16090</td>\n",
              "      <td>12957</td>\n",
              "      <td>4826</td>\n",
              "      <td>4694</td>\n",
              "      <td>7174</td>\n",
              "      <td>4367</td>\n",
              "      <td>19746</td>\n",
              "      <td>3</td>\n",
              "    </tr>\n",
              "    <tr>\n",
              "      <th>Alaska</th>\n",
              "      <td>305</td>\n",
              "      <td>14327</td>\n",
              "      <td>612</td>\n",
              "      <td>2143</td>\n",
              "      <td>1867</td>\n",
              "      <td>1026</td>\n",
              "      <td>1943</td>\n",
              "      <td>4510</td>\n",
              "      <td>948</td>\n",
              "      <td>5416</td>\n",
              "      <td>2884</td>\n",
              "      <td>2757</td>\n",
              "      <td>1273</td>\n",
              "      <td>737</td>\n",
              "      <td>1882</td>\n",
              "      <td>2398</td>\n",
              "      <td>4929</td>\n",
              "      <td>3</td>\n",
              "    </tr>\n",
              "    <tr>\n",
              "      <th>Arizona</th>\n",
              "      <td>1528</td>\n",
              "      <td>4687</td>\n",
              "      <td>5677</td>\n",
              "      <td>13167</td>\n",
              "      <td>20026</td>\n",
              "      <td>14283</td>\n",
              "      <td>18439</td>\n",
              "      <td>6859</td>\n",
              "      <td>6559</td>\n",
              "      <td>51282</td>\n",
              "      <td>27353</td>\n",
              "      <td>22549</td>\n",
              "      <td>10487</td>\n",
              "      <td>5231</td>\n",
              "      <td>6247</td>\n",
              "      <td>3833</td>\n",
              "      <td>25123</td>\n",
              "      <td>3</td>\n",
              "    </tr>\n",
              "    <tr>\n",
              "      <th>Arkansas</th>\n",
              "      <td>2537</td>\n",
              "      <td>2249</td>\n",
              "      <td>2467</td>\n",
              "      <td>4266</td>\n",
              "      <td>14010</td>\n",
              "      <td>7257</td>\n",
              "      <td>7070</td>\n",
              "      <td>4120</td>\n",
              "      <td>10864</td>\n",
              "      <td>14879</td>\n",
              "      <td>8641</td>\n",
              "      <td>8432</td>\n",
              "      <td>2797</td>\n",
              "      <td>2283</td>\n",
              "      <td>2326</td>\n",
              "      <td>1148</td>\n",
              "      <td>10494</td>\n",
              "      <td>3</td>\n",
              "    </tr>\n",
              "    <tr>\n",
              "      <th>Colorado</th>\n",
              "      <td>2112</td>\n",
              "      <td>11330</td>\n",
              "      <td>3152</td>\n",
              "      <td>11612</td>\n",
              "      <td>19429</td>\n",
              "      <td>13309</td>\n",
              "      <td>14140</td>\n",
              "      <td>6386</td>\n",
              "      <td>20171</td>\n",
              "      <td>45343</td>\n",
              "      <td>34342</td>\n",
              "      <td>17061</td>\n",
              "      <td>10598</td>\n",
              "      <td>5944</td>\n",
              "      <td>6900</td>\n",
              "      <td>4766</td>\n",
              "      <td>21580</td>\n",
              "      <td>3</td>\n",
              "    </tr>\n",
              "    <tr>\n",
              "      <th>Connecticut</th>\n",
              "      <td>314</td>\n",
              "      <td>113</td>\n",
              "      <td>3998</td>\n",
              "      <td>6989</td>\n",
              "      <td>27665</td>\n",
              "      <td>12795</td>\n",
              "      <td>11314</td>\n",
              "      <td>4123</td>\n",
              "      <td>12134</td>\n",
              "      <td>69118</td>\n",
              "      <td>25348</td>\n",
              "      <td>21758</td>\n",
              "      <td>5781</td>\n",
              "      <td>4473</td>\n",
              "      <td>2488</td>\n",
              "      <td>2928</td>\n",
              "      <td>18668</td>\n",
              "      <td>3</td>\n",
              "    </tr>\n",
              "    <tr>\n",
              "      <th>Delaware</th>\n",
              "      <td>276</td>\n",
              "      <td>1</td>\n",
              "      <td>868</td>\n",
              "      <td>1750</td>\n",
              "      <td>4732</td>\n",
              "      <td>2258</td>\n",
              "      <td>2423</td>\n",
              "      <td>752</td>\n",
              "      <td>1210</td>\n",
              "      <td>23162</td>\n",
              "      <td>5992</td>\n",
              "      <td>4075</td>\n",
              "      <td>1488</td>\n",
              "      <td>868</td>\n",
              "      <td>659</td>\n",
              "      <td>632</td>\n",
              "      <td>4945</td>\n",
              "      <td>3</td>\n",
              "    </tr>\n",
              "    <tr>\n",
              "      <th>Hawaii</th>\n",
              "      <td>441</td>\n",
              "      <td>108</td>\n",
              "      <td>1428</td>\n",
              "      <td>4088</td>\n",
              "      <td>1302</td>\n",
              "      <td>2044</td>\n",
              "      <td>4377</td>\n",
              "      <td>2542</td>\n",
              "      <td>1467</td>\n",
              "      <td>14840</td>\n",
              "      <td>5694</td>\n",
              "      <td>5006</td>\n",
              "      <td>5251</td>\n",
              "      <td>1561</td>\n",
              "      <td>3489</td>\n",
              "      <td>5232</td>\n",
              "      <td>6215</td>\n",
              "      <td>3</td>\n",
              "    </tr>\n",
              "    <tr>\n",
              "      <th>Idaho</th>\n",
              "      <td>2494</td>\n",
              "      <td>809</td>\n",
              "      <td>867</td>\n",
              "      <td>2729</td>\n",
              "      <td>6326</td>\n",
              "      <td>2962</td>\n",
              "      <td>4179</td>\n",
              "      <td>1494</td>\n",
              "      <td>1161</td>\n",
              "      <td>9854</td>\n",
              "      <td>5690</td>\n",
              "      <td>4422</td>\n",
              "      <td>1684</td>\n",
              "      <td>1149</td>\n",
              "      <td>1495</td>\n",
              "      <td>663</td>\n",
              "      <td>6086</td>\n",
              "      <td>3</td>\n",
              "    </tr>\n",
              "    <tr>\n",
              "      <th>Indiana</th>\n",
              "      <td>3647</td>\n",
              "      <td>1394</td>\n",
              "      <td>5431</td>\n",
              "      <td>10038</td>\n",
              "      <td>69476</td>\n",
              "      <td>14093</td>\n",
              "      <td>16117</td>\n",
              "      <td>8727</td>\n",
              "      <td>5658</td>\n",
              "      <td>40311</td>\n",
              "      <td>20053</td>\n",
              "      <td>23677</td>\n",
              "      <td>9257</td>\n",
              "      <td>6302</td>\n",
              "      <td>4049</td>\n",
              "      <td>1638</td>\n",
              "      <td>22560</td>\n",
              "      <td>3</td>\n",
              "    </tr>\n",
              "    <tr>\n",
              "      <th>Iowa</th>\n",
              "      <td>7234</td>\n",
              "      <td>321</td>\n",
              "      <td>2412</td>\n",
              "      <td>5287</td>\n",
              "      <td>25488</td>\n",
              "      <td>8177</td>\n",
              "      <td>8220</td>\n",
              "      <td>4730</td>\n",
              "      <td>4257</td>\n",
              "      <td>27333</td>\n",
              "      <td>8223</td>\n",
              "      <td>10755</td>\n",
              "      <td>3954</td>\n",
              "      <td>3002</td>\n",
              "      <td>1669</td>\n",
              "      <td>781</td>\n",
              "      <td>14668</td>\n",
              "      <td>3</td>\n",
              "    </tr>\n",
              "    <tr>\n",
              "      <th>Kansas</th>\n",
              "      <td>4069</td>\n",
              "      <td>1771</td>\n",
              "      <td>2470</td>\n",
              "      <td>4487</td>\n",
              "      <td>17489</td>\n",
              "      <td>8253</td>\n",
              "      <td>7995</td>\n",
              "      <td>4579</td>\n",
              "      <td>5624</td>\n",
              "      <td>17938</td>\n",
              "      <td>11023</td>\n",
              "      <td>10041</td>\n",
              "      <td>3393</td>\n",
              "      <td>2948</td>\n",
              "      <td>2358</td>\n",
              "      <td>3269</td>\n",
              "      <td>13064</td>\n",
              "      <td>3</td>\n",
              "    </tr>\n",
              "    <tr>\n",
              "      <th>Kentucky</th>\n",
              "      <td>2322</td>\n",
              "      <td>5664</td>\n",
              "      <td>2831</td>\n",
              "      <td>6406</td>\n",
              "      <td>24673</td>\n",
              "      <td>10354</td>\n",
              "      <td>9907</td>\n",
              "      <td>7091</td>\n",
              "      <td>4133</td>\n",
              "      <td>22415</td>\n",
              "      <td>12263</td>\n",
              "      <td>14135</td>\n",
              "      <td>5101</td>\n",
              "      <td>3491</td>\n",
              "      <td>4139</td>\n",
              "      <td>4622</td>\n",
              "      <td>16601</td>\n",
              "      <td>3</td>\n",
              "    </tr>\n",
              "    <tr>\n",
              "      <th>Louisiana</th>\n",
              "      <td>1769</td>\n",
              "      <td>20980</td>\n",
              "      <td>3798</td>\n",
              "      <td>11964</td>\n",
              "      <td>39321</td>\n",
              "      <td>9825</td>\n",
              "      <td>13174</td>\n",
              "      <td>8523</td>\n",
              "      <td>3911</td>\n",
              "      <td>26737</td>\n",
              "      <td>16546</td>\n",
              "      <td>14951</td>\n",
              "      <td>8100</td>\n",
              "      <td>4560</td>\n",
              "      <td>3467</td>\n",
              "      <td>2655</td>\n",
              "      <td>19579</td>\n",
              "      <td>3</td>\n",
              "    </tr>\n",
              "    <tr>\n",
              "      <th>Maine</th>\n",
              "      <td>646</td>\n",
              "      <td>9</td>\n",
              "      <td>895</td>\n",
              "      <td>2150</td>\n",
              "      <td>5668</td>\n",
              "      <td>2565</td>\n",
              "      <td>4282</td>\n",
              "      <td>1175</td>\n",
              "      <td>1147</td>\n",
              "      <td>9944</td>\n",
              "      <td>4569</td>\n",
              "      <td>6568</td>\n",
              "      <td>2055</td>\n",
              "      <td>1088</td>\n",
              "      <td>1571</td>\n",
              "      <td>757</td>\n",
              "      <td>5229</td>\n",
              "      <td>3</td>\n",
              "    </tr>\n",
              "    <tr>\n",
              "      <th>Minnesota</th>\n",
              "      <td>5120</td>\n",
              "      <td>953</td>\n",
              "      <td>4101</td>\n",
              "      <td>10562</td>\n",
              "      <td>35641</td>\n",
              "      <td>17805</td>\n",
              "      <td>14248</td>\n",
              "      <td>7090</td>\n",
              "      <td>10155</td>\n",
              "      <td>52870</td>\n",
              "      <td>30913</td>\n",
              "      <td>26245</td>\n",
              "      <td>8469</td>\n",
              "      <td>5881</td>\n",
              "      <td>3457</td>\n",
              "      <td>1698</td>\n",
              "      <td>24204</td>\n",
              "      <td>3</td>\n",
              "    </tr>\n",
              "    <tr>\n",
              "      <th>Mississippi</th>\n",
              "      <td>1922</td>\n",
              "      <td>1678</td>\n",
              "      <td>2546</td>\n",
              "      <td>5108</td>\n",
              "      <td>13603</td>\n",
              "      <td>4399</td>\n",
              "      <td>7373</td>\n",
              "      <td>3093</td>\n",
              "      <td>1836</td>\n",
              "      <td>12921</td>\n",
              "      <td>6212</td>\n",
              "      <td>7567</td>\n",
              "      <td>4204</td>\n",
              "      <td>2229</td>\n",
              "      <td>2925</td>\n",
              "      <td>2302</td>\n",
              "      <td>12245</td>\n",
              "      <td>3</td>\n",
              "    </tr>\n",
              "    <tr>\n",
              "      <th>Missouri</th>\n",
              "      <td>3106</td>\n",
              "      <td>1049</td>\n",
              "      <td>4222</td>\n",
              "      <td>10168</td>\n",
              "      <td>31395</td>\n",
              "      <td>15371</td>\n",
              "      <td>15651</td>\n",
              "      <td>8399</td>\n",
              "      <td>13355</td>\n",
              "      <td>46522</td>\n",
              "      <td>28727</td>\n",
              "      <td>23684</td>\n",
              "      <td>9794</td>\n",
              "      <td>6113</td>\n",
              "      <td>6380</td>\n",
              "      <td>2969</td>\n",
              "      <td>23833</td>\n",
              "      <td>3</td>\n",
              "    </tr>\n",
              "    <tr>\n",
              "      <th>Montana</th>\n",
              "      <td>1266</td>\n",
              "      <td>1880</td>\n",
              "      <td>980</td>\n",
              "      <td>2103</td>\n",
              "      <td>1738</td>\n",
              "      <td>1906</td>\n",
              "      <td>2410</td>\n",
              "      <td>1639</td>\n",
              "      <td>834</td>\n",
              "      <td>6370</td>\n",
              "      <td>2549</td>\n",
              "      <td>3494</td>\n",
              "      <td>1659</td>\n",
              "      <td>845</td>\n",
              "      <td>1413</td>\n",
              "      <td>533</td>\n",
              "      <td>4087</td>\n",
              "      <td>3</td>\n",
              "    </tr>\n",
              "    <tr>\n",
              "      <th>Nebraska</th>\n",
              "      <td>5273</td>\n",
              "      <td>159</td>\n",
              "      <td>1428</td>\n",
              "      <td>3906</td>\n",
              "      <td>10579</td>\n",
              "      <td>4916</td>\n",
              "      <td>5149</td>\n",
              "      <td>6595</td>\n",
              "      <td>2523</td>\n",
              "      <td>15255</td>\n",
              "      <td>8071</td>\n",
              "      <td>7211</td>\n",
              "      <td>2213</td>\n",
              "      <td>2013</td>\n",
              "      <td>1350</td>\n",
              "      <td>1010</td>\n",
              "      <td>9217</td>\n",
              "      <td>3</td>\n",
              "    </tr>\n",
              "    <tr>\n",
              "      <th>Nevada</th>\n",
              "      <td>264</td>\n",
              "      <td>4620</td>\n",
              "      <td>2318</td>\n",
              "      <td>8559</td>\n",
              "      <td>5377</td>\n",
              "      <td>4802</td>\n",
              "      <td>7774</td>\n",
              "      <td>4457</td>\n",
              "      <td>2497</td>\n",
              "      <td>24253</td>\n",
              "      <td>11992</td>\n",
              "      <td>7144</td>\n",
              "      <td>19128</td>\n",
              "      <td>2217</td>\n",
              "      <td>2064</td>\n",
              "      <td>1223</td>\n",
              "      <td>11411</td>\n",
              "      <td>3</td>\n",
              "    </tr>\n",
              "    <tr>\n",
              "      <th>New Hampshire</th>\n",
              "      <td>168</td>\n",
              "      <td>98</td>\n",
              "      <td>1232</td>\n",
              "      <td>2166</td>\n",
              "      <td>6937</td>\n",
              "      <td>3673</td>\n",
              "      <td>4584</td>\n",
              "      <td>883</td>\n",
              "      <td>2315</td>\n",
              "      <td>13106</td>\n",
              "      <td>6605</td>\n",
              "      <td>7060</td>\n",
              "      <td>2261</td>\n",
              "      <td>1459</td>\n",
              "      <td>1169</td>\n",
              "      <td>1193</td>\n",
              "      <td>5473</td>\n",
              "      <td>3</td>\n",
              "    </tr>\n",
              "    <tr>\n",
              "      <th>New Mexico</th>\n",
              "      <td>972</td>\n",
              "      <td>6617</td>\n",
              "      <td>1374</td>\n",
              "      <td>3858</td>\n",
              "      <td>5199</td>\n",
              "      <td>2572</td>\n",
              "      <td>4952</td>\n",
              "      <td>1918</td>\n",
              "      <td>2083</td>\n",
              "      <td>12386</td>\n",
              "      <td>8735</td>\n",
              "      <td>6049</td>\n",
              "      <td>2742</td>\n",
              "      <td>1911</td>\n",
              "      <td>6032</td>\n",
              "      <td>3116</td>\n",
              "      <td>10840</td>\n",
              "      <td>3</td>\n",
              "    </tr>\n",
              "    <tr>\n",
              "      <th>North Dakota</th>\n",
              "      <td>2858</td>\n",
              "      <td>1557</td>\n",
              "      <td>848</td>\n",
              "      <td>1526</td>\n",
              "      <td>2649</td>\n",
              "      <td>2517</td>\n",
              "      <td>2047</td>\n",
              "      <td>1362</td>\n",
              "      <td>1044</td>\n",
              "      <td>5052</td>\n",
              "      <td>1823</td>\n",
              "      <td>2762</td>\n",
              "      <td>874</td>\n",
              "      <td>658</td>\n",
              "      <td>556</td>\n",
              "      <td>790</td>\n",
              "      <td>3213</td>\n",
              "      <td>3</td>\n",
              "    </tr>\n",
              "    <tr>\n",
              "      <th>Oklahoma</th>\n",
              "      <td>1318</td>\n",
              "      <td>17401</td>\n",
              "      <td>3361</td>\n",
              "      <td>5493</td>\n",
              "      <td>15548</td>\n",
              "      <td>7509</td>\n",
              "      <td>9217</td>\n",
              "      <td>4481</td>\n",
              "      <td>5798</td>\n",
              "      <td>20538</td>\n",
              "      <td>11840</td>\n",
              "      <td>11048</td>\n",
              "      <td>4372</td>\n",
              "      <td>3282</td>\n",
              "      <td>4782</td>\n",
              "      <td>2894</td>\n",
              "      <td>18104</td>\n",
              "      <td>3</td>\n",
              "    </tr>\n",
              "    <tr>\n",
              "      <th>Oregon</th>\n",
              "      <td>3156</td>\n",
              "      <td>347</td>\n",
              "      <td>2302</td>\n",
              "      <td>6589</td>\n",
              "      <td>46486</td>\n",
              "      <td>10453</td>\n",
              "      <td>8563</td>\n",
              "      <td>4263</td>\n",
              "      <td>5768</td>\n",
              "      <td>31357</td>\n",
              "      <td>15304</td>\n",
              "      <td>14602</td>\n",
              "      <td>5201</td>\n",
              "      <td>3630</td>\n",
              "      <td>3628</td>\n",
              "      <td>752</td>\n",
              "      <td>17753</td>\n",
              "      <td>3</td>\n",
              "    </tr>\n",
              "    <tr>\n",
              "      <th>Rhode Island</th>\n",
              "      <td>75</td>\n",
              "      <td>44</td>\n",
              "      <td>751</td>\n",
              "      <td>2175</td>\n",
              "      <td>3724</td>\n",
              "      <td>2365</td>\n",
              "      <td>2607</td>\n",
              "      <td>705</td>\n",
              "      <td>2060</td>\n",
              "      <td>11651</td>\n",
              "      <td>4998</td>\n",
              "      <td>6367</td>\n",
              "      <td>1829</td>\n",
              "      <td>1052</td>\n",
              "      <td>1328</td>\n",
              "      <td>1433</td>\n",
              "      <td>4427</td>\n",
              "      <td>3</td>\n",
              "    </tr>\n",
              "    <tr>\n",
              "      <th>South Carolina</th>\n",
              "      <td>1148</td>\n",
              "      <td>302</td>\n",
              "      <td>4453</td>\n",
              "      <td>7885</td>\n",
              "      <td>25106</td>\n",
              "      <td>8815</td>\n",
              "      <td>11953</td>\n",
              "      <td>3478</td>\n",
              "      <td>4071</td>\n",
              "      <td>27576</td>\n",
              "      <td>15077</td>\n",
              "      <td>11376</td>\n",
              "      <td>6722</td>\n",
              "      <td>4079</td>\n",
              "      <td>3290</td>\n",
              "      <td>4268</td>\n",
              "      <td>20449</td>\n",
              "      <td>3</td>\n",
              "    </tr>\n",
              "    <tr>\n",
              "      <th>South Dakota</th>\n",
              "      <td>3124</td>\n",
              "      <td>152</td>\n",
              "      <td>612</td>\n",
              "      <td>1470</td>\n",
              "      <td>3184</td>\n",
              "      <td>2242</td>\n",
              "      <td>2517</td>\n",
              "      <td>890</td>\n",
              "      <td>934</td>\n",
              "      <td>9755</td>\n",
              "      <td>1905</td>\n",
              "      <td>3449</td>\n",
              "      <td>1193</td>\n",
              "      <td>783</td>\n",
              "      <td>745</td>\n",
              "      <td>539</td>\n",
              "      <td>3487</td>\n",
              "      <td>3</td>\n",
              "    </tr>\n",
              "    <tr>\n",
              "      <th>Tennessee</th>\n",
              "      <td>1386</td>\n",
              "      <td>1173</td>\n",
              "      <td>1611</td>\n",
              "      <td>9072</td>\n",
              "      <td>38465</td>\n",
              "      <td>16434</td>\n",
              "      <td>18257</td>\n",
              "      <td>11202</td>\n",
              "      <td>7900</td>\n",
              "      <td>39924</td>\n",
              "      <td>25587</td>\n",
              "      <td>26582</td>\n",
              "      <td>10288</td>\n",
              "      <td>6682</td>\n",
              "      <td>7115</td>\n",
              "      <td>1615</td>\n",
              "      <td>24173</td>\n",
              "      <td>3</td>\n",
              "    </tr>\n",
              "    <tr>\n",
              "      <th>Utah</th>\n",
              "      <td>357</td>\n",
              "      <td>3425</td>\n",
              "      <td>1481</td>\n",
              "      <td>5954</td>\n",
              "      <td>15609</td>\n",
              "      <td>5711</td>\n",
              "      <td>7875</td>\n",
              "      <td>3740</td>\n",
              "      <td>4214</td>\n",
              "      <td>22879</td>\n",
              "      <td>11461</td>\n",
              "      <td>8036</td>\n",
              "      <td>3588</td>\n",
              "      <td>3364</td>\n",
              "      <td>3898</td>\n",
              "      <td>1588</td>\n",
              "      <td>11254</td>\n",
              "      <td>3</td>\n",
              "    </tr>\n",
              "    <tr>\n",
              "      <th>Vermont</th>\n",
              "      <td>263</td>\n",
              "      <td>223</td>\n",
              "      <td>596</td>\n",
              "      <td>1030</td>\n",
              "      <td>2632</td>\n",
              "      <td>1168</td>\n",
              "      <td>2005</td>\n",
              "      <td>484</td>\n",
              "      <td>683</td>\n",
              "      <td>4973</td>\n",
              "      <td>2176</td>\n",
              "      <td>3262</td>\n",
              "      <td>1302</td>\n",
              "      <td>591</td>\n",
              "      <td>745</td>\n",
              "      <td>254</td>\n",
              "      <td>2864</td>\n",
              "      <td>3</td>\n",
              "    </tr>\n",
              "    <tr>\n",
              "      <th>West Virginia</th>\n",
              "      <td>186</td>\n",
              "      <td>7502</td>\n",
              "      <td>1842</td>\n",
              "      <td>2723</td>\n",
              "      <td>6775</td>\n",
              "      <td>2932</td>\n",
              "      <td>4488</td>\n",
              "      <td>1956</td>\n",
              "      <td>1441</td>\n",
              "      <td>7935</td>\n",
              "      <td>4264</td>\n",
              "      <td>6271</td>\n",
              "      <td>2286</td>\n",
              "      <td>1394</td>\n",
              "      <td>2744</td>\n",
              "      <td>608</td>\n",
              "      <td>7405</td>\n",
              "      <td>3</td>\n",
              "    </tr>\n",
              "    <tr>\n",
              "      <th>Wisconsin</th>\n",
              "      <td>3089</td>\n",
              "      <td>548</td>\n",
              "      <td>4664</td>\n",
              "      <td>9205</td>\n",
              "      <td>45247</td>\n",
              "      <td>14446</td>\n",
              "      <td>14753</td>\n",
              "      <td>6961</td>\n",
              "      <td>7949</td>\n",
              "      <td>49183</td>\n",
              "      <td>21309</td>\n",
              "      <td>24567</td>\n",
              "      <td>7502</td>\n",
              "      <td>5745</td>\n",
              "      <td>3346</td>\n",
              "      <td>991</td>\n",
              "      <td>26392</td>\n",
              "      <td>3</td>\n",
              "    </tr>\n",
              "    <tr>\n",
              "      <th>Wyoming</th>\n",
              "      <td>401</td>\n",
              "      <td>13165</td>\n",
              "      <td>822</td>\n",
              "      <td>1906</td>\n",
              "      <td>1624</td>\n",
              "      <td>1307</td>\n",
              "      <td>1956</td>\n",
              "      <td>2238</td>\n",
              "      <td>449</td>\n",
              "      <td>4233</td>\n",
              "      <td>1408</td>\n",
              "      <td>1446</td>\n",
              "      <td>1237</td>\n",
              "      <td>597</td>\n",
              "      <td>749</td>\n",
              "      <td>414</td>\n",
              "      <td>3939</td>\n",
              "      <td>3</td>\n",
              "    </tr>\n",
              "  </tbody>\n",
              "</table>\n",
              "</div>"
            ],
            "text/plain": [
              "                Agriculture  Mining  Utilities  ...  Fed. military  State.1  group\n",
              "State                                           ...                               \n",
              "Alabama                2040    2982       4965  ...           4367    19746      3\n",
              "Alaska                  305   14327        612  ...           2398     4929      3\n",
              "Arizona                1528    4687       5677  ...           3833    25123      3\n",
              "Arkansas               2537    2249       2467  ...           1148    10494      3\n",
              "Colorado               2112   11330       3152  ...           4766    21580      3\n",
              "Connecticut             314     113       3998  ...           2928    18668      3\n",
              "Delaware                276       1        868  ...            632     4945      3\n",
              "Hawaii                  441     108       1428  ...           5232     6215      3\n",
              "Idaho                  2494     809        867  ...            663     6086      3\n",
              "Indiana                3647    1394       5431  ...           1638    22560      3\n",
              "Iowa                   7234     321       2412  ...            781    14668      3\n",
              "Kansas                 4069    1771       2470  ...           3269    13064      3\n",
              "Kentucky               2322    5664       2831  ...           4622    16601      3\n",
              "Louisiana              1769   20980       3798  ...           2655    19579      3\n",
              "Maine                   646       9        895  ...            757     5229      3\n",
              "Minnesota              5120     953       4101  ...           1698    24204      3\n",
              "Mississippi            1922    1678       2546  ...           2302    12245      3\n",
              "Missouri               3106    1049       4222  ...           2969    23833      3\n",
              "Montana                1266    1880        980  ...            533     4087      3\n",
              "Nebraska               5273     159       1428  ...           1010     9217      3\n",
              "Nevada                  264    4620       2318  ...           1223    11411      3\n",
              "New Hampshire           168      98       1232  ...           1193     5473      3\n",
              "New Mexico              972    6617       1374  ...           3116    10840      3\n",
              "North Dakota           2858    1557        848  ...            790     3213      3\n",
              "Oklahoma               1318   17401       3361  ...           2894    18104      3\n",
              "Oregon                 3156     347       2302  ...            752    17753      3\n",
              "Rhode Island             75      44        751  ...           1433     4427      3\n",
              "South Carolina         1148     302       4453  ...           4268    20449      3\n",
              "South Dakota           3124     152        612  ...            539     3487      3\n",
              "Tennessee              1386    1173       1611  ...           1615    24173      3\n",
              "Utah                    357    3425       1481  ...           1588    11254      3\n",
              "Vermont                 263     223        596  ...            254     2864      3\n",
              "West Virginia           186    7502       1842  ...            608     7405      3\n",
              "Wisconsin              3089     548       4664  ...            991    26392      3\n",
              "Wyoming                 401   13165        822  ...            414     3939      3\n",
              "\n",
              "[35 rows x 18 columns]"
            ]
          },
          "metadata": {
            "tags": []
          },
          "execution_count": 22
        }
      ]
    },
    {
      "cell_type": "markdown",
      "metadata": {
        "id": "hlwAb7eakBZx"
      },
      "source": [
        "O sacar todos los estadísticos basicos para luego pasarlo a otra herramienta (Excel)"
      ]
    },
    {
      "cell_type": "code",
      "metadata": {
        "id": "zouiCkiwkBFX",
        "outputId": "35288c99-f380-40c8-8359-2ee1cfcc1e49",
        "colab": {
          "base_uri": "https://localhost:8080/",
          "height": 225
        }
      },
      "source": [
        "res = df[['Agriculture', 'Utilities', 'group']].groupby('group').describe()\n",
        "res"
      ],
      "execution_count": 23,
      "outputs": [
        {
          "output_type": "execute_result",
          "data": {
            "text/html": [
              "<div>\n",
              "<style scoped>\n",
              "    .dataframe tbody tr th:only-of-type {\n",
              "        vertical-align: middle;\n",
              "    }\n",
              "\n",
              "    .dataframe tbody tr th {\n",
              "        vertical-align: top;\n",
              "    }\n",
              "\n",
              "    .dataframe thead tr th {\n",
              "        text-align: left;\n",
              "    }\n",
              "\n",
              "    .dataframe thead tr:last-of-type th {\n",
              "        text-align: right;\n",
              "    }\n",
              "</style>\n",
              "<table border=\"1\" class=\"dataframe\">\n",
              "  <thead>\n",
              "    <tr>\n",
              "      <th></th>\n",
              "      <th colspan=\"8\" halign=\"left\">Agriculture</th>\n",
              "      <th colspan=\"8\" halign=\"left\">Utilities</th>\n",
              "    </tr>\n",
              "    <tr>\n",
              "      <th></th>\n",
              "      <th>count</th>\n",
              "      <th>mean</th>\n",
              "      <th>std</th>\n",
              "      <th>min</th>\n",
              "      <th>25%</th>\n",
              "      <th>50%</th>\n",
              "      <th>75%</th>\n",
              "      <th>max</th>\n",
              "      <th>count</th>\n",
              "      <th>mean</th>\n",
              "      <th>std</th>\n",
              "      <th>min</th>\n",
              "      <th>25%</th>\n",
              "      <th>50%</th>\n",
              "      <th>75%</th>\n",
              "      <th>max</th>\n",
              "    </tr>\n",
              "    <tr>\n",
              "      <th>group</th>\n",
              "      <th></th>\n",
              "      <th></th>\n",
              "      <th></th>\n",
              "      <th></th>\n",
              "      <th></th>\n",
              "      <th></th>\n",
              "      <th></th>\n",
              "      <th></th>\n",
              "      <th></th>\n",
              "      <th></th>\n",
              "      <th></th>\n",
              "      <th></th>\n",
              "      <th></th>\n",
              "      <th></th>\n",
              "      <th></th>\n",
              "      <th></th>\n",
              "    </tr>\n",
              "  </thead>\n",
              "  <tbody>\n",
              "    <tr>\n",
              "      <th>1</th>\n",
              "      <td>2.0</td>\n",
              "      <td>3980.000000</td>\n",
              "      <td>2805.799708</td>\n",
              "      <td>1996.0</td>\n",
              "      <td>2988.0</td>\n",
              "      <td>3980.0</td>\n",
              "      <td>4972.0</td>\n",
              "      <td>5964.0</td>\n",
              "      <td>2.0</td>\n",
              "      <td>21265.000000</td>\n",
              "      <td>4570.738234</td>\n",
              "      <td>18033.0</td>\n",
              "      <td>19649.0</td>\n",
              "      <td>21265.0</td>\n",
              "      <td>22881.0</td>\n",
              "      <td>24497.0</td>\n",
              "    </tr>\n",
              "    <tr>\n",
              "      <th>2</th>\n",
              "      <td>1.0</td>\n",
              "      <td>25439.000000</td>\n",
              "      <td>NaN</td>\n",
              "      <td>25439.0</td>\n",
              "      <td>25439.0</td>\n",
              "      <td>25439.0</td>\n",
              "      <td>25439.0</td>\n",
              "      <td>25439.0</td>\n",
              "      <td>1.0</td>\n",
              "      <td>27999.000000</td>\n",
              "      <td>NaN</td>\n",
              "      <td>27999.0</td>\n",
              "      <td>27999.0</td>\n",
              "      <td>27999.0</td>\n",
              "      <td>27999.0</td>\n",
              "      <td>27999.0</td>\n",
              "    </tr>\n",
              "    <tr>\n",
              "      <th>3</th>\n",
              "      <td>35.0</td>\n",
              "      <td>1919.600000</td>\n",
              "      <td>1706.742877</td>\n",
              "      <td>75.0</td>\n",
              "      <td>379.0</td>\n",
              "      <td>1528.0</td>\n",
              "      <td>2973.5</td>\n",
              "      <td>7234.0</td>\n",
              "      <td>35.0</td>\n",
              "      <td>2383.285714</td>\n",
              "      <td>1539.752111</td>\n",
              "      <td>596.0</td>\n",
              "      <td>937.5</td>\n",
              "      <td>2302.0</td>\n",
              "      <td>3579.5</td>\n",
              "      <td>5677.0</td>\n",
              "    </tr>\n",
              "    <tr>\n",
              "      <th>4</th>\n",
              "      <td>13.0</td>\n",
              "      <td>2856.384615</td>\n",
              "      <td>1965.264509</td>\n",
              "      <td>2.0</td>\n",
              "      <td>947.0</td>\n",
              "      <td>2850.0</td>\n",
              "      <td>4176.0</td>\n",
              "      <td>5559.0</td>\n",
              "      <td>13.0</td>\n",
              "      <td>7676.692308</td>\n",
              "      <td>3729.386598</td>\n",
              "      <td>1372.0</td>\n",
              "      <td>5828.0</td>\n",
              "      <td>7951.0</td>\n",
              "      <td>9497.0</td>\n",
              "      <td>16011.0</td>\n",
              "    </tr>\n",
              "  </tbody>\n",
              "</table>\n",
              "</div>"
            ],
            "text/plain": [
              "      Agriculture                             ... Utilities                  \n",
              "            count          mean          std  ...       50%      75%      max\n",
              "group                                         ...                            \n",
              "1             2.0   3980.000000  2805.799708  ...   21265.0  22881.0  24497.0\n",
              "2             1.0  25439.000000          NaN  ...   27999.0  27999.0  27999.0\n",
              "3            35.0   1919.600000  1706.742877  ...    2302.0   3579.5   5677.0\n",
              "4            13.0   2856.384615  1965.264509  ...    7951.0   9497.0  16011.0\n",
              "\n",
              "[4 rows x 16 columns]"
            ]
          },
          "metadata": {
            "tags": []
          },
          "execution_count": 23
        }
      ]
    },
    {
      "cell_type": "code",
      "metadata": {
        "id": "RLY7hJeZkdF4",
        "outputId": "f1b01112-f460-4d68-9bcb-119d3dd28445",
        "colab": {
          "base_uri": "https://localhost:8080/",
          "height": 17
        }
      },
      "source": [
        "res.to_excel('res.xlsx')\n",
        "files.download('res.xlsx')"
      ],
      "execution_count": 24,
      "outputs": [
        {
          "output_type": "display_data",
          "data": {
            "application/javascript": [
              "\n",
              "    async function download(id, filename, size) {\n",
              "      if (!google.colab.kernel.accessAllowed) {\n",
              "        return;\n",
              "      }\n",
              "      const div = document.createElement('div');\n",
              "      const label = document.createElement('label');\n",
              "      label.textContent = `Downloading \"${filename}\": `;\n",
              "      div.appendChild(label);\n",
              "      const progress = document.createElement('progress');\n",
              "      progress.max = size;\n",
              "      div.appendChild(progress);\n",
              "      document.body.appendChild(div);\n",
              "\n",
              "      const buffers = [];\n",
              "      let downloaded = 0;\n",
              "\n",
              "      const channel = await google.colab.kernel.comms.open(id);\n",
              "      // Send a message to notify the kernel that we're ready.\n",
              "      channel.send({})\n",
              "\n",
              "      for await (const message of channel.messages) {\n",
              "        // Send a message to notify the kernel that we're ready.\n",
              "        channel.send({})\n",
              "        if (message.buffers) {\n",
              "          for (const buffer of message.buffers) {\n",
              "            buffers.push(buffer);\n",
              "            downloaded += buffer.byteLength;\n",
              "            progress.value = downloaded;\n",
              "          }\n",
              "        }\n",
              "      }\n",
              "      const blob = new Blob(buffers, {type: 'application/binary'});\n",
              "      const a = document.createElement('a');\n",
              "      a.href = window.URL.createObjectURL(blob);\n",
              "      a.download = filename;\n",
              "      div.appendChild(a);\n",
              "      a.click();\n",
              "      div.remove();\n",
              "    }\n",
              "  "
            ],
            "text/plain": [
              "<IPython.core.display.Javascript object>"
            ]
          },
          "metadata": {
            "tags": []
          }
        },
        {
          "output_type": "display_data",
          "data": {
            "application/javascript": [
              "download(\"download_07d55d2d-77db-45cd-99d2-618ed9f1e4b2\", \"res.xlsx\", 5620)"
            ],
            "text/plain": [
              "<IPython.core.display.Javascript object>"
            ]
          },
          "metadata": {
            "tags": []
          }
        }
      ]
    },
    {
      "cell_type": "markdown",
      "metadata": {
        "id": "MqTC6eKOaCp5"
      },
      "source": [
        "Para finalizar buscamos una visualización un poco especial con [seaborn.clustermap](https://seaborn.pydata.org/generated/seaborn.clustermap.html)"
      ]
    },
    {
      "cell_type": "code",
      "metadata": {
        "id": "NyG_IlhjWOq3",
        "outputId": "fc65bd9c-f249-499d-f747-9158382c3df9",
        "colab": {
          "base_uri": "https://localhost:8080/",
          "height": 745
        }
      },
      "source": [
        "sns.set(color_codes=True)\n",
        "sns.clustermap(df, standard_scale=1)"
      ],
      "execution_count": 25,
      "outputs": [
        {
          "output_type": "execute_result",
          "data": {
            "text/plain": [
              "<seaborn.matrix.ClusterGrid at 0x7f2a7a15b390>"
            ]
          },
          "metadata": {
            "tags": []
          },
          "execution_count": 25
        },
        {
          "output_type": "display_data",
          "data": {
            "image/png": "[encoded data removed]",
            "text/plain": [
              "<Figure size 720x720 with 4 Axes>"
            ]
          },
          "metadata": {
            "tags": []
          }
        }
      ]
    },
    {
      "cell_type": "markdown",
      "metadata": {
        "id": "pbkMWnOdqZvr"
      },
      "source": [
        "# K-means"
      ]
    },
    {
      "cell_type": "markdown",
      "metadata": {
        "id": "sGM1r1bEGiDo"
      },
      "source": [
        "The k-means algorithm is based on the idea that a central point (centroid) can represent a cluster. Normally this point is the mean or median of a group of points (may not be an element of the whole to be analyzed). The k-means algorithm establishes a distance between the elements by selecting a predefined number of centroids.\n",
        "\n",
        "K-means uses these pre-selected centroids as \"seeds\" in the process of building the clusters. To do this, a cluster is assigned to each centroid, in an iterative process. The cluster assigned to each centroid is the closest to it, and the distance is measured between the element to be included and the mean value for all the clusters. As mentioned above, the goal of the k- means algorithm process is to minimize an error function or distance, for example, the sum of squared errors.\n",
        "\n"
      ]
    },
    {
      "cell_type": "markdown",
      "metadata": {
        "id": "n3_UzsDdqiAq"
      },
      "source": [
        "### Parametrization\n",
        "\n"
      ]
    },
    {
      "cell_type": "markdown",
      "metadata": {
        "id": "p_QY-X_Bqeen"
      },
      "source": [
        "En primer lugar vamos a establecer los parámetros que vamos a considerar por defecto"
      ]
    },
    {
      "cell_type": "code",
      "metadata": {
        "id": "FtPylr35qigK"
      },
      "source": [
        "# parameters\n",
        "init = 'random' # initialization method \n",
        "\n",
        "# to run 10 times with different random centroids \n",
        "# to choose the final model as the one with the lowest SSE\n",
        "iterations = 10\n",
        "\n",
        "# maximum number of iterations for each single run\n",
        "max_iter = 300 \n",
        "\n",
        "# controls the tolerance with regard to the changes in the \n",
        "# within-cluster sum-squared-error to declare convergence\n",
        "\n",
        "tol = 1e-04 \n",
        "\n",
        " # random seed\n",
        "random_state = 0"
      ],
      "execution_count": 56,
      "outputs": []
    },
    {
      "cell_type": "markdown",
      "metadata": {
        "id": "bKnjJHPgqAGi"
      },
      "source": [
        "Vamos a elegir K dependiendo de los valores que tome el clustering en cuanto a Distorsión (SSE) y Silhouette desde k = 2 a k = 11\n",
        "\n",
        "*En este caso además vamos a optar por hacer el clustering sobre los datos proyectados mediante PCA*"
      ]
    },
    {
      "cell_type": "code",
      "metadata": {
        "id": "RoGwcPI_qsrx"
      },
      "source": [
        "from sklearn.cluster import KMeans\n",
        "from sklearn import metrics\n",
        "\n",
        "distortions = []\n",
        "silhouettes = []\n",
        "\n",
        "for i in range(2, 11):\n",
        "    km = KMeans(i, init, n_init = iterations ,max_iter= max_iter, tol = tol,random_state = random_state)\n",
        "    labels = km.fit_predict(X_pca)\n",
        "    distortions.append(km.inertia_)\n",
        "    silhouettes.append(metrics.silhouette_score(X_pca, labels))"
      ],
      "execution_count": 61,
      "outputs": []
    },
    {
      "cell_type": "code",
      "metadata": {
        "id": "QiCtr5y8q5EV",
        "outputId": "4f3fda46-e05a-41fd-e28e-336bc5de56ad",
        "colab": {
          "base_uri": "https://localhost:8080/",
          "height": 285
        }
      },
      "source": [
        "plt.plot(range(2,11), distortions, marker='o')\n",
        "plt.xlabel('K')\n",
        "plt.ylabel('Distortion')\n",
        "plt.show()"
      ],
      "execution_count": 62,
      "outputs": [
        {
          "output_type": "display_data",
          "data": {
            "image/png": "[encoded data removed]",
            "text/plain": [
              "<Figure size 432x288 with 1 Axes>"
            ]
          },
          "metadata": {
            "tags": []
          }
        }
      ]
    },
    {
      "cell_type": "code",
      "metadata": {
        "id": "xGSSAEN3q8Br",
        "outputId": "fae3aeaa-4ed0-4662-de60-81a83b218afa",
        "colab": {
          "base_uri": "https://localhost:8080/",
          "height": 285
        }
      },
      "source": [
        "plt.plot(range(2,11), silhouettes , marker='o')\n",
        "plt.xlabel('K')\n",
        "plt.ylabel('Silohouette')\n",
        "plt.show()"
      ],
      "execution_count": 50,
      "outputs": [
        {
          "output_type": "display_data",
          "data": {
            "image/png": "[encoded data removed]",
            "text/plain": [
              "<Figure size 432x288 with 1 Axes>"
            ]
          },
          "metadata": {
            "tags": []
          }
        }
      ]
    },
    {
      "cell_type": "markdown",
      "metadata": {
        "id": "M342xnPPGy-r"
      },
      "source": [
        "### Ejecución del Algoritmo"
      ]
    },
    {
      "cell_type": "markdown",
      "metadata": {
        "id": "0IUA5Q1KdtYB"
      },
      "source": [
        "Vamos a seleccionar k = 4 con el fin de ejecutar el clustering"
      ]
    },
    {
      "cell_type": "code",
      "metadata": {
        "id": "R7iXNUxfGp7L"
      },
      "source": [
        "k = 4\n",
        "\n",
        "km = KMeans(k, init, n_init = iterations ,\n",
        "            max_iter= max_iter, tol = tol, random_state = random_state)\n",
        "\n",
        "y_km = km.fit_predict(X_pca)"
      ],
      "execution_count": 51,
      "outputs": []
    },
    {
      "cell_type": "markdown",
      "metadata": {
        "id": "G-PUrO7WHNK3"
      },
      "source": [
        "Vamos a calcular los valores finales de las métricas del algoritmo"
      ]
    },
    {
      "cell_type": "code",
      "metadata": {
        "id": "wDJOeEnHHLwa",
        "outputId": "92d852ef-c72d-43db-f597-a9666e645f6a",
        "colab": {
          "base_uri": "https://localhost:8080/",
          "height": 50
        }
      },
      "source": [
        "from sklearn import metrics\n",
        "print(\"Silhouette Coefficient: %0.3f\"\n",
        "      % metrics.silhouette_score(datanorm, y_km))\n",
        "      \n",
        "print('Distortion: %.2f' % km.inertia_)"
      ],
      "execution_count": 52,
      "outputs": [
        {
          "output_type": "stream",
          "text": [
            "Silhouette Coefficient: 0.462\n",
            "Distortion: 142.94\n"
          ],
          "name": "stdout"
        }
      ]
    },
    {
      "cell_type": "markdown",
      "metadata": {
        "id": "4LNLu8ytGpc9"
      },
      "source": [
        "Y vamos a visualizar los resultados\n"
      ]
    },
    {
      "cell_type": "code",
      "metadata": {
        "id": "HKzalpTaeZYA",
        "outputId": "dc910358-3f87-40d9-f832-167138f88aed",
        "colab": {
          "base_uri": "https://localhost:8080/",
          "height": 67
        }
      },
      "source": [
        "km.labels_"
      ],
      "execution_count": 53,
      "outputs": [
        {
          "output_type": "execute_result",
          "data": {
            "text/plain": [
              "array([0, 0, 0, 0, 1, 0, 0, 0, 0, 2, 3, 0, 0, 2, 0, 0, 0, 0, 0, 0, 3, 3,\n",
              "       3, 0, 0, 0, 0, 0, 0, 0, 3, 0, 2, 3, 0, 3, 0, 0, 3, 0, 0, 0, 0, 1,\n",
              "       0, 0, 3, 3, 0, 0, 0], dtype=int32)"
            ]
          },
          "metadata": {
            "tags": []
          },
          "execution_count": 53
        }
      ]
    },
    {
      "cell_type": "code",
      "metadata": {
        "id": "w_QeA5_iOV5k",
        "outputId": "f335f98b-e316-46a9-b218-7928dce1c155",
        "colab": {
          "base_uri": "https://localhost:8080/",
          "height": 268
        }
      },
      "source": [
        "#plotting orginal points with color related to label\n",
        "plt.scatter(X_pca[:,0], X_pca[:,1], c=km.labels_,s=50)\n",
        "# plotting centroids\n",
        "plt.scatter(km.cluster_centers_[:,0], km.cluster_centers_[:,1], c='blue',s=50)\n",
        "# \n",
        "plt.grid()\n",
        "plt.show()\n",
        "      "
      ],
      "execution_count": 54,
      "outputs": [
        {
          "output_type": "display_data",
          "data": {
            "image/png": "[encoded data removed]",
            "text/plain": [
              "<Figure size 432x288 with 1 Axes>"
            ]
          },
          "metadata": {
            "tags": []
          }
        }
      ]
    },
    {
      "cell_type": "markdown",
      "metadata": {
        "id": "brr8SS6mqEWX"
      },
      "source": [
        "Y a proceder a su interpretación"
      ]
    },
    {
      "cell_type": "code",
      "metadata": {
        "id": "dvz-yzttl7_Y",
        "outputId": "ae6c6328-ab47-4980-a149-cb44aa1ca1a9",
        "colab": {
          "base_uri": "https://localhost:8080/",
          "height": 302
        }
      },
      "source": [
        "df['kmeans_group'] = km.labels_\n",
        "\n",
        "\n",
        "res = df[['Finance', 'Mining', 'Manufacturing', 'kmeans_group']].groupby(('kmeans_group')).mean()\n",
        "res.plot(kind='bar', legend=True)"
      ],
      "execution_count": 55,
      "outputs": [
        {
          "output_type": "execute_result",
          "data": {
            "text/plain": [
              "<matplotlib.axes._subplots.AxesSubplot at 0x7f2a784f18d0>"
            ]
          },
          "metadata": {
            "tags": []
          },
          "execution_count": 55
        },
        {
          "output_type": "display_data",
          "data": {
            "image/png": "[encoded data removed]",
            "text/plain": [
              "<Figure size 432x288 with 1 Axes>"
            ]
          },
          "metadata": {
            "tags": []
          }
        }
      ]
    },
    {
      "cell_type": "markdown",
      "metadata": {
        "id": "4T7aBVB5JcXw"
      },
      "source": [
        "# DBSCAN\n",
        "\n"
      ]
    },
    {
      "cell_type": "markdown",
      "metadata": {
        "id": "ZN6iN_6Yqbeq"
      },
      "source": [
        "La idea clave de los algoritmos de clustering basados en densidad es que asumen que los grupos\n",
        "están definidos en áreas de gran densidad de datos. Las zonas pocos densas separan los grupos.\n",
        "DBSCAN es el primer algoritmo que se definió basado en la densidad describiéndose los conceptos\n",
        "de punto central, borde y ruido. Los puntos centrales poseen un área de vecindad para\n",
        "un determinado radio que tiene por lo menos un número mínimo de puntos, o sea que su área de\n",
        "vecindad excede un determinado umbral"
      ]
    },
    {
      "cell_type": "markdown",
      "metadata": {
        "id": "_hmMkF14qNBK"
      },
      "source": [
        "### Parametrización\n"
      ]
    },
    {
      "cell_type": "markdown",
      "metadata": {
        "id": "krU2oRXhKE2s"
      },
      "source": [
        "Dibujamos en un gráfico la distancia mas corta al vecino para obtener el epsilon a utilizar en DBSCAN.\n",
        "Como MintPts ponemos un número bajo, considerando que tener 3 estados parecidos es ya sinónimo de un área densa. \n",
        "\n",
        "NOTA: Para realizar estos cálculos nos vamos a apoyar en la matriz de similitud calculada para la ejecución del Algoritmo Jerárquico\n"
      ]
    },
    {
      "cell_type": "code",
      "metadata": {
        "id": "-I7kPBEWKNP-",
        "outputId": "6de38e72-49aa-4f84-959c-2e2295092568",
        "colab": {
          "base_uri": "https://localhost:8080/",
          "height": 268
        }
      },
      "source": [
        "minPts=3\n",
        "from sklearn.neighbors import kneighbors_graph\n",
        "A = kneighbors_graph(datanorm, minPts, include_self=False)\n",
        "Ar = A.toarray()\n",
        "\n",
        "seq = []\n",
        "for i,s in enumerate(datanorm):\n",
        "    for j in range(len(datanorm)):\n",
        "        if Ar[i][j] != 0:\n",
        "            seq.append(matsim[i][j])\n",
        "            \n",
        "seq.sort()\n",
        "# establecer intervalo ejes\n",
        "fig = plt.figure()\n",
        "ax = fig.gca()\n",
        "ax.set_xticks(numpy.arange(0, 150, 20))\n",
        "ax.set_yticks(numpy.arange(0, 3, 0.2))\n",
        "\n",
        "plt.plot(seq)\n",
        "\n",
        "\n",
        "plt.show()"
      ],
      "execution_count": 35,
      "outputs": [
        {
          "output_type": "display_data",
          "data": {
            "image/png": "[encoded data removed]",
            "text/plain": [
              "<Figure size 432x288 with 1 Axes>"
            ]
          },
          "metadata": {
            "tags": []
          }
        }
      ]
    },
    {
      "cell_type": "markdown",
      "metadata": {
        "id": "syyC0088K5iL"
      },
      "source": [
        "Aunque se podría probar con otras opciones vamos a optar por probar  a realizar diferntes clusters desde 0.2 a 0.7 con intervalos de 0.1. De todas formas la disposición de los datos hará que DBSCAN únicamente aisle una zona densa de aquellos elementos que considera *outliers*"
      ]
    },
    {
      "cell_type": "markdown",
      "metadata": {
        "id": "CE2ZWAU9YaPt"
      },
      "source": [
        "## Ejecución"
      ]
    },
    {
      "cell_type": "code",
      "metadata": {
        "id": "OqGMe4lDK3g7",
        "outputId": "57eb70ea-470c-4c5b-fda1-dcb0d476d481",
        "colab": {
          "base_uri": "https://localhost:8080/",
          "height": 101
        }
      },
      "source": [
        "from sklearn.cluster import DBSCAN\n",
        "\n",
        "for eps in numpy.arange(0.20, 0.7, 0.10):\n",
        "  db = DBSCAN(eps, min_samples=minPts).fit(datanorm)\n",
        "  core_samples_mask = numpy.zeros_like(db.labels_, dtype=bool)\n",
        "  core_samples_mask[db.core_sample_indices_] = True\n",
        "  labels = db.labels_\n",
        "  n_clusters_ = len(set(labels)) - (1 if -1 in labels else 0)\n",
        "  print (eps, n_clusters_)\n",
        "  \n",
        "#labels"
      ],
      "execution_count": 36,
      "outputs": [
        {
          "output_type": "stream",
          "text": [
            "0.2 1\n",
            "0.30000000000000004 1\n",
            "0.4000000000000001 1\n",
            "0.5000000000000001 2\n",
            "0.6000000000000001 1\n"
          ],
          "name": "stdout"
        }
      ]
    },
    {
      "cell_type": "code",
      "metadata": {
        "id": "ce989cxzIJHl",
        "outputId": "98e680d2-700f-4efb-a4f3-d51e7377ab07",
        "colab": {
          "base_uri": "https://localhost:8080/",
          "height": 67
        }
      },
      "source": [
        "db = DBSCAN(eps=0.5, min_samples=minPts).fit(datanorm)\n",
        "labels = db.labels_\n",
        "labels"
      ],
      "execution_count": 37,
      "outputs": [
        {
          "output_type": "execute_result",
          "data": {
            "text/plain": [
              "array([ 0,  0,  0,  0, -1,  0,  0,  0,  1, -1,  0,  0,  0,  0,  0,  0,  0,\n",
              "        0,  0,  0,  1,  0,  0,  0,  0,  0,  0,  0,  0,  0,  0,  0, -1,  0,\n",
              "        0,  0,  0,  0,  0,  0,  0,  0,  0, -1,  0,  0,  1,  0,  0,  0,  0])"
            ]
          },
          "metadata": {
            "tags": []
          },
          "execution_count": 37
        }
      ]
    },
    {
      "cell_type": "markdown",
      "metadata": {
        "id": "19D9aCoCqtks"
      },
      "source": [
        "Visualizamos los resultados"
      ]
    },
    {
      "cell_type": "code",
      "metadata": {
        "id": "YEbIQqaYQL_e",
        "outputId": "aee51004-9379-47b9-eec4-8b5da696116f",
        "colab": {
          "base_uri": "https://localhost:8080/",
          "height": 268
        }
      },
      "source": [
        "#plotting orginal points with color related to label\n",
        "plt.scatter(X_pca[:,0], X_pca[:,1], c=labels,s=50)\n",
        "plt.grid()\n",
        "plt.show()"
      ],
      "execution_count": 38,
      "outputs": [
        {
          "output_type": "display_data",
          "data": {
            "image/png": "[encoded data removed]",
            "text/plain": [
              "<Figure size 432x288 with 1 Axes>"
            ]
          },
          "metadata": {
            "tags": []
          }
        }
      ]
    },
    {
      "cell_type": "markdown",
      "metadata": {
        "id": "UjyFrBnCqvv_"
      },
      "source": [
        "Y aunque podríamos proceder a su intepretación en este caso lo que vamos a hacer es identificar aquellos elementos que son outliers"
      ]
    },
    {
      "cell_type": "code",
      "metadata": {
        "id": "3QELcpJfmOWT",
        "outputId": "f5da75ea-4f00-4f6f-8f67-c39f2fd73d12",
        "colab": {
          "base_uri": "https://localhost:8080/",
          "height": 232
        }
      },
      "source": [
        "df['dbscan_group'] = labels\n",
        "\n",
        "df[df['dbscan_group'] == -1]"
      ],
      "execution_count": 39,
      "outputs": [
        {
          "output_type": "execute_result",
          "data": {
            "text/html": [
              "<div>\n",
              "<style scoped>\n",
              "    .dataframe tbody tr th:only-of-type {\n",
              "        vertical-align: middle;\n",
              "    }\n",
              "\n",
              "    .dataframe tbody tr th {\n",
              "        vertical-align: top;\n",
              "    }\n",
              "\n",
              "    .dataframe thead th {\n",
              "        text-align: right;\n",
              "    }\n",
              "</style>\n",
              "<table border=\"1\" class=\"dataframe\">\n",
              "  <thead>\n",
              "    <tr style=\"text-align: right;\">\n",
              "      <th></th>\n",
              "      <th>Agriculture</th>\n",
              "      <th>Mining</th>\n",
              "      <th>Utilities</th>\n",
              "      <th>Construction</th>\n",
              "      <th>Manufacturing</th>\n",
              "      <th>Wholesale trade</th>\n",
              "      <th>Retail</th>\n",
              "      <th>Transportation</th>\n",
              "      <th>Information</th>\n",
              "      <th>Finance</th>\n",
              "      <th>Buss. Services</th>\n",
              "      <th>Education</th>\n",
              "      <th>Arts</th>\n",
              "      <th>Oth Serv.</th>\n",
              "      <th>Fed. civ</th>\n",
              "      <th>Fed. military</th>\n",
              "      <th>State.1</th>\n",
              "      <th>group</th>\n",
              "      <th>kmeans_group</th>\n",
              "      <th>dbscan_group</th>\n",
              "    </tr>\n",
              "    <tr>\n",
              "      <th>State</th>\n",
              "      <th></th>\n",
              "      <th></th>\n",
              "      <th></th>\n",
              "      <th></th>\n",
              "      <th></th>\n",
              "      <th></th>\n",
              "      <th></th>\n",
              "      <th></th>\n",
              "      <th></th>\n",
              "      <th></th>\n",
              "      <th></th>\n",
              "      <th></th>\n",
              "      <th></th>\n",
              "      <th></th>\n",
              "      <th></th>\n",
              "      <th></th>\n",
              "      <th></th>\n",
              "      <th></th>\n",
              "      <th></th>\n",
              "      <th></th>\n",
              "    </tr>\n",
              "  </thead>\n",
              "  <tbody>\n",
              "    <tr>\n",
              "      <th>California</th>\n",
              "      <td>25439</td>\n",
              "      <td>20279</td>\n",
              "      <td>27999</td>\n",
              "      <td>65707</td>\n",
              "      <td>229479</td>\n",
              "      <td>100603</td>\n",
              "      <td>109363</td>\n",
              "      <td>41864</td>\n",
              "      <td>134655</td>\n",
              "      <td>406685</td>\n",
              "      <td>236025</td>\n",
              "      <td>133118</td>\n",
              "      <td>71649</td>\n",
              "      <td>42069</td>\n",
              "      <td>34009</td>\n",
              "      <td>29132</td>\n",
              "      <td>198300</td>\n",
              "      <td>2</td>\n",
              "      <td>1</td>\n",
              "      <td>-1</td>\n",
              "    </tr>\n",
              "    <tr>\n",
              "      <th>Florida</th>\n",
              "      <td>5458</td>\n",
              "      <td>1278</td>\n",
              "      <td>16011</td>\n",
              "      <td>35659</td>\n",
              "      <td>38284</td>\n",
              "      <td>47080</td>\n",
              "      <td>53163</td>\n",
              "      <td>21177</td>\n",
              "      <td>29121</td>\n",
              "      <td>161861</td>\n",
              "      <td>85390</td>\n",
              "      <td>67777</td>\n",
              "      <td>41358</td>\n",
              "      <td>19643</td>\n",
              "      <td>14272</td>\n",
              "      <td>10225</td>\n",
              "      <td>73926</td>\n",
              "      <td>4</td>\n",
              "      <td>2</td>\n",
              "      <td>-1</td>\n",
              "    </tr>\n",
              "    <tr>\n",
              "      <th>New York</th>\n",
              "      <td>1996</td>\n",
              "      <td>1035</td>\n",
              "      <td>18033</td>\n",
              "      <td>38050</td>\n",
              "      <td>70415</td>\n",
              "      <td>55710</td>\n",
              "      <td>55085</td>\n",
              "      <td>21153</td>\n",
              "      <td>99235</td>\n",
              "      <td>333404</td>\n",
              "      <td>143021</td>\n",
              "      <td>105701</td>\n",
              "      <td>42176</td>\n",
              "      <td>23629</td>\n",
              "      <td>16271</td>\n",
              "      <td>5966</td>\n",
              "      <td>120780</td>\n",
              "      <td>1</td>\n",
              "      <td>2</td>\n",
              "      <td>-1</td>\n",
              "    </tr>\n",
              "    <tr>\n",
              "      <th>Texas</th>\n",
              "      <td>5964</td>\n",
              "      <td>119695</td>\n",
              "      <td>24497</td>\n",
              "      <td>61603</td>\n",
              "      <td>153204</td>\n",
              "      <td>80764</td>\n",
              "      <td>68416</td>\n",
              "      <td>39577</td>\n",
              "      <td>41877</td>\n",
              "      <td>167303</td>\n",
              "      <td>122764</td>\n",
              "      <td>77579</td>\n",
              "      <td>37452</td>\n",
              "      <td>26077</td>\n",
              "      <td>21783</td>\n",
              "      <td>17007</td>\n",
              "      <td>101670</td>\n",
              "      <td>1</td>\n",
              "      <td>1</td>\n",
              "      <td>-1</td>\n",
              "    </tr>\n",
              "  </tbody>\n",
              "</table>\n",
              "</div>"
            ],
            "text/plain": [
              "            Agriculture  Mining  Utilities  ...  group  kmeans_group  dbscan_group\n",
              "State                                       ...                                   \n",
              "California        25439   20279      27999  ...      2             1            -1\n",
              "Florida            5458    1278      16011  ...      4             2            -1\n",
              "New York           1996    1035      18033  ...      1             2            -1\n",
              "Texas              5964  119695      24497  ...      1             1            -1\n",
              "\n",
              "[4 rows x 20 columns]"
            ]
          },
          "metadata": {
            "tags": []
          },
          "execution_count": 39
        }
      ]
    },
    {
      "cell_type": "markdown",
      "metadata": {
        "id": "KpHbiTttQzTQ"
      },
      "source": [
        "#  Expectation - Maximization"
      ]
    },
    {
      "cell_type": "markdown",
      "metadata": {
        "id": "EZM6CoGerLy2"
      },
      "source": [
        "En el clustering probabilístico se parte de un conjunto de un conjunto de observaciones o muestras\n",
        "las cuales son independientes e idénticamente distribuidas aleatoriamente. En este tipo de algoritmos\n",
        "se asume que la probabilidad de que dado un cluster 𝑆𝑖 el conjunto de muestras 𝑌 pertenezca a ella,\n",
        "tiene una forma paramétrica conocida, determinada por un conjunto de parámetros θ𝑖. Este conjunto\n",
        "de parámetros dependerá de la distribución elegida. El objetivo en cuestión es buscar aquellas\n",
        "distribuciones que mejor generan el conjunto de datos, y para ello se utiliza la información obtenida\n",
        "por las muestras observadas para estimar de forma óptima los parámetros θ𝑖 de cada distribución\n",
        "generadora."
      ]
    },
    {
      "cell_type": "markdown",
      "metadata": {
        "id": "0Fd5gZMJRXpd"
      },
      "source": [
        "En este caso vamos a optar por utilizar una combinación de Gaussianas bajo el Gaussian Mixture Model.\n",
        "\n",
        "Con el fin de determinar el número de clusters (*k*) vamos a utilizar en este caso el [BIC](https://en.wikipedia.org/wiki/Bayesian_information_criterion) Bayesian Information Criterion. Este criterio compara el ajuste de diferentes modelos pero penalizando la complejidad del modelo (número de parámetros). El modelo con el menor valor de BIC es el que debe ser elegido"
      ]
    },
    {
      "cell_type": "code",
      "metadata": {
        "id": "f4jDfeX7RH0-",
        "outputId": "caa1ba5d-74d7-46d0-b64f-3388d333649d",
        "colab": {
          "base_uri": "https://localhost:8080/",
          "height": 34
        }
      },
      "source": [
        "from sklearn.mixture import GaussianMixture\n",
        "\n",
        "lowest_bic = numpy.infty\n",
        "bic = []\n",
        "best_cv = 'full'\n",
        "best_k = 3\n",
        "cv_types = ['spherical', 'tied', 'diag', 'full']\n",
        "n_components_range = range(1, 7)\n",
        "for cv_type in cv_types:\n",
        "    for k in range(1, 7):\n",
        "        gmm = GaussianMixture(n_components=k, covariance_type=cv_type, init_params='random')\n",
        "        gmm.fit(X_pca)\n",
        "        bic.append(gmm.bic(X_pca))\n",
        "        if bic[-1] < lowest_bic:\n",
        "            lowest_bic = bic[-1]\n",
        "            best_cv = cv_type\n",
        "            best_k = k\n",
        "            \n",
        "print (\"Mejor valor K\", best_k, \"Mejor tipo de Covarianza\", best_cv)"
      ],
      "execution_count": 40,
      "outputs": [
        {
          "output_type": "stream",
          "text": [
            "Mejor valor K 4 Mejor tipo de Covarianza full\n"
          ],
          "name": "stdout"
        }
      ]
    },
    {
      "cell_type": "markdown",
      "metadata": {
        "id": "PWS5UJH4SgfB"
      },
      "source": [
        "Además de Calcular el mejor valor de K vamos además a graficar los resultados para obtener más información sobre el análisis realizado de acuerdo a lo recomendado en [enlace](https://scikit-learn.org/stable/auto_examples/mixture/plot_gmm_selection.html)"
      ]
    },
    {
      "cell_type": "code",
      "metadata": {
        "id": "3ba-JFo5SmkE",
        "outputId": "1f4c1aeb-62d9-4a97-e813-2c005070675c",
        "colab": {
          "base_uri": "https://localhost:8080/",
          "height": 249
        }
      },
      "source": [
        "# Plot the BIC scores\n",
        "color_iter = itertools.cycle(['navy', 'turquoise', 'cornflowerblue',\n",
        "                              'darkorange'])\n",
        "bars = []\n",
        "plt.figure(figsize=(18, 6))\n",
        "spl = plt.subplot(2, 1, 1)\n",
        "for i, (cv_type, color) in enumerate(zip(cv_types, color_iter)):\n",
        "    xpos = numpy.array(n_components_range) + .2 * (i - 2)\n",
        "    bars.append(plt.bar(xpos, bic[i * len(n_components_range):\n",
        "                                  (i + 1) * len(n_components_range)],\n",
        "                        width=.2, color=color))\n",
        "plt.xticks(n_components_range)\n",
        "plt.ylim([min(bic) * 1.01 - .01 * max(bic), max(bic)])\n",
        "plt.title('BIC score per model')\n",
        "xpos = numpy.mod(numpy.argmin(bic), len(n_components_range)) + .65 +\\\n",
        "    .2 * numpy.floor(numpy.argmin(bic) / len(n_components_range))\n",
        "plt.text(xpos, min(bic) * 0.97 + .03 * max(bic), '*', fontsize=14)\n",
        "spl.set_xlabel('Número de componentes')\n",
        "spl.legend([b[0] for b in bars], cv_types)"
      ],
      "execution_count": 41,
      "outputs": [
        {
          "output_type": "execute_result",
          "data": {
            "text/plain": [
              "<matplotlib.legend.Legend at 0x7f2a7f24ef60>"
            ]
          },
          "metadata": {
            "tags": []
          },
          "execution_count": 41
        },
        {
          "output_type": "display_data",
          "data": {
            "image/png": "[encoded data removed]",
            "text/plain": [
              "<Figure size 1296x432 with 1 Axes>"
            ]
          },
          "metadata": {
            "tags": []
          }
        }
      ]
    },
    {
      "cell_type": "markdown",
      "metadata": {
        "id": "1rTFHCF3rO75"
      },
      "source": [
        "Ejecutaremos el algoritmo con los mejores parámetros obtenidos"
      ]
    },
    {
      "cell_type": "code",
      "metadata": {
        "id": "XQdIFM2sVWWc"
      },
      "source": [
        "EM = GaussianMixture(n_components=best_k, covariance_type=best_cv, init_params='random')\n",
        "EM.fit(X_pca)\n",
        "labels =  EM.predict(X_pca)\n",
        "n_clusters = best_k - (1 if -1 in labels else 0)"
      ],
      "execution_count": 42,
      "outputs": []
    },
    {
      "cell_type": "markdown",
      "metadata": {
        "id": "vUdGXMayVpTl"
      },
      "source": [
        "Una vez ejecutado el módelo óptimo del algoritmo visualizamos los resultados utilizando la representación PCA"
      ]
    },
    {
      "cell_type": "code",
      "metadata": {
        "id": "kM5_q_OdVk4-",
        "outputId": "65acc4e1-1f8c-4aca-df31-d014f82bdb06",
        "colab": {
          "base_uri": "https://localhost:8080/",
          "height": 268
        }
      },
      "source": [
        "#plotting orginal points with color related to label\n",
        "plt.scatter(X_pca[:,0], X_pca[:,1], c=labels,s=50)\n",
        "plt.grid()\n",
        "plt.show()"
      ],
      "execution_count": 43,
      "outputs": [
        {
          "output_type": "display_data",
          "data": {
            "image/png": "[encoded data removed]",
            "text/plain": [
              "<Figure size 432x288 with 1 Axes>"
            ]
          },
          "metadata": {
            "tags": []
          }
        }
      ]
    },
    {
      "cell_type": "markdown",
      "metadata": {
        "id": "pctpZKB9rS1H"
      },
      "source": [
        "Y procedemos a la interpretación de los resultados"
      ]
    },
    {
      "cell_type": "code",
      "metadata": {
        "id": "im9cnHepmY3l",
        "outputId": "181fc40d-f5f7-4aa6-9d74-f1f4c2e17af9",
        "colab": {
          "base_uri": "https://localhost:8080/",
          "height": 299
        }
      },
      "source": [
        "df['em_group'] = labels\n",
        "\n",
        "\n",
        "res = df[['Finance', 'Mining', 'Manufacturing', 'em_group']].groupby(('em_group')).mean()\n",
        "res.plot(kind='bar', legend=True)"
      ],
      "execution_count": 44,
      "outputs": [
        {
          "output_type": "execute_result",
          "data": {
            "text/plain": [
              "<matplotlib.axes._subplots.AxesSubplot at 0x7f2a7daa2780>"
            ]
          },
          "metadata": {
            "tags": []
          },
          "execution_count": 44
        },
        {
          "output_type": "display_data",
          "data": {
            "image/png": "[encoded data removed]",
            "text/plain": [
              "<Figure size 432x288 with 1 Axes>"
            ]
          },
          "metadata": {
            "tags": []
          }
        }
      ]
    }
  ]
}